{
 "metadata": {
  "name": "",
  "signature": "sha256:29c6396a963d95507d00bc0d87351a0762ad6a2b1bd44108d32dc74f0e9f4605"
 },
 "nbformat": 3,
 "nbformat_minor": 0,
 "worksheets": [
  {
   "cells": [
    {
     "cell_type": "code",
     "collapsed": false,
     "input": [
      "import numpy as np\n",
      "import matplotlib.pyplot as plt\n",
      "%matplotlib inline"
     ],
     "language": "python",
     "metadata": {},
     "outputs": [],
     "prompt_number": 1
    },
    {
     "cell_type": "code",
     "collapsed": false,
     "input": [
      "f = open('nimble.output.txt')\n",
      "\n",
      "all_events = []\n",
      "\n",
      "for line in f:\n",
      "    contents = line.split()\n",
      "    all_events.append([int(contents[0])-1,int(contents[1])-1])\n",
      "\n",
      "f.close()"
     ],
     "language": "python",
     "metadata": {},
     "outputs": [],
     "prompt_number": 2
    },
    {
     "cell_type": "code",
     "collapsed": false,
     "input": [
      "new_events = all_events[-500000:]\n",
      "events = all_events[:-500000]"
     ],
     "language": "python",
     "metadata": {},
     "outputs": [],
     "prompt_number": 5
    },
    {
     "cell_type": "code",
     "collapsed": false,
     "input": [
      "len(events), len(new_events)"
     ],
     "language": "python",
     "metadata": {},
     "outputs": [
      {
       "metadata": {},
       "output_type": "pyout",
       "prompt_number": 6,
       "text": [
        "(1259434, 500000)"
       ]
      }
     ],
     "prompt_number": 6
    },
    {
     "cell_type": "code",
     "collapsed": false,
     "input": [
      "users = []\n",
      "machines = []\n",
      "for event in events:\n",
      "    users.append(event[0])\n",
      "    machines.append(event[1])"
     ],
     "language": "python",
     "metadata": {},
     "outputs": [],
     "prompt_number": 7
    },
    {
     "cell_type": "code",
     "collapsed": false,
     "input": [
      "global N, M\n",
      "N = max(users)+1\n",
      "M = max(machines)+1\n",
      "profile = np.array([[0.0 for j in xrange(M+1)] for i in xrange(N+1)])\n",
      "\n",
      "print N, M"
     ],
     "language": "python",
     "metadata": {},
     "outputs": [
      {
       "output_type": "stream",
       "stream": "stdout",
       "text": [
        "957 1083\n"
       ]
      }
     ],
     "prompt_number": 8
    },
    {
     "cell_type": "code",
     "collapsed": false,
     "input": [
      "for event in events:\n",
      "    profile[event[0],event[1]] += 1"
     ],
     "language": "python",
     "metadata": {},
     "outputs": [],
     "prompt_number": 9
    },
    {
     "cell_type": "code",
     "collapsed": false,
     "input": [
      "profile"
     ],
     "language": "python",
     "metadata": {},
     "outputs": [
      {
       "metadata": {},
       "output_type": "pyout",
       "prompt_number": 10,
       "text": [
        "array([[  2160.,      0.,      0., ...,      0.,      0.,      0.],\n",
        "       [     0.,   2284.,      0., ...,      0.,      0.,      0.],\n",
        "       [     0.,      0.,  28204., ...,      0.,      0.,      0.],\n",
        "       ..., \n",
        "       [     0.,      0.,      0., ...,      0.,      0.,      0.],\n",
        "       [     0.,      0.,      0., ...,      0.,      0.,      0.],\n",
        "       [     0.,      0.,      0., ...,      0.,      0.,      0.]])"
       ]
      }
     ],
     "prompt_number": 10
    },
    {
     "cell_type": "code",
     "collapsed": false,
     "input": [
      "for i in xrange(N+1):\n",
      "    temp = np.sum(profile[i,:-1])\n",
      "    profile[i,M] = temp\n",
      "\n",
      "for j in xrange(M+1):\n",
      "    profile[N,j] = np.sum(profile[:-1,j])"
     ],
     "language": "python",
     "metadata": {},
     "outputs": [],
     "prompt_number": 11
    },
    {
     "cell_type": "code",
     "collapsed": false,
     "input": [
      "profile"
     ],
     "language": "python",
     "metadata": {},
     "outputs": [
      {
       "metadata": {},
       "output_type": "pyout",
       "prompt_number": 12,
       "text": [
        "array([[  2.16000000e+03,   0.00000000e+00,   0.00000000e+00, ...,\n",
        "          0.00000000e+00,   0.00000000e+00,   2.16000000e+03],\n",
        "       [  0.00000000e+00,   2.28400000e+03,   0.00000000e+00, ...,\n",
        "          0.00000000e+00,   0.00000000e+00,   3.11700000e+03],\n",
        "       [  0.00000000e+00,   0.00000000e+00,   2.82040000e+04, ...,\n",
        "          0.00000000e+00,   0.00000000e+00,   5.50330000e+04],\n",
        "       ..., \n",
        "       [  0.00000000e+00,   0.00000000e+00,   0.00000000e+00, ...,\n",
        "          0.00000000e+00,   0.00000000e+00,   2.30000000e+01],\n",
        "       [  0.00000000e+00,   0.00000000e+00,   0.00000000e+00, ...,\n",
        "          0.00000000e+00,   0.00000000e+00,   1.00000000e+01],\n",
        "       [  4.56400000e+03,   3.42500000e+03,   2.82040000e+04, ...,\n",
        "          3.20000000e+01,   1.00000000e+00,   1.25943400e+06]])"
       ]
      }
     ],
     "prompt_number": 12
    },
    {
     "cell_type": "code",
     "collapsed": false,
     "input": [
      "global profile"
     ],
     "language": "python",
     "metadata": {},
     "outputs": [],
     "prompt_number": 13
    },
    {
     "cell_type": "code",
     "collapsed": false,
     "input": [
      "for n in xrange(N):\n",
      "    den = profile[n,M]\n",
      "    for m in xrange(M):\n",
      "        profile[n,m] = profile[n,m]/den"
     ],
     "language": "python",
     "metadata": {},
     "outputs": [],
     "prompt_number": 14
    },
    {
     "cell_type": "code",
     "collapsed": false,
     "input": [
      "profile"
     ],
     "language": "python",
     "metadata": {},
     "outputs": [
      {
       "metadata": {},
       "output_type": "pyout",
       "prompt_number": 15,
       "text": [
        "array([[  1.00000000e+00,   0.00000000e+00,   0.00000000e+00, ...,\n",
        "          0.00000000e+00,   0.00000000e+00,   2.16000000e+03],\n",
        "       [  0.00000000e+00,   7.32755855e-01,   0.00000000e+00, ...,\n",
        "          0.00000000e+00,   0.00000000e+00,   3.11700000e+03],\n",
        "       [  0.00000000e+00,   0.00000000e+00,   5.12492504e-01, ...,\n",
        "          0.00000000e+00,   0.00000000e+00,   5.50330000e+04],\n",
        "       ..., \n",
        "       [  0.00000000e+00,   0.00000000e+00,   0.00000000e+00, ...,\n",
        "          0.00000000e+00,   0.00000000e+00,   2.30000000e+01],\n",
        "       [  0.00000000e+00,   0.00000000e+00,   0.00000000e+00, ...,\n",
        "          0.00000000e+00,   0.00000000e+00,   1.00000000e+01],\n",
        "       [  4.56400000e+03,   3.42500000e+03,   2.82040000e+04, ...,\n",
        "          3.20000000e+01,   1.00000000e+00,   1.25943400e+06]])"
       ]
      }
     ],
     "prompt_number": 15
    },
    {
     "cell_type": "code",
     "collapsed": false,
     "input": [
      "global sim\n",
      "sim = np.array([[0.0 for j in xrange(N)] for i in xrange(N)])"
     ],
     "language": "python",
     "metadata": {},
     "outputs": [],
     "prompt_number": 16
    },
    {
     "cell_type": "code",
     "collapsed": false,
     "input": [
      "for u in xrange(N):\n",
      "    for v in xrange(u+1):\n",
      "        val = np.dot(profile[u,:-1], profile[v,:-1])/(np.linalg.norm(profile[u,:-1])*np.linalg.norm(profile[v,:-1]))\n",
      "        sim[u,v] = val\n",
      "        sim[v,u] = val"
     ],
     "language": "python",
     "metadata": {},
     "outputs": [],
     "prompt_number": 17
    },
    {
     "cell_type": "code",
     "collapsed": false,
     "input": [
      "sim"
     ],
     "language": "python",
     "metadata": {},
     "outputs": [
      {
       "metadata": {},
       "output_type": "pyout",
       "prompt_number": 18,
       "text": [
        "array([[ 1.,  0.,  0., ...,  0.,  0.,  0.],\n",
        "       [ 0.,  1.,  0., ...,  0.,  0.,  0.],\n",
        "       [ 0.,  0.,  1., ...,  0.,  0.,  0.],\n",
        "       ..., \n",
        "       [ 0.,  0.,  0., ...,  1.,  0.,  0.],\n",
        "       [ 0.,  0.,  0., ...,  0.,  1.,  1.],\n",
        "       [ 0.,  0.,  0., ...,  0.,  1.,  1.]])"
       ]
      }
     ],
     "prompt_number": 18
    },
    {
     "cell_type": "code",
     "collapsed": false,
     "input": [
      "def update(event):\n",
      "    u = event[0]\n",
      "    m = event[1]\n",
      "    T = profile[u,M]+1\n",
      "    f = (T-1)/T\n",
      "    for i in xrange(M):\n",
      "        profile[u,i] = profile[u,i]*f\n",
      "    profile[u,m] += 1/T\n",
      "    profile[u,M] = T\n",
      "    \n",
      "    for v in xrange(N):\n",
      "        val = np.dot(profile[u,:-1], profile[v,:-1])/(np.linalg.norm(profile[u,:-1])*np.linalg.norm(profile[v,:-1]))\n",
      "        sim[u,v] = val\n",
      "        sim[v,u] = val"
     ],
     "language": "python",
     "metadata": {},
     "outputs": [],
     "prompt_number": 20
    },
    {
     "cell_type": "code",
     "collapsed": false,
     "input": [
      "global good_access, bad_access\n",
      "good_access = []\n",
      "bad_access = []\n",
      "\n",
      "def pos_feed(event):\n",
      "    good_access.append(event)\n",
      "    \n",
      "def neg_feed(event):\n",
      "    bad_access.append(event)\n",
      "    u = event[0]\n",
      "    m = event[1]\n",
      "    bad = profile[u,m]*profile[u,M]\n",
      "    T = profile[u,M] - bad\n",
      "    f = (T+bad)/T\n",
      "    for i in xrange(M):\n",
      "        profile[u,i] = profile[u,i]*f\n",
      "    profile[u,m] = 0\n",
      "    profile[u,M] = T\n",
      "    \n",
      "    for v in xrange(N):\n",
      "        val = np.dot(profile[u,:-1], profile[v,:-1])/(np.linalg.norm(profile[u,:-1])*np.linalg.norm(profile[v,:-1]))\n",
      "        sim[u,v] = val\n",
      "        sim[v,u] = val"
     ],
     "language": "python",
     "metadata": {},
     "outputs": [],
     "prompt_number": 21
    },
    {
     "cell_type": "code",
     "collapsed": false,
     "input": [
      "def score(event):\n",
      "    if event[0]>=N or event[1]>=M:\n",
      "        return 'new'\n",
      "    if event in good_access:\n",
      "        return 'good'\n",
      "    if event in bad_access:\n",
      "        return 'bad'\n",
      "    else:\n",
      "        u = event[0]\n",
      "        m = event[1]\n",
      "        score = np.dot(sim[u,:], profile[:-1,m])\n",
      "        return score"
     ],
     "language": "python",
     "metadata": {},
     "outputs": [],
     "prompt_number": 22
    },
    {
     "cell_type": "code",
     "collapsed": false,
     "input": [
      "factors = []\n",
      "i = 0\n",
      "for event in new_events:\n",
      "    i += 1\n",
      "    if i%1000 == 1:\n",
      "        print i\n",
      "    factors.append(score(event))"
     ],
     "language": "python",
     "metadata": {},
     "outputs": [
      {
       "output_type": "stream",
       "stream": "stdout",
       "text": [
        "1\n",
        "1001\n",
        "2001\n",
        "3001\n",
        "4001\n",
        "5001"
       ]
      },
      {
       "output_type": "stream",
       "stream": "stdout",
       "text": [
        "\n",
        "6001\n",
        "7001\n",
        "8001\n",
        "9001\n",
        "10001\n",
        "11001"
       ]
      },
      {
       "output_type": "stream",
       "stream": "stdout",
       "text": [
        "\n",
        "12001\n",
        "13001\n",
        "14001\n",
        "15001\n",
        "16001\n",
        "17001"
       ]
      },
      {
       "output_type": "stream",
       "stream": "stdout",
       "text": [
        "\n",
        "18001\n",
        "19001\n",
        "20001\n",
        "21001\n",
        "22001\n",
        "23001"
       ]
      },
      {
       "output_type": "stream",
       "stream": "stdout",
       "text": [
        "\n",
        "24001\n",
        "25001\n",
        "26001\n",
        "27001\n",
        "28001\n",
        "29001"
       ]
      },
      {
       "output_type": "stream",
       "stream": "stdout",
       "text": [
        "\n",
        "30001\n",
        "31001\n",
        "32001\n",
        "33001\n",
        "34001\n",
        "35001"
       ]
      },
      {
       "output_type": "stream",
       "stream": "stdout",
       "text": [
        "\n",
        "36001\n",
        "37001\n",
        "38001\n",
        "39001\n",
        "40001\n",
        "41001"
       ]
      },
      {
       "output_type": "stream",
       "stream": "stdout",
       "text": [
        "\n",
        "42001\n",
        "43001\n",
        "44001\n",
        "45001\n",
        "46001\n",
        "47001"
       ]
      },
      {
       "output_type": "stream",
       "stream": "stdout",
       "text": [
        "\n",
        "48001\n",
        "49001\n",
        "50001\n",
        "51001\n",
        "52001\n",
        "53001"
       ]
      },
      {
       "output_type": "stream",
       "stream": "stdout",
       "text": [
        "\n",
        "54001\n",
        "55001\n",
        "56001\n",
        "57001\n",
        "58001\n",
        "59001"
       ]
      },
      {
       "output_type": "stream",
       "stream": "stdout",
       "text": [
        "\n",
        "60001\n",
        "61001\n",
        "62001\n",
        "63001\n",
        "64001\n",
        "65001"
       ]
      },
      {
       "output_type": "stream",
       "stream": "stdout",
       "text": [
        "\n",
        "66001\n",
        "67001\n",
        "68001\n",
        "69001\n",
        "70001\n",
        "71001"
       ]
      },
      {
       "output_type": "stream",
       "stream": "stdout",
       "text": [
        "\n",
        "72001\n",
        "73001\n",
        "74001\n",
        "75001\n",
        "76001"
       ]
      },
      {
       "output_type": "stream",
       "stream": "stdout",
       "text": [
        "\n",
        "77001\n",
        "78001\n",
        "79001\n",
        "80001\n",
        "81001\n",
        "82001"
       ]
      },
      {
       "output_type": "stream",
       "stream": "stdout",
       "text": [
        "\n",
        "83001\n",
        "84001\n",
        "85001\n",
        "86001\n",
        "87001\n",
        "88001"
       ]
      },
      {
       "output_type": "stream",
       "stream": "stdout",
       "text": [
        "\n",
        "89001\n",
        "90001\n",
        "91001\n",
        "92001\n",
        "93001\n",
        "94001"
       ]
      },
      {
       "output_type": "stream",
       "stream": "stdout",
       "text": [
        "\n",
        "95001\n",
        "96001\n",
        "97001\n",
        "98001\n",
        "99001\n",
        "100001\n",
        "101001\n",
        "102001\n",
        "103001\n",
        "104001"
       ]
      },
      {
       "output_type": "stream",
       "stream": "stdout",
       "text": [
        "\n",
        "105001\n",
        "106001\n",
        "107001\n",
        "108001\n",
        "109001\n",
        "110001"
       ]
      },
      {
       "output_type": "stream",
       "stream": "stdout",
       "text": [
        "\n",
        "111001\n",
        "112001\n",
        "113001\n",
        "114001\n",
        "115001\n",
        "116001"
       ]
      },
      {
       "output_type": "stream",
       "stream": "stdout",
       "text": [
        "\n",
        "117001\n",
        "118001\n",
        "119001\n",
        "120001\n",
        "121001\n",
        "122001"
       ]
      },
      {
       "output_type": "stream",
       "stream": "stdout",
       "text": [
        "\n",
        "123001\n",
        "124001\n",
        "125001\n",
        "126001\n",
        "127001"
       ]
      },
      {
       "output_type": "stream",
       "stream": "stdout",
       "text": [
        "\n",
        "128001\n",
        "129001\n",
        "130001\n",
        "131001\n",
        "132001\n",
        "133001"
       ]
      },
      {
       "output_type": "stream",
       "stream": "stdout",
       "text": [
        "\n",
        "134001\n",
        "135001\n",
        "136001\n",
        "137001\n",
        "138001\n",
        "139001"
       ]
      },
      {
       "output_type": "stream",
       "stream": "stdout",
       "text": [
        "\n",
        "140001\n",
        "141001\n",
        "142001\n",
        "143001\n",
        "144001\n",
        "145001"
       ]
      },
      {
       "output_type": "stream",
       "stream": "stdout",
       "text": [
        "\n",
        "146001\n",
        "147001\n",
        "148001\n",
        "149001\n",
        "150001\n",
        "151001"
       ]
      },
      {
       "output_type": "stream",
       "stream": "stdout",
       "text": [
        "\n",
        "152001\n",
        "153001\n",
        "154001\n",
        "155001\n",
        "156001\n",
        "157001"
       ]
      },
      {
       "output_type": "stream",
       "stream": "stdout",
       "text": [
        "\n",
        "158001\n",
        "159001\n",
        "160001\n",
        "161001\n",
        "162001\n",
        "163001"
       ]
      },
      {
       "output_type": "stream",
       "stream": "stdout",
       "text": [
        "\n",
        "164001\n",
        "165001\n",
        "166001\n",
        "167001\n",
        "168001\n",
        "169001"
       ]
      },
      {
       "output_type": "stream",
       "stream": "stdout",
       "text": [
        "\n",
        "170001\n",
        "171001\n",
        "172001\n",
        "173001\n",
        "174001\n",
        "175001"
       ]
      },
      {
       "output_type": "stream",
       "stream": "stdout",
       "text": [
        "\n",
        "176001\n",
        "177001\n",
        "178001\n",
        "179001\n",
        "180001\n",
        "181001"
       ]
      },
      {
       "output_type": "stream",
       "stream": "stdout",
       "text": [
        "\n",
        "182001\n",
        "183001\n",
        "184001\n",
        "185001\n",
        "186001\n",
        "187001"
       ]
      },
      {
       "output_type": "stream",
       "stream": "stdout",
       "text": [
        "\n",
        "188001\n",
        "189001\n",
        "190001\n",
        "191001\n",
        "192001\n",
        "193001"
       ]
      },
      {
       "output_type": "stream",
       "stream": "stdout",
       "text": [
        "\n",
        "194001\n",
        "195001\n",
        "196001\n",
        "197001\n",
        "198001\n",
        "199001"
       ]
      },
      {
       "output_type": "stream",
       "stream": "stdout",
       "text": [
        "\n",
        "200001\n",
        "201001\n",
        "202001\n",
        "203001\n",
        "204001\n",
        "205001"
       ]
      },
      {
       "output_type": "stream",
       "stream": "stdout",
       "text": [
        "\n",
        "206001\n",
        "207001\n",
        "208001\n",
        "209001\n",
        "210001\n",
        "211001"
       ]
      },
      {
       "output_type": "stream",
       "stream": "stdout",
       "text": [
        "\n",
        "212001\n",
        "213001\n",
        "214001\n",
        "215001\n",
        "216001\n",
        "217001"
       ]
      },
      {
       "output_type": "stream",
       "stream": "stdout",
       "text": [
        "\n",
        "218001\n",
        "219001\n",
        "220001\n",
        "221001\n",
        "222001\n",
        "223001"
       ]
      },
      {
       "output_type": "stream",
       "stream": "stdout",
       "text": [
        "\n",
        "224001\n",
        "225001\n",
        "226001\n",
        "227001\n",
        "228001\n",
        "229001"
       ]
      },
      {
       "output_type": "stream",
       "stream": "stdout",
       "text": [
        "\n",
        "230001\n",
        "231001\n",
        "232001\n",
        "233001\n",
        "234001\n",
        "235001"
       ]
      },
      {
       "output_type": "stream",
       "stream": "stdout",
       "text": [
        "\n",
        "236001\n",
        "237001\n",
        "238001\n",
        "239001\n",
        "240001\n",
        "241001"
       ]
      },
      {
       "output_type": "stream",
       "stream": "stdout",
       "text": [
        "\n",
        "242001\n",
        "243001\n",
        "244001\n",
        "245001\n",
        "246001\n",
        "247001"
       ]
      },
      {
       "output_type": "stream",
       "stream": "stdout",
       "text": [
        "\n",
        "248001\n",
        "249001\n",
        "250001\n",
        "251001\n",
        "252001\n",
        "253001"
       ]
      },
      {
       "output_type": "stream",
       "stream": "stdout",
       "text": [
        "\n",
        "254001\n",
        "255001\n",
        "256001\n",
        "257001\n",
        "258001\n",
        "259001"
       ]
      },
      {
       "output_type": "stream",
       "stream": "stdout",
       "text": [
        "\n",
        "260001\n",
        "261001\n",
        "262001\n",
        "263001\n",
        "264001\n",
        "265001"
       ]
      },
      {
       "output_type": "stream",
       "stream": "stdout",
       "text": [
        "\n",
        "266001\n",
        "267001\n",
        "268001\n",
        "269001\n",
        "270001\n",
        "271001"
       ]
      },
      {
       "output_type": "stream",
       "stream": "stdout",
       "text": [
        "\n",
        "272001\n",
        "273001\n",
        "274001\n",
        "275001\n",
        "276001\n",
        "277001"
       ]
      },
      {
       "output_type": "stream",
       "stream": "stdout",
       "text": [
        "\n",
        "278001\n",
        "279001\n",
        "280001\n",
        "281001\n",
        "282001\n",
        "283001"
       ]
      },
      {
       "output_type": "stream",
       "stream": "stdout",
       "text": [
        "\n",
        "284001\n",
        "285001\n",
        "286001\n",
        "287001\n",
        "288001\n",
        "289001"
       ]
      },
      {
       "output_type": "stream",
       "stream": "stdout",
       "text": [
        "\n",
        "290001\n",
        "291001\n",
        "292001\n",
        "293001\n",
        "294001\n",
        "295001"
       ]
      },
      {
       "output_type": "stream",
       "stream": "stdout",
       "text": [
        "\n",
        "296001\n",
        "297001\n",
        "298001\n",
        "299001\n",
        "300001\n",
        "301001"
       ]
      },
      {
       "output_type": "stream",
       "stream": "stdout",
       "text": [
        "\n",
        "302001\n",
        "303001\n",
        "304001\n",
        "305001\n",
        "306001\n",
        "307001\n",
        "308001"
       ]
      },
      {
       "output_type": "stream",
       "stream": "stdout",
       "text": [
        "\n",
        "309001\n",
        "310001\n",
        "311001\n",
        "312001\n",
        "313001\n",
        "314001"
       ]
      },
      {
       "output_type": "stream",
       "stream": "stdout",
       "text": [
        "\n",
        "315001\n",
        "316001\n",
        "317001\n",
        "318001\n",
        "319001\n",
        "320001"
       ]
      },
      {
       "output_type": "stream",
       "stream": "stdout",
       "text": [
        "\n",
        "321001\n",
        "322001\n",
        "323001\n",
        "324001\n",
        "325001\n",
        "326001"
       ]
      },
      {
       "output_type": "stream",
       "stream": "stdout",
       "text": [
        "\n",
        "327001\n",
        "328001\n",
        "329001\n",
        "330001\n",
        "331001\n",
        "332001"
       ]
      },
      {
       "output_type": "stream",
       "stream": "stdout",
       "text": [
        "\n",
        "333001\n",
        "334001\n",
        "335001\n",
        "336001\n",
        "337001\n",
        "338001"
       ]
      },
      {
       "output_type": "stream",
       "stream": "stdout",
       "text": [
        "\n",
        "339001\n",
        "340001\n",
        "341001\n",
        "342001\n",
        "343001\n",
        "344001\n",
        "345001\n",
        "346001\n",
        "347001\n",
        "348001"
       ]
      },
      {
       "output_type": "stream",
       "stream": "stdout",
       "text": [
        "\n",
        "349001\n",
        "350001\n",
        "351001\n",
        "352001\n",
        "353001\n",
        "354001"
       ]
      },
      {
       "output_type": "stream",
       "stream": "stdout",
       "text": [
        "\n",
        "355001\n",
        "356001\n",
        "357001\n",
        "358001\n",
        "359001\n",
        "360001"
       ]
      },
      {
       "output_type": "stream",
       "stream": "stdout",
       "text": [
        "\n",
        "361001\n",
        "362001\n",
        "363001\n",
        "364001\n",
        "365001\n",
        "366001"
       ]
      },
      {
       "output_type": "stream",
       "stream": "stdout",
       "text": [
        "\n",
        "367001\n",
        "368001\n",
        "369001\n",
        "370001\n",
        "371001\n",
        "372001\n",
        "373001"
       ]
      },
      {
       "output_type": "stream",
       "stream": "stdout",
       "text": [
        "\n",
        "374001\n",
        "375001\n",
        "376001\n",
        "377001\n",
        "378001"
       ]
      },
      {
       "output_type": "stream",
       "stream": "stdout",
       "text": [
        "\n",
        "379001\n",
        "380001\n",
        "381001\n",
        "382001\n",
        "383001\n",
        "384001"
       ]
      },
      {
       "output_type": "stream",
       "stream": "stdout",
       "text": [
        "\n",
        "385001\n",
        "386001\n",
        "387001\n",
        "388001\n",
        "389001\n",
        "390001"
       ]
      },
      {
       "output_type": "stream",
       "stream": "stdout",
       "text": [
        "\n",
        "391001\n",
        "392001\n",
        "393001\n",
        "394001\n",
        "395001\n",
        "396001"
       ]
      },
      {
       "output_type": "stream",
       "stream": "stdout",
       "text": [
        "\n",
        "397001\n",
        "398001\n",
        "399001\n",
        "400001\n",
        "401001\n",
        "402001"
       ]
      },
      {
       "output_type": "stream",
       "stream": "stdout",
       "text": [
        "\n",
        "403001\n",
        "404001\n",
        "405001\n",
        "406001\n",
        "407001\n",
        "408001"
       ]
      },
      {
       "output_type": "stream",
       "stream": "stdout",
       "text": [
        "\n",
        "409001\n",
        "410001\n",
        "411001\n",
        "412001\n",
        "413001\n",
        "414001"
       ]
      },
      {
       "output_type": "stream",
       "stream": "stdout",
       "text": [
        "\n",
        "415001\n",
        "416001\n",
        "417001\n",
        "418001\n",
        "419001\n",
        "420001"
       ]
      },
      {
       "output_type": "stream",
       "stream": "stdout",
       "text": [
        "\n",
        "421001\n",
        "422001\n",
        "423001\n",
        "424001\n",
        "425001\n",
        "426001"
       ]
      },
      {
       "output_type": "stream",
       "stream": "stdout",
       "text": [
        "\n",
        "427001\n",
        "428001\n",
        "429001\n",
        "430001\n",
        "431001\n",
        "432001"
       ]
      },
      {
       "output_type": "stream",
       "stream": "stdout",
       "text": [
        "\n",
        "433001\n",
        "434001\n",
        "435001\n",
        "436001\n",
        "437001\n",
        "438001"
       ]
      },
      {
       "output_type": "stream",
       "stream": "stdout",
       "text": [
        "\n",
        "439001\n",
        "440001\n",
        "441001\n",
        "442001\n",
        "443001\n",
        "444001"
       ]
      },
      {
       "output_type": "stream",
       "stream": "stdout",
       "text": [
        "\n",
        "445001\n",
        "446001\n",
        "447001\n",
        "448001\n",
        "449001\n",
        "450001"
       ]
      },
      {
       "output_type": "stream",
       "stream": "stdout",
       "text": [
        "\n",
        "451001\n",
        "452001\n",
        "453001\n",
        "454001\n",
        "455001\n",
        "456001"
       ]
      },
      {
       "output_type": "stream",
       "stream": "stdout",
       "text": [
        "\n",
        "457001\n",
        "458001\n",
        "459001\n",
        "460001\n",
        "461001\n",
        "462001"
       ]
      },
      {
       "output_type": "stream",
       "stream": "stdout",
       "text": [
        "\n",
        "463001\n",
        "464001\n",
        "465001\n",
        "466001\n",
        "467001\n",
        "468001"
       ]
      },
      {
       "output_type": "stream",
       "stream": "stdout",
       "text": [
        "\n",
        "469001\n",
        "470001\n",
        "471001\n",
        "472001\n",
        "473001\n",
        "474001"
       ]
      },
      {
       "output_type": "stream",
       "stream": "stdout",
       "text": [
        "\n",
        "475001\n",
        "476001\n",
        "477001\n",
        "478001\n",
        "479001\n",
        "480001"
       ]
      },
      {
       "output_type": "stream",
       "stream": "stdout",
       "text": [
        "\n",
        "481001\n",
        "482001\n",
        "483001\n",
        "484001\n",
        "485001\n",
        "486001"
       ]
      },
      {
       "output_type": "stream",
       "stream": "stdout",
       "text": [
        "\n",
        "487001\n",
        "488001\n",
        "489001\n",
        "490001\n",
        "491001\n",
        "492001"
       ]
      },
      {
       "output_type": "stream",
       "stream": "stdout",
       "text": [
        "\n",
        "493001\n",
        "494001\n",
        "495001\n",
        "496001\n",
        "497001\n",
        "498001"
       ]
      },
      {
       "output_type": "stream",
       "stream": "stdout",
       "text": [
        "\n",
        "499001\n"
       ]
      }
     ],
     "prompt_number": 23
    },
    {
     "cell_type": "code",
     "collapsed": false,
     "input": [
      "scores = []\n",
      "for factor in factors:\n",
      "    if factor!='new':\n",
      "        scores.append(factor)"
     ],
     "language": "python",
     "metadata": {},
     "outputs": [],
     "prompt_number": 25
    },
    {
     "cell_type": "code",
     "collapsed": false,
     "input": [
      "import numpy as np\n",
      "import matplotlib.pyplot as plt\n",
      "from scipy.stats import gaussian_kde\n",
      "\n",
      "# Calculate the point density\n",
      "xy = np.vstack([[i for i in xrange(len(scores[:10000]))], scores[:10000]])\n",
      "z = gaussian_kde(xy)(xy)\n",
      "\n",
      "fig, ax = plt.subplots()\n",
      "ax.scatter([i for i in xrange(len(scores[:10000]))], scores[:10000], c=z, s=20, edgecolor='')\n",
      "plt.xlabel('factor')\n",
      "plt.ylabel('event')"
     ],
     "language": "python",
     "metadata": {},
     "outputs": [
      {
       "metadata": {},
       "output_type": "pyout",
       "prompt_number": 26,
       "text": [
        "<matplotlib.text.Text at 0x11ab4b2d0>"
       ]
      },
      {
       "metadata": {},
       "output_type": "display_data",
       "png": "[encoded data removed]",
       "text": [
        "<matplotlib.figure.Figure at 0x11ab24590>"
       ]
      }
     ],
     "prompt_number": 26
    },
    {
     "cell_type": "code",
     "collapsed": false,
     "input": [
      "import numpy as np\n",
      "import matplotlib.pyplot as plt\n",
      "from scipy.stats import gaussian_kde\n",
      "\n",
      "# Calculate the point density\n",
      "xy = np.vstack([[i for i in xrange(len(scores[:1000]))], scores[:1000]])\n",
      "z = gaussian_kde(xy)(xy)\n",
      "\n",
      "fig, ax = plt.subplots()\n",
      "ax.scatter([i for i in xrange(len(scores[:1000]))], scores[:1000], c=z, s=20, edgecolor='')\n",
      "plt.xlabel('factor')\n",
      "plt.ylabel('event')"
     ],
     "language": "python",
     "metadata": {},
     "outputs": [
      {
       "metadata": {},
       "output_type": "pyout",
       "prompt_number": 31,
       "text": [
        "<matplotlib.text.Text at 0x11bc9a6d0>"
       ]
      },
      {
       "metadata": {},
       "output_type": "display_data",
       "png": "[encoded data removed]",
       "text": [
        "<matplotlib.figure.Figure at 0x11bc50490>"
       ]
      }
     ],
     "prompt_number": 31
    },
    {
     "cell_type": "code",
     "collapsed": false,
     "input": [
      "import numpy as np\n",
      "import matplotlib.pyplot as plt\n",
      "from scipy.stats import gaussian_kde\n",
      "\n",
      "# Calculate the point density\n",
      "xy = np.vstack([[i for i in xrange(len(scores))], scores])\n",
      "z = gaussian_kde(xy)(xy)\n",
      "\n",
      "fig, ax = plt.subplots()\n",
      "ax.scatter([i for i in xrange(len(scores))], scores, c=z, s=20, edgecolor='')\n",
      "plt.xlabel('factor')\n",
      "plt.ylabel('event')"
     ],
     "language": "python",
     "metadata": {},
     "outputs": [
      {
       "metadata": {},
       "output_type": "pyout",
       "prompt_number": 33,
       "text": [
        "<matplotlib.text.Text at 0x11b354490>"
       ]
      },
      {
       "metadata": {},
       "output_type": "display_data",
       "png": "[encoded data removed]",
       "text": [
        "<matplotlib.figure.Figure at 0x11b13e950>"
       ]
      }
     ],
     "prompt_number": 33
    },
    {
     "cell_type": "code",
     "collapsed": false,
     "input": [
      "fig = plt.figure()\n",
      "ax = fig.add_subplot(111)\n",
      "ax.hist(scores,20)"
     ],
     "language": "python",
     "metadata": {},
     "outputs": [
      {
       "metadata": {},
       "output_type": "pyout",
       "prompt_number": 29,
       "text": [
        "(array([  1.08126000e+05,   8.95980000e+04,   1.56840000e+04,\n",
        "          4.81710000e+04,   2.62920000e+04,   8.22580000e+04,\n",
        "          7.71990000e+04,   1.00600000e+04,   3.34300000e+03,\n",
        "          2.74800000e+03,   1.00000000e+00,   0.00000000e+00,\n",
        "          5.70000000e+01,   0.00000000e+00,   1.39000000e+02,\n",
        "          0.00000000e+00,   0.00000000e+00,   0.00000000e+00,\n",
        "          1.40000000e+01,   2.42000000e+02]),\n",
        " array([ 0.        ,  0.32194382,  0.64388763,  0.96583145,  1.28777527,\n",
        "         1.60971908,  1.9316629 ,  2.25360672,  2.57555053,  2.89749435,\n",
        "         3.21943817,  3.54138198,  3.8633258 ,  4.18526962,  4.50721343,\n",
        "         4.82915725,  5.15110107,  5.47304488,  5.7949887 ,  6.11693252,\n",
        "         6.43887633]),\n",
        " <a list of 20 Patch objects>)"
       ]
      },
      {
       "metadata": {},
       "output_type": "display_data",
       "png": "[encoded data removed]",
       "text": [
        "<matplotlib.figure.Figure at 0x11bae7150>"
       ]
      }
     ],
     "prompt_number": 29
    },
    {
     "cell_type": "code",
     "collapsed": false,
     "input": [
      "for i in xrange(N):\n",
      "    for j in xrange(i):\n",
      "        if sim[i,j]>0.9:\n",
      "            print i,j"
     ],
     "language": "python",
     "metadata": {},
     "outputs": [
      {
       "output_type": "stream",
       "stream": "stdout",
       "text": [
        "16 15\n",
        "18 1\n",
        "19 0\n",
        "30 29\n",
        "33 32\n",
        "41 13\n",
        "43 42\n",
        "44 40\n",
        "46 45\n",
        "47 6\n",
        "59 31\n",
        "60 20\n",
        "62 34\n",
        "63 49\n",
        "65 22\n",
        "71 38\n",
        "75 74\n",
        "77 76\n",
        "81 80\n",
        "84 83\n",
        "85 53\n",
        "91 61\n",
        "94 66\n",
        "96 27\n",
        "97 82\n",
        "99 95\n",
        "101 7\n",
        "102 79\n",
        "105 104\n",
        "106 64\n",
        "107 70\n",
        "109 108\n",
        "113 112\n",
        "117 115\n",
        "119 9\n",
        "122 120\n",
        "128 127\n",
        "133 111\n",
        "135 12\n",
        "136 123\n",
        "139 36\n",
        "141 57\n",
        "142 8\n",
        "144 110\n",
        "147 129\n",
        "149 25\n",
        "150 132\n",
        "154 153\n",
        "158 157\n",
        "160 88\n",
        "163 162\n",
        "164 54\n",
        "166 93\n",
        "167 14\n",
        "168 73\n",
        "170 72\n",
        "172 56\n",
        "173 11\n",
        "175 130\n",
        "179 140\n",
        "180 152\n",
        "181 137\n",
        "183 48\n",
        "185 165\n",
        "187 4\n",
        "189 188\n",
        "192 148\n",
        "194 193\n",
        "195 151\n",
        "197 196\n",
        "199 198\n",
        "202 124\n",
        "204 203\n",
        "205 176\n",
        "206 146\n",
        "207 125\n",
        "209 208\n",
        "210 177\n",
        "212 211\n",
        "213 10\n",
        "218 217\n",
        "219 131\n",
        "222 69\n",
        "225 159\n",
        "228 224\n",
        "230 229\n",
        "231 156\n",
        "234 116\n",
        "235 186\n",
        "237 236\n",
        "240 239\n",
        "242 241\n",
        "244 26\n",
        "248 247\n",
        "250 249\n",
        "252 191\n",
        "255 55\n",
        "256 143\n",
        "259 258\n",
        "261 86\n",
        "263 262\n",
        "265 169\n",
        "268 267\n",
        "269 126\n",
        "270 178\n",
        "271 67\n",
        "274 273\n",
        "276 275\n",
        "278 277\n",
        "281 114\n",
        "282 221\n",
        "289 288\n",
        "292 93\n",
        "292 166\n",
        "293 291\n",
        "296 254\n",
        "299 285\n",
        "301 300\n",
        "303 302\n",
        "305 304\n",
        "306 182\n",
        "307 190\n",
        "308 37\n",
        "310 266\n",
        "312 311\n",
        "314 313\n",
        "315 251\n",
        "317 294\n",
        "319 318\n",
        "322 321\n",
        "326 316\n",
        "327 88\n",
        "327 160\n",
        "330 329\n",
        "331 232\n",
        "333 332\n",
        "336 335\n",
        "337 283\n",
        "339 338\n",
        "345 340\n",
        "346 328\n",
        "349 201\n",
        "352 351\n",
        "354 353\n",
        "356 355\n",
        "359 358\n",
        "360 227\n",
        "361 243\n",
        "362 161\n",
        "367 366\n",
        "378 324\n",
        "380 379\n",
        "382 381\n",
        "383 377\n",
        "385 384\n",
        "386 155\n",
        "388 387\n",
        "397 396\n",
        "402 373\n",
        "403 68\n",
        "404 401\n",
        "406 405\n",
        "409 408\n",
        "410 374\n",
        "411 407\n",
        "413 286\n",
        "415 414\n",
        "419 375\n",
        "421 420\n",
        "424 423\n",
        "425 100\n",
        "426 418\n",
        "440 51\n",
        "445 438\n",
        "451 298\n",
        "456 439\n",
        "460 433\n",
        "461 435\n",
        "463 264\n",
        "465 452\n",
        "468 464\n",
        "469 453\n",
        "470 443\n",
        "472 89\n",
        "477 138\n",
        "480 436\n",
        "481 428\n",
        "483 458\n",
        "484 482\n",
        "488 446\n",
        "489 486\n",
        "490 462\n",
        "492 474\n",
        "495 493\n",
        "497 496\n",
        "498 478\n",
        "500 450\n",
        "502 499\n",
        "504 466\n",
        "506 434\n",
        "507 444\n",
        "509 118\n",
        "510 471\n",
        "511 454\n",
        "514 513\n",
        "515 51\n",
        "515 440\n",
        "517 215\n",
        "519 447\n",
        "520 518\n",
        "522 442\n",
        "527"
       ]
      },
      {
       "output_type": "stream",
       "stream": "stdout",
       "text": [
        " 526\n",
        "529 455\n",
        "531 528\n",
        "534 441\n",
        "537 50\n",
        "538 309\n",
        "543 542\n",
        "545 544\n",
        "548 546\n",
        "550 549\n",
        "554 553\n",
        "556 555\n",
        "561 547\n",
        "566 565\n",
        "567 427\n",
        "569 568\n",
        "571 570\n",
        "572 563\n",
        "575 574\n",
        "576 573\n",
        "578 577\n",
        "580 579\n",
        "582 581\n",
        "584 372\n",
        "586 585\n",
        "589 588\n",
        "591 587\n",
        "592 587\n",
        "592 591\n",
        "593 587\n",
        "593 591\n",
        "593 592\n",
        "594 587\n",
        "597 595\n",
        "598 596\n",
        "600 599\n",
        "602 601\n",
        "607 606\n",
        "611 610\n",
        "616 615\n",
        "617 614\n",
        "618 432\n",
        "619 364\n",
        "621 620\n",
        "624 623\n",
        "625 389\n",
        "627 92\n",
        "630 629\n",
        "631 628\n",
        "632 626\n",
        "633 284\n",
        "635 634\n",
        "637 636\n",
        "639 638\n",
        "640 233\n",
        "646 644\n",
        "647 641\n",
        "651 650\n",
        "653 390\n",
        "655 654\n",
        "657 656\n",
        "659 658\n",
        "661 660\n",
        "662 609\n",
        "666 665\n",
        "668 667\n",
        "669 363\n",
        "669 365\n",
        "671 670\n",
        "672 200\n",
        "674 673\n",
        "676 416\n",
        "678 677\n",
        "679 260\n",
        "681 680\n",
        "687 686\n",
        "689 579\n",
        "689 580\n",
        "692 17\n",
        "693 691\n",
        "695 694\n",
        "697 494\n",
        "698 658\n",
        "698 659\n",
        "700 579\n",
        "700 580\n",
        "700 689\n",
        "702 437\n",
        "703 214\n",
        "705 449\n",
        "707 290\n",
        "710 709\n",
        "713 684\n",
        "714 712\n",
        "719 718\n",
        "720 370\n",
        "724 723\n",
        "725 682\n",
        "728 727\n",
        "729 287\n",
        "733 732\n",
        "734 280\n",
        "735 280\n",
        "735 734\n",
        "736 12\n",
        "736 135\n",
        "745 579\n",
        "745 580\n",
        "745 689\n",
        "745 700\n",
        "748 579\n",
        "748 580\n",
        "748 689\n",
        "748 700\n",
        "748 745\n",
        "750 749\n",
        "754 753\n",
        "755 751\n",
        "757 751\n",
        "757 755\n",
        "759 758\n",
        "762 525\n",
        "765 478\n",
        "765 498\n",
        "768 767\n",
        "770 766\n",
        "771 688\n",
        "774 770\n",
        "776 767\n",
        "776 768\n",
        "777 422\n",
        "779 778\n",
        "781 227\n",
        "784"
       ]
      },
      {
       "output_type": "stream",
       "stream": "stdout",
       "text": [
        " 227\n",
        "784 781\n",
        "785 677\n",
        "787 786\n",
        "788 683\n",
        "792 791\n",
        "795 794\n",
        "797 398\n",
        "797 683\n",
        "797 788\n",
        "800 799\n",
        "801 798\n",
        "802 798\n",
        "802 801\n",
        "803 778\n",
        "803 779\n",
        "804 778\n",
        "804 779\n",
        "804 803\n",
        "807 806\n",
        "810 805\n",
        "813 805\n",
        "813 810\n",
        "814 805\n",
        "814 810\n",
        "814 813\n",
        "819 357\n",
        "821 820\n",
        "822 820\n",
        "822 821\n",
        "824 806\n",
        "824 807\n",
        "826 825\n",
        "828 827\n",
        "830 829\n",
        "832 831\n",
        "833 769\n",
        "836 835\n",
        "837 793\n",
        "844 843\n",
        "848 847\n",
        "849 846\n",
        "855 612\n",
        "857 579\n",
        "857 580\n",
        "857 689\n",
        "857 700\n",
        "857 745\n",
        "857 748\n",
        "860 34\n",
        "860 62\n",
        "863 862\n",
        "865 864\n",
        "871 570\n",
        "871 571\n",
        "878 877\n",
        "882 876\n",
        "883 876\n",
        "883 882\n",
        "886 658\n",
        "886 659\n",
        "886 698\n",
        "887 459\n",
        "889 738\n",
        "893 880\n",
        "894 892\n",
        "895 892\n",
        "895 894\n",
        "898 547\n",
        "899 547\n",
        "899 898\n",
        "901 900\n",
        "903 902\n",
        "905 118\n",
        "905 509\n",
        "907 906\n",
        "909 908\n",
        "911 910\n",
        "913 912\n",
        "914 896\n",
        "916 915\n",
        "918 917\n",
        "919 917\n",
        "919 918\n",
        "922 900\n",
        "922 901\n",
        "926 925\n",
        "928 920\n",
        "933 363\n",
        "933 365\n",
        "933 669\n",
        "937 363\n",
        "937 365\n",
        "937 669\n",
        "937 933\n",
        "938 934\n",
        "941 934\n",
        "941 938\n",
        "942 939\n",
        "943 934\n",
        "943 938\n",
        "943 941\n",
        "944 939\n",
        "944 942\n",
        "948 764\n",
        "949 363\n",
        "949 365\n",
        "949 669\n",
        "949 933\n",
        "949 937\n",
        "950 363\n",
        "950 365\n",
        "950 669\n",
        "950 933\n",
        "950 937\n",
        "950 949\n",
        "951 940\n",
        "953 890\n",
        "956 955\n"
       ]
      }
     ],
     "prompt_number": 32
    },
    {
     "cell_type": "code",
     "collapsed": false,
     "input": [],
     "language": "python",
     "metadata": {},
     "outputs": []
    }
   ],
   "metadata": {}
  }
 ]
}