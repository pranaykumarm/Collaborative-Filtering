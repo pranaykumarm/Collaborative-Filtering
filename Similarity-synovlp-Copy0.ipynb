{
 "metadata": {
  "name": "",
  "signature": "sha256:930bc85ea2c645baaf26227fe130078ecc5b84cfaa1488466141451d280af8fa"
 },
 "nbformat": 3,
 "nbformat_minor": 0,
 "worksheets": [
  {
   "cells": [
    {
     "cell_type": "code",
     "collapsed": false,
     "input": [
      "import numpy as np\n",
      "import matplotlib.pyplot as plt\n",
      "import math\n",
      "%matplotlib inline"
     ],
     "language": "python",
     "metadata": {},
     "outputs": [],
     "prompt_number": 2
    },
    {
     "cell_type": "code",
     "collapsed": false,
     "input": [
      "f = open('synthetic.overlap.output-1.txt')\n",
      "\n",
      "all_events = []\n",
      "\n",
      "for line in f:\n",
      "    contents = line.split()\n",
      "    all_events.append([int(contents[0])-1,int(contents[1])-1])\n",
      "\n",
      "f.close()"
     ],
     "language": "python",
     "metadata": {},
     "outputs": [],
     "prompt_number": 3
    },
    {
     "cell_type": "code",
     "collapsed": false,
     "input": [
      "new_events = all_events[100000:]\n",
      "events = all_events[:100000]"
     ],
     "language": "python",
     "metadata": {},
     "outputs": [],
     "prompt_number": 4
    },
    {
     "cell_type": "code",
     "collapsed": false,
     "input": [
      "len(events), len(new_events)"
     ],
     "language": "python",
     "metadata": {},
     "outputs": [
      {
       "metadata": {},
       "output_type": "pyout",
       "prompt_number": 5,
       "text": [
        "(100000, 21000)"
       ]
      }
     ],
     "prompt_number": 5
    },
    {
     "cell_type": "code",
     "collapsed": false,
     "input": [
      "users = []\n",
      "machines = []\n",
      "for event in events:\n",
      "    users.append(event[0])\n",
      "    machines.append(event[1])"
     ],
     "language": "python",
     "metadata": {},
     "outputs": [],
     "prompt_number": 6
    },
    {
     "cell_type": "code",
     "collapsed": false,
     "input": [
      "global N, M\n",
      "N = max(users)+1\n",
      "M = max(machines)+1\n",
      "profile = np.array([[0.0 for j in xrange(M+1)] for i in xrange(N+1)])\n",
      "\n",
      "print N, M"
     ],
     "language": "python",
     "metadata": {},
     "outputs": [
      {
       "output_type": "stream",
       "stream": "stdout",
       "text": [
        "574 246\n"
       ]
      }
     ],
     "prompt_number": 7
    },
    {
     "cell_type": "code",
     "collapsed": false,
     "input": [
      "for event in events:\n",
      "    profile[event[0],event[1]] += 1"
     ],
     "language": "python",
     "metadata": {},
     "outputs": [],
     "prompt_number": 8
    },
    {
     "cell_type": "code",
     "collapsed": false,
     "input": [
      "profile"
     ],
     "language": "python",
     "metadata": {},
     "outputs": [
      {
       "metadata": {},
       "output_type": "pyout",
       "prompt_number": 9,
       "text": [
        "array([[  1.,   0.,   0., ...,   0.,   3.,   0.],\n",
        "       [  0.,   1.,   0., ...,   1.,   0.,   0.],\n",
        "       [ 16.,  14.,  18., ...,   0.,   0.,   0.],\n",
        "       ..., \n",
        "       [  0.,   3.,   0., ...,   0.,   0.,   0.],\n",
        "       [  0.,   0.,   0., ...,   0.,   1.,   0.],\n",
        "       [  0.,   0.,   0., ...,   0.,   0.,   0.]])"
       ]
      }
     ],
     "prompt_number": 9
    },
    {
     "cell_type": "code",
     "collapsed": false,
     "input": [
      "for i in xrange(N+1):\n",
      "    temp = np.sum(profile[i,:-1])\n",
      "    profile[i,M] = temp\n",
      "\n",
      "for j in xrange(M+1):\n",
      "    profile[N,j] = np.sum(profile[:-1,j])"
     ],
     "language": "python",
     "metadata": {},
     "outputs": [],
     "prompt_number": 10
    },
    {
     "cell_type": "code",
     "collapsed": false,
     "input": [
      "profile"
     ],
     "language": "python",
     "metadata": {},
     "outputs": [
      {
       "metadata": {},
       "output_type": "pyout",
       "prompt_number": 11,
       "text": [
        "array([[  1.00000000e+00,   0.00000000e+00,   0.00000000e+00, ...,\n",
        "          0.00000000e+00,   3.00000000e+00,   6.60000000e+01],\n",
        "       [  0.00000000e+00,   1.00000000e+00,   0.00000000e+00, ...,\n",
        "          1.00000000e+00,   0.00000000e+00,   4.90000000e+01],\n",
        "       [  1.60000000e+01,   1.40000000e+01,   1.80000000e+01, ...,\n",
        "          0.00000000e+00,   0.00000000e+00,   9.08000000e+02],\n",
        "       ..., \n",
        "       [  0.00000000e+00,   3.00000000e+00,   0.00000000e+00, ...,\n",
        "          0.00000000e+00,   0.00000000e+00,   6.30000000e+01],\n",
        "       [  0.00000000e+00,   0.00000000e+00,   0.00000000e+00, ...,\n",
        "          0.00000000e+00,   1.00000000e+00,   4.90000000e+01],\n",
        "       [  1.38000000e+03,   1.36800000e+03,   3.62000000e+02, ...,\n",
        "          2.32000000e+02,   2.70000000e+02,   1.00000000e+05]])"
       ]
      }
     ],
     "prompt_number": 11
    },
    {
     "cell_type": "code",
     "collapsed": false,
     "input": [
      "global profile"
     ],
     "language": "python",
     "metadata": {},
     "outputs": [],
     "prompt_number": 12
    },
    {
     "cell_type": "code",
     "collapsed": false,
     "input": [
      "for n in xrange(N):\n",
      "    den = profile[n,M]\n",
      "    for m in xrange(M):\n",
      "        profile[n,m] = profile[n,m]/den"
     ],
     "language": "python",
     "metadata": {},
     "outputs": [],
     "prompt_number": 13
    },
    {
     "cell_type": "code",
     "collapsed": false,
     "input": [
      "profile"
     ],
     "language": "python",
     "metadata": {},
     "outputs": [
      {
       "metadata": {},
       "output_type": "pyout",
       "prompt_number": 14,
       "text": [
        "array([[  1.51515152e-02,   0.00000000e+00,   0.00000000e+00, ...,\n",
        "          0.00000000e+00,   4.54545455e-02,   6.60000000e+01],\n",
        "       [  0.00000000e+00,   2.04081633e-02,   0.00000000e+00, ...,\n",
        "          2.04081633e-02,   0.00000000e+00,   4.90000000e+01],\n",
        "       [  1.76211454e-02,   1.54185022e-02,   1.98237885e-02, ...,\n",
        "          0.00000000e+00,   0.00000000e+00,   9.08000000e+02],\n",
        "       ..., \n",
        "       [  0.00000000e+00,   4.76190476e-02,   0.00000000e+00, ...,\n",
        "          0.00000000e+00,   0.00000000e+00,   6.30000000e+01],\n",
        "       [  0.00000000e+00,   0.00000000e+00,   0.00000000e+00, ...,\n",
        "          0.00000000e+00,   2.04081633e-02,   4.90000000e+01],\n",
        "       [  1.38000000e+03,   1.36800000e+03,   3.62000000e+02, ...,\n",
        "          2.32000000e+02,   2.70000000e+02,   1.00000000e+05]])"
       ]
      }
     ],
     "prompt_number": 14
    },
    {
     "cell_type": "code",
     "collapsed": false,
     "input": [
      "global sim\n",
      "sim = np.array([[0.0 for j in xrange(N)] for i in xrange(N)])"
     ],
     "language": "python",
     "metadata": {},
     "outputs": [],
     "prompt_number": 15
    },
    {
     "cell_type": "code",
     "collapsed": false,
     "input": [
      "for u in xrange(N):\n",
      "    for v in xrange(u+1):\n",
      "        val = np.dot(profile[u,:-1], profile[v,:-1])/(np.linalg.norm(profile[u,:-1])*np.linalg.norm(profile[v,:-1]))\n",
      "        sim[u,v] = val\n",
      "        sim[v,u] = val"
     ],
     "language": "python",
     "metadata": {},
     "outputs": [],
     "prompt_number": 16
    },
    {
     "cell_type": "code",
     "collapsed": false,
     "input": [
      "sim"
     ],
     "language": "python",
     "metadata": {},
     "outputs": [
      {
       "metadata": {},
       "output_type": "pyout",
       "prompt_number": 17,
       "text": [
        "array([[ 1.        ,  0.24669184,  0.12430299, ...,  0.39753514,\n",
        "         0.37953072,  0.28616254],\n",
        "       [ 0.24669184,  1.        ,  0.17249283, ...,  0.23718936,\n",
        "         0.35985385,  0.2278481 ],\n",
        "       [ 0.12430299,  0.17249283,  1.        , ...,  0.14751444,\n",
        "         0.22053253,  0.14842406],\n",
        "       ..., \n",
        "       [ 0.39753514,  0.23718936,  0.14751444, ...,  1.        ,\n",
        "         0.32723026,  0.22532989],\n",
        "       [ 0.37953072,  0.35985385,  0.22053253, ...,  0.32723026,\n",
        "         1.        ,  0.33868597],\n",
        "       [ 0.28616254,  0.2278481 ,  0.14842406, ...,  0.22532989,\n",
        "         0.33868597,  1.        ]])"
       ]
      }
     ],
     "prompt_number": 17
    },
    {
     "cell_type": "code",
     "collapsed": false,
     "input": [
      "def update(event):\n",
      "    u = event[0]\n",
      "    m = event[1]\n",
      "    T = profile[u,M]+1\n",
      "    f = (T-1)/T\n",
      "    for i in xrange(M):\n",
      "        profile[u,i] = profile[u,i]*f\n",
      "    profile[u,m] += 1/T\n",
      "    profile[u,M] = T\n",
      "    \n",
      "    for v in xrange(N):\n",
      "        val = np.dot(profile[u,:-1], profile[v,:-1])/(np.linalg.norm(profile[u,:-1])*np.linalg.norm(profile[v,:-1]))\n",
      "        sim[u,v] = val\n",
      "        sim[v,u] = val"
     ],
     "language": "python",
     "metadata": {},
     "outputs": [],
     "prompt_number": 18
    },
    {
     "cell_type": "code",
     "collapsed": false,
     "input": [
      "global good_access, bad_access\n",
      "good_access = []\n",
      "bad_access = []\n",
      "\n",
      "def pos_feed(event):\n",
      "    good_access.append(event)\n",
      "    \n",
      "def neg_feed(event):\n",
      "    bad_access.append(event)\n",
      "    u = event[0]\n",
      "    m = event[1]\n",
      "    bad = profile[u,m]*profile[u,M]\n",
      "    T = profile[u,M] - bad\n",
      "    f = (T+bad)/T\n",
      "    for i in xrange(M):\n",
      "        profile[u,i] = profile[u,i]*f\n",
      "    profile[u,m] = 0\n",
      "    profile[u,M] = T\n",
      "    \n",
      "    for v in xrange(N):\n",
      "        val = np.dot(profile[u,:-1], profile[v,:-1])/(np.linalg.norm(profile[u,:-1])*np.linalg.norm(profile[v,:-1]))\n",
      "        sim[u,v] = val\n",
      "        sim[v,u] = val"
     ],
     "language": "python",
     "metadata": {},
     "outputs": [],
     "prompt_number": 19
    },
    {
     "cell_type": "code",
     "collapsed": false,
     "input": [
      "def score(event):\n",
      "    if event[0]>=N or event[1]>=M:\n",
      "        return 'new'\n",
      "    if event in good_access:\n",
      "        return 'good'\n",
      "    if event in bad_access:\n",
      "        return 'bad'\n",
      "    else:\n",
      "        u = event[0]\n",
      "        m = event[1]\n",
      "        score = np.dot(sim[u,:], profile[:-1,m])/np.sum(sim[u,:])\n",
      "        return score"
     ],
     "language": "python",
     "metadata": {},
     "outputs": [],
     "prompt_number": 20
    },
    {
     "cell_type": "code",
     "collapsed": false,
     "input": [
      "factors = []\n",
      "i = 0\n",
      "for event in new_events:\n",
      "    i += 1\n",
      "    if i%1000 == 1:\n",
      "        print i\n",
      "    #update(event)\n",
      "    factors.append(score(event))"
     ],
     "language": "python",
     "metadata": {},
     "outputs": [
      {
       "output_type": "stream",
       "stream": "stdout",
       "text": [
        "1\n",
        "1001\n",
        "2001\n",
        "3001\n",
        "4001"
       ]
      },
      {
       "output_type": "stream",
       "stream": "stdout",
       "text": [
        "\n",
        "5001\n",
        "6001\n",
        "7001\n",
        "8001"
       ]
      },
      {
       "output_type": "stream",
       "stream": "stdout",
       "text": [
        "\n",
        "9001\n",
        "10001\n",
        "11001\n",
        "12001"
       ]
      },
      {
       "output_type": "stream",
       "stream": "stdout",
       "text": [
        "\n",
        "13001\n",
        "14001\n",
        "15001\n",
        "16001"
       ]
      },
      {
       "output_type": "stream",
       "stream": "stdout",
       "text": [
        "\n",
        "17001\n",
        "18001\n",
        "19001\n",
        "20001"
       ]
      },
      {
       "output_type": "stream",
       "stream": "stdout",
       "text": [
        "\n"
       ]
      }
     ],
     "prompt_number": 21
    },
    {
     "cell_type": "code",
     "collapsed": false,
     "input": [
      "scores = []\n",
      "i = 0\n",
      "for event in new_events:\n",
      "    i += 1\n",
      "    if i%1000 == 1:\n",
      "        print i\n",
      "    val = score(event)\n",
      "    scores.append(val)\n",
      "    if val!='bad':\n",
      "        update(event)"
     ],
     "language": "python",
     "metadata": {},
     "outputs": [
      {
       "output_type": "stream",
       "stream": "stdout",
       "text": [
        "1\n",
        "1001"
       ]
      },
      {
       "output_type": "stream",
       "stream": "stdout",
       "text": [
        "\n",
        "2001"
       ]
      },
      {
       "output_type": "stream",
       "stream": "stdout",
       "text": [
        "\n",
        "3001"
       ]
      },
      {
       "output_type": "stream",
       "stream": "stdout",
       "text": [
        "\n",
        "4001"
       ]
      },
      {
       "output_type": "stream",
       "stream": "stdout",
       "text": [
        "\n",
        "5001"
       ]
      },
      {
       "output_type": "stream",
       "stream": "stdout",
       "text": [
        "\n",
        "6001"
       ]
      },
      {
       "output_type": "stream",
       "stream": "stdout",
       "text": [
        "\n",
        "7001"
       ]
      },
      {
       "output_type": "stream",
       "stream": "stdout",
       "text": [
        "\n",
        "8001"
       ]
      },
      {
       "output_type": "stream",
       "stream": "stdout",
       "text": [
        "\n",
        "9001"
       ]
      },
      {
       "output_type": "stream",
       "stream": "stdout",
       "text": [
        "\n",
        "10001"
       ]
      },
      {
       "output_type": "stream",
       "stream": "stdout",
       "text": [
        "\n",
        "11001"
       ]
      },
      {
       "output_type": "stream",
       "stream": "stdout",
       "text": [
        "\n",
        "12001"
       ]
      },
      {
       "output_type": "stream",
       "stream": "stdout",
       "text": [
        "\n",
        "13001"
       ]
      },
      {
       "output_type": "stream",
       "stream": "stdout",
       "text": [
        "\n",
        "14001"
       ]
      },
      {
       "output_type": "stream",
       "stream": "stdout",
       "text": [
        "\n",
        "15001"
       ]
      },
      {
       "output_type": "stream",
       "stream": "stdout",
       "text": [
        "\n",
        "16001"
       ]
      },
      {
       "output_type": "stream",
       "stream": "stdout",
       "text": [
        "\n",
        "17001"
       ]
      },
      {
       "output_type": "stream",
       "stream": "stdout",
       "text": [
        "\n",
        "18001"
       ]
      },
      {
       "output_type": "stream",
       "stream": "stdout",
       "text": [
        "\n",
        "19001"
       ]
      },
      {
       "output_type": "stream",
       "stream": "stdout",
       "text": [
        "\n",
        "20001"
       ]
      },
      {
       "output_type": "stream",
       "stream": "stdout",
       "text": [
        "\n"
       ]
      }
     ],
     "prompt_number": 26
    },
    {
     "cell_type": "code",
     "collapsed": false,
     "input": [
      "import numpy as np\n",
      "import matplotlib.pyplot as plt\n",
      "from scipy.stats import gaussian_kde\n",
      "\n",
      "# Calculate the point density\n",
      "xy = np.vstack([[i for i in xrange(len(factors))], factors])\n",
      "z = gaussian_kde(xy)(xy)\n",
      "\n",
      "fig, ax = plt.subplots()\n",
      "ax.scatter([i for i in xrange(len(factors))], factors, c=z, s=20, edgecolor='')\n",
      "plt.xlabel('factor')\n",
      "plt.ylabel('event')"
     ],
     "language": "python",
     "metadata": {},
     "outputs": [
      {
       "metadata": {},
       "output_type": "pyout",
       "prompt_number": 23,
       "text": [
        "<matplotlib.text.Text at 0x10ba97c50>"
       ]
      },
      {
       "metadata": {},
       "output_type": "display_data",
       "png": "[encoded data removed]",
       "text": [
        "<matplotlib.figure.Figure at 0x105fb6e50>"
       ]
      }
     ],
     "prompt_number": 23
    },
    {
     "cell_type": "code",
     "collapsed": false,
     "input": [
      "import numpy as np\n",
      "import matplotlib.pyplot as plt\n",
      "from scipy.stats import gaussian_kde\n",
      "\n",
      "# Calculate the point density\n",
      "xy = np.vstack([[i for i in xrange(len(scores))], scores])\n",
      "z = gaussian_kde(xy)(xy)\n",
      "\n",
      "fig, ax = plt.subplots()\n",
      "ax.scatter([i for i in xrange(len(scores))], scores, c=z, s=20, edgecolor='')\n",
      "plt.xlabel('factor')\n",
      "plt.ylabel('event')"
     ],
     "language": "python",
     "metadata": {},
     "outputs": [
      {
       "metadata": {},
       "output_type": "pyout",
       "prompt_number": 27,
       "text": [
        "<matplotlib.text.Text at 0x10ba54310>"
       ]
      },
      {
       "metadata": {},
       "output_type": "display_data",
       "png": "[encoded data removed]",
       "text": [
        "<matplotlib.figure.Figure at 0x10a9bb6d0>"
       ]
      }
     ],
     "prompt_number": 27
    },
    {
     "cell_type": "code",
     "collapsed": false,
     "input": [
      "fig = plt.figure()\n",
      "ax = fig.add_subplot(111)\n",
      "ax.hist(factors,20)"
     ],
     "language": "python",
     "metadata": {},
     "outputs": [
      {
       "metadata": {},
       "output_type": "pyout",
       "prompt_number": 24,
       "text": [
        "(array([ 1000.,     0.,     3.,  2271.,  2395.,  2443.,    56.,     0.,\n",
        "          131.,  1030.,  1897.,  1790.,  1653.,   849.,   528.,   450.,\n",
        "          409.,  2335.,  1439.,   321.]),\n",
        " array([ 0.00029625,  0.00100477,  0.00171328,  0.0024218 ,  0.00313031,\n",
        "         0.00383883,  0.00454735,  0.00525586,  0.00596438,  0.00667289,\n",
        "         0.00738141,  0.00808993,  0.00879844,  0.00950696,  0.01021547,\n",
        "         0.01092399,  0.01163251,  0.01234102,  0.01304954,  0.01375805,\n",
        "         0.01446657]),\n",
        " <a list of 20 Patch objects>)"
       ]
      },
      {
       "metadata": {},
       "output_type": "display_data",
       "png": "[encoded data removed]",
       "text": [
        "<matplotlib.figure.Figure at 0x105fb6450>"
       ]
      }
     ],
     "prompt_number": 24
    },
    {
     "cell_type": "code",
     "collapsed": false,
     "input": [
      "fig = plt.figure()\n",
      "ax = fig.add_subplot(111)\n",
      "ax.hist(scores,20)"
     ],
     "language": "python",
     "metadata": {},
     "outputs": [
      {
       "metadata": {},
       "output_type": "pyout",
       "prompt_number": 28,
       "text": [
        "(array([  5.92000000e+02,   1.55000000e+02,   5.29000000e+02,\n",
        "          3.23400000e+03,   2.50300000e+03,   1.15300000e+03,\n",
        "          2.00000000e+00,   2.00000000e+00,   3.35000000e+02,\n",
        "          1.41200000e+03,   1.87000000e+03,   1.77600000e+03,\n",
        "          1.37800000e+03,   6.52000000e+02,   5.79000000e+02,\n",
        "          3.55000000e+02,   6.86000000e+02,   2.30500000e+03,\n",
        "          1.28900000e+03,   1.93000000e+02]),\n",
        " array([ 0.00080474,  0.00148278,  0.00216082,  0.00283886,  0.0035169 ,\n",
        "         0.00419493,  0.00487297,  0.00555101,  0.00622905,  0.00690709,\n",
        "         0.00758513,  0.00826317,  0.00894121,  0.00961925,  0.01029729,\n",
        "         0.01097533,  0.01165337,  0.01233141,  0.01300945,  0.01368749,\n",
        "         0.01436553]),\n",
        " <a list of 20 Patch objects>)"
       ]
      },
      {
       "metadata": {},
       "output_type": "display_data",
       "png": "[encoded data removed]",
       "text": [
        "<matplotlib.figure.Figure at 0x10a97a150>"
       ]
      }
     ],
     "prompt_number": 28
    },
    {
     "cell_type": "code",
     "collapsed": false,
     "input": [
      "fig = plt.figure()\n",
      "ax = fig.add_subplot(111)\n",
      "ax.hist(factors[:1000],20)"
     ],
     "language": "python",
     "metadata": {},
     "outputs": [
      {
       "metadata": {},
       "output_type": "pyout",
       "prompt_number": 29,
       "text": [
        "(array([  68.,   59.,    8.,   20.,   21.,   19.,   31.,   65.,   72.,\n",
        "          62.,   28.,   15.,   15.,   15.,   13.,   65.,  141.,  154.,\n",
        "         100.,   29.]),\n",
        " array([ 0.00029625,  0.00032684,  0.00035742,  0.00038801,  0.0004186 ,\n",
        "         0.00044918,  0.00047977,  0.00051036,  0.00054094,  0.00057153,\n",
        "         0.00060212,  0.0006327 ,  0.00066329,  0.00069388,  0.00072446,\n",
        "         0.00075505,  0.00078563,  0.00081622,  0.00084681,  0.00087739,\n",
        "         0.00090798]),\n",
        " <a list of 20 Patch objects>)"
       ]
      },
      {
       "metadata": {},
       "output_type": "display_data",
       "png": "[encoded data removed]",
       "text": [
        "<matplotlib.figure.Figure at 0x10bc16e90>"
       ]
      }
     ],
     "prompt_number": 29
    },
    {
     "cell_type": "code",
     "collapsed": false,
     "input": [
      "fig = plt.figure()\n",
      "ax = fig.add_subplot(111)\n",
      "ax.hist(scores[:1000],20)"
     ],
     "language": "python",
     "metadata": {},
     "outputs": [
      {
       "metadata": {},
       "output_type": "pyout",
       "prompt_number": 30,
       "text": [
        "(array([  79.,  237.,  212.,   69.,   43.,   33.,   49.,   34.,   45.,\n",
        "          50.,   35.,   37.,   23.,   14.,    9.,   12.,    4.,    6.,\n",
        "           7.,    2.]),\n",
        " array([ 0.00080474,  0.00098124,  0.00115774,  0.00133424,  0.00151074,\n",
        "         0.00168725,  0.00186375,  0.00204025,  0.00221675,  0.00239325,\n",
        "         0.00256975,  0.00274626,  0.00292276,  0.00309926,  0.00327576,\n",
        "         0.00345226,  0.00362876,  0.00380527,  0.00398177,  0.00415827,\n",
        "         0.00433477]),\n",
        " <a list of 20 Patch objects>)"
       ]
      },
      {
       "metadata": {},
       "output_type": "display_data",
       "png": "[encoded data removed]",
       "text": [
        "<matplotlib.figure.Figure at 0x10a802850>"
       ]
      }
     ],
     "prompt_number": 30
    },
    {
     "cell_type": "code",
     "collapsed": false,
     "input": [
      "max(factors[:1000]), min(factors[1000:])"
     ],
     "language": "python",
     "metadata": {},
     "outputs": [
      {
       "metadata": {},
       "output_type": "pyout",
       "prompt_number": 31,
       "text": [
        "(0.0009079804237723401, 0.0024019765387246865)"
       ]
      }
     ],
     "prompt_number": 31
    },
    {
     "cell_type": "code",
     "collapsed": false,
     "input": [
      "max(scores[:1000]), min(scores[1000:])"
     ],
     "language": "python",
     "metadata": {},
     "outputs": [
      {
       "metadata": {},
       "output_type": "pyout",
       "prompt_number": 32,
       "text": [
        "(0.0043347712404640535, 0.0023581577732848871)"
       ]
      }
     ],
     "prompt_number": 32
    },
    {
     "cell_type": "code",
     "collapsed": false,
     "input": [
      "def getJenksBreaks( factors, numClass ): \n",
      "    dataList = factors[:]\n",
      "    dataList.sort()\n",
      "    mat1 = []\n",
      "    for i in range(0,len(dataList)+1):\n",
      "        temp = []\n",
      "        for j in range(0,numClass+1):\n",
      "            temp.append(0)\n",
      "        mat1.append(temp)\n",
      "        \n",
      "    mat2 = []\n",
      "    for i in range(0,len(dataList)+1):\n",
      "       temp = []\n",
      "       for j in range(0,numClass+1):\n",
      "             temp.append(0)\n",
      "       mat2.append(temp)\n",
      "                \n",
      "    for i in range(1,numClass+1):\n",
      "        mat1[1][i] = 1\n",
      "        mat2[1][i] = 0\n",
      "        for j in range(2,len(dataList)+1):\n",
      "            mat2[j][i] = float('inf')\n",
      "            \n",
      "            \n",
      "    v = 0.0\n",
      "    for l in range(2,len(dataList)+1):\n",
      "        s1 = 0.0\n",
      "        s2 = 0.0\n",
      "        w = 0.0\n",
      "        for m in range(1,l+1):\n",
      "            i3 = l - m + 1\n",
      "            \n",
      "            val = float(dataList[i3-1])\n",
      "            \n",
      "            s2 += val * val\n",
      "            s1 += val\n",
      "            \n",
      "            w += 1\n",
      "            v = s2 - (s1 * s1) / w\n",
      "            i4 = i3 - 1\n",
      "            \n",
      "            if i4 != 0:\n",
      "               for j in range(2,numClass+1):\n",
      "                    if mat2[l][j] >= (v + mat2[i4][j - 1]): \n",
      "                        mat1[l][j] = i3\n",
      "                        mat2[l][j] = v + mat2[i4][j - 1]\n",
      "        mat1[l][1] = 1\n",
      "        mat2[l][1] = v\n",
      "    \n",
      "    k = len(dataList)\n",
      "    kclass = []\n",
      "    for i in range(0,numClass+1):\n",
      "        kclass.append(0)\n",
      "        \n",
      "    kclass[numClass] = float(dataList[len(dataList) - 1])\n",
      "    \n",
      "    countNum = numClass\n",
      "    while countNum >= 2:\n",
      "        #print \"rank = \" + str(mat1[k][countNum]) \n",
      "        id = int((mat1[k][countNum]) - 2)\n",
      "        #print \"val = \" + str(dataList[id])\n",
      "        kclass[countNum - 1] = dataList[id] \n",
      "        k = int((mat1[k][countNum] - 1)) \n",
      "        countNum -= 1\n",
      "    return kclass"
     ],
     "language": "python",
     "metadata": {},
     "outputs": [],
     "prompt_number": 40
    },
    {
     "cell_type": "code",
     "collapsed": false,
     "input": [
      "getJenksBreaks(factors,2)"
     ],
     "language": "python",
     "metadata": {},
     "outputs": [
      {
       "metadata": {},
       "output_type": "pyout",
       "prompt_number": 42,
       "text": [
        "[0, 0.0067275041597225525, 0.014466570922573259]"
       ]
      }
     ],
     "prompt_number": 42
    },
    {
     "cell_type": "code",
     "collapsed": false,
     "input": [
      "getJenksBreaks(scores,2)"
     ],
     "language": "python",
     "metadata": {},
     "outputs": [
      {
       "metadata": {},
       "output_type": "pyout",
       "prompt_number": 41,
       "text": [
        "[0, 0.0067828277094820009, 0.014365527498859445]"
       ]
      }
     ],
     "prompt_number": 41
    },
    {
     "cell_type": "heading",
     "level": 2,
     "metadata": {},
     "source": [
      "Distance clusters"
     ]
    },
    {
     "cell_type": "code",
     "collapsed": false,
     "input": [
      "def breaks(factors, n, frac):\n",
      "    breaks = []\n",
      "    dataList = factors[:]\n",
      "    diff = []\n",
      "    dataList.sort()\n",
      "    for i in xrange(int(math.ceil(len(dataList)*frac)-1)):\n",
      "        diff.append(dataList[i+1] - dataList[i])\n",
      "    for i in xrange(n-1):\n",
      "        val = max(diff)\n",
      "        ind = diff.index(val)\n",
      "        diff[ind] = -1\n",
      "        breaks.append(dataList[ind])\n",
      "    return breaks"
     ],
     "language": "python",
     "metadata": {},
     "outputs": [],
     "prompt_number": 36
    },
    {
     "cell_type": "code",
     "collapsed": false,
     "input": [
      "breaks(factors,3,1)"
     ],
     "language": "python",
     "metadata": {},
     "outputs": [
      {
       "metadata": {},
       "output_type": "pyout",
       "prompt_number": 43,
       "text": [
        "[0.0009079804237723401, 0.0047557772235058641]"
       ]
      }
     ],
     "prompt_number": 43
    },
    {
     "cell_type": "code",
     "collapsed": false,
     "input": [
      "breaks(scores,3,1)"
     ],
     "language": "python",
     "metadata": {},
     "outputs": [
      {
       "metadata": {},
       "output_type": "pyout",
       "prompt_number": 38,
       "text": [
        "[0.0049547854844549672, 0.0060043509276763076]"
       ]
      }
     ],
     "prompt_number": 38
    },
    {
     "cell_type": "code",
     "collapsed": false,
     "input": [],
     "language": "python",
     "metadata": {},
     "outputs": []
    }
   ],
   "metadata": {}
  }
 ]
}