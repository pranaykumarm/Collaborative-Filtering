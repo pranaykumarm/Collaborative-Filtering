{
 "metadata": {
  "name": "",
  "signature": "sha256:7a855e3162358dceac86ab500f535a63789522f109b246a158a81a90d2099679"
 },
 "nbformat": 3,
 "nbformat_minor": 0,
 "worksheets": [
  {
   "cells": [
    {
     "cell_type": "code",
     "collapsed": false,
     "input": [
      "import numpy as np\n",
      "import matplotlib.pyplot as plt\n",
      "%matplotlib inline"
     ],
     "language": "python",
     "metadata": {},
     "outputs": [],
     "prompt_number": 1
    },
    {
     "cell_type": "code",
     "collapsed": false,
     "input": [
      "f = open('synthetic.overlap.output-1.txt')\n",
      "\n",
      "all_events = []\n",
      "\n",
      "for line in f:\n",
      "    contents = line.split()\n",
      "    all_events.append([int(contents[0])-1,int(contents[1])-1])\n",
      "\n",
      "f.close()"
     ],
     "language": "python",
     "metadata": {},
     "outputs": [],
     "prompt_number": 2
    },
    {
     "cell_type": "code",
     "collapsed": false,
     "input": [
      "new_events = all_events[100000:]\n",
      "events = all_events[:100000]"
     ],
     "language": "python",
     "metadata": {},
     "outputs": [],
     "prompt_number": 3
    },
    {
     "cell_type": "code",
     "collapsed": false,
     "input": [
      "len(events), len(new_events)"
     ],
     "language": "python",
     "metadata": {},
     "outputs": [
      {
       "metadata": {},
       "output_type": "pyout",
       "prompt_number": 4,
       "text": [
        "(100000, 21000)"
       ]
      }
     ],
     "prompt_number": 4
    },
    {
     "cell_type": "code",
     "collapsed": false,
     "input": [
      "users = []\n",
      "machines = []\n",
      "for event in events:\n",
      "    users.append(event[0])\n",
      "    machines.append(event[1])"
     ],
     "language": "python",
     "metadata": {},
     "outputs": [],
     "prompt_number": 5
    },
    {
     "cell_type": "code",
     "collapsed": false,
     "input": [
      "global N, M\n",
      "N = max(users)+1\n",
      "M = max(machines)+1\n",
      "access = np.array([[0.0 for j in xrange(M+1)] for i in xrange(N+1)])\n",
      "\n",
      "print N, M"
     ],
     "language": "python",
     "metadata": {},
     "outputs": [
      {
       "output_type": "stream",
       "stream": "stdout",
       "text": [
        "574 246\n"
       ]
      }
     ],
     "prompt_number": 87
    },
    {
     "cell_type": "code",
     "collapsed": false,
     "input": [
      "for event in events:\n",
      "    access[event[0],event[1]] += 1"
     ],
     "language": "python",
     "metadata": {},
     "outputs": [],
     "prompt_number": 98
    },
    {
     "cell_type": "code",
     "collapsed": false,
     "input": [
      "access"
     ],
     "language": "python",
     "metadata": {},
     "outputs": [
      {
       "metadata": {},
       "output_type": "pyout",
       "prompt_number": 99,
       "text": [
        "array([[  1.,   0.,   0., ...,   0.,   3.,   0.],\n",
        "       [  0.,   1.,   0., ...,   1.,   0.,   0.],\n",
        "       [ 16.,  14.,  18., ...,   0.,   0.,   0.],\n",
        "       ..., \n",
        "       [  0.,   3.,   0., ...,   0.,   0.,   0.],\n",
        "       [  0.,   0.,   0., ...,   0.,   1.,   0.],\n",
        "       [  0.,   0.,   0., ...,   0.,   0.,   0.]])"
       ]
      }
     ],
     "prompt_number": 99
    },
    {
     "cell_type": "code",
     "collapsed": false,
     "input": [
      "for i in xrange(N+1):\n",
      "    temp = np.sum(access[i,:-1])\n",
      "    access[i,M] = temp\n",
      "\n",
      "for j in xrange(M+1):\n",
      "    access[N,j] = np.sum(access[:-1,j])"
     ],
     "language": "python",
     "metadata": {},
     "outputs": [],
     "prompt_number": 100
    },
    {
     "cell_type": "code",
     "collapsed": false,
     "input": [
      "access"
     ],
     "language": "python",
     "metadata": {},
     "outputs": [
      {
       "metadata": {},
       "output_type": "pyout",
       "prompt_number": 101,
       "text": [
        "array([[  1.00000000e+00,   0.00000000e+00,   0.00000000e+00, ...,\n",
        "          0.00000000e+00,   3.00000000e+00,   6.60000000e+01],\n",
        "       [  0.00000000e+00,   1.00000000e+00,   0.00000000e+00, ...,\n",
        "          1.00000000e+00,   0.00000000e+00,   4.90000000e+01],\n",
        "       [  1.60000000e+01,   1.40000000e+01,   1.80000000e+01, ...,\n",
        "          0.00000000e+00,   0.00000000e+00,   9.08000000e+02],\n",
        "       ..., \n",
        "       [  0.00000000e+00,   3.00000000e+00,   0.00000000e+00, ...,\n",
        "          0.00000000e+00,   0.00000000e+00,   6.30000000e+01],\n",
        "       [  0.00000000e+00,   0.00000000e+00,   0.00000000e+00, ...,\n",
        "          0.00000000e+00,   1.00000000e+00,   4.90000000e+01],\n",
        "       [  1.38000000e+03,   1.36800000e+03,   3.62000000e+02, ...,\n",
        "          2.32000000e+02,   2.70000000e+02,   1.00000000e+05]])"
       ]
      }
     ],
     "prompt_number": 101
    },
    {
     "cell_type": "heading",
     "level": 2,
     "metadata": {},
     "source": [
      "Create the profile vectors (% of accesses)"
     ]
    },
    {
     "cell_type": "code",
     "collapsed": false,
     "input": [
      "global profile\n",
      "profile = np.array([[0.0 for j in xrange(M+1)] for i in xrange(N+1)])"
     ],
     "language": "python",
     "metadata": {},
     "outputs": [],
     "prompt_number": 102
    },
    {
     "cell_type": "code",
     "collapsed": false,
     "input": [
      "for n in xrange(N):\n",
      "    den = access[n,M]\n",
      "    for m in xrange(M):\n",
      "        profile[n,m] = access[n,m]/den\n",
      "profile[N,:] = access[N,:]\n",
      "profile[:,M] = access[:,M]"
     ],
     "language": "python",
     "metadata": {},
     "outputs": [],
     "prompt_number": 137
    },
    {
     "cell_type": "code",
     "collapsed": false,
     "input": [
      "profile"
     ],
     "language": "python",
     "metadata": {},
     "outputs": [
      {
       "metadata": {},
       "output_type": "pyout",
       "prompt_number": 138,
       "text": [
        "array([[  1.51515152e-02,   0.00000000e+00,   0.00000000e+00, ...,\n",
        "          0.00000000e+00,   4.54545455e-02,   6.60000000e+01],\n",
        "       [  0.00000000e+00,   2.04081633e-02,   0.00000000e+00, ...,\n",
        "          2.04081633e-02,   0.00000000e+00,   4.90000000e+01],\n",
        "       [  1.76211454e-02,   1.54185022e-02,   1.98237885e-02, ...,\n",
        "          0.00000000e+00,   0.00000000e+00,   9.08000000e+02],\n",
        "       ..., \n",
        "       [  0.00000000e+00,   4.76190476e-02,   0.00000000e+00, ...,\n",
        "          0.00000000e+00,   0.00000000e+00,   6.30000000e+01],\n",
        "       [  0.00000000e+00,   0.00000000e+00,   0.00000000e+00, ...,\n",
        "          0.00000000e+00,   2.04081633e-02,   4.90000000e+01],\n",
        "       [  1.38000000e+03,   1.36800000e+03,   3.62000000e+02, ...,\n",
        "          2.32000000e+02,   2.70000000e+02,   1.00000000e+05]])"
       ]
      }
     ],
     "prompt_number": 138
    },
    {
     "cell_type": "code",
     "collapsed": false,
     "input": [
      "profile[1,:]"
     ],
     "language": "python",
     "metadata": {},
     "outputs": [
      {
       "metadata": {},
       "output_type": "pyout",
       "prompt_number": 105,
       "text": [
        "array([  0.00000000e+00,   2.04081633e-02,   0.00000000e+00,\n",
        "         0.00000000e+00,   0.00000000e+00,   0.00000000e+00,\n",
        "         0.00000000e+00,   2.04081633e-02,   0.00000000e+00,\n",
        "         0.00000000e+00,   0.00000000e+00,   0.00000000e+00,\n",
        "         0.00000000e+00,   0.00000000e+00,   0.00000000e+00,\n",
        "         0.00000000e+00,   0.00000000e+00,   0.00000000e+00,\n",
        "         0.00000000e+00,   0.00000000e+00,   2.04081633e-02,\n",
        "         0.00000000e+00,   0.00000000e+00,   2.04081633e-02,\n",
        "         0.00000000e+00,   0.00000000e+00,   0.00000000e+00,\n",
        "         0.00000000e+00,   0.00000000e+00,   0.00000000e+00,\n",
        "         0.00000000e+00,   0.00000000e+00,   0.00000000e+00,\n",
        "         0.00000000e+00,   0.00000000e+00,   0.00000000e+00,\n",
        "         0.00000000e+00,   0.00000000e+00,   0.00000000e+00,\n",
        "         0.00000000e+00,   0.00000000e+00,   4.08163265e-02,\n",
        "         2.04081633e-02,   4.08163265e-02,   0.00000000e+00,\n",
        "         0.00000000e+00,   0.00000000e+00,   0.00000000e+00,\n",
        "         0.00000000e+00,   0.00000000e+00,   0.00000000e+00,\n",
        "         0.00000000e+00,   0.00000000e+00,   0.00000000e+00,\n",
        "         0.00000000e+00,   0.00000000e+00,   0.00000000e+00,\n",
        "         0.00000000e+00,   0.00000000e+00,   0.00000000e+00,\n",
        "         0.00000000e+00,   0.00000000e+00,   0.00000000e+00,\n",
        "         0.00000000e+00,   0.00000000e+00,   0.00000000e+00,\n",
        "         0.00000000e+00,   0.00000000e+00,   0.00000000e+00,\n",
        "         0.00000000e+00,   0.00000000e+00,   0.00000000e+00,\n",
        "         0.00000000e+00,   0.00000000e+00,   0.00000000e+00,\n",
        "         0.00000000e+00,   0.00000000e+00,   0.00000000e+00,\n",
        "         0.00000000e+00,   4.08163265e-02,   0.00000000e+00,\n",
        "         0.00000000e+00,   0.00000000e+00,   2.04081633e-02,\n",
        "         0.00000000e+00,   0.00000000e+00,   0.00000000e+00,\n",
        "         0.00000000e+00,   0.00000000e+00,   0.00000000e+00,\n",
        "         0.00000000e+00,   0.00000000e+00,   0.00000000e+00,\n",
        "         0.00000000e+00,   0.00000000e+00,   0.00000000e+00,\n",
        "         2.04081633e-02,   0.00000000e+00,   0.00000000e+00,\n",
        "         0.00000000e+00,   0.00000000e+00,   2.04081633e-02,\n",
        "         0.00000000e+00,   0.00000000e+00,   0.00000000e+00,\n",
        "         0.00000000e+00,   0.00000000e+00,   0.00000000e+00,\n",
        "         0.00000000e+00,   0.00000000e+00,   0.00000000e+00,\n",
        "         0.00000000e+00,   0.00000000e+00,   0.00000000e+00,\n",
        "         0.00000000e+00,   0.00000000e+00,   0.00000000e+00,\n",
        "         2.04081633e-02,   2.04081633e-02,   0.00000000e+00,\n",
        "         2.04081633e-02,   0.00000000e+00,   0.00000000e+00,\n",
        "         6.12244898e-02,   0.00000000e+00,   0.00000000e+00,\n",
        "         0.00000000e+00,   0.00000000e+00,   0.00000000e+00,\n",
        "         0.00000000e+00,   0.00000000e+00,   6.12244898e-02,\n",
        "         2.04081633e-02,   0.00000000e+00,   0.00000000e+00,\n",
        "         0.00000000e+00,   0.00000000e+00,   0.00000000e+00,\n",
        "         0.00000000e+00,   0.00000000e+00,   0.00000000e+00,\n",
        "         0.00000000e+00,   0.00000000e+00,   0.00000000e+00,\n",
        "         0.00000000e+00,   0.00000000e+00,   0.00000000e+00,\n",
        "         2.04081633e-02,   0.00000000e+00,   0.00000000e+00,\n",
        "         0.00000000e+00,   0.00000000e+00,   0.00000000e+00,\n",
        "         0.00000000e+00,   0.00000000e+00,   0.00000000e+00,\n",
        "         2.04081633e-02,   0.00000000e+00,   0.00000000e+00,\n",
        "         0.00000000e+00,   0.00000000e+00,   0.00000000e+00,\n",
        "         0.00000000e+00,   0.00000000e+00,   0.00000000e+00,\n",
        "         0.00000000e+00,   0.00000000e+00,   0.00000000e+00,\n",
        "         0.00000000e+00,   0.00000000e+00,   0.00000000e+00,\n",
        "         0.00000000e+00,   2.04081633e-02,   0.00000000e+00,\n",
        "         0.00000000e+00,   0.00000000e+00,   0.00000000e+00,\n",
        "         0.00000000e+00,   2.04081633e-02,   0.00000000e+00,\n",
        "         0.00000000e+00,   0.00000000e+00,   0.00000000e+00,\n",
        "         0.00000000e+00,   0.00000000e+00,   0.00000000e+00,\n",
        "         0.00000000e+00,   2.04081633e-02,   6.12244898e-02,\n",
        "         2.04081633e-02,   0.00000000e+00,   0.00000000e+00,\n",
        "         0.00000000e+00,   0.00000000e+00,   0.00000000e+00,\n",
        "         0.00000000e+00,   0.00000000e+00,   0.00000000e+00,\n",
        "         0.00000000e+00,   0.00000000e+00,   0.00000000e+00,\n",
        "         2.04081633e-02,   0.00000000e+00,   0.00000000e+00,\n",
        "         0.00000000e+00,   0.00000000e+00,   0.00000000e+00,\n",
        "         0.00000000e+00,   2.04081633e-02,   0.00000000e+00,\n",
        "         2.04081633e-02,   0.00000000e+00,   0.00000000e+00,\n",
        "         0.00000000e+00,   0.00000000e+00,   2.04081633e-02,\n",
        "         0.00000000e+00,   2.04081633e-02,   2.04081633e-02,\n",
        "         0.00000000e+00,   2.04081633e-02,   0.00000000e+00,\n",
        "         0.00000000e+00,   0.00000000e+00,   0.00000000e+00,\n",
        "         4.08163265e-02,   0.00000000e+00,   0.00000000e+00,\n",
        "         4.08163265e-02,   0.00000000e+00,   0.00000000e+00,\n",
        "         4.08163265e-02,   0.00000000e+00,   0.00000000e+00,\n",
        "         0.00000000e+00,   0.00000000e+00,   0.00000000e+00,\n",
        "         0.00000000e+00,   0.00000000e+00,   0.00000000e+00,\n",
        "         2.04081633e-02,   0.00000000e+00,   2.04081633e-02,\n",
        "         0.00000000e+00,   2.04081633e-02,   0.00000000e+00,\n",
        "         4.90000000e+01])"
       ]
      }
     ],
     "prompt_number": 105
    },
    {
     "cell_type": "code",
     "collapsed": false,
     "input": [
      "sim = np.dot(profile[1,:-1], profile[2,:-1])/(np.linalg.norm(profile[1,:-1])*np.linalg.norm(profile[2,:-1]))\n",
      "sim"
     ],
     "language": "python",
     "metadata": {},
     "outputs": [
      {
       "metadata": {},
       "output_type": "pyout",
       "prompt_number": 42,
       "text": [
        "0.17249282605482585"
       ]
      }
     ],
     "prompt_number": 42
    },
    {
     "cell_type": "code",
     "collapsed": false,
     "input": [
      "global sim\n",
      "sim = np.array([[0.0 for j in xrange(N)] for i in xrange(N)])"
     ],
     "language": "python",
     "metadata": {},
     "outputs": [],
     "prompt_number": 139
    },
    {
     "cell_type": "code",
     "collapsed": false,
     "input": [
      "for u in xrange(N):\n",
      "    for v in xrange(u+1):\n",
      "        val = np.dot(profile[u,:-1], profile[v,:-1])/(np.linalg.norm(profile[u,:-1])*np.linalg.norm(profile[v,:-1]))\n",
      "        sim[u,v] = val\n",
      "        sim[v,u] = val"
     ],
     "language": "python",
     "metadata": {},
     "outputs": [],
     "prompt_number": 140
    },
    {
     "cell_type": "code",
     "collapsed": false,
     "input": [
      "sim"
     ],
     "language": "python",
     "metadata": {},
     "outputs": [
      {
       "metadata": {},
       "output_type": "pyout",
       "prompt_number": 141,
       "text": [
        "array([[ 1.        ,  0.24669184,  0.12430299, ...,  0.39753514,\n",
        "         0.37953072,  0.28616254],\n",
        "       [ 0.24669184,  1.        ,  0.17249283, ...,  0.23718936,\n",
        "         0.35985385,  0.2278481 ],\n",
        "       [ 0.12430299,  0.17249283,  1.        , ...,  0.14751444,\n",
        "         0.22053253,  0.14842406],\n",
        "       ..., \n",
        "       [ 0.39753514,  0.23718936,  0.14751444, ...,  1.        ,\n",
        "         0.32723026,  0.22532989],\n",
        "       [ 0.37953072,  0.35985385,  0.22053253, ...,  0.32723026,\n",
        "         1.        ,  0.33868597],\n",
        "       [ 0.28616254,  0.2278481 ,  0.14842406, ...,  0.22532989,\n",
        "         0.33868597,  1.        ]])"
       ]
      }
     ],
     "prompt_number": 141
    },
    {
     "cell_type": "code",
     "collapsed": false,
     "input": [
      "def factor(u,m):\n",
      "    factor = np.dot(sim[u,:], profile[:-1,m])\n",
      "    return factor"
     ],
     "language": "python",
     "metadata": {},
     "outputs": [],
     "prompt_number": 63
    },
    {
     "cell_type": "code",
     "collapsed": false,
     "input": [
      "factors = []\n",
      "for event in new_events:\n",
      "    if event[0]<N and event[1]<M:\n",
      "        factors.append(factor(event[0],event[1]))\n",
      "    else:\n",
      "        factors.append(0)"
     ],
     "language": "python",
     "metadata": {},
     "outputs": [],
     "prompt_number": 145
    },
    {
     "cell_type": "code",
     "collapsed": false,
     "input": [
      "fig = plt.figure()\n",
      "ax = fig.add_subplot(111)\n",
      "ax.hist(factors,20)"
     ],
     "language": "python",
     "metadata": {},
     "outputs": [
      {
       "metadata": {},
       "output_type": "pyout",
       "prompt_number": 65,
       "text": [
        "(array([ 1000.,     0.,  3537.,  3473.,   158.,     0.,     0.,   307.,\n",
        "         1744.,  1358.,   536.,  1684.,  2641.,  1675.,   999.,   986.,\n",
        "          614.,   229.,    51.,     8.]),\n",
        " array([ 0.05073942,  0.17768728,  0.30463515,  0.43158301,  0.55853088,\n",
        "         0.68547874,  0.81242661,  0.93937447,  1.06632234,  1.1932702 ,\n",
        "         1.32021807,  1.44716593,  1.5741138 ,  1.70106166,  1.82800953,\n",
        "         1.95495739,  2.08190526,  2.20885312,  2.33580099,  2.46274885,\n",
        "         2.58969671]),\n",
        " <a list of 20 Patch objects>)"
       ]
      },
      {
       "metadata": {},
       "output_type": "display_data",
       "png": "[encoded data removed]",
       "text": [
        "<matplotlib.figure.Figure at 0x10b15d450>"
       ]
      }
     ],
     "prompt_number": 65
    },
    {
     "cell_type": "code",
     "collapsed": false,
     "input": [
      "fig = plt.figure()\n",
      "ax = fig.add_subplot(111)\n",
      "ax.hist(factors[:1000],20)"
     ],
     "language": "python",
     "metadata": {},
     "outputs": [
      {
       "metadata": {},
       "output_type": "pyout",
       "prompt_number": 50,
       "text": [
        "(array([  28.,   60.,   37.,   38.,   27.,    6.,    1.,   10.,   82.,\n",
        "         168.,  236.,  126.,   96.,   15.,    2.,   19.,   15.,   12.,\n",
        "          15.,    7.]),\n",
        " array([ 0.05073942,  0.05580799,  0.06087657,  0.06594515,  0.07101373,\n",
        "         0.07608231,  0.08115088,  0.08621946,  0.09128804,  0.09635662,\n",
        "         0.1014252 ,  0.10649377,  0.11156235,  0.11663093,  0.12169951,\n",
        "         0.12676809,  0.13183666,  0.13690524,  0.14197382,  0.1470424 ,\n",
        "         0.15211097]),\n",
        " <a list of 20 Patch objects>)"
       ]
      },
      {
       "metadata": {},
       "output_type": "display_data",
       "png": "[encoded data removed]",
       "text": [
        "<matplotlib.figure.Figure at 0x109920590>"
       ]
      }
     ],
     "prompt_number": 50
    },
    {
     "cell_type": "code",
     "collapsed": false,
     "input": [
      "max(factors[:1000])"
     ],
     "language": "python",
     "metadata": {},
     "outputs": [
      {
       "metadata": {},
       "output_type": "pyout",
       "prompt_number": 52,
       "text": [
        "0.15211097492221598"
       ]
      }
     ],
     "prompt_number": 52
    },
    {
     "cell_type": "code",
     "collapsed": false,
     "input": [
      "min(factors[1000:])"
     ],
     "language": "python",
     "metadata": {},
     "outputs": [
      {
       "metadata": {},
       "output_type": "pyout",
       "prompt_number": 53,
       "text": [
        "0.31096615602241751"
       ]
      }
     ],
     "prompt_number": 53
    },
    {
     "cell_type": "code",
     "collapsed": false,
     "input": [
      "import numpy as np\n",
      "import matplotlib.pyplot as plt\n",
      "from scipy.stats import gaussian_kde\n",
      "\n",
      "# Calculate the point density\n",
      "xy = np.vstack([[i for i in xrange(len(new_events))], factors])\n",
      "z = gaussian_kde(xy)(xy)\n",
      "\n",
      "fig, ax = plt.subplots()\n",
      "ax.scatter([i for i in xrange(len(new_events))], factors, c=z, s=20, edgecolor='')\n",
      "plt.xlabel('factor')\n",
      "plt.ylabel('event')"
     ],
     "language": "python",
     "metadata": {},
     "outputs": [
      {
       "metadata": {},
       "output_type": "pyout",
       "prompt_number": 54,
       "text": [
        "<matplotlib.text.Text at 0x10ae696d0>"
       ]
      },
      {
       "metadata": {},
       "output_type": "display_data",
       "png": "[encoded data removed]",
       "text": [
        "<matplotlib.figure.Figure at 0x109375450>"
       ]
      }
     ],
     "prompt_number": 54
    },
    {
     "cell_type": "code",
     "collapsed": false,
     "input": [
      "len(sim[u,:])"
     ],
     "language": "python",
     "metadata": {},
     "outputs": [
      {
       "metadata": {},
       "output_type": "pyout",
       "prompt_number": 60,
       "text": [
        "574"
       ]
      }
     ],
     "prompt_number": 60
    },
    {
     "cell_type": "code",
     "collapsed": false,
     "input": [
      "len(profile[:-1,:-1])"
     ],
     "language": "python",
     "metadata": {},
     "outputs": [
      {
       "metadata": {},
       "output_type": "pyout",
       "prompt_number": 62,
       "text": [
        "574"
       ]
      }
     ],
     "prompt_number": 62
    },
    {
     "cell_type": "heading",
     "level": 2,
     "metadata": {},
     "source": [
      "Incremental Update"
     ]
    },
    {
     "cell_type": "code",
     "collapsed": false,
     "input": [
      "def update(event):\n",
      "    u = event[0]\n",
      "    m = event[1]\n",
      "    T = profile[u,M]+1\n",
      "    f = (T-1)/T\n",
      "    for i in xrange(M):\n",
      "        profile[u,i] = profile[u,i]*f\n",
      "    profile[u,m] += 1/T\n",
      "    profile[u,M] = T\n",
      "    \n",
      "    for v in xrange(N):\n",
      "        val = np.dot(profile[u,:-1], profile[v,:-1])/(np.linalg.norm(profile[u,:-1])*np.linalg.norm(profile[v,:-1]))\n",
      "        sim[u,v] = val\n",
      "        sim[v,u] = val"
     ],
     "language": "python",
     "metadata": {},
     "outputs": [],
     "prompt_number": 135
    },
    {
     "cell_type": "heading",
     "level": 2,
     "metadata": {},
     "source": [
      "Explicit Feedback"
     ]
    },
    {
     "cell_type": "code",
     "collapsed": false,
     "input": [
      "good_access = []\n",
      "bad_access = []"
     ],
     "language": "python",
     "metadata": {},
     "outputs": [],
     "prompt_number": 128
    },
    {
     "cell_type": "code",
     "collapsed": false,
     "input": [
      "def pos_feed(good_access, event):\n",
      "    good_access.append(event)\n",
      "    \n",
      "def neg_feed(bad_access, event):\n",
      "    bad_access.append(event)\n",
      "    u = event[0]\n",
      "    m = event[1]\n",
      "    bad = profile[u,m]*profile[u,M]\n",
      "    T = profile[u,M] - bad\n",
      "    f = (T+bad)/T\n",
      "    for i in xrange(M):\n",
      "        profile[u,i] = profile[u,i]*f\n",
      "    profile[u,m] = 0\n",
      "    profile[u,M] = T\n",
      "    \n",
      "    for v in xrange(N):\n",
      "        val = np.dot(profile[u,:-1], profile[v,:-1])/(np.linalg.norm(profile[u,:-1])*np.linalg.norm(profile[v,:-1]))\n",
      "        sim[u,v] = val\n",
      "        sim[v,u] = val"
     ],
     "language": "python",
     "metadata": {},
     "outputs": [],
     "prompt_number": 134
    },
    {
     "cell_type": "heading",
     "level": 2,
     "metadata": {},
     "source": [
      "Scoring"
     ]
    },
    {
     "cell_type": "code",
     "collapsed": false,
     "input": [
      "def score(event, good_access, bad_access):\n",
      "    if event[0]>=N or event[1]>=M:\n",
      "        return 'new'\n",
      "    if event in good_access:\n",
      "        return 'good'\n",
      "    if event in bad_access:\n",
      "        return 'bad'\n",
      "    else:\n",
      "        u = event[0]\n",
      "        m = event[1]\n",
      "        score = np.dot(sim[u,:], profile[:-1,m])\n",
      "        return score"
     ],
     "language": "python",
     "metadata": {},
     "outputs": [],
     "prompt_number": 122
    },
    {
     "cell_type": "code",
     "collapsed": false,
     "input": [
      "[0,0] in events"
     ],
     "language": "python",
     "metadata": {},
     "outputs": [
      {
       "metadata": {},
       "output_type": "pyout",
       "prompt_number": 110,
       "text": [
        "True"
       ]
      }
     ],
     "prompt_number": 110
    },
    {
     "cell_type": "code",
     "collapsed": false,
     "input": [
      "score([0,1], [[0,2]], [[0,1]])"
     ],
     "language": "python",
     "metadata": {},
     "outputs": [
      {
       "metadata": {},
       "output_type": "pyout",
       "prompt_number": 129,
       "text": [
        "'bad'"
       ]
      }
     ],
     "prompt_number": 129
    },
    {
     "cell_type": "heading",
     "level": 2,
     "metadata": {},
     "source": [
      "Main"
     ]
    },
    {
     "cell_type": "code",
     "collapsed": false,
     "input": [
      "users = []\n",
      "machines = []\n",
      "for event in all_events:\n",
      "    users.append(event[0])\n",
      "    machines.append(event[1])\n",
      "    \n",
      "N = max(users)+1\n",
      "M = max(machines)+1\n",
      "\n",
      "print N,M"
     ],
     "language": "python",
     "metadata": {},
     "outputs": [
      {
       "output_type": "stream",
       "stream": "stdout",
       "text": [
        "574 246\n"
       ]
      }
     ],
     "prompt_number": 131
    },
    {
     "cell_type": "code",
     "collapsed": false,
     "input": [
      "for n in xrange(N):\n",
      "    den = access[n,M]\n",
      "    for m in xrange(M):\n",
      "        profile[n,m] = access[n,m]/den\n",
      "profile[N,:] = access[N,:]\n",
      "profile[:,M] = access[:,M]"
     ],
     "language": "python",
     "metadata": {},
     "outputs": [],
     "prompt_number": 151
    },
    {
     "cell_type": "code",
     "collapsed": false,
     "input": [
      "scores = []\n",
      "i = 0\n",
      "for event in new_events:\n",
      "    i += 1\n",
      "    if i%1000 == 1:\n",
      "        print i\n",
      "    update(event)\n",
      "    scores.append(score(event, good_access, bad_access))"
     ],
     "language": "python",
     "metadata": {},
     "outputs": [
      {
       "output_type": "stream",
       "stream": "stdout",
       "text": [
        "1\n",
        "1001"
       ]
      },
      {
       "output_type": "stream",
       "stream": "stdout",
       "text": [
        "\n",
        "2001"
       ]
      },
      {
       "output_type": "stream",
       "stream": "stdout",
       "text": [
        "\n",
        "3001"
       ]
      },
      {
       "output_type": "stream",
       "stream": "stdout",
       "text": [
        "\n",
        "4001"
       ]
      },
      {
       "output_type": "stream",
       "stream": "stdout",
       "text": [
        "\n",
        "5001"
       ]
      },
      {
       "output_type": "stream",
       "stream": "stdout",
       "text": [
        "\n",
        "6001"
       ]
      },
      {
       "output_type": "stream",
       "stream": "stdout",
       "text": [
        "\n",
        "7001"
       ]
      },
      {
       "output_type": "stream",
       "stream": "stdout",
       "text": [
        "\n",
        "8001"
       ]
      },
      {
       "output_type": "stream",
       "stream": "stdout",
       "text": [
        "\n",
        "9001"
       ]
      },
      {
       "output_type": "stream",
       "stream": "stdout",
       "text": [
        "\n",
        "10001"
       ]
      },
      {
       "output_type": "stream",
       "stream": "stdout",
       "text": [
        "\n",
        "11001"
       ]
      },
      {
       "output_type": "stream",
       "stream": "stdout",
       "text": [
        "\n",
        "12001"
       ]
      },
      {
       "output_type": "stream",
       "stream": "stdout",
       "text": [
        "\n",
        "13001"
       ]
      },
      {
       "output_type": "stream",
       "stream": "stdout",
       "text": [
        "\n",
        "14001"
       ]
      },
      {
       "output_type": "stream",
       "stream": "stdout",
       "text": [
        "\n",
        "15001"
       ]
      },
      {
       "output_type": "stream",
       "stream": "stdout",
       "text": [
        "\n",
        "16001"
       ]
      },
      {
       "output_type": "stream",
       "stream": "stdout",
       "text": [
        "\n",
        "17001"
       ]
      },
      {
       "output_type": "stream",
       "stream": "stdout",
       "text": [
        "\n",
        "18001"
       ]
      },
      {
       "output_type": "stream",
       "stream": "stdout",
       "text": [
        "\n",
        "19001"
       ]
      },
      {
       "output_type": "stream",
       "stream": "stdout",
       "text": [
        "\n",
        "20001"
       ]
      },
      {
       "output_type": "stream",
       "stream": "stdout",
       "text": [
        "\n"
       ]
      }
     ],
     "prompt_number": 146
    },
    {
     "cell_type": "code",
     "collapsed": false,
     "input": [
      "fig = plt.figure()\n",
      "ax = fig.add_subplot(111)\n",
      "ax.hist(scores,20)"
     ],
     "language": "python",
     "metadata": {},
     "outputs": [
      {
       "metadata": {},
       "output_type": "pyout",
       "prompt_number": 147,
       "text": [
        "(array([  511.,  3729.,  2567.,  1427.,     9.,     6.,   105.,  1750.,\n",
        "         1578.,   258.,  1315.,  2793.,  1636.,  1051.,  1026.,   827.,\n",
        "          284.,   102.,    19.,     7.]),\n",
        " array([ 0.164204  ,  0.2933611 ,  0.42251821,  0.55167531,  0.68083242,\n",
        "         0.80998952,  0.93914663,  1.06830374,  1.19746084,  1.32661795,\n",
        "         1.45577505,  1.58493216,  1.71408926,  1.84324637,  1.97240347,\n",
        "         2.10156058,  2.23071768,  2.35987479,  2.4890319 ,  2.618189  ,\n",
        "         2.74734611]),\n",
        " <a list of 20 Patch objects>)"
       ]
      },
      {
       "metadata": {},
       "output_type": "display_data",
       "png": "[encoded data removed]",
       "text": [
        "<matplotlib.figure.Figure at 0x10c31db90>"
       ]
      }
     ],
     "prompt_number": 147
    },
    {
     "cell_type": "code",
     "collapsed": false,
     "input": [
      "max(scores[:1000])"
     ],
     "language": "python",
     "metadata": {},
     "outputs": [
      {
       "metadata": {},
       "output_type": "pyout",
       "prompt_number": 148,
       "text": [
        "0.46193537967348197"
       ]
      }
     ],
     "prompt_number": 148
    },
    {
     "cell_type": "code",
     "collapsed": false,
     "input": [
      "min(scores[1000:])"
     ],
     "language": "python",
     "metadata": {},
     "outputs": [
      {
       "metadata": {},
       "output_type": "pyout",
       "prompt_number": 149,
       "text": [
        "0.31241452535958775"
       ]
      }
     ],
     "prompt_number": 149
    },
    {
     "cell_type": "code",
     "collapsed": false,
     "input": [
      "import numpy as np\n",
      "import matplotlib.pyplot as plt\n",
      "from scipy.stats import gaussian_kde\n",
      "\n",
      "# Calculate the point density\n",
      "xy = np.vstack([[i for i in xrange(len(scores))], scores])\n",
      "z = gaussian_kde(xy)(xy)\n",
      "\n",
      "fig, ax = plt.subplots()\n",
      "ax.scatter([i for i in xrange(len(scores))], scores, c=z, s=20, edgecolor='')\n",
      "plt.xlabel('factor')\n",
      "plt.ylabel('event')"
     ],
     "language": "python",
     "metadata": {},
     "outputs": [
      {
       "metadata": {},
       "output_type": "pyout",
       "prompt_number": 150,
       "text": [
        "<matplotlib.text.Text at 0x10c5ad6d0>"
       ]
      },
      {
       "metadata": {},
       "output_type": "display_data",
       "png": "[encoded data removed]",
       "text": [
        "<matplotlib.figure.Figure at 0x10c586210>"
       ]
      }
     ],
     "prompt_number": 150
    },
    {
     "cell_type": "heading",
     "level": 3,
     "metadata": {},
     "source": [
      "Using explicit feedback"
     ]
    },
    {
     "cell_type": "code",
     "collapsed": false,
     "input": [
      "for n in xrange(N):\n",
      "    den = access[n,M]\n",
      "    for m in xrange(M):\n",
      "        profile[n,m] = access[n,m]/den\n",
      "profile[N,:] = access[N,:]\n",
      "profile[:,M] = access[:,M]"
     ],
     "language": "python",
     "metadata": {},
     "outputs": [],
     "prompt_number": 152
    },
    {
     "cell_type": "code",
     "collapsed": false,
     "input": [
      "profile"
     ],
     "language": "python",
     "metadata": {},
     "outputs": [
      {
       "metadata": {},
       "output_type": "pyout",
       "prompt_number": 154,
       "text": [
        "array([[  1.51515152e-02,   0.00000000e+00,   0.00000000e+00, ...,\n",
        "          0.00000000e+00,   4.54545455e-02,   6.60000000e+01],\n",
        "       [  0.00000000e+00,   2.04081633e-02,   0.00000000e+00, ...,\n",
        "          2.04081633e-02,   0.00000000e+00,   4.90000000e+01],\n",
        "       [  1.76211454e-02,   1.54185022e-02,   1.98237885e-02, ...,\n",
        "          0.00000000e+00,   0.00000000e+00,   9.08000000e+02],\n",
        "       ..., \n",
        "       [  0.00000000e+00,   4.76190476e-02,   0.00000000e+00, ...,\n",
        "          0.00000000e+00,   0.00000000e+00,   6.30000000e+01],\n",
        "       [  0.00000000e+00,   0.00000000e+00,   0.00000000e+00, ...,\n",
        "          0.00000000e+00,   2.04081633e-02,   4.90000000e+01],\n",
        "       [  1.38000000e+03,   1.36800000e+03,   3.62000000e+02, ...,\n",
        "          2.32000000e+02,   2.70000000e+02,   1.00000000e+05]])"
       ]
      }
     ],
     "prompt_number": 154
    },
    {
     "cell_type": "code",
     "collapsed": false,
     "input": [
      "for u in xrange(N):\n",
      "    for v in xrange(u+1):\n",
      "        val = np.dot(profile[u,:-1], profile[v,:-1])/(np.linalg.norm(profile[u,:-1])*np.linalg.norm(profile[v,:-1]))\n",
      "        sim[u,v] = val\n",
      "        sim[v,u] = val"
     ],
     "language": "python",
     "metadata": {},
     "outputs": [],
     "prompt_number": 153
    },
    {
     "cell_type": "code",
     "collapsed": false,
     "input": [
      "sim"
     ],
     "language": "python",
     "metadata": {},
     "outputs": [
      {
       "metadata": {},
       "output_type": "pyout",
       "prompt_number": 155,
       "text": [
        "array([[ 1.        ,  0.24669184,  0.12430299, ...,  0.39753514,\n",
        "         0.37953072,  0.28616254],\n",
        "       [ 0.24669184,  1.        ,  0.17249283, ...,  0.23718936,\n",
        "         0.35985385,  0.2278481 ],\n",
        "       [ 0.12430299,  0.17249283,  1.        , ...,  0.14751444,\n",
        "         0.22053253,  0.14842406],\n",
        "       ..., \n",
        "       [ 0.39753514,  0.23718936,  0.14751444, ...,  1.        ,\n",
        "         0.32723026,  0.22532989],\n",
        "       [ 0.37953072,  0.35985385,  0.22053253, ...,  0.32723026,\n",
        "         1.        ,  0.33868597],\n",
        "       [ 0.28616254,  0.2278481 ,  0.14842406, ...,  0.22532989,\n",
        "         0.33868597,  1.        ]])"
       ]
      }
     ],
     "prompt_number": 155
    },
    {
     "cell_type": "code",
     "collapsed": false,
     "input": [
      "scores = []\n",
      "i = 0\n",
      "for event in new_events[:500]:\n",
      "    i += 1\n",
      "    if i%1000 == 1:\n",
      "        print i\n",
      "    update(event)\n",
      "    scores.append(score(event, good_access, bad_access))"
     ],
     "language": "python",
     "metadata": {},
     "outputs": [
      {
       "output_type": "stream",
       "stream": "stdout",
       "text": [
        "1\n"
       ]
      }
     ],
     "prompt_number": 170
    },
    {
     "cell_type": "code",
     "collapsed": false,
     "input": [
      "bad_access = []\n",
      "for event in new_events[:500]:\n",
      "    bad_access.append(event)"
     ],
     "language": "python",
     "metadata": {},
     "outputs": [],
     "prompt_number": 171
    },
    {
     "cell_type": "code",
     "collapsed": false,
     "input": [
      "i = 500\n",
      "for event in new_events[500:]:\n",
      "    i += 1\n",
      "    if i%1000 == 1:\n",
      "        print i\n",
      "    update(event)\n",
      "    scores.append(score(event, good_access, bad_access))"
     ],
     "language": "python",
     "metadata": {},
     "outputs": [
      {
       "output_type": "stream",
       "stream": "stdout",
       "text": [
        "1001\n",
        "2001"
       ]
      },
      {
       "output_type": "stream",
       "stream": "stdout",
       "text": [
        "\n",
        "3001"
       ]
      },
      {
       "output_type": "stream",
       "stream": "stdout",
       "text": [
        "\n",
        "4001"
       ]
      },
      {
       "output_type": "stream",
       "stream": "stdout",
       "text": [
        "\n",
        "5001"
       ]
      },
      {
       "output_type": "stream",
       "stream": "stdout",
       "text": [
        "\n",
        "6001"
       ]
      },
      {
       "output_type": "stream",
       "stream": "stdout",
       "text": [
        "\n",
        "7001"
       ]
      },
      {
       "output_type": "stream",
       "stream": "stdout",
       "text": [
        "\n",
        "8001"
       ]
      },
      {
       "output_type": "stream",
       "stream": "stdout",
       "text": [
        "\n",
        "9001"
       ]
      },
      {
       "output_type": "stream",
       "stream": "stdout",
       "text": [
        "\n",
        "10001"
       ]
      },
      {
       "output_type": "stream",
       "stream": "stdout",
       "text": [
        "\n",
        "11001"
       ]
      },
      {
       "output_type": "stream",
       "stream": "stdout",
       "text": [
        "\n",
        "12001"
       ]
      },
      {
       "output_type": "stream",
       "stream": "stdout",
       "text": [
        "\n",
        "13001"
       ]
      },
      {
       "output_type": "stream",
       "stream": "stdout",
       "text": [
        "\n",
        "14001"
       ]
      },
      {
       "output_type": "stream",
       "stream": "stdout",
       "text": [
        "\n",
        "15001"
       ]
      },
      {
       "output_type": "stream",
       "stream": "stdout",
       "text": [
        "\n",
        "16001"
       ]
      },
      {
       "output_type": "stream",
       "stream": "stdout",
       "text": [
        "\n",
        "17001"
       ]
      },
      {
       "output_type": "stream",
       "stream": "stdout",
       "text": [
        "\n",
        "18001"
       ]
      },
      {
       "output_type": "stream",
       "stream": "stdout",
       "text": [
        "\n",
        "19001"
       ]
      },
      {
       "output_type": "stream",
       "stream": "stdout",
       "text": [
        "\n",
        "20001"
       ]
      },
      {
       "output_type": "stream",
       "stream": "stdout",
       "text": [
        "\n"
       ]
      }
     ],
     "prompt_number": 173
    },
    {
     "cell_type": "code",
     "collapsed": false,
     "input": [
      "for i in xrange(len(scores)):\n",
      "    if scores[i]=='bad':\n",
      "        scores[i]=0"
     ],
     "language": "python",
     "metadata": {},
     "outputs": [],
     "prompt_number": 175
    },
    {
     "cell_type": "code",
     "collapsed": false,
     "input": [
      "import numpy as np\n",
      "import matplotlib.pyplot as plt\n",
      "from scipy.stats import gaussian_kde\n",
      "\n",
      "# Calculate the point density\n",
      "xy = np.vstack([[i for i in xrange(len(scores))], scores])\n",
      "z = gaussian_kde(xy)(xy)\n",
      "\n",
      "fig, ax = plt.subplots()\n",
      "ax.scatter([i for i in xrange(len(scores))], scores, c=z, s=20, edgecolor='')\n",
      "plt.xlabel('factor')\n",
      "plt.ylabel('event')"
     ],
     "language": "python",
     "metadata": {},
     "outputs": [
      {
       "metadata": {},
       "output_type": "pyout",
       "prompt_number": 176,
       "text": [
        "<matplotlib.text.Text at 0x10ff22f50>"
       ]
      },
      {
       "metadata": {},
       "output_type": "display_data",
       "png": "[encoded data removed]",
       "text": [
        "<matplotlib.figure.Figure at 0x10fefd810>"
       ]
      }
     ],
     "prompt_number": 176
    },
    {
     "cell_type": "code",
     "collapsed": false,
     "input": [
      "fig = plt.figure()\n",
      "ax = fig.add_subplot(111)\n",
      "ax.hist(scores,20)"
     ],
     "language": "python",
     "metadata": {},
     "outputs": [
      {
       "metadata": {},
       "output_type": "pyout",
       "prompt_number": 177,
       "text": [
        "(array([  811.,    88.,  3235.,  2733.,  1362.,     5.,    11.,   757.,\n",
        "         2179.,   677.,   776.,  2693.,  2242.,  1079.,   998.,   902.,\n",
        "          321.,   103.,    20.,     8.]),\n",
        " array([ 0.        ,  0.13903134,  0.27806267,  0.41709401,  0.55612535,\n",
        "         0.69515668,  0.83418802,  0.97321935,  1.11225069,  1.25128203,\n",
        "         1.39031336,  1.5293447 ,  1.66837604,  1.80740737,  1.94643871,\n",
        "         2.08547005,  2.22450138,  2.36353272,  2.50256405,  2.64159539,\n",
        "         2.78062673]),\n",
        " <a list of 20 Patch objects>)"
       ]
      },
      {
       "metadata": {},
       "output_type": "display_data",
       "png": "[encoded data removed]",
       "text": [
        "<matplotlib.figure.Figure at 0x10ff29c90>"
       ]
      }
     ],
     "prompt_number": 177
    },
    {
     "cell_type": "code",
     "collapsed": false,
     "input": [
      "max(scores[:1000])"
     ],
     "language": "python",
     "metadata": {},
     "outputs": [
      {
       "metadata": {},
       "output_type": "pyout",
       "prompt_number": 178,
       "text": [
        "0.43903494118384889"
       ]
      }
     ],
     "prompt_number": 178
    },
    {
     "cell_type": "code",
     "collapsed": false,
     "input": [
      "min(scores[1000:])"
     ],
     "language": "python",
     "metadata": {},
     "outputs": [
      {
       "metadata": {},
       "output_type": "pyout",
       "prompt_number": 180,
       "text": [
        "0.31208359414594322"
       ]
      }
     ],
     "prompt_number": 180
    },
    {
     "cell_type": "code",
     "collapsed": false,
     "input": [],
     "language": "python",
     "metadata": {},
     "outputs": []
    }
   ],
   "metadata": {}
  }
 ]
}