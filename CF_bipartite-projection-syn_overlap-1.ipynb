{
 "metadata": {
  "name": "",
  "signature": "sha256:e65383b0312a6a9f207cc601dbbd09a98f799c8939145aaf41e2fed283fbb2a4"
 },
 "nbformat": 3,
 "nbformat_minor": 0,
 "worksheets": [
  {
   "cells": [
    {
     "cell_type": "code",
     "collapsed": false,
     "input": [
      "import numpy as np\n",
      "import matplotlib.pyplot as plt\n",
      "%matplotlib inline"
     ],
     "language": "python",
     "metadata": {},
     "outputs": [],
     "prompt_number": 5
    },
    {
     "cell_type": "heading",
     "level": 2,
     "metadata": {},
     "source": [
      "Input"
     ]
    },
    {
     "cell_type": "code",
     "collapsed": false,
     "input": [
      "#events = [[0,0],[0,0],[0,1],[0,1],[1,0],[1,0],[1,1],[1,1],[0,2]]\n",
      "#users = [0,1]\n",
      "#machines = [0,1,2,3]"
     ],
     "language": "python",
     "metadata": {},
     "outputs": [],
     "prompt_number": 6
    },
    {
     "cell_type": "code",
     "collapsed": false,
     "input": [
      "f = open('synthetic.overlap.output-1.txt')\n",
      "\n",
      "all_events = []\n",
      "\n",
      "for line in f:\n",
      "    #print line\n",
      "    contents = line.split()\n",
      "    #print contents\n",
      "    all_events.append([int(contents[0])-1,int(contents[1])-1])\n",
      "\n",
      "f.close()"
     ],
     "language": "python",
     "metadata": {},
     "outputs": [],
     "prompt_number": 7
    },
    {
     "cell_type": "code",
     "collapsed": false,
     "input": [
      "new_events = all_events[100000:]\n",
      "events = all_events[:100000]"
     ],
     "language": "python",
     "metadata": {},
     "outputs": [],
     "prompt_number": 8
    },
    {
     "cell_type": "code",
     "collapsed": false,
     "input": [
      "len(events)"
     ],
     "language": "python",
     "metadata": {},
     "outputs": [
      {
       "metadata": {},
       "output_type": "pyout",
       "prompt_number": 9,
       "text": [
        "100000"
       ]
      }
     ],
     "prompt_number": 9
    },
    {
     "cell_type": "code",
     "collapsed": false,
     "input": [
      "len(new_events)"
     ],
     "language": "python",
     "metadata": {},
     "outputs": [
      {
       "metadata": {},
       "output_type": "pyout",
       "prompt_number": 10,
       "text": [
        "21000"
       ]
      }
     ],
     "prompt_number": 10
    },
    {
     "cell_type": "code",
     "collapsed": false,
     "input": [
      "users = []\n",
      "machines = []\n",
      "for event in events:\n",
      "    users.append(event[0])\n",
      "    machines.append(event[1])"
     ],
     "language": "python",
     "metadata": {},
     "outputs": [],
     "prompt_number": 11
    },
    {
     "cell_type": "heading",
     "level": 2,
     "metadata": {},
     "source": [
      "Build the '# accesses' matrix"
     ]
    },
    {
     "cell_type": "code",
     "collapsed": false,
     "input": [
      "N = max(users)+1\n",
      "M = max(machines)+1\n",
      "access = np.matrix([[0.0 for j in xrange(M+1)] for i in xrange(N+1)])\n",
      "\n",
      "print N, M"
     ],
     "language": "python",
     "metadata": {},
     "outputs": [
      {
       "output_type": "stream",
       "stream": "stdout",
       "text": [
        "574 246\n"
       ]
      }
     ],
     "prompt_number": 12
    },
    {
     "cell_type": "code",
     "collapsed": false,
     "input": [
      "for event in events:\n",
      "    access[event[0],event[1]] += 1"
     ],
     "language": "python",
     "metadata": {},
     "outputs": [],
     "prompt_number": 13
    },
    {
     "cell_type": "code",
     "collapsed": false,
     "input": [
      "access"
     ],
     "language": "python",
     "metadata": {},
     "outputs": [
      {
       "metadata": {},
       "output_type": "pyout",
       "prompt_number": 14,
       "text": [
        "matrix([[  1.,   0.,   0., ...,   0.,   3.,   0.],\n",
        "        [  0.,   1.,   0., ...,   1.,   0.,   0.],\n",
        "        [ 16.,  14.,  18., ...,   0.,   0.,   0.],\n",
        "        ..., \n",
        "        [  0.,   3.,   0., ...,   0.,   0.,   0.],\n",
        "        [  0.,   0.,   0., ...,   0.,   1.,   0.],\n",
        "        [  0.,   0.,   0., ...,   0.,   0.,   0.]])"
       ]
      }
     ],
     "prompt_number": 14
    },
    {
     "cell_type": "code",
     "collapsed": false,
     "input": [
      "for i in xrange(N+1):\n",
      "    temp = np.sum(access[i,:-1])\n",
      "    access[i,M] = temp\n",
      "\n",
      "for j in xrange(M+1):\n",
      "    access[N,j] = np.sum(access[:-1,j])"
     ],
     "language": "python",
     "metadata": {},
     "outputs": [],
     "prompt_number": 15
    },
    {
     "cell_type": "code",
     "collapsed": false,
     "input": [
      "access"
     ],
     "language": "python",
     "metadata": {},
     "outputs": [
      {
       "metadata": {},
       "output_type": "pyout",
       "prompt_number": 16,
       "text": [
        "matrix([[  1.00000000e+00,   0.00000000e+00,   0.00000000e+00, ...,\n",
        "           0.00000000e+00,   3.00000000e+00,   6.60000000e+01],\n",
        "        [  0.00000000e+00,   1.00000000e+00,   0.00000000e+00, ...,\n",
        "           1.00000000e+00,   0.00000000e+00,   4.90000000e+01],\n",
        "        [  1.60000000e+01,   1.40000000e+01,   1.80000000e+01, ...,\n",
        "           0.00000000e+00,   0.00000000e+00,   9.08000000e+02],\n",
        "        ..., \n",
        "        [  0.00000000e+00,   3.00000000e+00,   0.00000000e+00, ...,\n",
        "           0.00000000e+00,   0.00000000e+00,   6.30000000e+01],\n",
        "        [  0.00000000e+00,   0.00000000e+00,   0.00000000e+00, ...,\n",
        "           0.00000000e+00,   1.00000000e+00,   4.90000000e+01],\n",
        "        [  1.38000000e+03,   1.36800000e+03,   3.62000000e+02, ...,\n",
        "           2.32000000e+02,   2.70000000e+02,   1.00000000e+05]])"
       ]
      }
     ],
     "prompt_number": 16
    },
    {
     "cell_type": "code",
     "collapsed": false,
     "input": [
      "for u in xrange(N):\n",
      "    if access[u,M] == 0:\n",
      "        access[u,M] = -1\n",
      "        \n",
      "for m in xrange(M):\n",
      "    if access[N,m] == 0:\n",
      "        access[N,m] = -1"
     ],
     "language": "python",
     "metadata": {},
     "outputs": [],
     "prompt_number": 17
    },
    {
     "cell_type": "heading",
     "level": 2,
     "metadata": {},
     "source": [
      "Compute the RP for all user pairs"
     ]
    },
    {
     "cell_type": "code",
     "collapsed": false,
     "input": [
      "RP = np.matrix([[0.0 for j in xrange(N)] for i in xrange(N)])"
     ],
     "language": "python",
     "metadata": {},
     "outputs": [],
     "prompt_number": 18
    },
    {
     "cell_type": "code",
     "collapsed": false,
     "input": [
      "for u in xrange(N):\n",
      "    for v in xrange(N):\n",
      "        for m in xrange(M):\n",
      "            RP[u,v] += (access[u,m]/access[u,M])*(access[v,m]/access[N,m])"
     ],
     "language": "python",
     "metadata": {},
     "outputs": [],
     "prompt_number": 19
    },
    {
     "cell_type": "code",
     "collapsed": false,
     "input": [
      "RP"
     ],
     "language": "python",
     "metadata": {},
     "outputs": [
      {
       "metadata": {},
       "output_type": "pyout",
       "prompt_number": 20,
       "text": [
        "matrix([[ 0.00680111,  0.00125832,  0.00181837, ...,  0.00211369,\n",
        "          0.00214308,  0.00135679],\n",
        "        [ 0.00169489,  0.00468921,  0.00256393, ...,  0.00124103,\n",
        "          0.00136924,  0.00101083],\n",
        "        [ 0.00013217,  0.00013836,  0.03043821, ...,  0.00012958,\n",
        "          0.00021402,  0.0001225 ],\n",
        "        ..., \n",
        "        [ 0.0025834 ,  0.00112612,  0.00217887, ...,  0.00511994,\n",
        "          0.00146038,  0.00103707],\n",
        "        [ 0.00224513,  0.00106496,  0.00308457, ...,  0.00125176,\n",
        "          0.00488405,  0.00142105],\n",
        "        [ 0.00182751,  0.00101083,  0.00226997, ...,  0.0011429 ,\n",
        "          0.00182706,  0.00483642]])"
       ]
      }
     ],
     "prompt_number": 20
    },
    {
     "cell_type": "heading",
     "level": 2,
     "metadata": {},
     "source": [
      "Compute the factors"
     ]
    },
    {
     "cell_type": "code",
     "collapsed": false,
     "input": [
      "def factor(u,m):\n",
      "    factor = 0\n",
      "    for v in xrange(N):\n",
      "        factor += RP[u,v]*access[v,m]/access[v,M]\n",
      "    return factor"
     ],
     "language": "python",
     "metadata": {},
     "outputs": [],
     "prompt_number": 21
    },
    {
     "cell_type": "code",
     "collapsed": false,
     "input": [
      "factor(0,2)"
     ],
     "language": "python",
     "metadata": {},
     "outputs": [
      {
       "metadata": {},
       "output_type": "pyout",
       "prompt_number": 22,
       "text": [
        "0.00068811437320900285"
       ]
      }
     ],
     "prompt_number": 22
    },
    {
     "cell_type": "heading",
     "level": 2,
     "metadata": {},
     "source": [
      "Validation"
     ]
    },
    {
     "cell_type": "code",
     "collapsed": false,
     "input": [
      "#new_events = events[-100:]\n",
      "#print new_events"
     ],
     "language": "python",
     "metadata": {},
     "outputs": [],
     "prompt_number": 23
    },
    {
     "cell_type": "code",
     "collapsed": false,
     "input": [
      "#new_events = [[0,0],[0,1],[0,2],[1,0],[1,1],[1,2]]"
     ],
     "language": "python",
     "metadata": {},
     "outputs": [],
     "prompt_number": 24
    },
    {
     "cell_type": "code",
     "collapsed": false,
     "input": [
      "factors = []\n",
      "for event in new_events:\n",
      "    if event[0]<N and event[1]<M:\n",
      "        factors.append(factor(event[0],event[1]))\n",
      "    else:\n",
      "        factors.append(0)"
     ],
     "language": "python",
     "metadata": {},
     "outputs": [],
     "prompt_number": 25
    },
    {
     "cell_type": "code",
     "collapsed": false,
     "input": [
      "f_out = open('syn_overlap-1_factors.txt','w')\n",
      "f_out.write(str(factors))\n",
      "f_out.close()"
     ],
     "language": "python",
     "metadata": {},
     "outputs": [],
     "prompt_number": 22
    },
    {
     "cell_type": "code",
     "collapsed": false,
     "input": [
      "f_out = open('syn_overlap-1_RP.txt','w')\n",
      "for row in RP:\n",
      "    f_out.write(str(row))\n",
      "f_out.close()"
     ],
     "language": "python",
     "metadata": {},
     "outputs": [],
     "prompt_number": 23
    },
    {
     "cell_type": "code",
     "collapsed": false,
     "input": [
      "import numpy as np\n",
      "import matplotlib.pyplot as plt\n",
      "from scipy.stats import gaussian_kde\n",
      "\n",
      "# Generate fake data\n",
      "#x = np.random.normal(size=1000)\n",
      "#y = x * 3 + np.random.normal(size=1000)\n",
      "\n",
      "# Calculate the point density\n",
      "xy = np.vstack([[i for i in xrange(len(new_events))], factors])\n",
      "#itemindex = numpy.where(np.isfinite(xy)==False)\n",
      "#inf in (xy)\n",
      "z = gaussian_kde(xy)(xy)\n",
      "\n",
      "fig, ax = plt.subplots()\n",
      "ax.scatter([i for i in xrange(len(new_events))], factors, c=z, s=20, edgecolor='')\n",
      "xlabel('factor')\n",
      "ylabel('event')"
     ],
     "language": "python",
     "metadata": {},
     "outputs": [
      {
       "ename": "NameError",
       "evalue": "name 'xlabel' is not defined",
       "output_type": "pyerr",
       "traceback": [
        "\u001b[0;31m---------------------------------------------------------------------------\u001b[0m\n\u001b[0;31mNameError\u001b[0m                                 Traceback (most recent call last)",
        "\u001b[0;32m<ipython-input-24-d25d2ed66d4e>\u001b[0m in \u001b[0;36m<module>\u001b[0;34m()\u001b[0m\n\u001b[1;32m     15\u001b[0m \u001b[0mfig\u001b[0m\u001b[0;34m,\u001b[0m \u001b[0max\u001b[0m \u001b[0;34m=\u001b[0m \u001b[0mplt\u001b[0m\u001b[0;34m.\u001b[0m\u001b[0msubplots\u001b[0m\u001b[0;34m(\u001b[0m\u001b[0;34m)\u001b[0m\u001b[0;34m\u001b[0m\u001b[0m\n\u001b[1;32m     16\u001b[0m \u001b[0max\u001b[0m\u001b[0;34m.\u001b[0m\u001b[0mscatter\u001b[0m\u001b[0;34m(\u001b[0m\u001b[0;34m[\u001b[0m\u001b[0mi\u001b[0m \u001b[0;32mfor\u001b[0m \u001b[0mi\u001b[0m \u001b[0;32min\u001b[0m \u001b[0mxrange\u001b[0m\u001b[0;34m(\u001b[0m\u001b[0mlen\u001b[0m\u001b[0;34m(\u001b[0m\u001b[0mnew_events\u001b[0m\u001b[0;34m)\u001b[0m\u001b[0;34m)\u001b[0m\u001b[0;34m]\u001b[0m\u001b[0;34m,\u001b[0m \u001b[0mfactors\u001b[0m\u001b[0;34m,\u001b[0m \u001b[0mc\u001b[0m\u001b[0;34m=\u001b[0m\u001b[0mz\u001b[0m\u001b[0;34m,\u001b[0m \u001b[0ms\u001b[0m\u001b[0;34m=\u001b[0m\u001b[0;36m20\u001b[0m\u001b[0;34m,\u001b[0m \u001b[0medgecolor\u001b[0m\u001b[0;34m=\u001b[0m\u001b[0;34m''\u001b[0m\u001b[0;34m)\u001b[0m\u001b[0;34m\u001b[0m\u001b[0m\n\u001b[0;32m---> 17\u001b[0;31m \u001b[0mxlabel\u001b[0m\u001b[0;34m(\u001b[0m\u001b[0;34m'factor'\u001b[0m\u001b[0;34m)\u001b[0m\u001b[0;34m\u001b[0m\u001b[0m\n\u001b[0m\u001b[1;32m     18\u001b[0m \u001b[0mylabel\u001b[0m\u001b[0;34m(\u001b[0m\u001b[0;34m'event'\u001b[0m\u001b[0;34m)\u001b[0m\u001b[0;34m\u001b[0m\u001b[0m\n",
        "\u001b[0;31mNameError\u001b[0m: name 'xlabel' is not defined"
       ]
      },
      {
       "metadata": {},
       "output_type": "display_data",
       "png": "[encoded data removed]",
       "text": [
        "<matplotlib.figure.Figure at 0x1084a76d0>"
       ]
      }
     ],
     "prompt_number": 24
    },
    {
     "cell_type": "code",
     "collapsed": false,
     "input": [
      "fig = plt.figure()\n",
      "ax = fig.add_subplot(111)\n",
      "ax.hist(factors,20)"
     ],
     "language": "python",
     "metadata": {},
     "outputs": [
      {
       "metadata": {},
       "output_type": "pyout",
       "prompt_number": 25,
       "text": [
        "(array([  9.88000000e+02,   1.20000000e+01,   0.00000000e+00,\n",
        "          0.00000000e+00,   0.00000000e+00,   0.00000000e+00,\n",
        "          0.00000000e+00,   4.00000000e+00,   1.60000000e+02,\n",
        "          7.86000000e+02,   1.54600000e+03,   1.19500000e+03,\n",
        "          1.49200000e+03,   4.43400000e+03,   4.63700000e+03,\n",
        "          1.29500000e+03,   8.71000000e+02,   1.47900000e+03,\n",
        "          1.79500000e+03,   3.06000000e+02]),\n",
        " array([ 0.00048995,  0.00125691,  0.00202388,  0.00279085,  0.00355782,\n",
        "         0.00432479,  0.00509175,  0.00585872,  0.00662569,  0.00739266,\n",
        "         0.00815962,  0.00892659,  0.00969356,  0.01046053,  0.0112275 ,\n",
        "         0.01199446,  0.01276143,  0.0135284 ,  0.01429537,  0.01506233,\n",
        "         0.0158293 ]),\n",
        " <a list of 20 Patch objects>)"
       ]
      },
      {
       "metadata": {},
       "output_type": "display_data",
       "png": "[encoded data removed]",
       "text": [
        "<matplotlib.figure.Figure at 0x10a9c5090>"
       ]
      }
     ],
     "prompt_number": 25
    },
    {
     "cell_type": "code",
     "collapsed": false,
     "input": [
      "fig = plt.figure()\n",
      "ax = fig.add_subplot(111)\n",
      "ax.hist(factors[:1000],20)"
     ],
     "language": "python",
     "metadata": {},
     "outputs": [
      {
       "metadata": {},
       "output_type": "pyout",
       "prompt_number": 26,
       "text": [
        "(array([  45.,   69.,   15.,    6.,   10.,   10.,   21.,   18.,    3.,\n",
        "          19.,   43.,   84.,   96.,  158.,  140.,  107.,   96.,   36.,\n",
        "          17.,    7.]),\n",
        " array([ 0.00048995,  0.00053142,  0.00057289,  0.00061436,  0.00065584,\n",
        "         0.00069731,  0.00073878,  0.00078025,  0.00082172,  0.0008632 ,\n",
        "         0.00090467,  0.00094614,  0.00098761,  0.00102909,  0.00107056,\n",
        "         0.00111203,  0.0011535 ,  0.00119497,  0.00123645,  0.00127792,\n",
        "         0.00131939]),\n",
        " <a list of 20 Patch objects>)"
       ]
      },
      {
       "metadata": {},
       "output_type": "display_data",
       "png": "[encoded data removed]",
       "text": [
        "<matplotlib.figure.Figure at 0x10a86e250>"
       ]
      }
     ],
     "prompt_number": 26
    },
    {
     "cell_type": "code",
     "collapsed": false,
     "input": [
      "fig = plt.figure()\n",
      "ax = fig.add_subplot(111)\n",
      "ax.hist(factors[1000:],20)"
     ],
     "language": "python",
     "metadata": {},
     "outputs": [
      {
       "metadata": {},
       "output_type": "pyout",
       "prompt_number": 27,
       "text": [
        "(array([    7.,    79.,   279.,   585.,   933.,   984.,   710.,   600.,\n",
        "         1429.,  2669.,  3318.,  2661.,  1082.,   264.,   690.,   605.,\n",
        "         1264.,  1468.,   294.,    79.]),\n",
        " array([ 0.00624161,  0.00672099,  0.00720038,  0.00767976,  0.00815915,\n",
        "         0.00863853,  0.00911792,  0.0095973 ,  0.01007669,  0.01055607,\n",
        "         0.01103546,  0.01151484,  0.01199422,  0.01247361,  0.01295299,\n",
        "         0.01343238,  0.01391176,  0.01439115,  0.01487053,  0.01534992,\n",
        "         0.0158293 ]),\n",
        " <a list of 20 Patch objects>)"
       ]
      },
      {
       "metadata": {},
       "output_type": "display_data",
       "png": "[encoded data removed]",
       "text": [
        "<matplotlib.figure.Figure at 0x10cfae490>"
       ]
      }
     ],
     "prompt_number": 27
    },
    {
     "cell_type": "code",
     "collapsed": false,
     "input": [
      "np.sum(RP[1,:])"
     ],
     "language": "python",
     "metadata": {},
     "outputs": [
      {
       "metadata": {},
       "output_type": "pyout",
       "prompt_number": 28,
       "text": [
        "0.99999999999999956"
       ]
      }
     ],
     "prompt_number": 28
    },
    {
     "cell_type": "code",
     "collapsed": false,
     "input": [
      "var = 0\n",
      "for row in RP:\n",
      "    var += (np.sum(row)-1)**2\n",
      "var"
     ],
     "language": "python",
     "metadata": {},
     "outputs": [
      {
       "metadata": {},
       "output_type": "pyout",
       "prompt_number": 30,
       "text": [
        "2.1654231848316774e-28"
       ]
      }
     ],
     "prompt_number": 30
    },
    {
     "cell_type": "heading",
     "level": 2,
     "metadata": {},
     "source": [
      "Threshold - Jenks natural breaks"
     ]
    },
    {
     "cell_type": "code",
     "collapsed": false,
     "input": [
      "def getJenksBreaks( dataList, numClass ): \n",
      "    dataList.sort()\n",
      "    mat1 = []\n",
      "    for i in range(0,len(dataList)+1):\n",
      "        temp = []\n",
      "        for j in range(0,numClass+1):\n",
      "            temp.append(0)\n",
      "        mat1.append(temp)\n",
      "        \n",
      "    mat2 = []\n",
      "    for i in range(0,len(dataList)+1):\n",
      "       temp = []\n",
      "       for j in range(0,numClass+1):\n",
      "             temp.append(0)\n",
      "       mat2.append(temp)\n",
      "                \n",
      "    for i in range(1,numClass+1):\n",
      "        mat1[1][i] = 1\n",
      "        mat2[1][i] = 0\n",
      "        for j in range(2,len(dataList)+1):\n",
      "            mat2[j][i] = float('inf')\n",
      "            \n",
      "            \n",
      "    v = 0.0\n",
      "    for l in range(2,len(dataList)+1):\n",
      "        s1 = 0.0\n",
      "        s2 = 0.0\n",
      "        w = 0.0\n",
      "        for m in range(1,l+1):\n",
      "            i3 = l - m + 1\n",
      "            \n",
      "            val = float(dataList[i3-1])\n",
      "            \n",
      "            s2 += val * val\n",
      "            s1 += val\n",
      "            \n",
      "            w += 1\n",
      "            v = s2 - (s1 * s1) / w\n",
      "            i4 = i3 - 1\n",
      "            \n",
      "            if i4 != 0:\n",
      "               for j in range(2,numClass+1):\n",
      "                    if mat2[l][j] >= (v + mat2[i4][j - 1]): \n",
      "                        mat1[l][j] = i3\n",
      "                        mat2[l][j] = v + mat2[i4][j - 1]\n",
      "        mat1[l][1] = 1\n",
      "        mat2[l][1] = v\n",
      "    \n",
      "    k = len(dataList)\n",
      "    kclass = []\n",
      "    for i in range(0,numClass+1):\n",
      "        kclass.append(0)\n",
      "        \n",
      "    kclass[numClass] = float(dataList[len(dataList) - 1])\n",
      "    \n",
      "    countNum = numClass\n",
      "    while countNum >= 2:\n",
      "        #print \"rank = \" + str(mat1[k][countNum]) \n",
      "        id = int((mat1[k][countNum]) - 2)\n",
      "        #print \"val = \" + str(dataList[id])\n",
      "        kclass[countNum - 1] = dataList[id] \n",
      "        k = int((mat1[k][countNum] - 1)) \n",
      "        countNum -= 1\n",
      "    return kclass"
     ],
     "language": "python",
     "metadata": {},
     "outputs": [],
     "prompt_number": 26
    },
    {
     "cell_type": "code",
     "collapsed": false,
     "input": [
      "getJenksBreaks(factors,2)"
     ],
     "language": "python",
     "metadata": {},
     "outputs": [
      {
       "metadata": {},
       "output_type": "pyout",
       "prompt_number": 27,
       "text": [
        "[0, 0.0013193913045937361, 0.01582930232586698]"
       ]
      }
     ],
     "prompt_number": 27
    },
    {
     "cell_type": "code",
     "collapsed": false,
     "input": [
      "thresh = getJenksBreaks(factors,2)[1]"
     ],
     "language": "python",
     "metadata": {},
     "outputs": []
    },
    {
     "cell_type": "code",
     "collapsed": false,
     "input": [
      "max(factors)"
     ],
     "language": "python",
     "metadata": {},
     "outputs": [
      {
       "metadata": {},
       "output_type": "pyout",
       "prompt_number": 28,
       "text": [
        "0.015829302325866979"
       ]
      }
     ],
     "prompt_number": 28
    },
    {
     "cell_type": "code",
     "collapsed": false,
     "input": [
      "max(factors[:1000])"
     ],
     "language": "python",
     "metadata": {},
     "outputs": [
      {
       "metadata": {},
       "output_type": "pyout",
       "prompt_number": 29,
       "text": [
        "0.0013193913045937361"
       ]
      }
     ],
     "prompt_number": 29
    },
    {
     "cell_type": "code",
     "collapsed": false,
     "input": [
      "a = [0.5, 0.7, 0.8]"
     ],
     "language": "python",
     "metadata": {},
     "outputs": [],
     "prompt_number": 30
    },
    {
     "cell_type": "code",
     "collapsed": false,
     "input": [
      "f_out = open('test_out.txt','w')\n",
      "for val in a:\n",
      "    f_out.write(str(val)+'\\n')\n",
      "f_out.close()"
     ],
     "language": "python",
     "metadata": {},
     "outputs": [],
     "prompt_number": 33
    },
    {
     "cell_type": "code",
     "collapsed": false,
     "input": [
      "f = open('test_out.txt')\n",
      "b = []\n",
      "for line in f:\n",
      "    #print line\n",
      "    b.append(float(line))\n",
      "    #print i\n",
      "    \n",
      "print len(b)"
     ],
     "language": "python",
     "metadata": {},
     "outputs": [
      {
       "output_type": "stream",
       "stream": "stdout",
       "text": [
        "0.5\n",
        "\n",
        "3\n",
        "0.7\n",
        "\n",
        "3\n",
        "0.8\n",
        "\n",
        "3\n",
        "3\n"
       ]
      }
     ],
     "prompt_number": 37
    },
    {
     "cell_type": "code",
     "collapsed": false,
     "input": [
      "b"
     ],
     "language": "python",
     "metadata": {},
     "outputs": [
      {
       "metadata": {},
       "output_type": "pyout",
       "prompt_number": 38,
       "text": [
        "[0.5, 0.7, 0.8]"
       ]
      }
     ],
     "prompt_number": 38
    },
    {
     "cell_type": "code",
     "collapsed": false,
     "input": [
      "factors[8]"
     ],
     "language": "python",
     "metadata": {},
     "outputs": [
      {
       "metadata": {},
       "output_type": "pyout",
       "prompt_number": 39,
       "text": [
        "0.00051037149922543651"
       ]
      }
     ],
     "prompt_number": 39
    },
    {
     "cell_type": "code",
     "collapsed": false,
     "input": [],
     "language": "python",
     "metadata": {},
     "outputs": []
    }
   ],
   "metadata": {}
  }
 ]
}