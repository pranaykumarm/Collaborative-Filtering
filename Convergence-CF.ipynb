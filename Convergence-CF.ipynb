{
 "metadata": {
  "name": "",
  "signature": "sha256:dd62e741650d3423535f046aba36d519c437f9b5c17e518b889721eecd9124f4"
 },
 "nbformat": 3,
 "nbformat_minor": 0,
 "worksheets": [
  {
   "cells": [
    {
     "cell_type": "code",
     "collapsed": false,
     "input": [
      "import numpy as np\n",
      "import matplotlib.pyplot as plt\n",
      "import math\n",
      "import networkx as nx\n",
      "import community\n",
      "%matplotlib inline"
     ],
     "language": "python",
     "metadata": {},
     "outputs": [],
     "prompt_number": 157
    },
    {
     "cell_type": "code",
     "collapsed": false,
     "input": [
      "f = open('synthetic.output.txt')\n",
      "\n",
      "all_events = []\n",
      "\n",
      "for line in f:\n",
      "    #print line\n",
      "    contents = line.split()\n",
      "    #print contents\n",
      "    all_events.append([int(contents[0])-1,int(contents[1])-1])\n",
      "\n",
      "f.close()"
     ],
     "language": "python",
     "metadata": {},
     "outputs": [],
     "prompt_number": 48
    },
    {
     "cell_type": "code",
     "collapsed": false,
     "input": [
      "users = []\n",
      "machines = []\n",
      "\n",
      "for event in all_events:\n",
      "    users.append(event[0])\n",
      "    machines.append(event[1])\n",
      "\n",
      "U = max(users)+1\n",
      "M = max(machines)+1\n",
      "\n",
      "print U, M\n",
      "\n",
      "access = np.array([[0.0 for j in xrange(M+1)] for i in xrange(U+1)])"
     ],
     "language": "python",
     "metadata": {},
     "outputs": [
      {
       "output_type": "stream",
       "stream": "stdout",
       "text": [
        "574 226\n"
       ]
      }
     ],
     "prompt_number": 125
    },
    {
     "cell_type": "markdown",
     "metadata": {},
     "source": [
      "    # to avoid divison by zero\n",
      "    for u in xrange(U):\n",
      "        if access[u,M] == 0:\n",
      "            access[u,M] = -1\n",
      "\n",
      "    for m in xrange(M):\n",
      "        if access[U,m] == 0:\n",
      "            access[U,m] = -1"
     ]
    },
    {
     "cell_type": "code",
     "collapsed": false,
     "input": [
      "def update_profiles(events):\n",
      "\n",
      "    # updating access matrix\n",
      "    for event in events:\n",
      "        access[event[0],event[1]] += 1\n",
      "\n",
      "    # computing the total counts for users and machines\n",
      "    for i in xrange(U+1):\n",
      "        access[i,M] = np.sum(access[i,:-1])\n",
      "    for j in xrange(M+1):\n",
      "        access[U,j] = np.sum(access[:-1,j])\n",
      "\n",
      "    # to avoid divison by zero\n",
      "    #for u in xrange(U):\n",
      "        #if access[u,M] == 0:\n",
      "            #access[u,M] = -1\n",
      "\n",
      "    #for m in xrange(M):\n",
      "        #if access[U,m] == 0:\n",
      "            #access[U,m] = -1\n",
      "            \n",
      "    # building profiles w.r.t. users and machines\n",
      "    profile_u = np.array([[0.0 for j in xrange(M)] for i in xrange(U)])\n",
      "    for u in xrange(U):\n",
      "        for m in xrange(M):\n",
      "            profile_u[u,m] = access[u,m]/access[u,M]\n",
      "\n",
      "    profile_m = np.array([[0.0 for j in xrange(M)] for i in xrange(U)])\n",
      "    for u in xrange(U):\n",
      "        for m in xrange(M):\n",
      "            profile_m[u,m] = access[u,m]/access[U,m]\n",
      "            \n",
      "    return profile_u, profile_m"
     ],
     "language": "python",
     "metadata": {},
     "outputs": [],
     "prompt_number": 146
    },
    {
     "cell_type": "code",
     "collapsed": false,
     "input": [
      "def RP_mat(profile_u, profile_m, U, M):\n",
      "\n",
      "    RP = np.matrix([[0.0 for j in xrange(U)] for i in xrange(U)])\n",
      "    for u in xrange(U):\n",
      "        for v in xrange(U):\n",
      "            val = np.dot(profile_u[u], profile_m[v])\n",
      "            if math.isnan(val):\n",
      "                val = 0            \n",
      "            RP[u,v] = val\n",
      "            \n",
      "    return RP"
     ],
     "language": "python",
     "metadata": {},
     "outputs": [],
     "prompt_number": 147
    },
    {
     "cell_type": "code",
     "collapsed": false,
     "input": [
      "def sim_mat(profile_u, U, M):\n",
      "    \n",
      "    sim = np.matrix([[0.0 for j in xrange(U)] for i in xrange(U)])\n",
      "    for u in xrange(U):\n",
      "        for v in xrange(u+1):\n",
      "            val = np.dot(profile_u[u], profile_u[v])/(np.linalg.norm(profile_u[u])*np.linalg.norm(profile_u[v]))\n",
      "            if math.isnan(val):\n",
      "                val = 0\n",
      "            sim[u,v] = val\n",
      "            sim[v,u] = val\n",
      "            \n",
      "    return sim"
     ],
     "language": "python",
     "metadata": {},
     "outputs": [],
     "prompt_number": 148
    },
    {
     "cell_type": "code",
     "collapsed": false,
     "input": [
      "def change(sim1, sim2):\n",
      "    delete = []\n",
      "    for u in xrange(U):\n",
      "        if math.isnan(sim2[u,0]):\n",
      "            delete.append(u)\n",
      "    \n",
      "    sim1 = np.delete(sim1, delete, 0)\n",
      "    sim1 = np.delete(sim1, delete, 1)\n",
      "    sim2 = np.delete(sim2, delete, 0)\n",
      "    sim2 = np.delete(sim2, delete, 1)\n",
      "    diff = np.array(sim1 - sim2)\n",
      "    return math.sqrt(np.mean(diff**2))"
     ],
     "language": "python",
     "metadata": {},
     "outputs": [],
     "prompt_number": 181
    },
    {
     "cell_type": "code",
     "collapsed": false,
     "input": [
      "chunk = 10000\n",
      "N = 10"
     ],
     "language": "python",
     "metadata": {},
     "outputs": [],
     "prompt_number": 172
    },
    {
     "cell_type": "code",
     "collapsed": false,
     "input": [
      "access = np.array([[0.0 for j in xrange(M+1)] for i in xrange(U+1)])\n",
      "\n",
      "RP_old = np.matrix([[0.0 for j in xrange(U)] for i in xrange(U)])\n",
      "diff = []\n",
      "for i in xrange(N):\n",
      "    print i\n",
      "    events = all_events[i*chunk:(i+1)*chunk]\n",
      "    profile_u, profile_m = update_profiles(events)\n",
      "    RP_cur = RP_mat(profile_u, profile_m, U, M)\n",
      "    if i!=0:\n",
      "        diff.append(change(RP_cur, RP_old))\n",
      "    RP_old = RP_cur"
     ],
     "language": "python",
     "metadata": {},
     "outputs": [
      {
       "output_type": "stream",
       "stream": "stdout",
       "text": [
        "0\n",
        "1"
       ]
      },
      {
       "output_type": "stream",
       "stream": "stdout",
       "text": [
        "\n",
        "2"
       ]
      },
      {
       "output_type": "stream",
       "stream": "stdout",
       "text": [
        "\n",
        "3"
       ]
      },
      {
       "output_type": "stream",
       "stream": "stdout",
       "text": [
        "\n",
        "4"
       ]
      },
      {
       "output_type": "stream",
       "stream": "stdout",
       "text": [
        "\n",
        "5"
       ]
      },
      {
       "output_type": "stream",
       "stream": "stdout",
       "text": [
        "\n",
        "6"
       ]
      },
      {
       "output_type": "stream",
       "stream": "stdout",
       "text": [
        "\n",
        "7"
       ]
      },
      {
       "output_type": "stream",
       "stream": "stdout",
       "text": [
        "\n",
        "8"
       ]
      },
      {
       "output_type": "stream",
       "stream": "stdout",
       "text": [
        "\n",
        "9"
       ]
      },
      {
       "output_type": "stream",
       "stream": "stdout",
       "text": [
        "\n"
       ]
      }
     ],
     "prompt_number": 182
    },
    {
     "cell_type": "code",
     "collapsed": false,
     "input": [
      "diff"
     ],
     "language": "python",
     "metadata": {},
     "outputs": [
      {
       "metadata": {},
       "output_type": "pyout",
       "prompt_number": 183,
       "text": [
        "[0.002501711128880141,\n",
        " 0.0010521596367517245,\n",
        " 0.0006153310385385442,\n",
        " 0.0004269820180410572,\n",
        " 0.00031302322634682827,\n",
        " 0.00025058993005000506,\n",
        " 0.0002039508610564808,\n",
        " 0.00017320359267448707,\n",
        " 0.00014772572278545787]"
       ]
      }
     ],
     "prompt_number": 183
    },
    {
     "cell_type": "code",
     "collapsed": false,
     "input": [
      "plt.plot(diff)"
     ],
     "language": "python",
     "metadata": {},
     "outputs": [
      {
       "metadata": {},
       "output_type": "pyout",
       "prompt_number": 184,
       "text": [
        "[<matplotlib.lines.Line2D at 0x10f129d50>]"
       ]
      },
      {
       "metadata": {},
       "output_type": "display_data",
       "png": "[encoded data removed]",
       "text": [
        "<matplotlib.figure.Figure at 0x10f0d9050>"
       ]
      }
     ],
     "prompt_number": 184
    },
    {
     "cell_type": "code",
     "collapsed": false,
     "input": [
      "access = np.array([[0.0 for j in xrange(M+1)] for i in xrange(U+1)])\n",
      "\n",
      "sim_old = np.matrix([[0.0 for j in xrange(U)] for i in xrange(U)])\n",
      "diff_sim = []\n",
      "for i in xrange(N):\n",
      "    print i\n",
      "    events = all_events[i*chunk:(i+1)*chunk]\n",
      "    profile_u, profile_m = update_profiles(events)\n",
      "    sim_cur = sim_mat(profile_u, U, M)\n",
      "    if i!=0:\n",
      "        diff_sim.append(change(sim_cur, sim_old))\n",
      "    sim_old = sim_cur"
     ],
     "language": "python",
     "metadata": {},
     "outputs": [
      {
       "output_type": "stream",
       "stream": "stdout",
       "text": [
        "0\n",
        "1"
       ]
      },
      {
       "output_type": "stream",
       "stream": "stdout",
       "text": [
        "\n",
        "2"
       ]
      },
      {
       "output_type": "stream",
       "stream": "stdout",
       "text": [
        "\n",
        "3"
       ]
      },
      {
       "output_type": "stream",
       "stream": "stdout",
       "text": [
        "\n",
        "4"
       ]
      },
      {
       "output_type": "stream",
       "stream": "stdout",
       "text": [
        "\n",
        "5"
       ]
      },
      {
       "output_type": "stream",
       "stream": "stdout",
       "text": [
        "\n",
        "6"
       ]
      },
      {
       "output_type": "stream",
       "stream": "stdout",
       "text": [
        "\n",
        "7"
       ]
      },
      {
       "output_type": "stream",
       "stream": "stdout",
       "text": [
        "\n",
        "8"
       ]
      },
      {
       "output_type": "stream",
       "stream": "stdout",
       "text": [
        "\n",
        "9"
       ]
      },
      {
       "output_type": "stream",
       "stream": "stdout",
       "text": [
        "\n"
       ]
      }
     ],
     "prompt_number": 185
    },
    {
     "cell_type": "code",
     "collapsed": false,
     "input": [
      "diff_sim"
     ],
     "language": "python",
     "metadata": {},
     "outputs": [
      {
       "metadata": {},
       "output_type": "pyout",
       "prompt_number": 186,
       "text": [
        "[0.09495715873695046,\n",
        " 0.07436010701717889,\n",
        " 0.060101285058660754,\n",
        " 0.05133641710632003,\n",
        " 0.044265261956174105,\n",
        " 0.040354287517631884,\n",
        " 0.036198155113435576,\n",
        " 0.03193521827208599,\n",
        " 0.029195955308955943]"
       ]
      }
     ],
     "prompt_number": 186
    },
    {
     "cell_type": "code",
     "collapsed": false,
     "input": [
      "plt.plot(diff_sim)"
     ],
     "language": "python",
     "metadata": {},
     "outputs": [
      {
       "metadata": {},
       "output_type": "pyout",
       "prompt_number": 187,
       "text": [
        "[<matplotlib.lines.Line2D at 0x10f239e50>]"
       ]
      },
      {
       "metadata": {},
       "output_type": "display_data",
       "png": "[encoded data removed]",
       "text": [
        "<matplotlib.figure.Figure at 0x10efe9cd0>"
       ]
      }
     ],
     "prompt_number": 187
    },
    {
     "cell_type": "code",
     "collapsed": false,
     "input": [
      "access"
     ],
     "language": "python",
     "metadata": {},
     "outputs": [
      {
       "metadata": {},
       "output_type": "pyout",
       "prompt_number": 188,
       "text": [
        "array([[  2.70000000e+01,   0.00000000e+00,   0.00000000e+00, ...,\n",
        "          2.10000000e+01,   0.00000000e+00,   9.08000000e+02],\n",
        "       [  0.00000000e+00,   1.40000000e+01,   0.00000000e+00, ...,\n",
        "          0.00000000e+00,   0.00000000e+00,   6.25000000e+02],\n",
        "       [  0.00000000e+00,   0.00000000e+00,   6.00000000e+00, ...,\n",
        "          0.00000000e+00,   0.00000000e+00,   2.25000000e+02],\n",
        "       ..., \n",
        "       [  0.00000000e+00,   0.00000000e+00,   0.00000000e+00, ...,\n",
        "          0.00000000e+00,   0.00000000e+00,   6.30000000e+01],\n",
        "       [  0.00000000e+00,   0.00000000e+00,   0.00000000e+00, ...,\n",
        "          0.00000000e+00,   1.00000000e+00,   4.90000000e+01],\n",
        "       [  5.33000000e+02,   4.75000000e+02,   4.96000000e+02, ...,\n",
        "          5.13000000e+02,   3.47000000e+02,   1.00000000e+05]])"
       ]
      }
     ],
     "prompt_number": 188
    },
    {
     "cell_type": "code",
     "collapsed": false,
     "input": [],
     "language": "python",
     "metadata": {},
     "outputs": []
    }
   ],
   "metadata": {}
  }
 ]
}