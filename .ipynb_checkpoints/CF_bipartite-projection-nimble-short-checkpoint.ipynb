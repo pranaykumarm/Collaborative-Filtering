{
 "metadata": {
  "name": "",
  "signature": "sha256:e7d55cb23d0958d130713738e587ef315244ad6e98da4ad95364338ff8ff0e6c"
 },
 "nbformat": 3,
 "nbformat_minor": 0,
 "worksheets": [
  {
   "cells": [
    {
     "cell_type": "code",
     "collapsed": false,
     "input": [
      "import numpy as np\n",
      "import matplotlib.pyplot as plt\n",
      "%matplotlib inline"
     ],
     "language": "python",
     "metadata": {},
     "outputs": [],
     "prompt_number": 36
    },
    {
     "cell_type": "heading",
     "level": 2,
     "metadata": {},
     "source": [
      "Input"
     ]
    },
    {
     "cell_type": "code",
     "collapsed": false,
     "input": [
      "#events = [[0,0],[0,0],[0,1],[0,1],[1,0],[1,0],[1,1],[1,1],[0,2]]\n",
      "#users = [0,1]\n",
      "#machines = [0,1,2,3]"
     ],
     "language": "python",
     "metadata": {},
     "outputs": [],
     "prompt_number": 2
    },
    {
     "cell_type": "code",
     "collapsed": false,
     "input": [
      "f = open('nimble.output.txt')\n",
      "\n",
      "all_events = []\n",
      "\n",
      "for line in f:\n",
      "    #print line\n",
      "    contents = line.split()\n",
      "    #print contents\n",
      "    all_events.append([int(contents[0])-1,int(contents[1])-1])\n",
      "\n",
      "f.close()"
     ],
     "language": "python",
     "metadata": {},
     "outputs": [],
     "prompt_number": 3
    },
    {
     "cell_type": "code",
     "collapsed": false,
     "input": [
      "new_events = all_events[100000:110000]\n",
      "events = all_events[:100000]"
     ],
     "language": "python",
     "metadata": {},
     "outputs": [],
     "prompt_number": 4
    },
    {
     "cell_type": "code",
     "collapsed": false,
     "input": [
      "len(events)"
     ],
     "language": "python",
     "metadata": {},
     "outputs": [
      {
       "metadata": {},
       "output_type": "pyout",
       "prompt_number": 5,
       "text": [
        "100000"
       ]
      }
     ],
     "prompt_number": 5
    },
    {
     "cell_type": "code",
     "collapsed": false,
     "input": [
      "len(new_events)"
     ],
     "language": "python",
     "metadata": {},
     "outputs": [
      {
       "metadata": {},
       "output_type": "pyout",
       "prompt_number": 6,
       "text": [
        "10000"
       ]
      }
     ],
     "prompt_number": 6
    },
    {
     "cell_type": "code",
     "collapsed": false,
     "input": [
      "users = []\n",
      "machines = []\n",
      "for event in events:\n",
      "    users.append(event[0])\n",
      "    machines.append(event[1])"
     ],
     "language": "python",
     "metadata": {},
     "outputs": [],
     "prompt_number": 7
    },
    {
     "cell_type": "heading",
     "level": 2,
     "metadata": {},
     "source": [
      "Build the '# accesses' matrix"
     ]
    },
    {
     "cell_type": "code",
     "collapsed": false,
     "input": [
      "N = max(users)+1\n",
      "M = max(machines)+1\n",
      "access = np.matrix([[0.0 for j in xrange(M+1)] for i in xrange(N+1)])\n",
      "\n",
      "print N, M"
     ],
     "language": "python",
     "metadata": {},
     "outputs": [
      {
       "output_type": "stream",
       "stream": "stdout",
       "text": [
        "706 580\n"
       ]
      }
     ],
     "prompt_number": 8
    },
    {
     "cell_type": "code",
     "collapsed": false,
     "input": [
      "for event in events:\n",
      "    access[event[0],event[1]] += 1"
     ],
     "language": "python",
     "metadata": {},
     "outputs": [],
     "prompt_number": 9
    },
    {
     "cell_type": "code",
     "collapsed": false,
     "input": [
      "access"
     ],
     "language": "python",
     "metadata": {},
     "outputs": [
      {
       "metadata": {},
       "output_type": "pyout",
       "prompt_number": 10,
       "text": [
        "matrix([[  258.,     0.,     0., ...,     0.,     0.,     0.],\n",
        "        [    0.,   169.,     0., ...,     0.,     0.,     0.],\n",
        "        [    0.,     0.,  3188., ...,     0.,     0.,     0.],\n",
        "        ..., \n",
        "        [    0.,     0.,     0., ...,     0.,     0.,     0.],\n",
        "        [    0.,     0.,     0., ...,    11.,     0.,     0.],\n",
        "        [    0.,     0.,     0., ...,     0.,     0.,     0.]])"
       ]
      }
     ],
     "prompt_number": 10
    },
    {
     "cell_type": "code",
     "collapsed": false,
     "input": [
      "for i in xrange(N+1):\n",
      "    temp = np.sum(access[i,:-1])\n",
      "    access[i,M] = temp\n",
      "\n",
      "for j in xrange(M+1):\n",
      "    access[N,j] = np.sum(access[:-1,j])"
     ],
     "language": "python",
     "metadata": {},
     "outputs": [],
     "prompt_number": 11
    },
    {
     "cell_type": "code",
     "collapsed": false,
     "input": [
      "access"
     ],
     "language": "python",
     "metadata": {},
     "outputs": [
      {
       "metadata": {},
       "output_type": "pyout",
       "prompt_number": 12,
       "text": [
        "matrix([[  2.58000000e+02,   0.00000000e+00,   0.00000000e+00, ...,\n",
        "           0.00000000e+00,   0.00000000e+00,   2.58000000e+02],\n",
        "        [  0.00000000e+00,   1.69000000e+02,   0.00000000e+00, ...,\n",
        "           0.00000000e+00,   0.00000000e+00,   2.37000000e+02],\n",
        "        [  0.00000000e+00,   0.00000000e+00,   3.18800000e+03, ...,\n",
        "           0.00000000e+00,   0.00000000e+00,   4.99900000e+03],\n",
        "        ..., \n",
        "        [  0.00000000e+00,   0.00000000e+00,   0.00000000e+00, ...,\n",
        "           0.00000000e+00,   0.00000000e+00,   3.00000000e+00],\n",
        "        [  0.00000000e+00,   0.00000000e+00,   0.00000000e+00, ...,\n",
        "           1.10000000e+01,   0.00000000e+00,   1.10000000e+01],\n",
        "        [  5.37000000e+02,   2.68000000e+02,   3.18800000e+03, ...,\n",
        "           3.40000000e+01,   2.00000000e+00,   1.00000000e+05]])"
       ]
      }
     ],
     "prompt_number": 12
    },
    {
     "cell_type": "code",
     "collapsed": false,
     "input": [
      "for u in xrange(N):\n",
      "    if access[u,M] == 0:\n",
      "        access[u,M] = -1\n",
      "        \n",
      "for m in xrange(M):\n",
      "    if access[N,m] == 0:\n",
      "        access[N,m] = -1"
     ],
     "language": "python",
     "metadata": {},
     "outputs": [],
     "prompt_number": 13
    },
    {
     "cell_type": "heading",
     "level": 2,
     "metadata": {},
     "source": [
      "Compute the RP for all user pairs"
     ]
    },
    {
     "cell_type": "code",
     "collapsed": false,
     "input": [
      "RP = np.matrix([[0.0 for j in xrange(N)] for i in xrange(N)])"
     ],
     "language": "python",
     "metadata": {},
     "outputs": [],
     "prompt_number": 14
    },
    {
     "cell_type": "code",
     "collapsed": false,
     "input": [
      "for u in xrange(N):\n",
      "    for v in xrange(N):\n",
      "        for m in xrange(M):\n",
      "            RP[u,v] += (access[u,m]/access[u,M])*(access[v,m]/access[N,m])"
     ],
     "language": "python",
     "metadata": {},
     "outputs": [],
     "prompt_number": 15
    },
    {
     "cell_type": "code",
     "collapsed": false,
     "input": [
      "RP"
     ],
     "language": "python",
     "metadata": {},
     "outputs": [
      {
       "metadata": {},
       "output_type": "pyout",
       "prompt_number": 16,
       "text": [
        "matrix([[ 0.48044693,  0.        ,  0.        , ...,  0.        ,\n",
        "          0.        ,  0.        ],\n",
        "        [ 0.        ,  0.62129881,  0.        , ...,  0.        ,\n",
        "          0.        ,  0.        ],\n",
        "        [ 0.        ,  0.        ,  1.        , ...,  0.        ,\n",
        "          0.        ,  0.        ],\n",
        "        ..., \n",
        "        [ 0.        ,  0.        ,  0.        , ...,  0.28571429,\n",
        "          0.        ,  0.        ],\n",
        "        [ 0.        ,  0.        ,  0.        , ...,  0.        ,\n",
        "          0.75      ,  0.        ],\n",
        "        [ 0.        ,  0.        ,  0.        , ...,  0.        ,\n",
        "          0.        ,  0.32352941]])"
       ]
      }
     ],
     "prompt_number": 16
    },
    {
     "cell_type": "heading",
     "level": 2,
     "metadata": {},
     "source": [
      "Compute the factors"
     ]
    },
    {
     "cell_type": "code",
     "collapsed": false,
     "input": [
      "def factor(u,m):\n",
      "    factor = 0\n",
      "    for v in xrange(N):\n",
      "        factor += RP[u,v]*access[v,m]/access[v,M]\n",
      "    return factor"
     ],
     "language": "python",
     "metadata": {},
     "outputs": [],
     "prompt_number": 17
    },
    {
     "cell_type": "code",
     "collapsed": false,
     "input": [
      "factor(0,2)"
     ],
     "language": "python",
     "metadata": {},
     "outputs": [
      {
       "metadata": {},
       "output_type": "pyout",
       "prompt_number": 18,
       "text": [
        "0.0"
       ]
      }
     ],
     "prompt_number": 18
    },
    {
     "cell_type": "heading",
     "level": 2,
     "metadata": {},
     "source": [
      "Validation"
     ]
    },
    {
     "cell_type": "code",
     "collapsed": false,
     "input": [
      "#new_events = events[-100:]\n",
      "#print new_events"
     ],
     "language": "python",
     "metadata": {},
     "outputs": [],
     "prompt_number": 19
    },
    {
     "cell_type": "code",
     "collapsed": false,
     "input": [
      "#new_events = [[0,0],[0,1],[0,2],[1,0],[1,1],[1,2]]"
     ],
     "language": "python",
     "metadata": {},
     "outputs": [],
     "prompt_number": 20
    },
    {
     "cell_type": "code",
     "collapsed": false,
     "input": [
      "factors = []\n",
      "for event in new_events:\n",
      "    if event[0]<N and event[1]<M:\n",
      "        factors.append(factor(event[0],event[1]))\n",
      "    else:\n",
      "        factors.append(-1)"
     ],
     "language": "python",
     "metadata": {},
     "outputs": [],
     "prompt_number": 23
    },
    {
     "cell_type": "code",
     "collapsed": false,
     "input": [
      "[counts, bounds] = np.histogram(factors, bins=10)"
     ],
     "language": "python",
     "metadata": {},
     "outputs": [],
     "prompt_number": 24
    },
    {
     "cell_type": "code",
     "collapsed": false,
     "input": [
      "centers = []\n",
      "for i in xrange(len(bounds)-1):\n",
      "    centers.append((bounds[i]+bounds[i+1])/2)"
     ],
     "language": "python",
     "metadata": {},
     "outputs": [],
     "prompt_number": 25
    },
    {
     "cell_type": "code",
     "collapsed": false,
     "input": [
      "#counts[1] = 1"
     ],
     "language": "python",
     "metadata": {},
     "outputs": [],
     "prompt_number": 26
    },
    {
     "cell_type": "code",
     "collapsed": false,
     "input": [
      "print centers, counts"
     ],
     "language": "python",
     "metadata": {},
     "outputs": [
      {
       "output_type": "stream",
       "stream": "stdout",
       "text": [
        "[-0.90000000000000002, -0.69999999999999996, -0.49999999999999994, -0.29999999999999993, -0.099999999999999978, 0.10000000000000009, 0.30000000000000016, 0.50000000000000011, 0.70000000000000007, 0.90000000000000002] [ 561    0    0    0    0  730 1277 1571  897 4964]\n"
       ]
      }
     ],
     "prompt_number": 27
    },
    {
     "cell_type": "code",
     "collapsed": false,
     "input": [
      "#plt.bar(centers,counts)"
     ],
     "language": "python",
     "metadata": {},
     "outputs": []
    },
    {
     "cell_type": "code",
     "collapsed": false,
     "input": [
      "#plt.show()"
     ],
     "language": "python",
     "metadata": {},
     "outputs": []
    },
    {
     "cell_type": "code",
     "collapsed": false,
     "input": [
      "#events[0:2]"
     ],
     "language": "python",
     "metadata": {},
     "outputs": []
    },
    {
     "cell_type": "code",
     "collapsed": false,
     "input": [
      "#print factors"
     ],
     "language": "python",
     "metadata": {},
     "outputs": []
    },
    {
     "cell_type": "code",
     "collapsed": false,
     "input": [
      "f_out = open('nimble_short_factors.txt','w')\n",
      "f_out.write(str(factors))\n",
      "f_out.close()"
     ],
     "language": "python",
     "metadata": {},
     "outputs": [],
     "prompt_number": 32
    },
    {
     "cell_type": "code",
     "collapsed": false,
     "input": [
      "factors.index(-1)"
     ],
     "language": "python",
     "metadata": {},
     "outputs": [
      {
       "metadata": {},
       "output_type": "pyout",
       "prompt_number": 33,
       "text": [
        "388"
       ]
      }
     ],
     "prompt_number": 33
    },
    {
     "cell_type": "code",
     "collapsed": false,
     "input": [
      "f_out = open('nimble_short_RP.txt','w')\n",
      "for row in RP:\n",
      "    f_out.write(str(row))\n",
      "f_out.close()"
     ],
     "language": "python",
     "metadata": {},
     "outputs": [],
     "prompt_number": 34
    },
    {
     "cell_type": "code",
     "collapsed": false,
     "input": [
      "plt.plot(centers,counts)\n",
      "plt.title('histogram with 10 bins');"
     ],
     "language": "python",
     "metadata": {},
     "outputs": [
      {
       "metadata": {},
       "output_type": "display_data",
       "png": "[encoded data removed]",
       "text": [
        "<matplotlib.figure.Figure at 0x11818c090>"
       ]
      }
     ],
     "prompt_number": 37
    },
    {
     "cell_type": "code",
     "collapsed": false,
     "input": [
      "plt.plot(factors)\n",
      "plt.title('timeline');"
     ],
     "language": "python",
     "metadata": {},
     "outputs": [
      {
       "metadata": {},
       "output_type": "display_data",
       "png": "[encoded data removed]",
       "text": [
        "<matplotlib.figure.Figure at 0x114052990>"
       ]
      }
     ],
     "prompt_number": 38
    },
    {
     "cell_type": "code",
     "collapsed": false,
     "input": [
      "plt.scatter([i for i in xrange(10000)], factors)"
     ],
     "language": "python",
     "metadata": {},
     "outputs": [
      {
       "metadata": {},
       "output_type": "pyout",
       "prompt_number": 43,
       "text": [
        "<matplotlib.collections.PathCollection at 0x118374710>"
       ]
      },
      {
       "metadata": {},
       "output_type": "display_data",
       "png": "[encoded data removed]",
       "text": [
        "<matplotlib.figure.Figure at 0x1140bb310>"
       ]
      }
     ],
     "prompt_number": 43
    },
    {
     "cell_type": "code",
     "collapsed": false,
     "input": [
      "plt.scatter([i for i in xrange(1000)], factors[:1000])"
     ],
     "language": "python",
     "metadata": {},
     "outputs": [
      {
       "metadata": {},
       "output_type": "pyout",
       "prompt_number": 44,
       "text": [
        "<matplotlib.collections.PathCollection at 0x118d79490>"
       ]
      },
      {
       "metadata": {},
       "output_type": "display_data",
       "png": "[encoded data removed]",
       "text": [
        "<matplotlib.figure.Figure at 0x118080a90>"
       ]
      }
     ],
     "prompt_number": 44
    },
    {
     "cell_type": "code",
     "collapsed": false,
     "input": [],
     "language": "python",
     "metadata": {},
     "outputs": []
    }
   ],
   "metadata": {}
  }
 ]
}