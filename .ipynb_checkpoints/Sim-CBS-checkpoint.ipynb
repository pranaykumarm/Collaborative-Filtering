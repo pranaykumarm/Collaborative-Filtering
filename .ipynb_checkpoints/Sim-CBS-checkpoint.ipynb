{
 "metadata": {
  "name": "",
  "signature": "sha256:e126bab4dce2cc6bc0fa2e63682b7b39f5cfc4d71586dd18de4c6ae7b4f920bc"
 },
 "nbformat": 3,
 "nbformat_minor": 0,
 "worksheets": [
  {
   "cells": [
    {
     "cell_type": "code",
     "collapsed": false,
     "input": [
      "import numpy as np\n",
      "import matplotlib.pyplot as plt\n",
      "import math\n",
      "import networkx as nx\n",
      "import community\n",
      "%matplotlib inline"
     ],
     "language": "python",
     "metadata": {},
     "outputs": [],
     "prompt_number": 1
    },
    {
     "cell_type": "code",
     "collapsed": false,
     "input": [
      "f = open('cbs.output.txt')\n",
      "\n",
      "events = []\n",
      "\n",
      "for line in f:\n",
      "    #print line\n",
      "    contents = line.split()\n",
      "    #print contents\n",
      "    events.append([int(contents[0])-1,int(contents[1])-1])\n",
      "\n",
      "f.close()"
     ],
     "language": "python",
     "metadata": {},
     "outputs": [],
     "prompt_number": 2
    },
    {
     "cell_type": "code",
     "collapsed": false,
     "input": [
      "len(events)"
     ],
     "language": "python",
     "metadata": {},
     "outputs": [
      {
       "metadata": {},
       "output_type": "pyout",
       "prompt_number": 3,
       "text": [
        "10979583"
       ]
      }
     ],
     "prompt_number": 3
    },
    {
     "cell_type": "code",
     "collapsed": false,
     "input": [
      "users = []\n",
      "machines = []\n",
      "for event in events:\n",
      "    users.append(event[0])\n",
      "    machines.append(event[1])"
     ],
     "language": "python",
     "metadata": {},
     "outputs": [],
     "prompt_number": 4
    },
    {
     "cell_type": "code",
     "collapsed": false,
     "input": [
      "N = max(users)+1\n",
      "M = max(machines)+1\n",
      "profile = np.array([[0.0 for j in xrange(M+1)] for i in xrange(N+1)])\n",
      "\n",
      "print N, M"
     ],
     "language": "python",
     "metadata": {},
     "outputs": [
      {
       "output_type": "stream",
       "stream": "stdout",
       "text": [
        "3931 21\n"
       ]
      }
     ],
     "prompt_number": 5
    },
    {
     "cell_type": "code",
     "collapsed": false,
     "input": [
      "for event in events:\n",
      "    profile[event[0],event[1]] += 1"
     ],
     "language": "python",
     "metadata": {},
     "outputs": [],
     "prompt_number": 6
    },
    {
     "cell_type": "code",
     "collapsed": false,
     "input": [
      "profile"
     ],
     "language": "python",
     "metadata": {},
     "outputs": [
      {
       "metadata": {},
       "output_type": "pyout",
       "prompt_number": 7,
       "text": [
        "array([[  2.26025000e+05,   3.17700000e+03,   2.84500000e+03, ...,\n",
        "          4.00800000e+03,   3.00000000e+01,   0.00000000e+00],\n",
        "       [  3.70850000e+05,   2.98685000e+05,   2.21202000e+05, ...,\n",
        "          3.44417000e+05,   3.35157000e+05,   0.00000000e+00],\n",
        "       [  0.00000000e+00,   0.00000000e+00,   0.00000000e+00, ...,\n",
        "          0.00000000e+00,   0.00000000e+00,   0.00000000e+00],\n",
        "       ..., \n",
        "       [  0.00000000e+00,   0.00000000e+00,   0.00000000e+00, ...,\n",
        "          0.00000000e+00,   0.00000000e+00,   0.00000000e+00],\n",
        "       [  0.00000000e+00,   0.00000000e+00,   0.00000000e+00, ...,\n",
        "          0.00000000e+00,   0.00000000e+00,   0.00000000e+00],\n",
        "       [  0.00000000e+00,   0.00000000e+00,   0.00000000e+00, ...,\n",
        "          0.00000000e+00,   0.00000000e+00,   0.00000000e+00]])"
       ]
      }
     ],
     "prompt_number": 7
    },
    {
     "cell_type": "code",
     "collapsed": false,
     "input": [
      "for i in xrange(N+1):\n",
      "    temp = np.sum(profile[i,:-1])\n",
      "    profile[i,M] = temp\n",
      "\n",
      "for j in xrange(M+1):\n",
      "    profile[N,j] = np.sum(profile[:-1,j])"
     ],
     "language": "python",
     "metadata": {},
     "outputs": [],
     "prompt_number": 8
    },
    {
     "cell_type": "code",
     "collapsed": false,
     "input": [
      "profile"
     ],
     "language": "python",
     "metadata": {},
     "outputs": [
      {
       "metadata": {},
       "output_type": "pyout",
       "prompt_number": 9,
       "text": [
        "array([[  2.26025000e+05,   3.17700000e+03,   2.84500000e+03, ...,\n",
        "          4.00800000e+03,   3.00000000e+01,   4.57715000e+05],\n",
        "       [  3.70850000e+05,   2.98685000e+05,   2.21202000e+05, ...,\n",
        "          3.44417000e+05,   3.35157000e+05,   6.37423800e+06],\n",
        "       [  0.00000000e+00,   0.00000000e+00,   0.00000000e+00, ...,\n",
        "          0.00000000e+00,   0.00000000e+00,   3.09718000e+05],\n",
        "       ..., \n",
        "       [  0.00000000e+00,   0.00000000e+00,   0.00000000e+00, ...,\n",
        "          0.00000000e+00,   0.00000000e+00,   1.00000000e+00],\n",
        "       [  0.00000000e+00,   0.00000000e+00,   0.00000000e+00, ...,\n",
        "          0.00000000e+00,   0.00000000e+00,   8.00000000e+00],\n",
        "       [  6.84392000e+05,   4.52689000e+05,   4.66246000e+05, ...,\n",
        "          4.61371000e+05,   4.25387000e+05,   1.09795830e+07]])"
       ]
      }
     ],
     "prompt_number": 9
    },
    {
     "cell_type": "code",
     "collapsed": false,
     "input": [
      "for u in xrange(N):\n",
      "    if profile[u,M] == 0:\n",
      "        profile[u,M] = -1\n",
      "        \n",
      "for m in xrange(M):\n",
      "    if profile[N,m] == 0:\n",
      "        profile[N,m] = -1"
     ],
     "language": "python",
     "metadata": {},
     "outputs": [],
     "prompt_number": 10
    },
    {
     "cell_type": "code",
     "collapsed": false,
     "input": [
      "sim = np.array([[0.0 for j in xrange(N)] for i in xrange(N)])\n",
      "\n",
      "vals = []\n",
      "for u in xrange(N):\n",
      "    for v in xrange(u+1):\n",
      "        val = np.dot(profile[u,:-1], profile[v,:-1])/(np.linalg.norm(profile[u,:-1])*np.linalg.norm(profile[v,:-1]))\n",
      "        sim[u,v] = val\n",
      "        sim[v,u] = val\n",
      "        vals.append(val)"
     ],
     "language": "python",
     "metadata": {},
     "outputs": [],
     "prompt_number": 11
    },
    {
     "cell_type": "code",
     "collapsed": false,
     "input": [
      "sim"
     ],
     "language": "python",
     "metadata": {},
     "outputs": [
      {
       "metadata": {},
       "output_type": "pyout",
       "prompt_number": 12,
       "text": [
        "array([[ 1.        ,  0.42817604,  0.21191103, ...,  0.01519695,\n",
        "         0.0239701 ,  0.02007807],\n",
        "       [ 0.42817604,  1.        ,  0.14699216, ...,  0.33103583,\n",
        "         0.21160771,  0.24310701],\n",
        "       [ 0.21191103,  0.14699216,  1.        , ...,  0.        ,\n",
        "         0.        ,  0.        ],\n",
        "       ..., \n",
        "       [ 0.01519695,  0.33103583,  0.        , ...,  1.        ,\n",
        "         0.        ,  0.        ],\n",
        "       [ 0.0239701 ,  0.21160771,  0.        , ...,  0.        ,\n",
        "         1.        ,  0.        ],\n",
        "       [ 0.02007807,  0.24310701,  0.        , ...,  0.        ,\n",
        "         0.        ,  1.        ]])"
       ]
      }
     ],
     "prompt_number": 12
    },
    {
     "cell_type": "code",
     "collapsed": false,
     "input": [
      "fig = plt.figure()\n",
      "ax = fig.add_subplot(111)\n",
      "ax.hist(vals,20)"
     ],
     "language": "python",
     "metadata": {},
     "outputs": [
      {
       "metadata": {},
       "output_type": "pyout",
       "prompt_number": 13,
       "text": [
        "(array([ 5408882.,   348854.,   223826.,   171968.,   138057.,   115021.,\n",
        "          108957.,    92846.,    86934.,    74881.,    64150.,    63313.,\n",
        "           55711.,    56415.,    75853.,    54514.,    64189.,    81638.,\n",
        "          104169.,   338168.]),\n",
        " array([ 0.  ,  0.05,  0.1 ,  0.15,  0.2 ,  0.25,  0.3 ,  0.35,  0.4 ,\n",
        "         0.45,  0.5 ,  0.55,  0.6 ,  0.65,  0.7 ,  0.75,  0.8 ,  0.85,\n",
        "         0.9 ,  0.95,  1.  ]),\n",
        " <a list of 20 Patch objects>)"
       ]
      },
      {
       "metadata": {},
       "output_type": "display_data",
       "png": "[encoded data removed]",
       "text": [
        "<matplotlib.figure.Figure at 0x1451ab1d0>"
       ]
      }
     ],
     "prompt_number": 13
    },
    {
     "cell_type": "code",
     "collapsed": false,
     "input": [
      "labels = [-1 for u in xrange(N)]\n",
      "\n",
      "new = 0\n",
      "for u in xrange(N):\n",
      "    if labels[u]==-1:\n",
      "        labels[u] = new\n",
      "        new += 1\n",
      "    for v in xrange(u+1,N):\n",
      "        if sim[u,v]>=0.05:\n",
      "            labels[v] = labels[u]\n",
      "            \n",
      "max(labels)+1"
     ],
     "language": "python",
     "metadata": {},
     "outputs": [
      {
       "metadata": {},
       "output_type": "pyout",
       "prompt_number": 14,
       "text": [
        "1"
       ]
      }
     ],
     "prompt_number": 14
    },
    {
     "cell_type": "code",
     "collapsed": false,
     "input": [
      "G = nx.Graph()\n",
      "\n",
      "for u in xrange(N):\n",
      "    for v in xrange(u+1,N):\n",
      "        G.add_weighted_edges_from([(u,v,sim[u,v])])"
     ],
     "language": "python",
     "metadata": {},
     "outputs": [],
     "prompt_number": 15
    },
    {
     "cell_type": "code",
     "collapsed": false,
     "input": [
      "partition = community.best_partition(G)"
     ],
     "language": "python",
     "metadata": {},
     "outputs": [],
     "prompt_number": 16
    },
    {
     "cell_type": "code",
     "collapsed": false,
     "input": [
      "size = float(len(set(partition.values())))\n",
      "pos = nx.spring_layout(G)\n",
      "count = 0.\n",
      "for com in set(partition.values()) :\n",
      "    count = count + 1.\n",
      "    list_nodes = [nodes for nodes in partition.keys()\n",
      "                                if partition[nodes] == com]\n",
      "    nx.draw_networkx_nodes(G, pos, list_nodes, node_size = 20,\n",
      "                                node_color = str(count / size))\n",
      "\n",
      "\n",
      "nx.draw_networkx_edges(G,pos, alpha=0.5)"
     ],
     "language": "python",
     "metadata": {},
     "outputs": [
      {
       "metadata": {},
       "output_type": "pyout",
       "prompt_number": 17,
       "text": [
        "<matplotlib.collections.LineCollection at 0x153800dd0>"
       ]
      },
      {
       "metadata": {},
       "output_type": "display_data",
       "png": "[encoded data removed]",
       "text": [
        "<matplotlib.figure.Figure at 0x1454ad050>"
       ]
      }
     ],
     "prompt_number": 17
    },
    {
     "cell_type": "code",
     "collapsed": false,
     "input": [
      "g = 0\n",
      "for u in xrange(N):\n",
      "    if g<partition[u]:\n",
      "        g = partition[u]\n",
      "        \n",
      "g+1"
     ],
     "language": "python",
     "metadata": {},
     "outputs": [
      {
       "metadata": {},
       "output_type": "pyout",
       "prompt_number": 18,
       "text": [
        "4"
       ]
      }
     ],
     "prompt_number": 18
    }
   ],
   "metadata": {}
  }
 ]
}