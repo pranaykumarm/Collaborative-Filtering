{
 "metadata": {
  "name": "",
  "signature": "sha256:81e6d5c9d6013967db081285ebc48c5343f7b0d9ea97a558bb7de2c9e1d50e23"
 },
 "nbformat": 3,
 "nbformat_minor": 0,
 "worksheets": [
  {
   "cells": [
    {
     "cell_type": "code",
     "collapsed": false,
     "input": [
      "import numpy as np\n",
      "import matplotlib.pyplot as plt\n",
      "%matplotlib inline"
     ],
     "language": "python",
     "metadata": {},
     "outputs": [],
     "prompt_number": 43
    },
    {
     "cell_type": "heading",
     "level": 2,
     "metadata": {},
     "source": [
      "Input"
     ]
    },
    {
     "cell_type": "code",
     "collapsed": false,
     "input": [
      "#events = [[0,0],[0,0],[0,1],[0,1],[1,0],[1,0],[1,1],[1,1],[0,2]]\n",
      "#users = [0,1]\n",
      "#machines = [0,1,2,3]"
     ],
     "language": "python",
     "metadata": {},
     "outputs": [],
     "prompt_number": 2
    },
    {
     "cell_type": "code",
     "collapsed": false,
     "input": [
      "f = open('synthetic.output.txt')\n",
      "\n",
      "all_events = []\n",
      "\n",
      "for line in f:\n",
      "    #print line\n",
      "    contents = line.split()\n",
      "    #print contents\n",
      "    all_events.append([int(contents[0])-1,int(contents[1])-1])\n",
      "\n",
      "f.close()"
     ],
     "language": "python",
     "metadata": {},
     "outputs": [],
     "prompt_number": 3
    },
    {
     "cell_type": "code",
     "collapsed": false,
     "input": [
      "new_events = all_events[100000:110000]\n",
      "events = all_events[:100000]"
     ],
     "language": "python",
     "metadata": {},
     "outputs": [],
     "prompt_number": 4
    },
    {
     "cell_type": "code",
     "collapsed": false,
     "input": [
      "len(events)"
     ],
     "language": "python",
     "metadata": {},
     "outputs": [
      {
       "metadata": {},
       "output_type": "pyout",
       "prompt_number": 5,
       "text": [
        "100000"
       ]
      }
     ],
     "prompt_number": 5
    },
    {
     "cell_type": "code",
     "collapsed": false,
     "input": [
      "len(new_events)"
     ],
     "language": "python",
     "metadata": {},
     "outputs": [
      {
       "metadata": {},
       "output_type": "pyout",
       "prompt_number": 6,
       "text": [
        "10000"
       ]
      }
     ],
     "prompt_number": 6
    },
    {
     "cell_type": "code",
     "collapsed": false,
     "input": [
      "users = []\n",
      "machines = []\n",
      "for event in events:\n",
      "    users.append(event[0])\n",
      "    machines.append(event[1])"
     ],
     "language": "python",
     "metadata": {},
     "outputs": [],
     "prompt_number": 7
    },
    {
     "cell_type": "heading",
     "level": 2,
     "metadata": {},
     "source": [
      "Build the '# accesses' matrix"
     ]
    },
    {
     "cell_type": "code",
     "collapsed": false,
     "input": [
      "N = max(users)+1\n",
      "M = max(machines)+1\n",
      "access = np.matrix([[0.0 for j in xrange(M+1)] for i in xrange(N+1)])\n",
      "\n",
      "print N, M"
     ],
     "language": "python",
     "metadata": {},
     "outputs": [
      {
       "output_type": "stream",
       "stream": "stdout",
       "text": [
        "574 226\n"
       ]
      }
     ],
     "prompt_number": 14
    },
    {
     "cell_type": "code",
     "collapsed": false,
     "input": [
      "for event in events:\n",
      "    access[event[0],event[1]] += 1"
     ],
     "language": "python",
     "metadata": {},
     "outputs": [],
     "prompt_number": 15
    },
    {
     "cell_type": "code",
     "collapsed": false,
     "input": [
      "access"
     ],
     "language": "python",
     "metadata": {},
     "outputs": [
      {
       "metadata": {},
       "output_type": "pyout",
       "prompt_number": 16,
       "text": [
        "matrix([[ 27.,   0.,   0., ...,  21.,   0.,   0.],\n",
        "        [  0.,  14.,   0., ...,   0.,   0.,   0.],\n",
        "        [  0.,   0.,   6., ...,   0.,   0.,   0.],\n",
        "        ..., \n",
        "        [  0.,   0.,   0., ...,   0.,   0.,   0.],\n",
        "        [  0.,   0.,   0., ...,   0.,   1.,   0.],\n",
        "        [  0.,   0.,   0., ...,   0.,   0.,   0.]])"
       ]
      }
     ],
     "prompt_number": 16
    },
    {
     "cell_type": "code",
     "collapsed": false,
     "input": [
      "for i in xrange(N+1):\n",
      "    temp = np.sum(access[i,:-1])\n",
      "    access[i,M] = temp\n",
      "\n",
      "for j in xrange(M+1):\n",
      "    access[N,j] = np.sum(access[:-1,j])"
     ],
     "language": "python",
     "metadata": {},
     "outputs": [],
     "prompt_number": 17
    },
    {
     "cell_type": "code",
     "collapsed": false,
     "input": [
      "access"
     ],
     "language": "python",
     "metadata": {},
     "outputs": [
      {
       "metadata": {},
       "output_type": "pyout",
       "prompt_number": 18,
       "text": [
        "matrix([[  2.70000000e+01,   0.00000000e+00,   0.00000000e+00, ...,\n",
        "           2.10000000e+01,   0.00000000e+00,   9.08000000e+02],\n",
        "        [  0.00000000e+00,   1.40000000e+01,   0.00000000e+00, ...,\n",
        "           0.00000000e+00,   0.00000000e+00,   6.25000000e+02],\n",
        "        [  0.00000000e+00,   0.00000000e+00,   6.00000000e+00, ...,\n",
        "           0.00000000e+00,   0.00000000e+00,   2.25000000e+02],\n",
        "        ..., \n",
        "        [  0.00000000e+00,   0.00000000e+00,   0.00000000e+00, ...,\n",
        "           0.00000000e+00,   0.00000000e+00,   6.30000000e+01],\n",
        "        [  0.00000000e+00,   0.00000000e+00,   0.00000000e+00, ...,\n",
        "           0.00000000e+00,   1.00000000e+00,   4.90000000e+01],\n",
        "        [  5.33000000e+02,   4.75000000e+02,   4.96000000e+02, ...,\n",
        "           5.13000000e+02,   3.47000000e+02,   1.00000000e+05]])"
       ]
      }
     ],
     "prompt_number": 18
    },
    {
     "cell_type": "code",
     "collapsed": false,
     "input": [
      "for u in xrange(N):\n",
      "    if access[u,M] == 0:\n",
      "        access[u,M] = -1\n",
      "        \n",
      "for m in xrange(M):\n",
      "    if access[N,m] == 0:\n",
      "        access[N,m] = -1"
     ],
     "language": "python",
     "metadata": {},
     "outputs": [],
     "prompt_number": 19
    },
    {
     "cell_type": "heading",
     "level": 2,
     "metadata": {},
     "source": [
      "Compute the RP for all user pairs"
     ]
    },
    {
     "cell_type": "code",
     "collapsed": false,
     "input": [
      "RP = np.matrix([[0.0 for j in xrange(N)] for i in xrange(N)])"
     ],
     "language": "python",
     "metadata": {},
     "outputs": [],
     "prompt_number": 20
    },
    {
     "cell_type": "code",
     "collapsed": false,
     "input": [
      "for u in xrange(N):\n",
      "    tot = access[u,M]\n",
      "    for v in xrange(N):\n",
      "        for m in xrange(M):\n",
      "            RP[u,v] += (access[u,m])*(access[v,m]/access[N,m])\n",
      "        RP[u,v] = RP[u,v]/tot"
     ],
     "language": "python",
     "metadata": {},
     "outputs": [],
     "prompt_number": 21
    },
    {
     "cell_type": "code",
     "collapsed": false,
     "input": [
      "RP"
     ],
     "language": "python",
     "metadata": {},
     "outputs": [
      {
       "metadata": {},
       "output_type": "pyout",
       "prompt_number": 22,
       "text": [
        "matrix([[ 0.03868518,  0.        ,  0.        , ...,  0.        ,\n",
        "          0.        ,  0.        ],\n",
        "        [ 0.        ,  0.02640994,  0.        , ...,  0.        ,\n",
        "          0.        ,  0.        ],\n",
        "        [ 0.        ,  0.        ,  0.01079681, ...,  0.        ,\n",
        "          0.        ,  0.        ],\n",
        "        ..., \n",
        "        [ 0.        ,  0.        ,  0.        , ...,  0.0051274 ,\n",
        "          0.00312887,  0.00233508],\n",
        "        [ 0.        ,  0.        ,  0.        , ...,  0.00268189,\n",
        "          0.00544194,  0.00238472],\n",
        "        [ 0.        ,  0.        ,  0.        , ...,  0.00257335,\n",
        "          0.00306606,  0.00455291]])"
       ]
      }
     ],
     "prompt_number": 22
    },
    {
     "cell_type": "heading",
     "level": 2,
     "metadata": {},
     "source": [
      "Compute the factors"
     ]
    },
    {
     "cell_type": "code",
     "collapsed": false,
     "input": [
      "def factor(u,m):\n",
      "    factor = 0\n",
      "    for v in xrange(N):\n",
      "        factor += RP[u,v]*access[v,m]/access[v,M]\n",
      "    return factor"
     ],
     "language": "python",
     "metadata": {},
     "outputs": [],
     "prompt_number": 23
    },
    {
     "cell_type": "code",
     "collapsed": false,
     "input": [
      "factor(0,2)"
     ],
     "language": "python",
     "metadata": {},
     "outputs": [
      {
       "metadata": {},
       "output_type": "pyout",
       "prompt_number": 24,
       "text": [
        "0.0"
       ]
      }
     ],
     "prompt_number": 24
    },
    {
     "cell_type": "heading",
     "level": 2,
     "metadata": {},
     "source": [
      "Validation"
     ]
    },
    {
     "cell_type": "code",
     "collapsed": false,
     "input": [
      "#new_events = events[-100:]\n",
      "#print new_events"
     ],
     "language": "python",
     "metadata": {},
     "outputs": [],
     "prompt_number": 25
    },
    {
     "cell_type": "code",
     "collapsed": false,
     "input": [
      "#new_events = [[0,0],[0,1],[0,2],[1,0],[1,1],[1,2]]"
     ],
     "language": "python",
     "metadata": {},
     "outputs": [],
     "prompt_number": 26
    },
    {
     "cell_type": "code",
     "collapsed": false,
     "input": [
      "factors = []\n",
      "for event in new_events:\n",
      "    if event[0]<N and event[1]<M:\n",
      "        factors.append(factor(event[0],event[1]))\n",
      "    else:\n",
      "        factors.append(-1)"
     ],
     "language": "python",
     "metadata": {},
     "outputs": [],
     "prompt_number": 27
    },
    {
     "cell_type": "code",
     "collapsed": false,
     "input": [
      "[counts, bounds] = np.histogram(factors, bins=10)"
     ],
     "language": "python",
     "metadata": {},
     "outputs": [],
     "prompt_number": 28
    },
    {
     "cell_type": "code",
     "collapsed": false,
     "input": [
      "centers = []\n",
      "for i in xrange(len(bounds)-1):\n",
      "    centers.append((bounds[i]+bounds[i+1])/2)"
     ],
     "language": "python",
     "metadata": {},
     "outputs": [],
     "prompt_number": 29
    },
    {
     "cell_type": "code",
     "collapsed": false,
     "input": [
      "#counts[1] = 1"
     ],
     "language": "python",
     "metadata": {},
     "outputs": [],
     "prompt_number": 30
    },
    {
     "cell_type": "code",
     "collapsed": false,
     "input": [
      "print centers, counts"
     ],
     "language": "python",
     "metadata": {},
     "outputs": [
      {
       "output_type": "stream",
       "stream": "stdout",
       "text": [
        "[0.0011254973928232757, 0.0033764921784698271, 0.005627486964116378, 0.0078784817497629302, 0.010129476535409481, 0.012380471321056033, 0.014631466106702583, 0.016882460892349134, 0.019133455677995688, 0.021384450463642235] [1000    0    0    0    0 1499  726   87 4277 2411]\n"
       ]
      }
     ],
     "prompt_number": 31
    },
    {
     "cell_type": "code",
     "collapsed": false,
     "input": [
      "#plt.bar(centers,counts)"
     ],
     "language": "python",
     "metadata": {},
     "outputs": [],
     "prompt_number": 36
    },
    {
     "cell_type": "code",
     "collapsed": false,
     "input": [
      "#plt.show()"
     ],
     "language": "python",
     "metadata": {},
     "outputs": [],
     "prompt_number": 37
    },
    {
     "cell_type": "code",
     "collapsed": false,
     "input": [
      "#events[0:2]"
     ],
     "language": "python",
     "metadata": {},
     "outputs": [],
     "prompt_number": 38
    },
    {
     "cell_type": "code",
     "collapsed": false,
     "input": [
      "#print factors"
     ],
     "language": "python",
     "metadata": {},
     "outputs": [],
     "prompt_number": 39
    },
    {
     "cell_type": "code",
     "collapsed": false,
     "input": [
      "f_out = open('synthetic_short_factors.txt','w')\n",
      "f_out.write(str(factors))\n",
      "f_out.close()"
     ],
     "language": "python",
     "metadata": {},
     "outputs": [],
     "prompt_number": 40
    },
    {
     "cell_type": "code",
     "collapsed": false,
     "input": [
      "factors.index(-1)"
     ],
     "language": "python",
     "metadata": {},
     "outputs": [
      {
       "ename": "ValueError",
       "evalue": "-1 is not in list",
       "output_type": "pyerr",
       "traceback": [
        "\u001b[0;31m---------------------------------------------------------------------------\u001b[0m\n\u001b[0;31mValueError\u001b[0m                                Traceback (most recent call last)",
        "\u001b[0;32m<ipython-input-41-6eb03daa076a>\u001b[0m in \u001b[0;36m<module>\u001b[0;34m()\u001b[0m\n\u001b[0;32m----> 1\u001b[0;31m \u001b[0mfactors\u001b[0m\u001b[0;34m.\u001b[0m\u001b[0mindex\u001b[0m\u001b[0;34m(\u001b[0m\u001b[0;34m-\u001b[0m\u001b[0;36m1\u001b[0m\u001b[0;34m)\u001b[0m\u001b[0;34m\u001b[0m\u001b[0m\n\u001b[0m",
        "\u001b[0;31mValueError\u001b[0m: -1 is not in list"
       ]
      }
     ],
     "prompt_number": 41
    },
    {
     "cell_type": "code",
     "collapsed": false,
     "input": [
      "f_out = open('synthetic_short_RP.txt','w')\n",
      "for row in RP:\n",
      "    f_out.write(str(row))\n",
      "f_out.close()"
     ],
     "language": "python",
     "metadata": {},
     "outputs": [],
     "prompt_number": 42
    },
    {
     "cell_type": "code",
     "collapsed": false,
     "input": [
      "plt.plot(centers,counts)\n",
      "plt.title('histogram with 10 bins');"
     ],
     "language": "python",
     "metadata": {},
     "outputs": [
      {
       "metadata": {},
       "output_type": "display_data",
       "png": "[encoded data removed]",
       "text": [
        "<matplotlib.figure.Figure at 0x10798add0>"
       ]
      }
     ],
     "prompt_number": 44
    },
    {
     "cell_type": "code",
     "collapsed": false,
     "input": [
      "plt.plot(factors)\n",
      "plt.title('timeline');"
     ],
     "language": "python",
     "metadata": {},
     "outputs": [
      {
       "metadata": {},
       "output_type": "display_data",
       "png": "[encoded data removed]",
       "text": [
        "<matplotlib.figure.Figure at 0x108766950>"
       ]
      }
     ],
     "prompt_number": 45
    },
    {
     "cell_type": "code",
     "collapsed": false,
     "input": [
      "plt.scatter([i for i in xrange(10000)], factors)"
     ],
     "language": "python",
     "metadata": {},
     "outputs": [
      {
       "metadata": {},
       "output_type": "pyout",
       "prompt_number": 46,
       "text": [
        "<matplotlib.collections.PathCollection at 0x1096bfc90>"
       ]
      },
      {
       "metadata": {},
       "output_type": "display_data",
       "png": "[encoded data removed]",
       "text": [
        "<matplotlib.figure.Figure at 0x10962b350>"
       ]
      }
     ],
     "prompt_number": 46
    },
    {
     "cell_type": "code",
     "collapsed": false,
     "input": [
      "import numpy as np\n",
      "import matplotlib.pyplot as plt\n",
      "from scipy.stats import gaussian_kde\n",
      "\n",
      "# Generate fake data\n",
      "#x = np.random.normal(size=1000)\n",
      "#y = x * 3 + np.random.normal(size=1000)\n",
      "\n",
      "# Calculate the point density\n",
      "xy = np.vstack([[i for i in xrange(10000)], factors])\n",
      "#itemindex = numpy.where(np.isfinite(xy)==False)\n",
      "#inf in (xy)\n",
      "z = gaussian_kde(xy)(xy)\n",
      "\n",
      "fig, ax = plt.subplots()\n",
      "ax.scatter([i for i in xrange(10000)], factors, c=z, s=50, edgecolor='')\n",
      "xlabel('factor')\n",
      "ylabel('event')"
     ],
     "language": "python",
     "metadata": {},
     "outputs": [
      {
       "ename": "NameError",
       "evalue": "name 'xlabel' is not defined",
       "output_type": "pyerr",
       "traceback": [
        "\u001b[0;31m---------------------------------------------------------------------------\u001b[0m\n\u001b[0;31mNameError\u001b[0m                                 Traceback (most recent call last)",
        "\u001b[0;32m<ipython-input-47-7ceda3db5b1e>\u001b[0m in \u001b[0;36m<module>\u001b[0;34m()\u001b[0m\n\u001b[1;32m     15\u001b[0m \u001b[0mfig\u001b[0m\u001b[0;34m,\u001b[0m \u001b[0max\u001b[0m \u001b[0;34m=\u001b[0m \u001b[0mplt\u001b[0m\u001b[0;34m.\u001b[0m\u001b[0msubplots\u001b[0m\u001b[0;34m(\u001b[0m\u001b[0;34m)\u001b[0m\u001b[0;34m\u001b[0m\u001b[0m\n\u001b[1;32m     16\u001b[0m \u001b[0max\u001b[0m\u001b[0;34m.\u001b[0m\u001b[0mscatter\u001b[0m\u001b[0;34m(\u001b[0m\u001b[0;34m[\u001b[0m\u001b[0mi\u001b[0m \u001b[0;32mfor\u001b[0m \u001b[0mi\u001b[0m \u001b[0;32min\u001b[0m \u001b[0mxrange\u001b[0m\u001b[0;34m(\u001b[0m\u001b[0;36m10000\u001b[0m\u001b[0;34m)\u001b[0m\u001b[0;34m]\u001b[0m\u001b[0;34m,\u001b[0m \u001b[0mfactors\u001b[0m\u001b[0;34m,\u001b[0m \u001b[0mc\u001b[0m\u001b[0;34m=\u001b[0m\u001b[0mz\u001b[0m\u001b[0;34m,\u001b[0m \u001b[0ms\u001b[0m\u001b[0;34m=\u001b[0m\u001b[0;36m50\u001b[0m\u001b[0;34m,\u001b[0m \u001b[0medgecolor\u001b[0m\u001b[0;34m=\u001b[0m\u001b[0;34m''\u001b[0m\u001b[0;34m)\u001b[0m\u001b[0;34m\u001b[0m\u001b[0m\n\u001b[0;32m---> 17\u001b[0;31m \u001b[0mxlabel\u001b[0m\u001b[0;34m(\u001b[0m\u001b[0;34m'factor'\u001b[0m\u001b[0;34m)\u001b[0m\u001b[0;34m\u001b[0m\u001b[0m\n\u001b[0m\u001b[1;32m     18\u001b[0m \u001b[0mylabel\u001b[0m\u001b[0;34m(\u001b[0m\u001b[0;34m'event'\u001b[0m\u001b[0;34m)\u001b[0m\u001b[0;34m\u001b[0m\u001b[0m\n",
        "\u001b[0;31mNameError\u001b[0m: name 'xlabel' is not defined"
       ]
      },
      {
       "metadata": {},
       "output_type": "display_data",
       "png": "[encoded data removed]",
       "text": [
        "<matplotlib.figure.Figure at 0x10977bf50>"
       ]
      }
     ],
     "prompt_number": 47
    },
    {
     "cell_type": "code",
     "collapsed": false,
     "input": [
      "fig = plt.figure()\n",
      "ax = fig.add_subplot(111)\n",
      "ax.hist(factors,10)"
     ],
     "language": "python",
     "metadata": {},
     "outputs": [
      {
       "metadata": {},
       "output_type": "pyout",
       "prompt_number": 52,
       "text": [
        "(array([ 1000.,     0.,     0.,     0.,     0.,  1499.,   726.,    87.,\n",
        "         4277.,  2411.]),\n",
        " array([ 0.        ,  0.00225099,  0.00450199,  0.00675298,  0.00900398,\n",
        "         0.01125497,  0.01350597,  0.01575696,  0.01800796,  0.02025895,\n",
        "         0.02250995]),\n",
        " <a list of 10 Patch objects>)"
       ]
      },
      {
       "metadata": {},
       "output_type": "display_data",
       "png": "[encoded data removed]",
       "text": [
        "<matplotlib.figure.Figure at 0x10fb0ca50>"
       ]
      }
     ],
     "prompt_number": 52
    },
    {
     "cell_type": "code",
     "collapsed": false,
     "input": [
      "fig = plt.figure()\n",
      "ax = fig.add_subplot(111)\n",
      "ax.hist(RP,10)"
     ],
     "language": "python",
     "metadata": {},
     "outputs": [
      {
       "metadata": {},
       "output_type": "pyout",
       "prompt_number": 55,
       "text": [
        "([array([ 546.,    0.,    0.,    0.,    0.,    0.,    0.,    0.,   17.,   11.]),\n",
        "  array([ 534.,    0.,    0.,    0.,    0.,    0.,   40.,    0.,    0.,    0.]),\n",
        "  array([ 467.,    0.,  107.,    0.,    0.,    0.,    0.,    0.,    0.,    0.]),\n",
        "  array([ 467.,    0.,  107.,    0.,    0.,    0.,    0.,    0.,    0.,    0.]),\n",
        "  array([ 573.,    1.,    0.,    0.,    0.,    0.,    0.,    0.,    0.,    0.]),\n",
        "  array([ 573.,    1.,    0.,    0.,    0.,    0.,    0.,    0.,    0.,    0.]),\n",
        "  array([ 546.,    0.,    0.,    0.,    0.,    0.,    0.,    0.,   19.,    9.]),\n",
        "  array([ 546.,    0.,    0.,    0.,    0.,    0.,    0.,    0.,   27.,    1.]),\n",
        "  array([ 546.,    0.,    0.,    0.,    0.,    0.,    0.,    0.,    7.,   21.]),\n",
        "  array([ 534.,    0.,    0.,    0.,    0.,   39.,    1.,    0.,    0.,    0.]),\n",
        "  array([ 534.,    0.,    0.,    0.,    0.,    0.,   40.,    0.,    0.,    0.]),\n",
        "  array([ 534.,    0.,    0.,    0.,    0.,    0.,   40.,    0.,    0.,    0.]),\n",
        "  array([ 534.,    0.,    0.,    0.,    0.,    0.,   40.,    0.,    0.,    0.]),\n",
        "  array([ 534.,    0.,    0.,    0.,    0.,    0.,   40.,    0.,    0.,    0.]),\n",
        "  array([ 467.,    0.,  107.,    0.,    0.,    0.,    0.,    0.,    0.,    0.]),\n",
        "  array([ 467.,    0.,  107.,    0.,    0.,    0.,    0.,    0.,    0.,    0.]),\n",
        "  array([ 467.,    0.,  107.,    0.,    0.,    0.,    0.,    0.,    0.,    0.]),\n",
        "  array([ 467.,    0.,  107.,    0.,    0.,    0.,    0.,    0.,    0.,    0.]),\n",
        "  array([ 467.,    0.,  107.,    0.,    0.,    0.,    0.,    0.,    0.,    0.]),\n",
        "  array([ 573.,    1.,    0.,    0.,    0.,    0.,    0.,    0.,    0.,    0.]),\n",
        "  array([ 573.,    1.,    0.,    0.,    0.,    0.,    0.,    0.,    0.,    0.]),\n",
        "  array([ 573.,    1.,    0.,    0.,    0.,    0.,    0.,    0.,    0.,    0.]),\n",
        "  array([ 573.,    1.,    0.,    0.,    0.,    0.,    0.,    0.,    0.,    0.]),\n",
        "  array([ 546.,    0.,    0.,    0.,    0.,    0.,    0.,    0.,   27.,    1.]),\n",
        "  array([ 546.,    0.,    0.,    0.,    0.,    0.,    0.,    0.,    0.,   28.]),\n",
        "  array([ 546.,    0.,    0.,    0.,    0.,    0.,    0.,    0.,   27.,    1.]),\n",
        "  array([ 546.,    0.,    0.,    0.,    0.,    0.,    0.,    0.,    0.,   28.]),\n",
        "  array([ 546.,    0.,    0.,    0.,    0.,    0.,    0.,    0.,    0.,   28.]),\n",
        "  array([ 534.,    0.,    0.,    0.,    0.,    3.,   37.,    0.,    0.,    0.]),\n",
        "  array([ 534.,    0.,    0.,    0.,    0.,   31.,    9.,    0.,    0.,    0.]),\n",
        "  array([ 534.,    0.,    0.,    0.,    0.,   39.,    1.,    0.,    0.,    0.]),\n",
        "  array([ 467.,    0.,  106.,    1.,    0.,    0.,    0.,    0.,    0.,    0.]),\n",
        "  array([ 467.,    0.,  107.,    0.,    0.,    0.,    0.,    0.,    0.,    0.]),\n",
        "  array([ 467.,    1.,  106.,    0.,    0.,    0.,    0.,    0.,    0.,    0.]),\n",
        "  array([ 573.,    1.,    0.,    0.,    0.,    0.,    0.,    0.,    0.,    0.]),\n",
        "  array([ 573.,    1.,    0.,    0.,    0.,    0.,    0.,    0.,    0.,    0.]),\n",
        "  array([ 573.,    1.,    0.,    0.,    0.,    0.,    0.,    0.,    0.,    0.]),\n",
        "  array([ 573.,    1.,    0.,    0.,    0.,    0.,    0.,    0.,    0.,    0.]),\n",
        "  array([ 573.,    1.,    0.,    0.,    0.,    0.,    0.,    0.,    0.,    0.]),\n",
        "  array([ 573.,    1.,    0.,    0.,    0.,    0.,    0.,    0.,    0.,    0.]),\n",
        "  array([ 573.,    1.,    0.,    0.,    0.,    0.,    0.,    0.,    0.,    0.]),\n",
        "  array([ 573.,    1.,    0.,    0.,    0.,    0.,    0.,    0.,    0.,    0.]),\n",
        "  array([ 546.,    0.,    0.,    0.,    0.,    0.,    0.,    0.,   27.,    1.]),\n",
        "  array([ 546.,    0.,    0.,    0.,    0.,    0.,    0.,    0.,   27.,    1.]),\n",
        "  array([ 546.,    0.,    0.,    0.,    0.,    0.,    0.,    0.,   28.,    0.]),\n",
        "  array([ 546.,    0.,    0.,    0.,    0.,    0.,    0.,    0.,   25.,    3.]),\n",
        "  array([ 546.,    0.,    0.,    0.,    0.,    0.,    0.,    0.,   28.,    0.]),\n",
        "  array([ 534.,    0.,    0.,    0.,    0.,    9.,   31.,    0.,    0.,    0.]),\n",
        "  array([ 534.,    0.,    0.,    0.,    0.,    0.,   40.,    0.,    0.,    0.]),\n",
        "  array([ 534.,    0.,    0.,    0.,    0.,    0.,   40.,    0.,    0.,    0.]),\n",
        "  array([ 467.,   20.,   87.,    0.,    0.,    0.,    0.,    0.,    0.,    0.]),\n",
        "  array([ 467.,    0.,  107.,    0.,    0.,    0.,    0.,    0.,    0.,    0.]),\n",
        "  array([ 467.,    0.,  107.,    0.,    0.,    0.,    0.,    0.,    0.,    0.]),\n",
        "  array([ 467.,    0.,  107.,    0.,    0.,    0.,    0.,    0.,    0.,    0.]),\n",
        "  array([ 467.,    0.,  107.,    0.,    0.,    0.,    0.,    0.,    0.,    0.]),\n",
        "  array([ 467.,    0.,  107.,    0.,    0.,    0.,    0.,    0.,    0.,    0.]),\n",
        "  array([ 467.,    0.,  107.,    0.,    0.,    0.,    0.,    0.,    0.,    0.]),\n",
        "  array([ 573.,    1.,    0.,    0.,    0.,    0.,    0.,    0.,    0.,    0.]),\n",
        "  array([ 525.,   49.,    0.,    0.,    0.,    0.,    0.,    0.,    0.,    0.]),\n",
        "  array([ 546.,    0.,    0.,    0.,    0.,    0.,    0.,    0.,   28.,    0.]),\n",
        "  array([ 546.,    0.,    0.,    0.,    0.,    0.,    0.,    0.,   17.,   11.]),\n",
        "  array([ 546.,    0.,    0.,    0.,    0.,    0.,    0.,    0.,   24.,    4.]),\n",
        "  array([ 546.,    0.,    0.,    0.,    0.,    0.,    0.,    0.,    2.,   26.]),\n",
        "  array([ 534.,    0.,    0.,    0.,    0.,    0.,   40.,    0.,    0.,    0.]),\n",
        "  array([ 534.,    0.,    0.,    0.,    0.,    0.,   40.,    0.,    0.,    0.]),\n",
        "  array([ 534.,    0.,    0.,    0.,    0.,    0.,   40.,    0.,    0.,    0.]),\n",
        "  array([ 534.,    0.,    0.,    0.,    0.,    0.,   39.,    1.,    0.,    0.]),\n",
        "  array([ 467.,    0.,  107.,    0.,    0.,    0.,    0.,    0.,    0.,    0.]),\n",
        "  array([ 467.,    0.,  106.,    1.,    0.,    0.,    0.,    0.,    0.,    0.]),\n",
        "  array([ 467.,    0.,  107.,    0.,    0.,    0.,    0.,    0.,    0.,    0.]),\n",
        "  array([ 467.,    0.,  107.,    0.,    0.,    0.,    0.,    0.,    0.,    0.]),\n",
        "  array([ 467.,    0.,  107.,    0.,    0.,    0.,    0.,    0.,    0.,    0.]),\n",
        "  array([ 467.,    0.,  107.,    0.,    0.,    0.,    0.,    0.,    0.,    0.]),\n",
        "  array([ 467.,    0.,  107.,    0.,    0.,    0.,    0.,    0.,    0.,    0.]),\n",
        "  array([ 573.,    1.,    0.,    0.,    0.,    0.,    0.,    0.,    0.,    0.]),\n",
        "  array([ 573.,    1.,    0.,    0.,    0.,    0.,    0.,    0.,    0.,    0.]),\n",
        "  array([ 573.,    1.,    0.,    0.,    0.,    0.,    0.,    0.,    0.,    0.]),\n",
        "  array([ 573.,    1.,    0.,    0.,    0.,    0.,    0.,    0.,    0.,    0.]),\n",
        "  array([ 572.,    2.,    0.,    0.,    0.,    0.,    0.,    0.,    0.,    0.]),\n",
        "  array([ 573.,    1.,    0.,    0.,    0.,    0.,    0.,    0.,    0.,    0.]),\n",
        "  array([ 546.,    0.,    0.,    0.,    0.,    0.,    0.,    0.,   27.,    1.]),\n",
        "  array([ 534.,    0.,    0.,    0.,    0.,   19.,   21.,    0.,    0.,    0.]),\n",
        "  array([ 534.,    0.,    0.,    0.,    0.,    0.,   40.,    0.,    0.,    0.]),\n",
        "  array([ 534.,    0.,    0.,    0.,    0.,    0.,   40.,    0.,    0.,    0.]),\n",
        "  array([ 534.,    0.,    0.,    0.,    0.,    1.,   39.,    0.,    0.,    0.]),\n",
        "  array([ 467.,    0.,  107.,    0.,    0.,    0.,    0.,    0.,    0.,    0.]),\n",
        "  array([ 467.,    0.,  106.,    1.,    0.,    0.,    0.,    0.,    0.,    0.]),\n",
        "  array([ 467.,    0.,  107.,    0.,    0.,    0.,    0.,    0.,    0.,    0.]),\n",
        "  array([ 467.,   62.,   45.,    0.,    0.,    0.,    0.,    0.,    0.,    0.]),\n",
        "  array([ 467.,    0.,  106.,    1.,    0.,    0.,    0.,    0.,    0.,    0.]),\n",
        "  array([ 573.,    1.,    0.,    0.,    0.,    0.,    0.,    0.,    0.,    0.]),\n",
        "  array([ 573.,    1.,    0.,    0.,    0.,    0.,    0.,    0.,    0.,    0.]),\n",
        "  array([ 573.,    1.,    0.,    0.,    0.,    0.,    0.,    0.,    0.,    0.]),\n",
        "  array([ 573.,    1.,    0.,    0.,    0.,    0.,    0.,    0.,    0.,    0.]),\n",
        "  array([ 573.,    1.,    0.,    0.,    0.,    0.,    0.,    0.,    0.,    0.]),\n",
        "  array([ 573.,    1.,    0.,    0.,    0.,    0.,    0.,    0.,    0.,    0.]),\n",
        "  array([ 534.,    0.,    0.,    0.,    0.,   34.,    6.,    0.,    0.,    0.]),\n",
        "  array([ 534.,    0.,    0.,    0.,    0.,    7.,   33.,    0.,    0.,    0.]),\n",
        "  array([ 534.,    0.,    0.,    0.,    0.,    5.,   35.,    0.,    0.,    0.]),\n",
        "  array([ 534.,    0.,    0.,    0.,    0.,    0.,   40.,    0.,    0.,    0.]),\n",
        "  array([ 467.,    0.,  107.,    0.,    0.,    0.,    0.,    0.,    0.,    0.]),\n",
        "  array([ 467.,    0.,  107.,    0.,    0.,    0.,    0.,    0.,    0.,    0.]),\n",
        "  array([ 467.,    0.,  107.,    0.,    0.,    0.,    0.,    0.,    0.,    0.]),\n",
        "  array([ 467.,   18.,   89.,    0.,    0.,    0.,    0.,    0.,    0.,    0.]),\n",
        "  array([ 573.,    1.,    0.,    0.,    0.,    0.,    0.,    0.,    0.,    0.]),\n",
        "  array([ 573.,    1.,    0.,    0.,    0.,    0.,    0.,    0.,    0.,    0.]),\n",
        "  array([ 573.,    1.,    0.,    0.,    0.,    0.,    0.,    0.,    0.,    0.]),\n",
        "  array([ 573.,    1.,    0.,    0.,    0.,    0.,    0.,    0.,    0.,    0.]),\n",
        "  array([ 573.,    1.,    0.,    0.,    0.,    0.,    0.,    0.,    0.,    0.]),\n",
        "  array([ 546.,    0.,    0.,    0.,    0.,    0.,    0.,    0.,   28.,    0.]),\n",
        "  array([ 546.,    0.,    0.,    0.,    0.,    0.,    0.,    0.,    0.,   28.]),\n",
        "  array([ 534.,    0.,    0.,    0.,    0.,    0.,   40.,    0.,    0.,    0.]),\n",
        "  array([ 534.,    0.,    0.,    0.,    0.,   27.,   13.,    0.,    0.,    0.]),\n",
        "  array([ 534.,    0.,    0.,    0.,    0.,    0.,   40.,    0.,    0.,    0.]),\n",
        "  array([ 467.,    0.,  107.,    0.,    0.,    0.,    0.,    0.,    0.,    0.]),\n",
        "  array([ 467.,    0.,  107.,    0.,    0.,    0.,    0.,    0.,    0.,    0.]),\n",
        "  array([ 467.,    0.,  107.,    0.,    0.,    0.,    0.,    0.,    0.,    0.]),\n",
        "  array([ 467.,    0.,  107.,    0.,    0.,    0.,    0.,    0.,    0.,    0.]),\n",
        "  array([ 467.,    0.,  107.,    0.,    0.,    0.,    0.,    0.,    0.,    0.]),\n",
        "  array([ 467.,    0.,  107.,    0.,    0.,    0.,    0.,    0.,    0.,    0.]),\n",
        "  array([ 467.,    1.,  106.,    0.,    0.,    0.,    0.,    0.,    0.,    0.]),\n",
        "  array([ 573.,    1.,    0.,    0.,    0.,    0.,    0.,    0.,    0.,    0.]),\n",
        "  array([ 572.,    2.,    0.,    0.,    0.,    0.,    0.,    0.,    0.,    0.]),\n",
        "  array([ 573.,    1.,    0.,    0.,    0.,    0.,    0.,    0.,    0.,    0.]),\n",
        "  array([ 534.,    0.,    0.,    0.,    0.,    6.,   34.,    0.,    0.,    0.]),\n",
        "  array([ 534.,    0.,    0.,    0.,    0.,    0.,   40.,    0.,    0.,    0.]),\n",
        "  array([ 467.,    0.,  107.,    0.,    0.,    0.,    0.,    0.,    0.,    0.]),\n",
        "  array([ 467.,    0.,  107.,    0.,    0.,    0.,    0.,    0.,    0.,    0.]),\n",
        "  array([ 467.,    0.,  107.,    0.,    0.,    0.,    0.,    0.,    0.,    0.]),\n",
        "  array([ 573.,    1.,    0.,    0.,    0.,    0.,    0.,    0.,    0.,    0.]),\n",
        "  array([ 573.,    1.,    0.,    0.,    0.,    0.,    0.,    0.,    0.,    0.]),\n",
        "  array([ 573.,    1.,    0.,    0.,    0.,    0.,    0.,    0.,    0.,    0.]),\n",
        "  array([ 573.,    1.,    0.,    0.,    0.,    0.,    0.,    0.,    0.,    0.]),\n",
        "  array([ 573.,    1.,    0.,    0.,    0.,    0.,    0.,    0.,    0.,    0.]),\n",
        "  array([ 573.,    1.,    0.,    0.,    0.,    0.,    0.,    0.,    0.,    0.]),\n",
        "  array([ 572.,    2.,    0.,    0.,    0.,    0.,    0.,    0.,    0.,    0.]),\n",
        "  array([ 573.,    1.,    0.,    0.,    0.,    0.,    0.,    0.,    0.,    0.]),\n",
        "  array([ 573.,    1.,    0.,    0.,    0.,    0.,    0.,    0.,    0.,    0.]),\n",
        "  array([ 573.,    1.,    0.,    0.,    0.,    0.,    0.,    0.,    0.,    0.]),\n",
        "  array([ 546.,    0.,    0.,    0.,    0.,    0.,    0.,    0.,    0.,   28.]),\n",
        "  array([ 534.,    0.,    0.,    0.,    0.,   33.,    7.,    0.,    0.,    0.]),\n",
        "  array([ 534.,    0.,    0.,    0.,    0.,    0.,   40.,    0.,    0.,    0.]),\n",
        "  array([ 534.,    0.,    0.,    0.,    0.,    3.,   37.,    0.,    0.,    0.]),\n",
        "  array([ 467.,   68.,   39.,    0.,    0.,    0.,    0.,    0.,    0.,    0.]),\n",
        "  array([ 467.,    0.,  107.,    0.,    0.,    0.,    0.,    0.,    0.,    0.]),\n",
        "  array([ 467.,    0.,  107.,    0.,    0.,    0.,    0.,    0.,    0.,    0.]),\n",
        "  array([ 467.,    0.,  107.,    0.,    0.,    0.,    0.,    0.,    0.,    0.]),\n",
        "  array([ 467.,    0.,  107.,    0.,    0.,    0.,    0.,    0.,    0.,    0.]),\n",
        "  array([ 467.,    0.,  106.,    1.,    0.,    0.,    0.,    0.,    0.,    0.]),\n",
        "  array([ 573.,    1.,    0.,    0.,    0.,    0.,    0.,    0.,    0.,    0.]),\n",
        "  array([ 540.,   34.,    0.,    0.,    0.,    0.,    0.,    0.,    0.,    0.]),\n",
        "  array([ 573.,    1.,    0.,    0.,    0.,    0.,    0.,    0.,    0.,    0.]),\n",
        "  array([ 573.,    1.,    0.,    0.,    0.,    0.,    0.,    0.,    0.,    0.]),\n",
        "  array([ 573.,    1.,    0.,    0.,    0.,    0.,    0.,    0.,    0.,    0.]),\n",
        "  array([ 573.,    1.,    0.,    0.,    0.,    0.,    0.,    0.,    0.,    0.]),\n",
        "  array([ 573.,    1.,    0.,    0.,    0.,    0.,    0.,    0.,    0.,    0.]),\n",
        "  array([ 573.,    1.,    0.,    0.,    0.,    0.,    0.,    0.,    0.,    0.]),\n",
        "  array([ 546.,    0.,    0.,    0.,    0.,    0.,    0.,    0.,   27.,    1.]),\n",
        "  array([ 534.,    0.,    0.,    0.,    0.,   23.,   17.,    0.,    0.,    0.]),\n",
        "  array([ 534.,    0.,    0.,    0.,    0.,   36.,    4.,    0.,    0.,    0.]),\n",
        "  array([ 534.,    0.,    0.,    0.,    0.,   18.,   22.,    0.,    0.,    0.]),\n",
        "  array([ 467.,    0.,  107.,    0.,    0.,    0.,    0.,    0.,    0.,    0.]),\n",
        "  array([ 467.,   63.,   44.,    0.,    0.,    0.,    0.,    0.,    0.,    0.]),\n",
        "  array([ 467.,    0.,  107.,    0.,    0.,    0.,    0.,    0.,    0.,    0.]),\n",
        "  array([ 573.,    1.,    0.,    0.,    0.,    0.,    0.,    0.,    0.,    0.]),\n",
        "  array([ 573.,    1.,    0.,    0.,    0.,    0.,    0.,    0.,    0.,    0.]),\n",
        "  array([ 558.,   16.,    0.,    0.,    0.,    0.,    0.,    0.,    0.,    0.]),\n",
        "  array([ 564.,   10.,    0.,    0.,    0.,    0.,    0.,    0.,    0.,    0.]),\n",
        "  array([ 546.,    0.,    0.,    0.,    0.,    0.,    0.,    0.,    4.,   24.]),\n",
        "  array([ 546.,    0.,    0.,    0.,    0.,    0.,    0.,    0.,   27.,    1.]),\n",
        "  array([ 534.,    0.,    0.,    0.,    0.,    0.,   39.,    1.,    0.,    0.]),\n",
        "  array([ 467.,   13.,   94.,    0.,    0.,    0.,    0.,    0.,    0.,    0.]),\n",
        "  array([ 467.,    0.,  106.,    1.,    0.,    0.,    0.,    0.,    0.,    0.]),\n",
        "  array([ 467.,    0.,  107.,    0.,    0.,    0.,    0.,    0.,    0.,    0.]),\n",
        "  array([ 467.,    0.,  107.,    0.,    0.,    0.,    0.,    0.,    0.,    0.]),\n",
        "  array([ 467.,    0.,  107.,    0.,    0.,    0.,    0.,    0.,    0.,    0.]),\n",
        "  array([ 573.,    1.,    0.,    0.,    0.,    0.,    0.,    0.,    0.,    0.]),\n",
        "  array([ 573.,    1.,    0.,    0.,    0.,    0.,    0.,    0.,    0.,    0.]),\n",
        "  array([ 534.,    0.,    0.,    0.,    0.,    0.,   39.,    1.,    0.,    0.]),\n",
        "  array([ 467.,    0.,  107.,    0.,    0.,    0.,    0.,    0.,    0.,    0.]),\n",
        "  array([ 573.,    1.,    0.,    0.,    0.,    0.,    0.,    0.,    0.,    0.]),\n",
        "  array([ 573.,    1.,    0.,    0.,    0.,    0.,    0.,    0.,    0.,    0.]),\n",
        "  array([ 573.,    1.,    0.,    0.,    0.,    0.,    0.,    0.,    0.,    0.]),\n",
        "  array([ 573.,    1.,    0.,    0.,    0.,    0.,    0.,    0.,    0.,    0.]),\n",
        "  array([ 467.,    0.,  107.,    0.,    0.,    0.,    0.,    0.,    0.,    0.]),\n",
        "  array([ 467.,    8.,   99.,    0.,    0.,    0.,    0.,    0.,    0.,    0.]),\n",
        "  array([ 467.,    0.,  107.,    0.,    0.,    0.,    0.,    0.,    0.,    0.]),\n",
        "  array([ 570.,    4.,    0.,    0.,    0.,    0.,    0.,    0.,    0.,    0.]),\n",
        "  array([ 573.,    1.,    0.,    0.,    0.,    0.,    0.,    0.,    0.,    0.]),\n",
        "  array([ 573.,    1.,    0.,    0.,    0.,    0.,    0.,    0.,    0.,    0.]),\n",
        "  array([ 573.,    1.,    0.,    0.,    0.,    0.,    0.,    0.,    0.,    0.]),\n",
        "  array([ 573.,    1.,    0.,    0.,    0.,    0.,    0.,    0.,    0.,    0.]),\n",
        "  array([ 573.,    1.,    0.,    0.,    0.,    0.,    0.,    0.,    0.,    0.]),\n",
        "  array([ 534.,    0.,    0.,    0.,    0.,    3.,   37.,    0.,    0.,    0.]),\n",
        "  array([ 467.,    0.,  107.,    0.,    0.,    0.,    0.,    0.,    0.,    0.]),\n",
        "  array([ 467.,   33.,   74.,    0.,    0.,    0.,    0.,    0.,    0.,    0.]),\n",
        "  array([ 467.,    0.,  107.,    0.,    0.,    0.,    0.,    0.,    0.,    0.]),\n",
        "  array([ 573.,    1.,    0.,    0.,    0.,    0.,    0.,    0.,    0.,    0.]),\n",
        "  array([ 571.,    3.,    0.,    0.,    0.,    0.,    0.,    0.,    0.,    0.]),\n",
        "  array([ 572.,    2.,    0.,    0.,    0.,    0.,    0.,    0.,    0.,    0.]),\n",
        "  array([ 573.,    1.,    0.,    0.,    0.,    0.,    0.,    0.,    0.,    0.]),\n",
        "  array([ 573.,    1.,    0.,    0.,    0.,    0.,    0.,    0.,    0.,    0.]),\n",
        "  array([ 573.,    1.,    0.,    0.,    0.,    0.,    0.,    0.,    0.,    0.]),\n",
        "  array([ 573.,    1.,    0.,    0.,    0.,    0.,    0.,    0.,    0.,    0.]),\n",
        "  array([ 573.,    1.,    0.,    0.,    0.,    0.,    0.,    0.,    0.,    0.]),\n",
        "  array([ 467.,   28.,   79.,    0.,    0.,    0.,    0.,    0.,    0.,    0.]),\n",
        "  array([ 467.,    0.,  107.,    0.,    0.,    0.,    0.,    0.,    0.,    0.]),\n",
        "  array([ 467.,    0.,  107.,    0.,    0.,    0.,    0.,    0.,    0.,    0.]),\n",
        "  array([ 467.,    0.,  107.,    0.,    0.,    0.,    0.,    0.,    0.,    0.]),\n",
        "  array([ 467.,    0.,  106.,    1.,    0.,    0.,    0.,    0.,    0.,    0.]),\n",
        "  array([ 573.,    1.,    0.,    0.,    0.,    0.,    0.,    0.,    0.,    0.]),\n",
        "  array([ 573.,    1.,    0.,    0.,    0.,    0.,    0.,    0.,    0.,    0.]),\n",
        "  array([ 573.,    1.,    0.,    0.,    0.,    0.,    0.,    0.,    0.,    0.]),\n",
        "  array([ 573.,    1.,    0.,    0.,    0.,    0.,    0.,    0.,    0.,    0.]),\n",
        "  array([ 573.,    1.,    0.,    0.,    0.,    0.,    0.,    0.,    0.,    0.]),\n",
        "  array([ 573.,    1.,    0.,    0.,    0.,    0.,    0.,    0.,    0.,    0.]),\n",
        "  array([ 559.,   15.,    0.,    0.,    0.,    0.,    0.,    0.,    0.,    0.]),\n",
        "  array([ 573.,    1.,    0.,    0.,    0.,    0.,    0.,    0.,    0.,    0.]),\n",
        "  array([ 467.,    0.,  107.,    0.,    0.,    0.,    0.,    0.,    0.,    0.]),\n",
        "  array([ 467.,   46.,   61.,    0.,    0.,    0.,    0.,    0.,    0.,    0.]),\n",
        "  array([ 573.,    1.,    0.,    0.,    0.,    0.,    0.,    0.,    0.,    0.]),\n",
        "  array([ 573.,    1.,    0.,    0.,    0.,    0.,    0.,    0.,    0.,    0.]),\n",
        "  array([ 573.,    1.,    0.,    0.,    0.,    0.,    0.,    0.,    0.,    0.]),\n",
        "  array([ 573.,    1.,    0.,    0.,    0.,    0.,    0.,    0.,    0.,    0.]),\n",
        "  array([ 467.,    0.,  107.,    0.,    0.,    0.,    0.,    0.,    0.,    0.]),\n",
        "  array([ 467.,    0.,  107.,    0.,    0.,    0.,    0.,    0.,    0.,    0.]),\n",
        "  array([ 467.,    0.,  106.,    1.,    0.,    0.,    0.,    0.,    0.,    0.]),\n",
        "  array([ 573.,    1.,    0.,    0.,    0.,    0.,    0.,    0.,    0.,    0.]),\n",
        "  array([ 573.,    1.,    0.,    0.,    0.,    0.,    0.,    0.,    0.,    0.]),\n",
        "  array([ 467.,    0.,  107.,    0.,    0.,    0.,    0.,    0.,    0.,    0.]),\n",
        "  array([ 467.,    0.,  107.,    0.,    0.,    0.,    0.,    0.,    0.,    0.]),\n",
        "  array([ 467.,    0.,  107.,    0.,    0.,    0.,    0.,    0.,    0.,    0.]),\n",
        "  array([ 574.,    0.,    0.,    0.,    0.,    0.,    0.,    0.,    0.,    0.]),\n",
        "  array([ 573.,    1.,    0.,    0.,    0.,    0.,    0.,    0.,    0.,    0.]),\n",
        "  array([ 573.,    1.,    0.,    0.,    0.,    0.,    0.,    0.,    0.,    0.]),\n",
        "  array([ 573.,    1.,    0.,    0.,    0.,    0.,    0.,    0.,    0.,    0.]),\n",
        "  array([ 573.,    1.,    0.,    0.,    0.,    0.,    0.,    0.,    0.,    0.]),\n",
        "  array([ 573.,    1.,    0.,    0.,    0.,    0.,    0.,    0.,    0.,    0.]),\n",
        "  array([ 573.,    1.,    0.,    0.,    0.,    0.,    0.,    0.,    0.,    0.]),\n",
        "  array([ 573.,    1.,    0.,    0.,    0.,    0.,    0.,    0.,    0.,    0.]),\n",
        "  array([ 573.,    1.,    0.,    0.,    0.,    0.,    0.,    0.,    0.,    0.]),\n",
        "  array([ 534.,    0.,    0.,    0.,    0.,    0.,   40.,    0.,    0.,    0.]),\n",
        "  array([ 571.,    3.,    0.,    0.,    0.,    0.,    0.,    0.,    0.,    0.]),\n",
        "  array([ 573.,    1.,    0.,    0.,    0.,    0.,    0.,    0.,    0.,    0.]),\n",
        "  array([ 573.,    1.,    0.,    0.,    0.,    0.,    0.,    0.,    0.,    0.]),\n",
        "  array([ 467.,    1.,  106.,    0.,    0.,    0.,    0.,    0.,    0.,    0.]),\n",
        "  array([ 573.,    1.,    0.,    0.,    0.,    0.,    0.,    0.,    0.,    0.]),\n",
        "  array([ 573.,    1.,    0.,    0.,    0.,    0.,    0.,    0.,    0.,    0.]),\n",
        "  array([ 573.,    1.,    0.,    0.,    0.,    0.,    0.,    0.,    0.,    0.]),\n",
        "  array([ 573.,    1.,    0.,    0.,    0.,    0.,    0.,    0.,    0.,    0.]),\n",
        "  array([ 574.,    0.,    0.,    0.,    0.,    0.,    0.,    0.,    0.,    0.]),\n",
        "  array([ 573.,    1.,    0.,    0.,    0.,    0.,    0.,    0.,    0.,    0.]),\n",
        "  array([ 573.,    1.,    0.,    0.,    0.,    0.,    0.,    0.,    0.,    0.]),\n",
        "  array([ 546.,    0.,    0.,    0.,    0.,    0.,    0.,    0.,   27.,    1.]),\n",
        "  array([ 467.,    0.,  106.,    1.,    0.,    0.,    0.,    0.,    0.,    0.]),\n",
        "  array([ 573.,    1.,    0.,    0.,    0.,    0.,    0.,    0.,    0.,    0.]),\n",
        "  array([ 573.,    1.,    0.,    0.,    0.,    0.,    0.,    0.,    0.,    0.]),\n",
        "  array([ 573.,    1.,    0.,    0.,    0.,    0.,    0.,    0.,    0.,    0.]),\n",
        "  array([ 573.,    1.,    0.,    0.,    0.,    0.,    0.,    0.,    0.,    0.]),\n",
        "  array([ 573.,    1.,    0.,    0.,    0.,    0.,    0.,    0.,    0.,    0.]),\n",
        "  array([ 573.,    1.,    0.,    0.,    0.,    0.,    0.,    0.,    0.,    0.]),\n",
        "  array([ 573.,    1.,    0.,    0.,    0.,    0.,    0.,    0.,    0.,    0.]),\n",
        "  array([ 572.,    2.,    0.,    0.,    0.,    0.,    0.,    0.,    0.,    0.]),\n",
        "  array([ 573.,    1.,    0.,    0.,    0.,    0.,    0.,    0.,    0.,    0.]),\n",
        "  array([ 573.,    1.,    0.,    0.,    0.,    0.,    0.,    0.,    0.,    0.]),\n",
        "  array([ 573.,    1.,    0.,    0.,    0.,    0.,    0.,    0.,    0.,    0.]),\n",
        "  array([ 546.,    0.,    0.,    0.,    0.,    0.,    0.,    0.,    6.,   22.]),\n",
        "  array([ 467.,    0.,  107.,    0.,    0.,    0.,    0.,    0.,    0.,    0.]),\n",
        "  array([ 573.,    1.,    0.,    0.,    0.,    0.,    0.,    0.,    0.,    0.]),\n",
        "  array([ 573.,    1.,    0.,    0.,    0.,    0.,    0.,    0.,    0.,    0.]),\n",
        "  array([ 571.,    3.,    0.,    0.,    0.,    0.,    0.,    0.,    0.,    0.]),\n",
        "  array([ 467.,    1.,  106.,    0.,    0.,    0.,    0.,    0.,    0.,    0.]),\n",
        "  array([ 467.,    0.,  107.,    0.,    0.,    0.,    0.,    0.,    0.,    0.]),\n",
        "  array([ 467.,    0.,  106.,    1.,    0.,    0.,    0.,    0.,    0.,    0.]),\n",
        "  array([ 573.,    1.,    0.,    0.,    0.,    0.,    0.,    0.,    0.,    0.]),\n",
        "  array([ 571.,    3.,    0.,    0.,    0.,    0.,    0.,    0.,    0.,    0.]),\n",
        "  array([ 573.,    1.,    0.,    0.,    0.,    0.,    0.,    0.,    0.,    0.]),\n",
        "  array([ 572.,    2.,    0.,    0.,    0.,    0.,    0.,    0.,    0.,    0.]),\n",
        "  array([ 467.,    7.,  100.,    0.,    0.,    0.,    0.,    0.,    0.,    0.]),\n",
        "  array([ 573.,    1.,    0.,    0.,    0.,    0.,    0.,    0.,    0.,    0.]),\n",
        "  array([ 573.,    1.,    0.,    0.,    0.,    0.,    0.,    0.,    0.,    0.]),\n",
        "  array([ 573.,    1.,    0.,    0.,    0.,    0.,    0.,    0.,    0.,    0.]),\n",
        "  array([ 571.,    3.,    0.,    0.,    0.,    0.,    0.,    0.,    0.,    0.]),\n",
        "  array([ 573.,    1.,    0.,    0.,    0.,    0.,    0.,    0.,    0.,    0.]),\n",
        "  array([ 573.,    1.,    0.,    0.,    0.,    0.,    0.,    0.,    0.,    0.]),\n",
        "  array([ 546.,    0.,    0.,    0.,    0.,    0.,    0.,    0.,   28.,    0.]),\n",
        "  array([ 534.,    0.,    0.,    0.,    0.,    0.,   39.,    1.,    0.,    0.]),\n",
        "  array([ 467.,    0.,  107.,    0.,    0.,    0.,    0.,    0.,    0.,    0.]),\n",
        "  array([ 573.,    1.,    0.,    0.,    0.,    0.,    0.,    0.,    0.,    0.]),\n",
        "  array([ 573.,    1.,    0.,    0.,    0.,    0.,    0.,    0.,    0.,    0.]),\n",
        "  array([ 573.,    1.,    0.,    0.,    0.,    0.,    0.,    0.,    0.,    0.]),\n",
        "  array([ 573.,    1.,    0.,    0.,    0.,    0.,    0.,    0.,    0.,    0.]),\n",
        "  array([ 573.,    1.,    0.,    0.,    0.,    0.,    0.,    0.,    0.,    0.]),\n",
        "  array([ 467.,    1.,  106.,    0.,    0.,    0.,    0.,    0.,    0.,    0.]),\n",
        "  array([ 573.,    1.,    0.,    0.,    0.,    0.,    0.,    0.,    0.,    0.]),\n",
        "  array([ 573.,    1.,    0.,    0.,    0.,    0.,    0.,    0.,    0.,    0.]),\n",
        "  array([ 573.,    1.,    0.,    0.,    0.,    0.,    0.,    0.,    0.,    0.]),\n",
        "  array([ 573.,    1.,    0.,    0.,    0.,    0.,    0.,    0.,    0.,    0.]),\n",
        "  array([ 573.,    1.,    0.,    0.,    0.,    0.,    0.,    0.,    0.,    0.]),\n",
        "  array([ 572.,    2.,    0.,    0.,    0.,    0.,    0.,    0.,    0.,    0.]),\n",
        "  array([ 573.,    1.,    0.,    0.,    0.,    0.,    0.,    0.,    0.,    0.]),\n",
        "  array([ 573.,    1.,    0.,    0.,    0.,    0.,    0.,    0.,    0.,    0.]),\n",
        "  array([ 573.,    1.,    0.,    0.,    0.,    0.,    0.,    0.,    0.,    0.]),\n",
        "  array([ 467.,    0.,  106.,    1.,    0.,    0.,    0.,    0.,    0.,    0.]),\n",
        "  array([ 573.,    1.,    0.,    0.,    0.,    0.,    0.,    0.,    0.,    0.]),\n",
        "  array([ 573.,    1.,    0.,    0.,    0.,    0.,    0.,    0.,    0.,    0.]),\n",
        "  array([ 573.,    1.,    0.,    0.,    0.,    0.,    0.,    0.,    0.,    0.]),\n",
        "  array([ 573.,    1.,    0.,    0.,    0.,    0.,    0.,    0.,    0.,    0.]),\n",
        "  array([ 573.,    1.,    0.,    0.,    0.,    0.,    0.,    0.,    0.,    0.]),\n",
        "  array([ 573.,    1.,    0.,    0.,    0.,    0.,    0.,    0.,    0.,    0.]),\n",
        "  array([ 573.,    1.,    0.,    0.,    0.,    0.,    0.,    0.,    0.,    0.]),\n",
        "  array([ 573.,    1.,    0.,    0.,    0.,    0.,    0.,    0.,    0.,    0.]),\n",
        "  array([ 573.,    1.,    0.,    0.,    0.,    0.,    0.,    0.,    0.,    0.]),\n",
        "  array([ 467.,    7.,  100.,    0.,    0.,    0.,    0.,    0.,    0.,    0.]),\n",
        "  array([ 467.,   29.,   78.,    0.,    0.,    0.,    0.,    0.,    0.,    0.]),\n",
        "  array([ 561.,   13.,    0.,    0.,    0.,    0.,    0.,    0.,    0.,    0.]),\n",
        "  array([ 573.,    1.,    0.,    0.,    0.,    0.,    0.,    0.,    0.,    0.]),\n",
        "  array([ 467.,    0.,  107.,    0.,    0.,    0.,    0.,    0.,    0.,    0.]),\n",
        "  array([ 573.,    1.,    0.,    0.,    0.,    0.,    0.,    0.,    0.,    0.]),\n",
        "  array([ 573.,    1.,    0.,    0.,    0.,    0.,    0.,    0.,    0.,    0.]),\n",
        "  array([ 573.,    1.,    0.,    0.,    0.,    0.,    0.,    0.,    0.,    0.]),\n",
        "  array([ 573.,    1.,    0.,    0.,    0.,    0.,    0.,    0.,    0.,    0.]),\n",
        "  array([ 467.,    0.,  107.,    0.,    0.,    0.,    0.,    0.,    0.,    0.]),\n",
        "  array([ 573.,    1.,    0.,    0.,    0.,    0.,    0.,    0.,    0.,    0.]),\n",
        "  array([ 467.,    0.,  107.,    0.,    0.,    0.,    0.,    0.,    0.,    0.]),\n",
        "  array([ 573.,    1.,    0.,    0.,    0.,    0.,    0.,    0.,    0.,    0.]),\n",
        "  array([ 573.,    1.,    0.,    0.,    0.,    0.,    0.,    0.,    0.,    0.]),\n",
        "  array([ 571.,    3.,    0.,    0.,    0.,    0.,    0.,    0.,    0.,    0.]),\n",
        "  array([ 467.,    0.,  107.,    0.,    0.,    0.,    0.,    0.,    0.,    0.]),\n",
        "  array([ 467.,    0.,  107.,    0.,    0.,    0.,    0.,    0.,    0.,    0.]),\n",
        "  array([ 573.,    1.,    0.,    0.,    0.,    0.,    0.,    0.,    0.,    0.]),\n",
        "  array([ 573.,    1.,    0.,    0.,    0.,    0.,    0.,    0.,    0.,    0.]),\n",
        "  array([ 572.,    2.,    0.,    0.,    0.,    0.,    0.,    0.,    0.,    0.]),\n",
        "  array([ 573.,    1.,    0.,    0.,    0.,    0.,    0.,    0.,    0.,    0.]),\n",
        "  array([ 573.,    1.,    0.,    0.,    0.,    0.,    0.,    0.,    0.,    0.]),\n",
        "  array([ 569.,    5.,    0.,    0.,    0.,    0.,    0.,    0.,    0.,    0.]),\n",
        "  array([ 573.,    1.,    0.,    0.,    0.,    0.,    0.,    0.,    0.,    0.]),\n",
        "  array([ 573.,    1.,    0.,    0.,    0.,    0.,    0.,    0.,    0.,    0.]),\n",
        "  array([ 467.,    0.,  107.,    0.,    0.,    0.,    0.,    0.,    0.,    0.]),\n",
        "  array([ 573.,    1.,    0.,    0.,    0.,    0.,    0.,    0.,    0.,    0.]),\n",
        "  array([ 467.,    0.,  107.,    0.,    0.,    0.,    0.,    0.,    0.,    0.]),\n",
        "  array([ 467.,    0.,  107.,    0.,    0.,    0.,    0.,    0.,    0.,    0.]),\n",
        "  array([ 573.,    1.,    0.,    0.,    0.,    0.,    0.,    0.,    0.,    0.]),\n",
        "  array([ 573.,    1.,    0.,    0.,    0.,    0.,    0.,    0.,    0.,    0.]),\n",
        "  array([ 573.,    1.,    0.,    0.,    0.,    0.,    0.,    0.,    0.,    0.]),\n",
        "  array([ 573.,    1.,    0.,    0.,    0.,    0.,    0.,    0.,    0.,    0.]),\n",
        "  array([ 573.,    1.,    0.,    0.,    0.,    0.,    0.,    0.,    0.,    0.]),\n",
        "  array([ 573.,    1.,    0.,    0.,    0.,    0.,    0.,    0.,    0.,    0.]),\n",
        "  array([ 573.,    1.,    0.,    0.,    0.,    0.,    0.,    0.,    0.,    0.]),\n",
        "  array([ 467.,    0.,  107.,    0.,    0.,    0.,    0.,    0.,    0.,    0.]),\n",
        "  array([ 573.,    1.,    0.,    0.,    0.,    0.,    0.,    0.,    0.,    0.]),\n",
        "  array([ 568.,    6.,    0.,    0.,    0.,    0.,    0.,    0.,    0.,    0.]),\n",
        "  array([ 573.,    1.,    0.,    0.,    0.,    0.,    0.,    0.,    0.,    0.]),\n",
        "  array([ 573.,    1.,    0.,    0.,    0.,    0.,    0.,    0.,    0.,    0.]),\n",
        "  array([ 573.,    1.,    0.,    0.,    0.,    0.,    0.,    0.,    0.,    0.]),\n",
        "  array([ 467.,  100.,    7.,    0.,    0.,    0.,    0.,    0.,    0.,    0.]),\n",
        "  array([ 573.,    1.,    0.,    0.,    0.,    0.,    0.,    0.,    0.,    0.]),\n",
        "  array([ 573.,    1.,    0.,    0.,    0.,    0.,    0.,    0.,    0.,    0.]),\n",
        "  array([ 573.,    1.,    0.,    0.,    0.,    0.,    0.,    0.,    0.,    0.]),\n",
        "  array([ 572.,    2.,    0.,    0.,    0.,    0.,    0.,    0.,    0.,    0.]),\n",
        "  array([ 573.,    1.,    0.,    0.,    0.,    0.,    0.,    0.,    0.,    0.]),\n",
        "  array([ 467.,    4.,  103.,    0.,    0.,    0.,    0.,    0.,    0.,    0.]),\n",
        "  array([ 467.,    0.,  107.,    0.,    0.,    0.,    0.,    0.,    0.,    0.]),\n",
        "  array([ 573.,    1.,    0.,    0.,    0.,    0.,    0.,    0.,    0.,    0.]),\n",
        "  array([ 573.,    1.,    0.,    0.,    0.,    0.,    0.,    0.,    0.,    0.]),\n",
        "  array([ 573.,    1.,    0.,    0.,    0.,    0.,    0.,    0.,    0.,    0.]),\n",
        "  array([ 573.,    1.,    0.,    0.,    0.,    0.,    0.,    0.,    0.,    0.]),\n",
        "  array([ 559.,   15.,    0.,    0.,    0.,    0.,    0.,    0.,    0.,    0.]),\n",
        "  array([ 467.,    0.,  107.,    0.,    0.,    0.,    0.,    0.,    0.,    0.]),\n",
        "  array([ 573.,    1.,    0.,    0.,    0.,    0.,    0.,    0.,    0.,    0.]),\n",
        "  array([ 467.,    0.,  107.,    0.,    0.,    0.,    0.,    0.,    0.,    0.]),\n",
        "  array([ 573.,    1.,    0.,    0.,    0.,    0.,    0.,    0.,    0.,    0.]),\n",
        "  array([ 573.,    1.,    0.,    0.,    0.,    0.,    0.,    0.,    0.,    0.]),\n",
        "  array([ 467.,    0.,  107.,    0.,    0.,    0.,    0.,    0.,    0.,    0.]),\n",
        "  array([ 573.,    1.,    0.,    0.,    0.,    0.,    0.,    0.,    0.,    0.]),\n",
        "  array([ 573.,    1.,    0.,    0.,    0.,    0.,    0.,    0.,    0.,    0.]),\n",
        "  array([ 573.,    1.,    0.,    0.,    0.,    0.,    0.,    0.,    0.,    0.]),\n",
        "  array([ 573.,    1.,    0.,    0.,    0.,    0.,    0.,    0.,    0.,    0.]),\n",
        "  array([ 573.,    1.,    0.,    0.,    0.,    0.,    0.,    0.,    0.,    0.]),\n",
        "  array([ 573.,    1.,    0.,    0.,    0.,    0.,    0.,    0.,    0.,    0.]),\n",
        "  array([ 573.,    1.,    0.,    0.,    0.,    0.,    0.,    0.,    0.,    0.]),\n",
        "  array([ 573.,    1.,    0.,    0.,    0.,    0.,    0.,    0.,    0.,    0.]),\n",
        "  array([ 573.,    1.,    0.,    0.,    0.,    0.,    0.,    0.,    0.,    0.]),\n",
        "  array([ 467.,    0.,  106.,    1.,    0.,    0.,    0.,    0.,    0.,    0.]),\n",
        "  array([ 573.,    1.,    0.,    0.,    0.,    0.,    0.,    0.,    0.,    0.]),\n",
        "  array([ 573.,    1.,    0.,    0.,    0.,    0.,    0.,    0.,    0.,    0.]),\n",
        "  array([ 570.,    4.,    0.,    0.,    0.,    0.,    0.,    0.,    0.,    0.]),\n",
        "  array([ 573.,    1.,    0.,    0.,    0.,    0.,    0.,    0.,    0.,    0.]),\n",
        "  array([ 572.,    2.,    0.,    0.,    0.,    0.,    0.,    0.,    0.,    0.]),\n",
        "  array([ 573.,    1.,    0.,    0.,    0.,    0.,    0.,    0.,    0.,    0.]),\n",
        "  array([ 573.,    1.,    0.,    0.,    0.,    0.,    0.,    0.,    0.,    0.]),\n",
        "  array([ 573.,    1.,    0.,    0.,    0.,    0.,    0.,    0.,    0.,    0.]),\n",
        "  array([ 573.,    1.,    0.,    0.,    0.,    0.,    0.,    0.,    0.,    0.]),\n",
        "  array([ 565.,    9.,    0.,    0.,    0.,    0.,    0.,    0.,    0.,    0.]),\n",
        "  array([ 573.,    1.,    0.,    0.,    0.,    0.,    0.,    0.,    0.,    0.]),\n",
        "  array([ 573.,    1.,    0.,    0.,    0.,    0.,    0.,    0.,    0.,    0.]),\n",
        "  array([ 573.,    1.,    0.,    0.,    0.,    0.,    0.,    0.,    0.,    0.]),\n",
        "  array([ 573.,    1.,    0.,    0.,    0.,    0.,    0.,    0.,    0.,    0.]),\n",
        "  array([ 565.,    9.,    0.,    0.,    0.,    0.,    0.,    0.,    0.,    0.]),\n",
        "  array([ 572.,    2.,    0.,    0.,    0.,    0.,    0.,    0.,    0.,    0.]),\n",
        "  array([ 573.,    1.,    0.,    0.,    0.,    0.,    0.,    0.,    0.,    0.]),\n",
        "  array([ 573.,    1.,    0.,    0.,    0.,    0.,    0.,    0.,    0.,    0.]),\n",
        "  array([ 573.,    1.,    0.,    0.,    0.,    0.,    0.,    0.,    0.,    0.]),\n",
        "  array([ 558.,   16.,    0.,    0.,    0.,    0.,    0.,    0.,    0.,    0.]),\n",
        "  array([ 573.,    1.,    0.,    0.,    0.,    0.,    0.,    0.,    0.,    0.]),\n",
        "  array([ 573.,    1.,    0.,    0.,    0.,    0.,    0.,    0.,    0.,    0.]),\n",
        "  array([ 573.,    1.,    0.,    0.,    0.,    0.,    0.,    0.,    0.,    0.]),\n",
        "  array([ 573.,    1.,    0.,    0.,    0.,    0.,    0.,    0.,    0.,    0.]),\n",
        "  array([ 573.,    1.,    0.,    0.,    0.,    0.,    0.,    0.,    0.,    0.]),\n",
        "  array([ 573.,    1.,    0.,    0.,    0.,    0.,    0.,    0.,    0.,    0.]),\n",
        "  array([ 573.,    1.,    0.,    0.,    0.,    0.,    0.,    0.,    0.,    0.]),\n",
        "  array([ 573.,    1.,    0.,    0.,    0.,    0.,    0.,    0.,    0.,    0.]),\n",
        "  array([ 573.,    1.,    0.,    0.,    0.,    0.,    0.,    0.,    0.,    0.]),\n",
        "  array([ 573.,    1.,    0.,    0.,    0.,    0.,    0.,    0.,    0.,    0.]),\n",
        "  array([ 573.,    1.,    0.,    0.,    0.,    0.,    0.,    0.,    0.,    0.]),\n",
        "  array([ 573.,    1.,    0.,    0.,    0.,    0.,    0.,    0.,    0.,    0.]),\n",
        "  array([ 573.,    1.,    0.,    0.,    0.,    0.,    0.,    0.,    0.,    0.]),\n",
        "  array([ 573.,    1.,    0.,    0.,    0.,    0.,    0.,    0.,    0.,    0.]),\n",
        "  array([ 573.,    1.,    0.,    0.,    0.,    0.,    0.,    0.,    0.,    0.]),\n",
        "  array([ 573.,    1.,    0.,    0.,    0.,    0.,    0.,    0.,    0.,    0.]),\n",
        "  array([ 573.,    1.,    0.,    0.,    0.,    0.,    0.,    0.,    0.,    0.]),\n",
        "  array([ 573.,    1.,    0.,    0.,    0.,    0.,    0.,    0.,    0.,    0.]),\n",
        "  array([ 573.,    1.,    0.,    0.,    0.,    0.,    0.,    0.,    0.,    0.]),\n",
        "  array([ 573.,    1.,    0.,    0.,    0.,    0.,    0.,    0.,    0.,    0.]),\n",
        "  array([ 573.,    1.,    0.,    0.,    0.,    0.,    0.,    0.,    0.,    0.]),\n",
        "  array([ 467.,    0.,  107.,    0.,    0.,    0.,    0.,    0.,    0.,    0.]),\n",
        "  array([ 573.,    1.,    0.,    0.,    0.,    0.,    0.,    0.,    0.,    0.]),\n",
        "  array([ 573.,    1.,    0.,    0.,    0.,    0.,    0.,    0.,    0.,    0.]),\n",
        "  array([ 573.,    1.,    0.,    0.,    0.,    0.,    0.,    0.,    0.,    0.]),\n",
        "  array([ 573.,    1.,    0.,    0.,    0.,    0.,    0.,    0.,    0.,    0.]),\n",
        "  array([ 573.,    1.,    0.,    0.,    0.,    0.,    0.,    0.,    0.,    0.]),\n",
        "  array([ 573.,    1.,    0.,    0.,    0.,    0.,    0.,    0.,    0.,    0.]),\n",
        "  array([ 573.,    1.,    0.,    0.,    0.,    0.,    0.,    0.,    0.,    0.]),\n",
        "  array([ 573.,    1.,    0.,    0.,    0.,    0.,    0.,    0.,    0.,    0.]),\n",
        "  array([ 573.,    1.,    0.,    0.,    0.,    0.,    0.,    0.,    0.,    0.]),\n",
        "  array([ 573.,    1.,    0.,    0.,    0.,    0.,    0.,    0.,    0.,    0.]),\n",
        "  array([ 573.,    1.,    0.,    0.,    0.,    0.,    0.,    0.,    0.,    0.]),\n",
        "  array([ 573.,    1.,    0.,    0.,    0.,    0.,    0.,    0.,    0.,    0.]),\n",
        "  array([ 569.,    5.,    0.,    0.,    0.,    0.,    0.,    0.,    0.,    0.]),\n",
        "  array([ 573.,    1.,    0.,    0.,    0.,    0.,    0.,    0.,    0.,    0.]),\n",
        "  array([ 573.,    1.,    0.,    0.,    0.,    0.,    0.,    0.,    0.,    0.]),\n",
        "  array([ 573.,    1.,    0.,    0.,    0.,    0.,    0.,    0.,    0.,    0.]),\n",
        "  array([ 571.,    3.,    0.,    0.,    0.,    0.,    0.,    0.,    0.,    0.]),\n",
        "  array([ 573.,    1.,    0.,    0.,    0.,    0.,    0.,    0.,    0.,    0.]),\n",
        "  array([ 573.,    1.,    0.,    0.,    0.,    0.,    0.,    0.,    0.,    0.]),\n",
        "  array([ 573.,    1.,    0.,    0.,    0.,    0.,    0.,    0.,    0.,    0.]),\n",
        "  array([ 573.,    1.,    0.,    0.,    0.,    0.,    0.,    0.,    0.,    0.]),\n",
        "  array([ 573.,    1.,    0.,    0.,    0.,    0.,    0.,    0.,    0.,    0.]),\n",
        "  array([ 573.,    1.,    0.,    0.,    0.,    0.,    0.,    0.,    0.,    0.]),\n",
        "  array([ 573.,    1.,    0.,    0.,    0.,    0.,    0.,    0.,    0.,    0.]),\n",
        "  array([ 573.,    1.,    0.,    0.,    0.,    0.,    0.,    0.,    0.,    0.]),\n",
        "  array([ 573.,    1.,    0.,    0.,    0.,    0.,    0.,    0.,    0.,    0.]),\n",
        "  array([ 573.,    1.,    0.,    0.,    0.,    0.,    0.,    0.,    0.,    0.]),\n",
        "  array([ 573.,    1.,    0.,    0.,    0.,    0.,    0.,    0.,    0.,    0.]),\n",
        "  array([ 573.,    1.,    0.,    0.,    0.,    0.,    0.,    0.,    0.,    0.]),\n",
        "  array([ 573.,    1.,    0.,    0.,    0.,    0.,    0.,    0.,    0.,    0.]),\n",
        "  array([ 573.,    1.,    0.,    0.,    0.,    0.,    0.,    0.,    0.,    0.]),\n",
        "  array([ 573.,    1.,    0.,    0.,    0.,    0.,    0.,    0.,    0.,    0.]),\n",
        "  array([ 573.,    1.,    0.,    0.,    0.,    0.,    0.,    0.,    0.,    0.]),\n",
        "  array([ 564.,   10.,    0.,    0.,    0.,    0.,    0.,    0.,    0.,    0.]),\n",
        "  array([ 573.,    1.,    0.,    0.,    0.,    0.,    0.,    0.,    0.,    0.]),\n",
        "  array([ 573.,    1.,    0.,    0.,    0.,    0.,    0.,    0.,    0.,    0.]),\n",
        "  array([ 570.,    4.,    0.,    0.,    0.,    0.,    0.,    0.,    0.,    0.]),\n",
        "  array([ 569.,    5.,    0.,    0.,    0.,    0.,    0.,    0.,    0.,    0.]),\n",
        "  array([ 573.,    1.,    0.,    0.,    0.,    0.,    0.,    0.,    0.,    0.]),\n",
        "  array([ 573.,    1.,    0.,    0.,    0.,    0.,    0.,    0.,    0.,    0.]),\n",
        "  array([ 573.,    1.,    0.,    0.,    0.,    0.,    0.,    0.,    0.,    0.]),\n",
        "  array([ 573.,    1.,    0.,    0.,    0.,    0.,    0.,    0.,    0.,    0.]),\n",
        "  array([ 467.,    0.,  107.,    0.,    0.,    0.,    0.,    0.,    0.,    0.]),\n",
        "  array([ 573.,    1.,    0.,    0.,    0.,    0.,    0.,    0.,    0.,    0.]),\n",
        "  array([ 573.,    1.,    0.,    0.,    0.,    0.,    0.,    0.,    0.,    0.]),\n",
        "  array([ 573.,    1.,    0.,    0.,    0.,    0.,    0.,    0.,    0.,    0.]),\n",
        "  array([ 573.,    1.,    0.,    0.,    0.,    0.,    0.,    0.,    0.,    0.]),\n",
        "  array([ 573.,    1.,    0.,    0.,    0.,    0.,    0.,    0.,    0.,    0.]),\n",
        "  array([ 573.,    1.,    0.,    0.,    0.,    0.,    0.,    0.,    0.,    0.]),\n",
        "  array([ 573.,    1.,    0.,    0.,    0.,    0.,    0.,    0.,    0.,    0.]),\n",
        "  array([ 573.,    1.,    0.,    0.,    0.,    0.,    0.,    0.,    0.,    0.]),\n",
        "  array([ 573.,    1.,    0.,    0.,    0.,    0.,    0.,    0.,    0.,    0.]),\n",
        "  array([ 573.,    1.,    0.,    0.,    0.,    0.,    0.,    0.,    0.,    0.]),\n",
        "  array([ 573.,    1.,    0.,    0.,    0.,    0.,    0.,    0.,    0.,    0.]),\n",
        "  array([ 573.,    1.,    0.,    0.,    0.,    0.,    0.,    0.,    0.,    0.]),\n",
        "  array([ 573.,    1.,    0.,    0.,    0.,    0.,    0.,    0.,    0.,    0.]),\n",
        "  array([ 573.,    1.,    0.,    0.,    0.,    0.,    0.,    0.,    0.,    0.]),\n",
        "  array([ 572.,    2.,    0.,    0.,    0.,    0.,    0.,    0.,    0.,    0.]),\n",
        "  array([ 573.,    1.,    0.,    0.,    0.,    0.,    0.,    0.,    0.,    0.]),\n",
        "  array([ 573.,    1.,    0.,    0.,    0.,    0.,    0.,    0.,    0.,    0.]),\n",
        "  array([ 573.,    1.,    0.,    0.,    0.,    0.,    0.,    0.,    0.,    0.]),\n",
        "  array([ 572.,    2.,    0.,    0.,    0.,    0.,    0.,    0.,    0.,    0.]),\n",
        "  array([ 573.,    1.,    0.,    0.,    0.,    0.,    0.,    0.,    0.,    0.]),\n",
        "  array([ 573.,    1.,    0.,    0.,    0.,    0.,    0.,    0.,    0.,    0.]),\n",
        "  array([ 573.,    1.,    0.,    0.,    0.,    0.,    0.,    0.,    0.,    0.]),\n",
        "  array([ 573.,    1.,    0.,    0.,    0.,    0.,    0.,    0.,    0.,    0.]),\n",
        "  array([ 573.,    1.,    0.,    0.,    0.,    0.,    0.,    0.,    0.,    0.]),\n",
        "  array([ 573.,    1.,    0.,    0.,    0.,    0.,    0.,    0.,    0.,    0.]),\n",
        "  array([ 573.,    1.,    0.,    0.,    0.,    0.,    0.,    0.,    0.,    0.]),\n",
        "  array([ 573.,    1.,    0.,    0.,    0.,    0.,    0.,    0.,    0.,    0.]),\n",
        "  array([ 572.,    2.,    0.,    0.,    0.,    0.,    0.,    0.,    0.,    0.]),\n",
        "  array([ 573.,    1.,    0.,    0.,    0.,    0.,    0.,    0.,    0.,    0.]),\n",
        "  array([ 573.,    1.,    0.,    0.,    0.,    0.,    0.,    0.,    0.,    0.]),\n",
        "  array([ 573.,    1.,    0.,    0.,    0.,    0.,    0.,    0.,    0.,    0.]),\n",
        "  array([ 573.,    1.,    0.,    0.,    0.,    0.,    0.,    0.,    0.,    0.]),\n",
        "  array([ 573.,    1.,    0.,    0.,    0.,    0.,    0.,    0.,    0.,    0.]),\n",
        "  array([ 573.,    1.,    0.,    0.,    0.,    0.,    0.,    0.,    0.,    0.]),\n",
        "  array([ 573.,    1.,    0.,    0.,    0.,    0.,    0.,    0.,    0.,    0.]),\n",
        "  array([ 573.,    1.,    0.,    0.,    0.,    0.,    0.,    0.,    0.,    0.]),\n",
        "  array([ 573.,    1.,    0.,    0.,    0.,    0.,    0.,    0.,    0.,    0.]),\n",
        "  array([ 573.,    1.,    0.,    0.,    0.,    0.,    0.,    0.,    0.,    0.]),\n",
        "  array([ 573.,    1.,    0.,    0.,    0.,    0.,    0.,    0.,    0.,    0.]),\n",
        "  array([ 573.,    1.,    0.,    0.,    0.,    0.,    0.,    0.,    0.,    0.]),\n",
        "  array([ 573.,    1.,    0.,    0.,    0.,    0.,    0.,    0.,    0.,    0.]),\n",
        "  array([ 573.,    1.,    0.,    0.,    0.,    0.,    0.,    0.,    0.,    0.]),\n",
        "  array([ 572.,    2.,    0.,    0.,    0.,    0.,    0.,    0.,    0.,    0.]),\n",
        "  array([ 573.,    1.,    0.,    0.,    0.,    0.,    0.,    0.,    0.,    0.]),\n",
        "  array([ 573.,    1.,    0.,    0.,    0.,    0.,    0.,    0.,    0.,    0.]),\n",
        "  array([ 573.,    1.,    0.,    0.,    0.,    0.,    0.,    0.,    0.,    0.]),\n",
        "  array([ 573.,    1.,    0.,    0.,    0.,    0.,    0.,    0.,    0.,    0.]),\n",
        "  array([ 573.,    1.,    0.,    0.,    0.,    0.,    0.,    0.,    0.,    0.]),\n",
        "  array([ 573.,    1.,    0.,    0.,    0.,    0.,    0.,    0.,    0.,    0.]),\n",
        "  array([ 572.,    2.,    0.,    0.,    0.,    0.,    0.,    0.,    0.,    0.]),\n",
        "  array([ 571.,    3.,    0.,    0.,    0.,    0.,    0.,    0.,    0.,    0.]),\n",
        "  array([ 573.,    1.,    0.,    0.,    0.,    0.,    0.,    0.,    0.,    0.]),\n",
        "  array([ 573.,    1.,    0.,    0.,    0.,    0.,    0.,    0.,    0.,    0.]),\n",
        "  array([ 573.,    1.,    0.,    0.,    0.,    0.,    0.,    0.,    0.,    0.]),\n",
        "  array([ 573.,    1.,    0.,    0.,    0.,    0.,    0.,    0.,    0.,    0.]),\n",
        "  array([ 573.,    1.,    0.,    0.,    0.,    0.,    0.,    0.,    0.,    0.]),\n",
        "  array([ 573.,    1.,    0.,    0.,    0.,    0.,    0.,    0.,    0.,    0.]),\n",
        "  array([ 573.,    1.,    0.,    0.,    0.,    0.,    0.,    0.,    0.,    0.]),\n",
        "  array([ 571.,    3.,    0.,    0.,    0.,    0.,    0.,    0.,    0.,    0.]),\n",
        "  array([ 573.,    1.,    0.,    0.,    0.,    0.,    0.,    0.,    0.,    0.]),\n",
        "  array([ 573.,    1.,    0.,    0.,    0.,    0.,    0.,    0.,    0.,    0.]),\n",
        "  array([ 573.,    1.,    0.,    0.,    0.,    0.,    0.,    0.,    0.,    0.]),\n",
        "  array([ 573.,    1.,    0.,    0.,    0.,    0.,    0.,    0.,    0.,    0.]),\n",
        "  array([ 573.,    1.,    0.,    0.,    0.,    0.,    0.,    0.,    0.,    0.]),\n",
        "  array([ 573.,    1.,    0.,    0.,    0.,    0.,    0.,    0.,    0.,    0.]),\n",
        "  array([ 573.,    1.,    0.,    0.,    0.,    0.,    0.,    0.,    0.,    0.]),\n",
        "  array([ 565.,    9.,    0.,    0.,    0.,    0.,    0.,    0.,    0.,    0.]),\n",
        "  array([ 573.,    1.,    0.,    0.,    0.,    0.,    0.,    0.,    0.,    0.]),\n",
        "  array([ 573.,    1.,    0.,    0.,    0.,    0.,    0.,    0.,    0.,    0.]),\n",
        "  array([ 573.,    1.,    0.,    0.,    0.,    0.,    0.,    0.,    0.,    0.]),\n",
        "  array([ 573.,    1.,    0.,    0.,    0.,    0.,    0.,    0.,    0.,    0.]),\n",
        "  array([ 573.,    1.,    0.,    0.,    0.,    0.,    0.,    0.,    0.,    0.]),\n",
        "  array([ 573.,    1.,    0.,    0.,    0.,    0.,    0.,    0.,    0.,    0.]),\n",
        "  array([ 573.,    1.,    0.,    0.,    0.,    0.,    0.,    0.,    0.,    0.]),\n",
        "  array([ 573.,    1.,    0.,    0.,    0.,    0.,    0.,    0.,    0.,    0.]),\n",
        "  array([ 573.,    1.,    0.,    0.,    0.,    0.,    0.,    0.,    0.,    0.]),\n",
        "  array([ 573.,    1.,    0.,    0.,    0.,    0.,    0.,    0.,    0.,    0.]),\n",
        "  array([ 573.,    1.,    0.,    0.,    0.,    0.,    0.,    0.,    0.,    0.]),\n",
        "  array([ 573.,    1.,    0.,    0.,    0.,    0.,    0.,    0.,    0.,    0.]),\n",
        "  array([ 573.,    1.,    0.,    0.,    0.,    0.,    0.,    0.,    0.,    0.]),\n",
        "  array([ 573.,    1.,    0.,    0.,    0.,    0.,    0.,    0.,    0.,    0.]),\n",
        "  array([ 573.,    1.,    0.,    0.,    0.,    0.,    0.,    0.,    0.,    0.]),\n",
        "  array([ 573.,    1.,    0.,    0.,    0.,    0.,    0.,    0.,    0.,    0.]),\n",
        "  array([ 572.,    2.,    0.,    0.,    0.,    0.,    0.,    0.,    0.,    0.]),\n",
        "  array([ 573.,    1.,    0.,    0.,    0.,    0.,    0.,    0.,    0.,    0.]),\n",
        "  array([ 573.,    1.,    0.,    0.,    0.,    0.,    0.,    0.,    0.,    0.]),\n",
        "  array([ 572.,    2.,    0.,    0.,    0.,    0.,    0.,    0.,    0.,    0.]),\n",
        "  array([ 573.,    1.,    0.,    0.,    0.,    0.,    0.,    0.,    0.,    0.]),\n",
        "  array([ 573.,    1.,    0.,    0.,    0.,    0.,    0.,    0.,    0.,    0.]),\n",
        "  array([ 567.,    7.,    0.,    0.,    0.,    0.,    0.,    0.,    0.,    0.]),\n",
        "  array([ 573.,    1.,    0.,    0.,    0.,    0.,    0.,    0.,    0.,    0.]),\n",
        "  array([ 573.,    1.,    0.,    0.,    0.,    0.,    0.,    0.,    0.,    0.]),\n",
        "  array([ 573.,    1.,    0.,    0.,    0.,    0.,    0.,    0.,    0.,    0.]),\n",
        "  array([ 573.,    1.,    0.,    0.,    0.,    0.,    0.,    0.,    0.,    0.]),\n",
        "  array([ 573.,    1.,    0.,    0.,    0.,    0.,    0.,    0.,    0.,    0.]),\n",
        "  array([ 573.,    1.,    0.,    0.,    0.,    0.,    0.,    0.,    0.,    0.]),\n",
        "  array([ 573.,    1.,    0.,    0.,    0.,    0.,    0.,    0.,    0.,    0.]),\n",
        "  array([ 573.,    1.,    0.,    0.,    0.,    0.,    0.,    0.,    0.,    0.]),\n",
        "  array([ 573.,    1.,    0.,    0.,    0.,    0.,    0.,    0.,    0.,    0.]),\n",
        "  array([ 573.,    1.,    0.,    0.,    0.,    0.,    0.,    0.,    0.,    0.]),\n",
        "  array([ 573.,    1.,    0.,    0.,    0.,    0.,    0.,    0.,    0.,    0.]),\n",
        "  array([ 573.,    1.,    0.,    0.,    0.,    0.,    0.,    0.,    0.,    0.]),\n",
        "  array([ 573.,    1.,    0.,    0.,    0.,    0.,    0.,    0.,    0.,    0.]),\n",
        "  array([ 573.,    1.,    0.,    0.,    0.,    0.,    0.,    0.,    0.,    0.]),\n",
        "  array([ 573.,    1.,    0.,    0.,    0.,    0.,    0.,    0.,    0.,    0.])],\n",
        " array([ 0.        ,  0.00403824,  0.00807648,  0.01211472,  0.01615296,\n",
        "         0.0201912 ,  0.02422944,  0.02826768,  0.03230592,  0.03634416,\n",
        "         0.0403824 ]),\n",
        " <a list of 574 Lists of Patches objects>)"
       ]
      },
      {
       "metadata": {},
       "output_type": "display_data",
       "png": "[encoded data removed]",
       "text": [
        "<matplotlib.figure.Figure at 0x1105cc490>"
       ]
      }
     ],
     "prompt_number": 55
    },
    {
     "cell_type": "code",
     "collapsed": false,
     "input": [],
     "language": "python",
     "metadata": {},
     "outputs": []
    }
   ],
   "metadata": {}
  }
 ]
}