{
 "metadata": {
  "name": "",
  "signature": "sha256:4cae91a407339297cbcd124ad300bda97df4bbc82615a72bf8b5253e7df95a63"
 },
 "nbformat": 3,
 "nbformat_minor": 0,
 "worksheets": [
  {
   "cells": [
    {
     "cell_type": "code",
     "collapsed": false,
     "input": [
      "import numpy as np\n",
      "import matplotlib.pyplot as plt\n",
      "import math\n",
      "import networkx as nx\n",
      "import community\n",
      "%matplotlib inline"
     ],
     "language": "python",
     "metadata": {},
     "outputs": [],
     "prompt_number": 1
    },
    {
     "cell_type": "code",
     "collapsed": false,
     "input": [
      "f = open('nimble.output.txt')\n",
      "\n",
      "events = []\n",
      "\n",
      "for line in f:\n",
      "    #print line\n",
      "    contents = line.split()\n",
      "    #print contents\n",
      "    events.append([int(contents[0])-1,int(contents[1])-1])\n",
      "\n",
      "f.close()"
     ],
     "language": "python",
     "metadata": {},
     "outputs": [],
     "prompt_number": 3
    },
    {
     "cell_type": "code",
     "collapsed": false,
     "input": [
      "len(events)"
     ],
     "language": "python",
     "metadata": {},
     "outputs": [
      {
       "metadata": {},
       "output_type": "pyout",
       "prompt_number": 10,
       "text": [
        "1759434"
       ]
      }
     ],
     "prompt_number": 10
    },
    {
     "cell_type": "code",
     "collapsed": false,
     "input": [
      "users = []\n",
      "machines = []\n",
      "for event in events:\n",
      "    users.append(event[0])\n",
      "    machines.append(event[1])"
     ],
     "language": "python",
     "metadata": {},
     "outputs": [],
     "prompt_number": 4
    },
    {
     "cell_type": "code",
     "collapsed": false,
     "input": [
      "N = max(users)+1\n",
      "M = max(machines)+1\n",
      "access = np.matrix([[0.0 for j in xrange(M+1)] for i in xrange(N+1)])\n",
      "\n",
      "print N, M"
     ],
     "language": "python",
     "metadata": {},
     "outputs": [
      {
       "output_type": "stream",
       "stream": "stdout",
       "text": [
        "1049 1304\n"
       ]
      }
     ],
     "prompt_number": 5
    },
    {
     "cell_type": "code",
     "collapsed": false,
     "input": [
      "for event in events:\n",
      "    access[event[0],event[1]] += 1"
     ],
     "language": "python",
     "metadata": {},
     "outputs": [],
     "prompt_number": 6
    },
    {
     "cell_type": "code",
     "collapsed": false,
     "input": [
      "access"
     ],
     "language": "python",
     "metadata": {},
     "outputs": [
      {
       "metadata": {},
       "output_type": "pyout",
       "prompt_number": 7,
       "text": [
        "matrix([[  2.90900000e+03,   0.00000000e+00,   0.00000000e+00, ...,\n",
        "           0.00000000e+00,   0.00000000e+00,   0.00000000e+00],\n",
        "        [  0.00000000e+00,   3.09000000e+03,   0.00000000e+00, ...,\n",
        "           0.00000000e+00,   0.00000000e+00,   0.00000000e+00],\n",
        "        [  0.00000000e+00,   0.00000000e+00,   3.81380000e+04, ...,\n",
        "           0.00000000e+00,   0.00000000e+00,   0.00000000e+00],\n",
        "        ..., \n",
        "        [  0.00000000e+00,   0.00000000e+00,   0.00000000e+00, ...,\n",
        "           1.50000000e+01,   0.00000000e+00,   0.00000000e+00],\n",
        "        [  0.00000000e+00,   0.00000000e+00,   0.00000000e+00, ...,\n",
        "           3.00000000e+01,   0.00000000e+00,   0.00000000e+00],\n",
        "        [  0.00000000e+00,   0.00000000e+00,   0.00000000e+00, ...,\n",
        "           0.00000000e+00,   0.00000000e+00,   0.00000000e+00]])"
       ]
      }
     ],
     "prompt_number": 7
    },
    {
     "cell_type": "code",
     "collapsed": false,
     "input": [
      "for i in xrange(N+1):\n",
      "    temp = np.sum(access[i,:-1])\n",
      "    access[i,M] = temp\n",
      "\n",
      "for j in xrange(M+1):\n",
      "    access[N,j] = np.sum(access[:-1,j])"
     ],
     "language": "python",
     "metadata": {},
     "outputs": [],
     "prompt_number": 8
    },
    {
     "cell_type": "code",
     "collapsed": false,
     "input": [
      "access"
     ],
     "language": "python",
     "metadata": {},
     "outputs": [
      {
       "metadata": {},
       "output_type": "pyout",
       "prompt_number": 9,
       "text": [
        "matrix([[  2.90900000e+03,   0.00000000e+00,   0.00000000e+00, ...,\n",
        "           0.00000000e+00,   0.00000000e+00,   2.90900000e+03],\n",
        "        [  0.00000000e+00,   3.09000000e+03,   0.00000000e+00, ...,\n",
        "           0.00000000e+00,   0.00000000e+00,   4.35800000e+03],\n",
        "        [  0.00000000e+00,   0.00000000e+00,   3.81380000e+04, ...,\n",
        "           0.00000000e+00,   0.00000000e+00,   7.49810000e+04],\n",
        "        ..., \n",
        "        [  0.00000000e+00,   0.00000000e+00,   0.00000000e+00, ...,\n",
        "           1.50000000e+01,   0.00000000e+00,   1.50000000e+01],\n",
        "        [  0.00000000e+00,   0.00000000e+00,   0.00000000e+00, ...,\n",
        "           3.00000000e+01,   0.00000000e+00,   3.00000000e+01],\n",
        "        [  6.07300000e+03,   4.65400000e+03,   3.81380000e+04, ...,\n",
        "           8.00000000e+01,   8.00000000e+00,   1.75943400e+06]])"
       ]
      }
     ],
     "prompt_number": 9
    },
    {
     "cell_type": "code",
     "collapsed": false,
     "input": [
      "for u in xrange(N):\n",
      "    if access[u,M] == 0:\n",
      "        access[u,M] = -1\n",
      "        \n",
      "for m in xrange(M):\n",
      "    if access[N,m] == 0:\n",
      "        access[N,m] = -1"
     ],
     "language": "python",
     "metadata": {},
     "outputs": [],
     "prompt_number": 11
    },
    {
     "cell_type": "code",
     "collapsed": false,
     "input": [
      "profile_u = np.array([[0.0 for j in xrange(M)] for i in xrange(N)])\n",
      "for u in xrange(N):\n",
      "    for m in xrange(M):\n",
      "        profile_u[u,m] = access[u,m]/access[u,M]\n",
      "        \n",
      "profile_m = np.array([[0.0 for j in xrange(M)] for i in xrange(N)])\n",
      "for u in xrange(N):\n",
      "    for m in xrange(M):\n",
      "        profile_m[u,m] = access[u,m]/access[N,m]"
     ],
     "language": "python",
     "metadata": {},
     "outputs": [],
     "prompt_number": 12
    },
    {
     "cell_type": "code",
     "collapsed": false,
     "input": [
      "RP = np.matrix([[0.0 for j in xrange(N)] for i in xrange(N)])\n",
      "\n",
      "vals = []\n",
      "for u in xrange(N):\n",
      "    for v in xrange(N):\n",
      "        val = np.dot(profile_u[u], profile_m[v])\n",
      "        RP[u,v] = val\n",
      "        vals.append(val)"
     ],
     "language": "python",
     "metadata": {},
     "outputs": [],
     "prompt_number": 13
    },
    {
     "cell_type": "code",
     "collapsed": false,
     "input": [
      "RP"
     ],
     "language": "python",
     "metadata": {},
     "outputs": [
      {
       "metadata": {},
       "output_type": "pyout",
       "prompt_number": 14,
       "text": [
        "matrix([[ 0.47900543,  0.        ,  0.        , ...,  0.        ,\n",
        "          0.        ,  0.        ],\n",
        "        [ 0.        ,  0.59276975,  0.        , ...,  0.        ,\n",
        "          0.        ,  0.        ],\n",
        "        [ 0.        ,  0.        ,  1.        , ...,  0.        ,\n",
        "          0.        ,  0.        ],\n",
        "        ..., \n",
        "        [ 0.        ,  0.        ,  0.        , ...,  0.26666667,\n",
        "          0.        ,  0.        ],\n",
        "        [ 0.        ,  0.        ,  0.        , ...,  0.        ,\n",
        "          0.1875    ,  0.375     ],\n",
        "        [ 0.        ,  0.        ,  0.        , ...,  0.        ,\n",
        "          0.1875    ,  0.375     ]])"
       ]
      }
     ],
     "prompt_number": 14
    },
    {
     "cell_type": "code",
     "collapsed": false,
     "input": [
      "fig = plt.figure()\n",
      "ax = fig.add_subplot(111)\n",
      "ax.hist(vals,20)"
     ],
     "language": "python",
     "metadata": {},
     "outputs": [
      {
       "metadata": {},
       "output_type": "pyout",
       "prompt_number": 16,
       "text": [
        "(array([  1.09766300e+06,   5.79000000e+02,   2.33000000e+02,\n",
        "          1.39000000e+02,   1.48000000e+02,   1.49000000e+02,\n",
        "          1.85000000e+02,   2.23000000e+02,   2.06000000e+02,\n",
        "          1.51000000e+02,   1.65000000e+02,   1.38000000e+02,\n",
        "          1.18000000e+02,   9.00000000e+01,   2.60000000e+01,\n",
        "          3.00000000e+01,   2.20000000e+01,   1.40000000e+01,\n",
        "          2.30000000e+01,   9.90000000e+01]),\n",
        " array([ 0.  ,  0.05,  0.1 ,  0.15,  0.2 ,  0.25,  0.3 ,  0.35,  0.4 ,\n",
        "         0.45,  0.5 ,  0.55,  0.6 ,  0.65,  0.7 ,  0.75,  0.8 ,  0.85,\n",
        "         0.9 ,  0.95,  1.  ]),\n",
        " <a list of 20 Patch objects>)"
       ]
      },
      {
       "metadata": {},
       "output_type": "display_data",
       "png": "[encoded data removed]",
       "text": [
        "<matplotlib.figure.Figure at 0x129969f90>"
       ]
      }
     ],
     "prompt_number": 16
    },
    {
     "cell_type": "code",
     "collapsed": false,
     "input": [
      "labels = [-1 for u in xrange(N)]\n",
      "\n",
      "new = 0\n",
      "for u in xrange(N):\n",
      "    if labels[u]==-1:\n",
      "        labels[u] = new\n",
      "        new += 1\n",
      "    for v in xrange(u+1,N):\n",
      "        if RP[u,v]>=0.05:\n",
      "            labels[v] = labels[u]\n",
      "            \n",
      "max(labels)+1"
     ],
     "language": "python",
     "metadata": {},
     "outputs": [
      {
       "metadata": {},
       "output_type": "pyout",
       "prompt_number": 17,
       "text": [
        "579"
       ]
      }
     ],
     "prompt_number": 17
    },
    {
     "cell_type": "code",
     "collapsed": false,
     "input": [
      "G = nx.Graph()\n",
      "\n",
      "for u in xrange(N):\n",
      "    for v in xrange(u+1,N):\n",
      "        G.add_weighted_edges_from([(u,v,RP[u,v])])"
     ],
     "language": "python",
     "metadata": {},
     "outputs": [],
     "prompt_number": 18
    },
    {
     "cell_type": "code",
     "collapsed": false,
     "input": [
      "partition = community.best_partition(G)"
     ],
     "language": "python",
     "metadata": {},
     "outputs": [],
     "prompt_number": 19
    },
    {
     "cell_type": "code",
     "collapsed": false,
     "input": [
      "size = float(len(set(partition.values())))\n",
      "pos = nx.spring_layout(G)\n",
      "count = 0.\n",
      "for com in set(partition.values()) :\n",
      "    count = count + 1.\n",
      "    list_nodes = [nodes for nodes in partition.keys()\n",
      "                                if partition[nodes] == com]\n",
      "    nx.draw_networkx_nodes(G, pos, list_nodes, node_size = 20,\n",
      "                                node_color = str(count / size))\n",
      "\n",
      "\n",
      "nx.draw_networkx_edges(G,pos, alpha=0.5)"
     ],
     "language": "python",
     "metadata": {},
     "outputs": [
      {
       "metadata": {},
       "output_type": "pyout",
       "prompt_number": 20,
       "text": [
        "<matplotlib.collections.LineCollection at 0x1299b8e10>"
       ]
      },
      {
       "metadata": {},
       "output_type": "display_data",
       "png": "[encoded data removed]",
       "text": [
        "<matplotlib.figure.Figure at 0x152006ed0>"
       ]
      }
     ],
     "prompt_number": 20
    },
    {
     "cell_type": "code",
     "collapsed": false,
     "input": [
      "g = 0\n",
      "for u in xrange(N):\n",
      "    if g<partition[u]:\n",
      "        g = partition[u]\n",
      "        \n",
      "g+1"
     ],
     "language": "python",
     "metadata": {},
     "outputs": [
      {
       "metadata": {},
       "output_type": "pyout",
       "prompt_number": 22,
       "text": [
        "249"
       ]
      }
     ],
     "prompt_number": 22
    },
    {
     "cell_type": "code",
     "collapsed": false,
     "input": [],
     "language": "python",
     "metadata": {},
     "outputs": []
    }
   ],
   "metadata": {}
  }
 ]
}