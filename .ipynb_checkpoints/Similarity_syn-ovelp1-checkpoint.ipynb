{
 "metadata": {
  "name": "",
  "signature": "sha256:ad2c4d2d3b911084815dab1f981f140edfae457e6daa0aefdc8b64d8e7256fd1"
 },
 "nbformat": 3,
 "nbformat_minor": 0,
 "worksheets": [
  {
   "cells": [
    {
     "cell_type": "code",
     "collapsed": false,
     "input": [
      "import numpy as np\n",
      "import matplotlib.pyplot as plt\n",
      "%matplotlib inline"
     ],
     "language": "python",
     "metadata": {},
     "outputs": [],
     "prompt_number": 1
    },
    {
     "cell_type": "code",
     "collapsed": false,
     "input": [
      "f = open('synthetic.overlap.output-1.txt')\n",
      "\n",
      "all_events = []\n",
      "\n",
      "for line in f:\n",
      "    contents = line.split()\n",
      "    all_events.append([int(contents[0])-1,int(contents[1])-1])\n",
      "\n",
      "f.close()"
     ],
     "language": "python",
     "metadata": {},
     "outputs": [],
     "prompt_number": 2
    },
    {
     "cell_type": "code",
     "collapsed": false,
     "input": [
      "new_events = all_events[100000:]\n",
      "events = all_events[:100000]"
     ],
     "language": "python",
     "metadata": {},
     "outputs": [],
     "prompt_number": 3
    },
    {
     "cell_type": "code",
     "collapsed": false,
     "input": [
      "len(events), len(new_events)"
     ],
     "language": "python",
     "metadata": {},
     "outputs": [
      {
       "metadata": {},
       "output_type": "pyout",
       "prompt_number": 4,
       "text": [
        "(100000, 21000)"
       ]
      }
     ],
     "prompt_number": 4
    },
    {
     "cell_type": "code",
     "collapsed": false,
     "input": [
      "users = []\n",
      "machines = []\n",
      "for event in events:\n",
      "    users.append(event[0])\n",
      "    machines.append(event[1])"
     ],
     "language": "python",
     "metadata": {},
     "outputs": [],
     "prompt_number": 5
    },
    {
     "cell_type": "code",
     "collapsed": false,
     "input": [
      "N = max(users)+1\n",
      "M = max(machines)+1\n",
      "access = np.array([[0.0 for j in xrange(M+1)] for i in xrange(N+1)])\n",
      "\n",
      "print N, M"
     ],
     "language": "python",
     "metadata": {},
     "outputs": [
      {
       "output_type": "stream",
       "stream": "stdout",
       "text": [
        "574 246\n"
       ]
      }
     ],
     "prompt_number": 29
    },
    {
     "cell_type": "code",
     "collapsed": false,
     "input": [
      "for event in events:\n",
      "    access[event[0],event[1]] += 1"
     ],
     "language": "python",
     "metadata": {},
     "outputs": [],
     "prompt_number": 30
    },
    {
     "cell_type": "code",
     "collapsed": false,
     "input": [
      "access"
     ],
     "language": "python",
     "metadata": {},
     "outputs": [
      {
       "metadata": {},
       "output_type": "pyout",
       "prompt_number": 31,
       "text": [
        "array([[  1.,   0.,   0., ...,   0.,   3.,   0.],\n",
        "       [  0.,   1.,   0., ...,   1.,   0.,   0.],\n",
        "       [ 16.,  14.,  18., ...,   0.,   0.,   0.],\n",
        "       ..., \n",
        "       [  0.,   3.,   0., ...,   0.,   0.,   0.],\n",
        "       [  0.,   0.,   0., ...,   0.,   1.,   0.],\n",
        "       [  0.,   0.,   0., ...,   0.,   0.,   0.]])"
       ]
      }
     ],
     "prompt_number": 31
    },
    {
     "cell_type": "code",
     "collapsed": false,
     "input": [
      "for i in xrange(N+1):\n",
      "    temp = np.sum(access[i,:-1])\n",
      "    access[i,M] = temp\n",
      "\n",
      "for j in xrange(M+1):\n",
      "    access[N,j] = np.sum(access[:-1,j])"
     ],
     "language": "python",
     "metadata": {},
     "outputs": [],
     "prompt_number": 32
    },
    {
     "cell_type": "code",
     "collapsed": false,
     "input": [
      "access"
     ],
     "language": "python",
     "metadata": {},
     "outputs": [
      {
       "metadata": {},
       "output_type": "pyout",
       "prompt_number": 33,
       "text": [
        "array([[  1.00000000e+00,   0.00000000e+00,   0.00000000e+00, ...,\n",
        "          0.00000000e+00,   3.00000000e+00,   6.60000000e+01],\n",
        "       [  0.00000000e+00,   1.00000000e+00,   0.00000000e+00, ...,\n",
        "          1.00000000e+00,   0.00000000e+00,   4.90000000e+01],\n",
        "       [  1.60000000e+01,   1.40000000e+01,   1.80000000e+01, ...,\n",
        "          0.00000000e+00,   0.00000000e+00,   9.08000000e+02],\n",
        "       ..., \n",
        "       [  0.00000000e+00,   3.00000000e+00,   0.00000000e+00, ...,\n",
        "          0.00000000e+00,   0.00000000e+00,   6.30000000e+01],\n",
        "       [  0.00000000e+00,   0.00000000e+00,   0.00000000e+00, ...,\n",
        "          0.00000000e+00,   1.00000000e+00,   4.90000000e+01],\n",
        "       [  1.38000000e+03,   1.36800000e+03,   3.62000000e+02, ...,\n",
        "          2.32000000e+02,   2.70000000e+02,   1.00000000e+05]])"
       ]
      }
     ],
     "prompt_number": 33
    },
    {
     "cell_type": "heading",
     "level": 2,
     "metadata": {},
     "source": [
      "Create the profile vectors (% of accesses)"
     ]
    },
    {
     "cell_type": "code",
     "collapsed": false,
     "input": [
      "profile = np.array([[0.0 for j in xrange(M+1)] for i in xrange(N+1)])"
     ],
     "language": "python",
     "metadata": {},
     "outputs": [],
     "prompt_number": 34
    },
    {
     "cell_type": "code",
     "collapsed": false,
     "input": [
      "for n in xrange(N+1):\n",
      "    den = access[n,M]\n",
      "    for m in xrange(M+1):\n",
      "        profile[n,m] = access[n,m]/den"
     ],
     "language": "python",
     "metadata": {},
     "outputs": [],
     "prompt_number": 35
    },
    {
     "cell_type": "code",
     "collapsed": false,
     "input": [
      "profile"
     ],
     "language": "python",
     "metadata": {},
     "outputs": [
      {
       "metadata": {},
       "output_type": "pyout",
       "prompt_number": 36,
       "text": [
        "array([[ 0.01515152,  0.        ,  0.        , ...,  0.        ,\n",
        "         0.04545455,  1.        ],\n",
        "       [ 0.        ,  0.02040816,  0.        , ...,  0.02040816,\n",
        "         0.        ,  1.        ],\n",
        "       [ 0.01762115,  0.0154185 ,  0.01982379, ...,  0.        ,\n",
        "         0.        ,  1.        ],\n",
        "       ..., \n",
        "       [ 0.        ,  0.04761905,  0.        , ...,  0.        ,\n",
        "         0.        ,  1.        ],\n",
        "       [ 0.        ,  0.        ,  0.        , ...,  0.        ,\n",
        "         0.02040816,  1.        ],\n",
        "       [ 0.0138    ,  0.01368   ,  0.00362   , ...,  0.00232   ,\n",
        "         0.0027    ,  1.        ]])"
       ]
      }
     ],
     "prompt_number": 36
    },
    {
     "cell_type": "code",
     "collapsed": false,
     "input": [
      "profile[1,:]"
     ],
     "language": "python",
     "metadata": {},
     "outputs": [
      {
       "metadata": {},
       "output_type": "pyout",
       "prompt_number": 37,
       "text": [
        "array([ 0.        ,  0.02040816,  0.        ,  0.        ,  0.        ,\n",
        "        0.        ,  0.        ,  0.02040816,  0.        ,  0.        ,\n",
        "        0.        ,  0.        ,  0.        ,  0.        ,  0.        ,\n",
        "        0.        ,  0.        ,  0.        ,  0.        ,  0.        ,\n",
        "        0.02040816,  0.        ,  0.        ,  0.02040816,  0.        ,\n",
        "        0.        ,  0.        ,  0.        ,  0.        ,  0.        ,\n",
        "        0.        ,  0.        ,  0.        ,  0.        ,  0.        ,\n",
        "        0.        ,  0.        ,  0.        ,  0.        ,  0.        ,\n",
        "        0.        ,  0.04081633,  0.02040816,  0.04081633,  0.        ,\n",
        "        0.        ,  0.        ,  0.        ,  0.        ,  0.        ,\n",
        "        0.        ,  0.        ,  0.        ,  0.        ,  0.        ,\n",
        "        0.        ,  0.        ,  0.        ,  0.        ,  0.        ,\n",
        "        0.        ,  0.        ,  0.        ,  0.        ,  0.        ,\n",
        "        0.        ,  0.        ,  0.        ,  0.        ,  0.        ,\n",
        "        0.        ,  0.        ,  0.        ,  0.        ,  0.        ,\n",
        "        0.        ,  0.        ,  0.        ,  0.        ,  0.04081633,\n",
        "        0.        ,  0.        ,  0.        ,  0.02040816,  0.        ,\n",
        "        0.        ,  0.        ,  0.        ,  0.        ,  0.        ,\n",
        "        0.        ,  0.        ,  0.        ,  0.        ,  0.        ,\n",
        "        0.        ,  0.02040816,  0.        ,  0.        ,  0.        ,\n",
        "        0.        ,  0.02040816,  0.        ,  0.        ,  0.        ,\n",
        "        0.        ,  0.        ,  0.        ,  0.        ,  0.        ,\n",
        "        0.        ,  0.        ,  0.        ,  0.        ,  0.        ,\n",
        "        0.        ,  0.        ,  0.02040816,  0.02040816,  0.        ,\n",
        "        0.02040816,  0.        ,  0.        ,  0.06122449,  0.        ,\n",
        "        0.        ,  0.        ,  0.        ,  0.        ,  0.        ,\n",
        "        0.        ,  0.06122449,  0.02040816,  0.        ,  0.        ,\n",
        "        0.        ,  0.        ,  0.        ,  0.        ,  0.        ,\n",
        "        0.        ,  0.        ,  0.        ,  0.        ,  0.        ,\n",
        "        0.        ,  0.        ,  0.02040816,  0.        ,  0.        ,\n",
        "        0.        ,  0.        ,  0.        ,  0.        ,  0.        ,\n",
        "        0.        ,  0.02040816,  0.        ,  0.        ,  0.        ,\n",
        "        0.        ,  0.        ,  0.        ,  0.        ,  0.        ,\n",
        "        0.        ,  0.        ,  0.        ,  0.        ,  0.        ,\n",
        "        0.        ,  0.        ,  0.02040816,  0.        ,  0.        ,\n",
        "        0.        ,  0.        ,  0.        ,  0.02040816,  0.        ,\n",
        "        0.        ,  0.        ,  0.        ,  0.        ,  0.        ,\n",
        "        0.        ,  0.        ,  0.02040816,  0.06122449,  0.02040816,\n",
        "        0.        ,  0.        ,  0.        ,  0.        ,  0.        ,\n",
        "        0.        ,  0.        ,  0.        ,  0.        ,  0.        ,\n",
        "        0.        ,  0.02040816,  0.        ,  0.        ,  0.        ,\n",
        "        0.        ,  0.        ,  0.        ,  0.02040816,  0.        ,\n",
        "        0.02040816,  0.        ,  0.        ,  0.        ,  0.        ,\n",
        "        0.02040816,  0.        ,  0.02040816,  0.02040816,  0.        ,\n",
        "        0.02040816,  0.        ,  0.        ,  0.        ,  0.        ,\n",
        "        0.04081633,  0.        ,  0.        ,  0.04081633,  0.        ,\n",
        "        0.        ,  0.04081633,  0.        ,  0.        ,  0.        ,\n",
        "        0.        ,  0.        ,  0.        ,  0.        ,  0.        ,\n",
        "        0.02040816,  0.        ,  0.02040816,  0.        ,  0.02040816,\n",
        "        0.        ,  1.        ])"
       ]
      }
     ],
     "prompt_number": 37
    },
    {
     "cell_type": "code",
     "collapsed": false,
     "input": [
      "sim = np.dot(profile[1,:-1], profile[2,:-1])/(np.linalg.norm(profile[1,:-1])*np.linalg.norm(profile[2,:-1]))\n",
      "sim"
     ],
     "language": "python",
     "metadata": {},
     "outputs": [
      {
       "metadata": {},
       "output_type": "pyout",
       "prompt_number": 42,
       "text": [
        "0.17249282605482585"
       ]
      }
     ],
     "prompt_number": 42
    },
    {
     "cell_type": "code",
     "collapsed": false,
     "input": [
      "sim = np.array([[0.0 for j in xrange(N)] for i in xrange(N)])"
     ],
     "language": "python",
     "metadata": {},
     "outputs": [],
     "prompt_number": 44
    },
    {
     "cell_type": "code",
     "collapsed": false,
     "input": [
      "for u in xrange(N):\n",
      "    for v in xrange(N):\n",
      "        sim[u,v] = np.dot(profile[u,:-1], profile[v,:-1])/(np.linalg.norm(profile[u,:-1])*np.linalg.norm(profile[v,:-1]))"
     ],
     "language": "python",
     "metadata": {},
     "outputs": [],
     "prompt_number": 45
    },
    {
     "cell_type": "code",
     "collapsed": false,
     "input": [
      "sim"
     ],
     "language": "python",
     "metadata": {},
     "outputs": [
      {
       "metadata": {},
       "output_type": "pyout",
       "prompt_number": 46,
       "text": [
        "array([[ 1.        ,  0.24669184,  0.12430299, ...,  0.39753514,\n",
        "         0.37953072,  0.28616254],\n",
        "       [ 0.24669184,  1.        ,  0.17249283, ...,  0.23718936,\n",
        "         0.35985385,  0.2278481 ],\n",
        "       [ 0.12430299,  0.17249283,  1.        , ...,  0.14751444,\n",
        "         0.22053253,  0.14842406],\n",
        "       ..., \n",
        "       [ 0.39753514,  0.23718936,  0.14751444, ...,  1.        ,\n",
        "         0.32723026,  0.22532989],\n",
        "       [ 0.37953072,  0.35985385,  0.22053253, ...,  0.32723026,\n",
        "         1.        ,  0.33868597],\n",
        "       [ 0.28616254,  0.2278481 ,  0.14842406, ...,  0.22532989,\n",
        "         0.33868597,  1.        ]])"
       ]
      }
     ],
     "prompt_number": 46
    },
    {
     "cell_type": "code",
     "collapsed": false,
     "input": [
      "def factor(u,m):\n",
      "    factor = 0\n",
      "    for v in xrange(N):\n",
      "        factor += sim[u,v]*access[v,m]/access[v,M]\n",
      "    return factor"
     ],
     "language": "python",
     "metadata": {},
     "outputs": [],
     "prompt_number": 47
    },
    {
     "cell_type": "code",
     "collapsed": false,
     "input": [
      "factors = []\n",
      "for event in new_events:\n",
      "    if event[0]<N and event[1]<M:\n",
      "        factors.append(factor(event[0],event[1]))\n",
      "    else:\n",
      "        factors.append(0)"
     ],
     "language": "python",
     "metadata": {},
     "outputs": [],
     "prompt_number": 48
    },
    {
     "cell_type": "code",
     "collapsed": false,
     "input": [
      "fig = plt.figure()\n",
      "ax = fig.add_subplot(111)\n",
      "ax.hist(factors,20)"
     ],
     "language": "python",
     "metadata": {},
     "outputs": [
      {
       "metadata": {},
       "output_type": "pyout",
       "prompt_number": 49,
       "text": [
        "(array([ 1000.,     0.,  3537.,  3473.,   158.,     0.,     0.,   307.,\n",
        "         1744.,  1358.,   536.,  1684.,  2641.,  1675.,   999.,   986.,\n",
        "          614.,   229.,    51.,     8.]),\n",
        " array([ 0.05073942,  0.17768728,  0.30463515,  0.43158301,  0.55853088,\n",
        "         0.68547874,  0.81242661,  0.93937447,  1.06632234,  1.1932702 ,\n",
        "         1.32021807,  1.44716593,  1.5741138 ,  1.70106166,  1.82800953,\n",
        "         1.95495739,  2.08190526,  2.20885312,  2.33580099,  2.46274885,\n",
        "         2.58969671]),\n",
        " <a list of 20 Patch objects>)"
       ]
      },
      {
       "metadata": {},
       "output_type": "display_data",
       "png": "[encoded data removed]",
       "text": [
        "<matplotlib.figure.Figure at 0x1093a95d0>"
       ]
      }
     ],
     "prompt_number": 49
    },
    {
     "cell_type": "code",
     "collapsed": false,
     "input": [
      "fig = plt.figure()\n",
      "ax = fig.add_subplot(111)\n",
      "ax.hist(factors[:1000],20)"
     ],
     "language": "python",
     "metadata": {},
     "outputs": [
      {
       "metadata": {},
       "output_type": "pyout",
       "prompt_number": 50,
       "text": [
        "(array([  28.,   60.,   37.,   38.,   27.,    6.,    1.,   10.,   82.,\n",
        "         168.,  236.,  126.,   96.,   15.,    2.,   19.,   15.,   12.,\n",
        "          15.,    7.]),\n",
        " array([ 0.05073942,  0.05580799,  0.06087657,  0.06594515,  0.07101373,\n",
        "         0.07608231,  0.08115088,  0.08621946,  0.09128804,  0.09635662,\n",
        "         0.1014252 ,  0.10649377,  0.11156235,  0.11663093,  0.12169951,\n",
        "         0.12676809,  0.13183666,  0.13690524,  0.14197382,  0.1470424 ,\n",
        "         0.15211097]),\n",
        " <a list of 20 Patch objects>)"
       ]
      },
      {
       "metadata": {},
       "output_type": "display_data",
       "png": "[encoded data removed]",
       "text": [
        "<matplotlib.figure.Figure at 0x109920590>"
       ]
      }
     ],
     "prompt_number": 50
    },
    {
     "cell_type": "code",
     "collapsed": false,
     "input": [
      "max(factors[:1000])"
     ],
     "language": "python",
     "metadata": {},
     "outputs": [
      {
       "metadata": {},
       "output_type": "pyout",
       "prompt_number": 52,
       "text": [
        "0.15211097492221598"
       ]
      }
     ],
     "prompt_number": 52
    },
    {
     "cell_type": "code",
     "collapsed": false,
     "input": [
      "min(factors[1000:])"
     ],
     "language": "python",
     "metadata": {},
     "outputs": [
      {
       "metadata": {},
       "output_type": "pyout",
       "prompt_number": 53,
       "text": [
        "0.31096615602241751"
       ]
      }
     ],
     "prompt_number": 53
    },
    {
     "cell_type": "code",
     "collapsed": false,
     "input": [],
     "language": "python",
     "metadata": {},
     "outputs": []
    }
   ],
   "metadata": {}
  }
 ]
}