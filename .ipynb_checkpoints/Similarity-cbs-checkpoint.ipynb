{
 "metadata": {
  "name": "",
  "signature": "sha256:59d51a1fff443021b22f8dc3a4c15650ad5ac797fac8189574ad6b40ab2dbf18"
 },
 "nbformat": 3,
 "nbformat_minor": 0,
 "worksheets": [
  {
   "cells": [
    {
     "cell_type": "code",
     "collapsed": false,
     "input": [
      "import numpy as np\n",
      "import matplotlib.pyplot as plt\n",
      "%matplotlib inline"
     ],
     "language": "python",
     "metadata": {},
     "outputs": [],
     "prompt_number": 1
    },
    {
     "cell_type": "code",
     "collapsed": false,
     "input": [
      "f = open('cbs.output.txt')\n",
      "\n",
      "all_events = []\n",
      "\n",
      "for line in f:\n",
      "    contents = line.split()\n",
      "    all_events.append([int(contents[0])-1,int(contents[1])-1])\n",
      "\n",
      "f.close()"
     ],
     "language": "python",
     "metadata": {},
     "outputs": [],
     "prompt_number": 2
    },
    {
     "cell_type": "code",
     "collapsed": false,
     "input": [
      "new_events = all_events[10000000:]\n",
      "events = all_events[:10000000]"
     ],
     "language": "python",
     "metadata": {},
     "outputs": [],
     "prompt_number": 3
    },
    {
     "cell_type": "code",
     "collapsed": false,
     "input": [
      "len(events), len(new_events)"
     ],
     "language": "python",
     "metadata": {},
     "outputs": [
      {
       "metadata": {},
       "output_type": "pyout",
       "prompt_number": 4,
       "text": [
        "(10000000, 979583)"
       ]
      }
     ],
     "prompt_number": 4
    },
    {
     "cell_type": "code",
     "collapsed": false,
     "input": [
      "users = []\n",
      "machines = []\n",
      "for event in events:\n",
      "    users.append(event[0])\n",
      "    machines.append(event[1])"
     ],
     "language": "python",
     "metadata": {},
     "outputs": [],
     "prompt_number": 5
    },
    {
     "cell_type": "code",
     "collapsed": false,
     "input": [
      "global N, M\n",
      "N = max(users)+1\n",
      "M = max(machines)+1\n",
      "profile = np.array([[0.0 for j in xrange(M+1)] for i in xrange(N+1)])\n",
      "\n",
      "print N, M"
     ],
     "language": "python",
     "metadata": {},
     "outputs": [
      {
       "output_type": "stream",
       "stream": "stdout",
       "text": [
        "3888 21\n"
       ]
      }
     ],
     "prompt_number": 6
    },
    {
     "cell_type": "code",
     "collapsed": false,
     "input": [
      "for event in events:\n",
      "    profile[event[0],event[1]] += 1"
     ],
     "language": "python",
     "metadata": {},
     "outputs": [],
     "prompt_number": 7
    },
    {
     "cell_type": "code",
     "collapsed": false,
     "input": [
      "profile"
     ],
     "language": "python",
     "metadata": {},
     "outputs": [
      {
       "metadata": {},
       "output_type": "pyout",
       "prompt_number": 8,
       "text": [
        "array([[  2.25818000e+05,   3.10500000e+03,   2.78200000e+03, ...,\n",
        "          3.96100000e+03,   2.90000000e+01,   0.00000000e+00],\n",
        "       [  3.64228000e+05,   2.56221000e+05,   1.74178000e+05, ...,\n",
        "          2.95020000e+05,   3.31867000e+05,   0.00000000e+00],\n",
        "       [  0.00000000e+00,   0.00000000e+00,   0.00000000e+00, ...,\n",
        "          0.00000000e+00,   0.00000000e+00,   0.00000000e+00],\n",
        "       ..., \n",
        "       [  0.00000000e+00,   0.00000000e+00,   0.00000000e+00, ...,\n",
        "          0.00000000e+00,   0.00000000e+00,   0.00000000e+00],\n",
        "       [  0.00000000e+00,   0.00000000e+00,   0.00000000e+00, ...,\n",
        "          0.00000000e+00,   0.00000000e+00,   0.00000000e+00],\n",
        "       [  0.00000000e+00,   0.00000000e+00,   0.00000000e+00, ...,\n",
        "          0.00000000e+00,   0.00000000e+00,   0.00000000e+00]])"
       ]
      }
     ],
     "prompt_number": 8
    },
    {
     "cell_type": "code",
     "collapsed": false,
     "input": [
      "for i in xrange(N+1):\n",
      "    temp = np.sum(profile[i,:-1])\n",
      "    profile[i,M] = temp\n",
      "\n",
      "for j in xrange(M+1):\n",
      "    profile[N,j] = np.sum(profile[:-1,j])"
     ],
     "language": "python",
     "metadata": {},
     "outputs": [],
     "prompt_number": 9
    },
    {
     "cell_type": "code",
     "collapsed": false,
     "input": [
      "profile"
     ],
     "language": "python",
     "metadata": {},
     "outputs": [
      {
       "metadata": {},
       "output_type": "pyout",
       "prompt_number": 10,
       "text": [
        "array([[  2.25818000e+05,   3.10500000e+03,   2.78200000e+03, ...,\n",
        "          3.96100000e+03,   2.90000000e+01,   4.56463000e+05],\n",
        "       [  3.64228000e+05,   2.56221000e+05,   1.74178000e+05, ...,\n",
        "          2.95020000e+05,   3.31867000e+05,   5.89598700e+06],\n",
        "       [  0.00000000e+00,   0.00000000e+00,   0.00000000e+00, ...,\n",
        "          0.00000000e+00,   0.00000000e+00,   2.15909000e+05],\n",
        "       ..., \n",
        "       [  0.00000000e+00,   0.00000000e+00,   0.00000000e+00, ...,\n",
        "          0.00000000e+00,   0.00000000e+00,   2.00000000e+00],\n",
        "       [  0.00000000e+00,   0.00000000e+00,   0.00000000e+00, ...,\n",
        "          0.00000000e+00,   0.00000000e+00,   3.00000000e+00],\n",
        "       [  6.75270000e+05,   3.85546000e+05,   3.86363000e+05, ...,\n",
        "          3.97584000e+05,   4.20789000e+05,   1.00000000e+07]])"
       ]
      }
     ],
     "prompt_number": 10
    },
    {
     "cell_type": "code",
     "collapsed": false,
     "input": [
      "global profile"
     ],
     "language": "python",
     "metadata": {},
     "outputs": [],
     "prompt_number": 11
    },
    {
     "cell_type": "code",
     "collapsed": false,
     "input": [
      "for n in xrange(N):\n",
      "    den = profile[n,M]\n",
      "    for m in xrange(M):\n",
      "        profile[n,m] = profile[n,m]/den"
     ],
     "language": "python",
     "metadata": {},
     "outputs": [],
     "prompt_number": 12
    },
    {
     "cell_type": "code",
     "collapsed": false,
     "input": [
      "profile"
     ],
     "language": "python",
     "metadata": {},
     "outputs": [
      {
       "metadata": {},
       "output_type": "pyout",
       "prompt_number": 13,
       "text": [
        "array([[  4.94712605e-01,   6.80230380e-03,   6.09468895e-03, ...,\n",
        "          8.67759271e-03,   6.35319840e-05,   4.56463000e+05],\n",
        "       [  6.17755772e-02,   4.34568462e-02,   2.95417883e-02, ...,\n",
        "          5.00374238e-02,   5.62869287e-02,   5.89598700e+06],\n",
        "       [  0.00000000e+00,   0.00000000e+00,   0.00000000e+00, ...,\n",
        "          0.00000000e+00,   0.00000000e+00,   2.15909000e+05],\n",
        "       ..., \n",
        "       [  0.00000000e+00,   0.00000000e+00,   0.00000000e+00, ...,\n",
        "          0.00000000e+00,   0.00000000e+00,   2.00000000e+00],\n",
        "       [  0.00000000e+00,   0.00000000e+00,   0.00000000e+00, ...,\n",
        "          0.00000000e+00,   0.00000000e+00,   3.00000000e+00],\n",
        "       [  6.75270000e+05,   3.85546000e+05,   3.86363000e+05, ...,\n",
        "          3.97584000e+05,   4.20789000e+05,   1.00000000e+07]])"
       ]
      }
     ],
     "prompt_number": 13
    },
    {
     "cell_type": "code",
     "collapsed": false,
     "input": [
      "global sim\n",
      "sim = np.array([[0.0 for j in xrange(N)] for i in xrange(N)])"
     ],
     "language": "python",
     "metadata": {},
     "outputs": [],
     "prompt_number": 14
    },
    {
     "cell_type": "code",
     "collapsed": false,
     "input": [
      "for u in xrange(N):\n",
      "    for v in xrange(u+1):\n",
      "        val = np.dot(profile[u,:-1], profile[v,:-1])/(np.linalg.norm(profile[u,:-1])*np.linalg.norm(profile[v,:-1]))\n",
      "        sim[u,v] = val\n",
      "        sim[v,u] = val"
     ],
     "language": "python",
     "metadata": {},
     "outputs": [],
     "prompt_number": 15
    },
    {
     "cell_type": "code",
     "collapsed": false,
     "input": [
      "sim"
     ],
     "language": "python",
     "metadata": {},
     "outputs": [
      {
       "metadata": {},
       "output_type": "pyout",
       "prompt_number": 16,
       "text": [
        "array([[  1.00000000e+00,   4.39407988e-01,   2.05299328e-01, ...,\n",
        "          1.27280807e-01,   8.24160803e-03,   8.24160803e-03],\n",
        "       [  4.39407988e-01,   1.00000000e+00,   1.36888636e-01, ...,\n",
        "          1.36343472e-01,   1.29941759e-01,   1.29941759e-01],\n",
        "       [  2.05299328e-01,   1.36888636e-01,   1.00000000e+00, ...,\n",
        "          3.63633331e-03,   3.89806021e-05,   3.89806021e-05],\n",
        "       ..., \n",
        "       [  1.27280807e-01,   1.36343472e-01,   3.63633331e-03, ...,\n",
        "          1.00000000e+00,   0.00000000e+00,   0.00000000e+00],\n",
        "       [  8.24160803e-03,   1.29941759e-01,   3.89806021e-05, ...,\n",
        "          0.00000000e+00,   1.00000000e+00,   1.00000000e+00],\n",
        "       [  8.24160803e-03,   1.29941759e-01,   3.89806021e-05, ...,\n",
        "          0.00000000e+00,   1.00000000e+00,   1.00000000e+00]])"
       ]
      }
     ],
     "prompt_number": 16
    },
    {
     "cell_type": "code",
     "collapsed": false,
     "input": [
      "def update(event):\n",
      "    u = event[0]\n",
      "    m = event[1]\n",
      "    T = profile[u,M]+1\n",
      "    f = (T-1)/T\n",
      "    for i in xrange(M):\n",
      "        profile[u,i] = profile[u,i]*f\n",
      "    profile[u,m] += 1/T\n",
      "    profile[u,M] = T\n",
      "    \n",
      "    for v in xrange(N):\n",
      "        val = np.dot(profile[u,:-1], profile[v,:-1])/(np.linalg.norm(profile[u,:-1])*np.linalg.norm(profile[v,:-1]))\n",
      "        sim[u,v] = val\n",
      "        sim[v,u] = val"
     ],
     "language": "python",
     "metadata": {},
     "outputs": [],
     "prompt_number": 17
    },
    {
     "cell_type": "code",
     "collapsed": false,
     "input": [
      "global good_access, bad_access\n",
      "good_access = []\n",
      "bad_access = []\n",
      "\n",
      "def pos_feed(event):\n",
      "    good_access.append(event)\n",
      "    \n",
      "def neg_feed(event):\n",
      "    bad_access.append(event)\n",
      "    u = event[0]\n",
      "    m = event[1]\n",
      "    bad = profile[u,m]*profile[u,M]\n",
      "    T = profile[u,M] - bad\n",
      "    f = (T+bad)/T\n",
      "    for i in xrange(M):\n",
      "        profile[u,i] = profile[u,i]*f\n",
      "    profile[u,m] = 0\n",
      "    profile[u,M] = T\n",
      "    \n",
      "    for v in xrange(N):\n",
      "        val = np.dot(profile[u,:-1], profile[v,:-1])/(np.linalg.norm(profile[u,:-1])*np.linalg.norm(profile[v,:-1]))\n",
      "        sim[u,v] = val\n",
      "        sim[v,u] = val"
     ],
     "language": "python",
     "metadata": {},
     "outputs": [],
     "prompt_number": 18
    },
    {
     "cell_type": "code",
     "collapsed": false,
     "input": [
      "def score(event):\n",
      "    if event[0]>=N or event[1]>=M:\n",
      "        return 'new'\n",
      "    if event in good_access:\n",
      "        return 'good'\n",
      "    if event in bad_access:\n",
      "        return 'bad'\n",
      "    else:\n",
      "        u = event[0]\n",
      "        m = event[1]\n",
      "        score = np.dot(sim[u,:], profile[:-1,m])\n",
      "        return score"
     ],
     "language": "python",
     "metadata": {},
     "outputs": [],
     "prompt_number": 19
    },
    {
     "cell_type": "code",
     "collapsed": false,
     "input": [
      "factors = []\n",
      "i = 0\n",
      "for event in new_events:\n",
      "    i += 1\n",
      "    if i%100000 == 1:\n",
      "        print i\n",
      "    factors.append(score(event))"
     ],
     "language": "python",
     "metadata": {},
     "outputs": [
      {
       "output_type": "stream",
       "stream": "stdout",
       "text": [
        "1\n",
        "100001"
       ]
      },
      {
       "output_type": "stream",
       "stream": "stdout",
       "text": [
        "\n",
        "200001"
       ]
      },
      {
       "output_type": "stream",
       "stream": "stdout",
       "text": [
        "\n",
        "300001"
       ]
      },
      {
       "output_type": "stream",
       "stream": "stdout",
       "text": [
        "\n",
        "400001"
       ]
      },
      {
       "output_type": "stream",
       "stream": "stdout",
       "text": [
        "\n",
        "500001"
       ]
      },
      {
       "output_type": "stream",
       "stream": "stdout",
       "text": [
        "\n",
        "600001"
       ]
      },
      {
       "output_type": "stream",
       "stream": "stdout",
       "text": [
        "\n",
        "700001"
       ]
      },
      {
       "output_type": "stream",
       "stream": "stdout",
       "text": [
        "\n",
        "800001"
       ]
      },
      {
       "output_type": "stream",
       "stream": "stdout",
       "text": [
        "\n",
        "900001"
       ]
      },
      {
       "output_type": "stream",
       "stream": "stdout",
       "text": [
        "\n"
       ]
      }
     ],
     "prompt_number": 21
    },
    {
     "cell_type": "code",
     "collapsed": false,
     "input": [
      "scores = []\n",
      "for factor in factors:\n",
      "    if factor!='new':\n",
      "        scores.append(factor)"
     ],
     "language": "python",
     "metadata": {},
     "outputs": [],
     "prompt_number": 22
    },
    {
     "cell_type": "code",
     "collapsed": false,
     "input": [
      "import numpy as np\n",
      "import matplotlib.pyplot as plt\n",
      "from scipy.stats import gaussian_kde\n",
      "\n",
      "# Calculate the point density\n",
      "xy = np.vstack([[i for i in xrange(len(scores[:10000]))], scores[:10000]])\n",
      "z = gaussian_kde(xy)(xy)\n",
      "\n",
      "fig, ax = plt.subplots()\n",
      "ax.scatter([i for i in xrange(len(scores[:10000]))], scores[:10000], c=z, s=20, edgecolor='')\n",
      "plt.xlabel('factor')\n",
      "plt.ylabel('event')"
     ],
     "language": "python",
     "metadata": {},
     "outputs": [
      {
       "metadata": {},
       "output_type": "pyout",
       "prompt_number": 23,
       "text": [
        "<matplotlib.text.Text at 0x16e6907d0>"
       ]
      },
      {
       "metadata": {},
       "output_type": "display_data",
       "png": "[encoded data removed]",
       "text": [
        "<matplotlib.figure.Figure at 0x144dc2a90>"
       ]
      }
     ],
     "prompt_number": 23
    },
    {
     "cell_type": "code",
     "collapsed": false,
     "input": [
      "fig = plt.figure()\n",
      "ax = fig.add_subplot(111)\n",
      "ax.hist(scores,200)"
     ],
     "language": "python",
     "metadata": {},
     "outputs": [
      {
       "metadata": {},
       "output_type": "pyout",
       "prompt_number": 28,
       "text": [
        "(array([  9.31000000e+02,   2.29200000e+03,   3.63000000e+03,\n",
        "          7.94600000e+03,   2.67800000e+03,   6.58000000e+04,\n",
        "          6.73600000e+03,   7.67300000e+03,   5.49170000e+04,\n",
        "          1.21727000e+05,   1.13976000e+05,   5.23800000e+04,\n",
        "          3.07900000e+03,   1.38120000e+04,   7.64800000e+03,\n",
        "          2.17440000e+04,   2.24600000e+03,   7.13400000e+03,\n",
        "          1.87280000e+04,   9.87700000e+03,   5.32000000e+03,\n",
        "          1.27670000e+04,   8.19900000e+03,   1.59650000e+04,\n",
        "          1.47400000e+03,   1.54740000e+04,   1.88000000e+03,\n",
        "          1.66600000e+03,   7.40700000e+03,   1.40000000e+03,\n",
        "          1.22890000e+04,   2.72600000e+03,   5.05000000e+02,\n",
        "          5.00900000e+04,   2.60600000e+03,   4.80320000e+04,\n",
        "          1.34000000e+03,   3.06800000e+03,   1.04000000e+03,\n",
        "          1.05900000e+03,   1.33960000e+04,   1.08900000e+03,\n",
        "          1.30300000e+03,   8.44000000e+02,   2.45300000e+03,\n",
        "          2.38500000e+03,   1.04000000e+03,   1.16000000e+03,\n",
        "          1.27230000e+04,   4.10000000e+02,   6.70000000e+01,\n",
        "          6.60000000e+01,   3.32000000e+02,   8.80000000e+01,\n",
        "          7.90000000e+01,   5.12600000e+03,   2.02000000e+02,\n",
        "          8.90000000e+01,   1.49000000e+02,   4.50000000e+01,\n",
        "          8.20000000e+01,   1.00000000e+01,   1.44000000e+02,\n",
        "          2.05300000e+03,   9.18500000e+03,   9.20000000e+01,\n",
        "          1.52000000e+02,   1.34000000e+02,   1.33000000e+02,\n",
        "          2.30000000e+01,   6.60000000e+01,   4.40000000e+01,\n",
        "          1.53000000e+02,   7.90000000e+01,   1.56000000e+02,\n",
        "          2.08000000e+02,   1.94000000e+02,   8.80000000e+01,\n",
        "          1.65000000e+02,   1.50000000e+02,   9.10000000e+01,\n",
        "          2.09000000e+02,   1.68000000e+02,   4.40000000e+01,\n",
        "          2.43000000e+02,   5.80000000e+01,   2.90000000e+02,\n",
        "          5.87000000e+02,   1.63200000e+03,   1.06960000e+04,\n",
        "          1.17100000e+03,   7.11000000e+02,   5.11000000e+02,\n",
        "          2.78900000e+03,   3.15300000e+03,   1.86500000e+03,\n",
        "          1.78000000e+02,   6.60000000e+01,   3.80000000e+01,\n",
        "          7.47000000e+02,   2.05000000e+02,   9.15000000e+02,\n",
        "          3.33200000e+03,   7.10000000e+02,   5.70000000e+01,\n",
        "          2.09000000e+02,   1.00000000e+02,   1.72000000e+02,\n",
        "          2.24000000e+02,   7.05000000e+02,   3.48000000e+02,\n",
        "          2.90000000e+02,   6.98000000e+02,   2.10000000e+01,\n",
        "          4.00000000e+00,   6.00000000e+00,   1.70000000e+01,\n",
        "          2.50000000e+01,   1.00000000e+01,   3.90000000e+01,\n",
        "          3.90000000e+01,   3.40000000e+01,   0.00000000e+00,\n",
        "          3.00000000e+01,   1.21000000e+02,   2.30000000e+01,\n",
        "          2.04000000e+02,   9.70000000e+01,   2.60000000e+01,\n",
        "          1.11000000e+02,   8.10000000e+01,   4.40000000e+01,\n",
        "          1.24000000e+02,   2.07600000e+03,   2.91000000e+02,\n",
        "          3.23800000e+03,   2.60000000e+02,   8.30000000e+02,\n",
        "          4.53000000e+02,   2.02000000e+02,   2.00200000e+03,\n",
        "          6.12000000e+02,   5.80000000e+01,   1.20000000e+01,\n",
        "          1.10000000e+01,   0.00000000e+00,   0.00000000e+00,\n",
        "          0.00000000e+00,   0.00000000e+00,   0.00000000e+00,\n",
        "          4.00000000e+00,   1.20000000e+01,   0.00000000e+00,\n",
        "          1.14000000e+02,   0.00000000e+00,   4.00000000e+00,\n",
        "          2.60000000e+01,   3.40000000e+01,   1.20000000e+01,\n",
        "          4.00000000e+00,   3.80000000e+01,   4.20000000e+01,\n",
        "          1.44000000e+02,   6.40000000e+01,   0.00000000e+00,\n",
        "          6.00000000e+00,   0.00000000e+00,   4.20000000e+01,\n",
        "          0.00000000e+00,   2.30000000e+01,   2.00000000e+01,\n",
        "          1.80000000e+01,   4.60000000e+01,   5.20000000e+01,\n",
        "          4.00000000e+01,   6.00000000e+00,   0.00000000e+00,\n",
        "          0.00000000e+00,   1.40000000e+01,   7.60000000e+01,\n",
        "          4.80000000e+01,   0.00000000e+00,   1.60000000e+01,\n",
        "          1.50000000e+01,   5.50000000e+01,   5.60000000e+01,\n",
        "          1.00000000e+02,   1.91000000e+02,   5.80000000e+01,\n",
        "          1.37000000e+02,   4.20000000e+01,   2.18000000e+02,\n",
        "          1.29000000e+02,   2.10000000e+02,   2.27000000e+02,\n",
        "          4.51000000e+02,   3.14000000e+02,   4.40000000e+02,\n",
        "          1.51631000e+05,   3.73000000e+03]),\n",
        " array([  3.10712223e-01,   3.41968830e+00,   6.52866439e+00,\n",
        "          9.63764047e+00,   1.27466166e+01,   1.58555926e+01,\n",
        "          1.89645687e+01,   2.20735448e+01,   2.51825209e+01,\n",
        "          2.82914970e+01,   3.14004730e+01,   3.45094491e+01,\n",
        "          3.76184252e+01,   4.07274013e+01,   4.38363774e+01,\n",
        "          4.69453534e+01,   5.00543295e+01,   5.31633056e+01,\n",
        "          5.62722817e+01,   5.93812578e+01,   6.24902339e+01,\n",
        "          6.55992099e+01,   6.87081860e+01,   7.18171621e+01,\n",
        "          7.49261382e+01,   7.80351143e+01,   8.11440903e+01,\n",
        "          8.42530664e+01,   8.73620425e+01,   9.04710186e+01,\n",
        "          9.35799947e+01,   9.66889708e+01,   9.97979468e+01,\n",
        "          1.02906923e+02,   1.06015899e+02,   1.09124875e+02,\n",
        "          1.12233851e+02,   1.15342827e+02,   1.18451803e+02,\n",
        "          1.21560779e+02,   1.24669755e+02,   1.27778732e+02,\n",
        "          1.30887708e+02,   1.33996684e+02,   1.37105660e+02,\n",
        "          1.40214636e+02,   1.43323612e+02,   1.46432588e+02,\n",
        "          1.49541564e+02,   1.52650540e+02,   1.55759516e+02,\n",
        "          1.58868492e+02,   1.61977468e+02,   1.65086445e+02,\n",
        "          1.68195421e+02,   1.71304397e+02,   1.74413373e+02,\n",
        "          1.77522349e+02,   1.80631325e+02,   1.83740301e+02,\n",
        "          1.86849277e+02,   1.89958253e+02,   1.93067229e+02,\n",
        "          1.96176205e+02,   1.99285181e+02,   2.02394158e+02,\n",
        "          2.05503134e+02,   2.08612110e+02,   2.11721086e+02,\n",
        "          2.14830062e+02,   2.17939038e+02,   2.21048014e+02,\n",
        "          2.24156990e+02,   2.27265966e+02,   2.30374942e+02,\n",
        "          2.33483918e+02,   2.36592894e+02,   2.39701871e+02,\n",
        "          2.42810847e+02,   2.45919823e+02,   2.49028799e+02,\n",
        "          2.52137775e+02,   2.55246751e+02,   2.58355727e+02,\n",
        "          2.61464703e+02,   2.64573679e+02,   2.67682655e+02,\n",
        "          2.70791631e+02,   2.73900607e+02,   2.77009583e+02,\n",
        "          2.80118560e+02,   2.83227536e+02,   2.86336512e+02,\n",
        "          2.89445488e+02,   2.92554464e+02,   2.95663440e+02,\n",
        "          2.98772416e+02,   3.01881392e+02,   3.04990368e+02,\n",
        "          3.08099344e+02,   3.11208320e+02,   3.14317296e+02,\n",
        "          3.17426273e+02,   3.20535249e+02,   3.23644225e+02,\n",
        "          3.26753201e+02,   3.29862177e+02,   3.32971153e+02,\n",
        "          3.36080129e+02,   3.39189105e+02,   3.42298081e+02,\n",
        "          3.45407057e+02,   3.48516033e+02,   3.51625009e+02,\n",
        "          3.54733986e+02,   3.57842962e+02,   3.60951938e+02,\n",
        "          3.64060914e+02,   3.67169890e+02,   3.70278866e+02,\n",
        "          3.73387842e+02,   3.76496818e+02,   3.79605794e+02,\n",
        "          3.82714770e+02,   3.85823746e+02,   3.88932722e+02,\n",
        "          3.92041699e+02,   3.95150675e+02,   3.98259651e+02,\n",
        "          4.01368627e+02,   4.04477603e+02,   4.07586579e+02,\n",
        "          4.10695555e+02,   4.13804531e+02,   4.16913507e+02,\n",
        "          4.20022483e+02,   4.23131459e+02,   4.26240435e+02,\n",
        "          4.29349412e+02,   4.32458388e+02,   4.35567364e+02,\n",
        "          4.38676340e+02,   4.41785316e+02,   4.44894292e+02,\n",
        "          4.48003268e+02,   4.51112244e+02,   4.54221220e+02,\n",
        "          4.57330196e+02,   4.60439172e+02,   4.63548148e+02,\n",
        "          4.66657124e+02,   4.69766101e+02,   4.72875077e+02,\n",
        "          4.75984053e+02,   4.79093029e+02,   4.82202005e+02,\n",
        "          4.85310981e+02,   4.88419957e+02,   4.91528933e+02,\n",
        "          4.94637909e+02,   4.97746885e+02,   5.00855861e+02,\n",
        "          5.03964837e+02,   5.07073814e+02,   5.10182790e+02,\n",
        "          5.13291766e+02,   5.16400742e+02,   5.19509718e+02,\n",
        "          5.22618694e+02,   5.25727670e+02,   5.28836646e+02,\n",
        "          5.31945622e+02,   5.35054598e+02,   5.38163574e+02,\n",
        "          5.41272550e+02,   5.44381527e+02,   5.47490503e+02,\n",
        "          5.50599479e+02,   5.53708455e+02,   5.56817431e+02,\n",
        "          5.59926407e+02,   5.63035383e+02,   5.66144359e+02,\n",
        "          5.69253335e+02,   5.72362311e+02,   5.75471287e+02,\n",
        "          5.78580263e+02,   5.81689240e+02,   5.84798216e+02,\n",
        "          5.87907192e+02,   5.91016168e+02,   5.94125144e+02,\n",
        "          5.97234120e+02,   6.00343096e+02,   6.03452072e+02,\n",
        "          6.06561048e+02,   6.09670024e+02,   6.12779000e+02,\n",
        "          6.15887976e+02,   6.18996952e+02,   6.22105929e+02]),\n",
        " <a list of 200 Patch objects>)"
       ]
      },
      {
       "metadata": {},
       "output_type": "display_data",
       "png": "[encoded data removed]",
       "text": [
        "<matplotlib.figure.Figure at 0x16f8ca790>"
       ]
      }
     ],
     "prompt_number": 28
    },
    {
     "cell_type": "code",
     "collapsed": false,
     "input": [],
     "language": "python",
     "metadata": {},
     "outputs": []
    }
   ],
   "metadata": {}
  }
 ]
}