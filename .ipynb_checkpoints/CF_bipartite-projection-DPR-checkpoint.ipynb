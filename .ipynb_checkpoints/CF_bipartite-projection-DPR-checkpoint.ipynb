{
 "metadata": {
  "name": "",
  "signature": "sha256:e29abbd58452ce6c8ea44fc0b2e7370656fd608f2c130bc5389c1ef3aa8805dc"
 },
 "nbformat": 3,
 "nbformat_minor": 0,
 "worksheets": [
  {
   "cells": [
    {
     "cell_type": "code",
     "collapsed": false,
     "input": [
      "import numpy as np\n",
      "import matplotlib.pyplot as plt\n",
      "%matplotlib inline"
     ],
     "language": "python",
     "metadata": {},
     "outputs": [],
     "prompt_number": 1
    },
    {
     "cell_type": "heading",
     "level": 2,
     "metadata": {},
     "source": [
      "Input"
     ]
    },
    {
     "cell_type": "code",
     "collapsed": false,
     "input": [
      "#events = [[0,0],[0,0],[0,1],[0,1],[1,0],[1,0],[1,1],[1,1],[0,2]]\n",
      "#users = [0,1]\n",
      "#machines = [0,1,2,3]"
     ],
     "language": "python",
     "metadata": {},
     "outputs": [],
     "prompt_number": 2
    },
    {
     "cell_type": "code",
     "collapsed": false,
     "input": [
      "f = open('DPR.output.txt')\n",
      "\n",
      "all_events = []\n",
      "\n",
      "for line in f:\n",
      "    #print line\n",
      "    contents = line.split()\n",
      "    #print contents\n",
      "    all_events.append([int(contents[0])-1,int(contents[1])-1])\n",
      "\n",
      "f.close()"
     ],
     "language": "python",
     "metadata": {},
     "outputs": [],
     "prompt_number": 3
    },
    {
     "cell_type": "code",
     "collapsed": false,
     "input": [
      "new_events = all_events[1500000:]\n",
      "events = all_events[:1500000]"
     ],
     "language": "python",
     "metadata": {},
     "outputs": [],
     "prompt_number": 4
    },
    {
     "cell_type": "code",
     "collapsed": false,
     "input": [
      "len(events)"
     ],
     "language": "python",
     "metadata": {},
     "outputs": [
      {
       "metadata": {},
       "output_type": "pyout",
       "prompt_number": 5,
       "text": [
        "1500000"
       ]
      }
     ],
     "prompt_number": 5
    },
    {
     "cell_type": "code",
     "collapsed": false,
     "input": [
      "len(new_events)"
     ],
     "language": "python",
     "metadata": {},
     "outputs": [
      {
       "metadata": {},
       "output_type": "pyout",
       "prompt_number": 6,
       "text": [
        "503587"
       ]
      }
     ],
     "prompt_number": 6
    },
    {
     "cell_type": "code",
     "collapsed": false,
     "input": [
      "users = []\n",
      "machines = []\n",
      "for event in events:\n",
      "    users.append(event[0])\n",
      "    machines.append(event[1])"
     ],
     "language": "python",
     "metadata": {},
     "outputs": [],
     "prompt_number": 7
    },
    {
     "cell_type": "heading",
     "level": 2,
     "metadata": {},
     "source": [
      "Build the '# accesses' matrix"
     ]
    },
    {
     "cell_type": "code",
     "collapsed": false,
     "input": [
      "N = max(users)+1\n",
      "M = max(machines)+1\n",
      "access = np.matrix([[0.0 for j in xrange(M+1)] for i in xrange(N+1)])\n",
      "\n",
      "print N, M"
     ],
     "language": "python",
     "metadata": {},
     "outputs": [
      {
       "output_type": "stream",
       "stream": "stdout",
       "text": [
        "2129 232\n"
       ]
      }
     ],
     "prompt_number": 8
    },
    {
     "cell_type": "code",
     "collapsed": false,
     "input": [
      "for event in events:\n",
      "    access[event[0],event[1]] += 1"
     ],
     "language": "python",
     "metadata": {},
     "outputs": [],
     "prompt_number": 9
    },
    {
     "cell_type": "code",
     "collapsed": false,
     "input": [
      "access"
     ],
     "language": "python",
     "metadata": {},
     "outputs": [
      {
       "metadata": {},
       "output_type": "pyout",
       "prompt_number": 10,
       "text": [
        "matrix([[ 36218.,    594.,   6233., ...,      0.,      0.,      0.],\n",
        "        [     0.,      0.,      0., ...,      0.,      0.,      0.],\n",
        "        [     0.,      0.,      0., ...,      0.,      0.,      0.],\n",
        "        ..., \n",
        "        [     0.,      0.,      0., ...,      0.,      0.,      0.],\n",
        "        [     0.,      0.,      0., ...,      0.,      0.,      0.],\n",
        "        [     0.,      0.,      0., ...,      0.,      0.,      0.]])"
       ]
      }
     ],
     "prompt_number": 10
    },
    {
     "cell_type": "code",
     "collapsed": false,
     "input": [
      "for i in xrange(N+1):\n",
      "    temp = np.sum(access[i,:-1])\n",
      "    access[i,M] = temp\n",
      "\n",
      "for j in xrange(M+1):\n",
      "    access[N,j] = np.sum(access[:-1,j])"
     ],
     "language": "python",
     "metadata": {},
     "outputs": [],
     "prompt_number": 11
    },
    {
     "cell_type": "code",
     "collapsed": false,
     "input": [
      "access"
     ],
     "language": "python",
     "metadata": {},
     "outputs": [
      {
       "metadata": {},
       "output_type": "pyout",
       "prompt_number": 12,
       "text": [
        "matrix([[  3.62180000e+04,   5.94000000e+02,   6.23300000e+03, ...,\n",
        "           0.00000000e+00,   0.00000000e+00,   4.30510000e+04],\n",
        "        [  0.00000000e+00,   0.00000000e+00,   0.00000000e+00, ...,\n",
        "           0.00000000e+00,   0.00000000e+00,   2.92000000e+03],\n",
        "        [  0.00000000e+00,   0.00000000e+00,   0.00000000e+00, ...,\n",
        "           0.00000000e+00,   0.00000000e+00,   9.56000000e+02],\n",
        "        ..., \n",
        "        [  0.00000000e+00,   0.00000000e+00,   0.00000000e+00, ...,\n",
        "           0.00000000e+00,   0.00000000e+00,   1.20000000e+01],\n",
        "        [  0.00000000e+00,   0.00000000e+00,   0.00000000e+00, ...,\n",
        "           0.00000000e+00,   0.00000000e+00,   1.00000000e+00],\n",
        "        [  5.95340000e+04,   2.22330000e+04,   2.64900000e+04, ...,\n",
        "           3.60100000e+03,   3.61000000e+02,   1.50000000e+06]])"
       ]
      }
     ],
     "prompt_number": 12
    },
    {
     "cell_type": "code",
     "collapsed": false,
     "input": [
      "for u in xrange(N):\n",
      "    if access[u,M] == 0:\n",
      "        access[u,M] = -1\n",
      "        \n",
      "for m in xrange(M):\n",
      "    if access[N,m] == 0:\n",
      "        access[N,m] = -1"
     ],
     "language": "python",
     "metadata": {},
     "outputs": [],
     "prompt_number": 13
    },
    {
     "cell_type": "heading",
     "level": 2,
     "metadata": {},
     "source": [
      "Compute the RP for all user pairs"
     ]
    },
    {
     "cell_type": "code",
     "collapsed": false,
     "input": [
      "RP = np.matrix([[0.0 for j in xrange(N)] for i in xrange(N)])"
     ],
     "language": "python",
     "metadata": {},
     "outputs": [],
     "prompt_number": 14
    },
    {
     "cell_type": "code",
     "collapsed": false,
     "input": [
      "for u in xrange(N):\n",
      "    for v in xrange(N):\n",
      "        for m in xrange(M):\n",
      "            RP[u,v] += (access[u,m]/access[u,M])*(access[v,m]/access[N,m])"
     ],
     "language": "python",
     "metadata": {},
     "outputs": [],
     "prompt_number": 15
    },
    {
     "cell_type": "code",
     "collapsed": false,
     "input": [
      "RP"
     ],
     "language": "python",
     "metadata": {},
     "outputs": [
      {
       "metadata": {},
       "output_type": "pyout",
       "prompt_number": 16,
       "text": [
        "matrix([[ 0.54623575,  0.        ,  0.        , ...,  0.        ,\n",
        "          0.        ,  0.        ],\n",
        "        [ 0.        ,  0.27042637,  0.        , ...,  0.        ,\n",
        "          0.        ,  0.        ],\n",
        "        [ 0.        ,  0.        ,  0.08462523, ...,  0.        ,\n",
        "          0.        ,  0.        ],\n",
        "        ..., \n",
        "        [ 0.        ,  0.        ,  0.        , ...,  0.00152905,\n",
        "          0.        ,  0.00152905],\n",
        "        [ 0.        ,  0.        ,  0.        , ...,  0.        ,\n",
        "          0.00985222,  0.        ],\n",
        "        [ 0.        ,  0.        ,  0.        , ...,  0.00152905,\n",
        "          0.        ,  0.00152905]])"
       ]
      }
     ],
     "prompt_number": 16
    },
    {
     "cell_type": "code",
     "collapsed": false,
     "input": [
      "np.sum(RP[1,:])"
     ],
     "language": "python",
     "metadata": {},
     "outputs": [
      {
       "metadata": {},
       "output_type": "pyout",
       "prompt_number": 55,
       "text": [
        "1.0"
       ]
      }
     ],
     "prompt_number": 55
    },
    {
     "cell_type": "code",
     "collapsed": false,
     "input": [
      "var = 0\n",
      "for row in RP:\n",
      "    var += (np.sum(row)-1)**2\n",
      "    \n",
      "var"
     ],
     "language": "python",
     "metadata": {},
     "outputs": [
      {
       "metadata": {},
       "output_type": "pyout",
       "prompt_number": 141,
       "text": [
        "1.2854685665802693e-26"
       ]
      }
     ],
     "prompt_number": 141
    },
    {
     "cell_type": "heading",
     "level": 2,
     "metadata": {},
     "source": [
      "Compute the factors"
     ]
    },
    {
     "cell_type": "code",
     "collapsed": false,
     "input": [
      "def factor(u,m):\n",
      "    factor = 0\n",
      "    for v in xrange(N):\n",
      "        factor += RP[u,v]*access[v,m]/access[v,M]\n",
      "    return factor"
     ],
     "language": "python",
     "metadata": {},
     "outputs": [],
     "prompt_number": 17
    },
    {
     "cell_type": "code",
     "collapsed": false,
     "input": [
      "factor(0,2)"
     ],
     "language": "python",
     "metadata": {},
     "outputs": [
      {
       "metadata": {},
       "output_type": "pyout",
       "prompt_number": 18,
       "text": [
        "0.19179762068127809"
       ]
      }
     ],
     "prompt_number": 18
    },
    {
     "cell_type": "heading",
     "level": 2,
     "metadata": {},
     "source": [
      "Validation"
     ]
    },
    {
     "cell_type": "code",
     "collapsed": false,
     "input": [
      "#new_events = events[-100:]\n",
      "#print new_events"
     ],
     "language": "python",
     "metadata": {},
     "outputs": [],
     "prompt_number": 19
    },
    {
     "cell_type": "code",
     "collapsed": false,
     "input": [
      "#new_events = [[0,0],[0,1],[0,2],[1,0],[1,1],[1,2]]"
     ],
     "language": "python",
     "metadata": {},
     "outputs": [],
     "prompt_number": 20
    },
    {
     "cell_type": "code",
     "collapsed": false,
     "input": [
      "factors = []\n",
      "for event in new_events:\n",
      "    if event[0]<N and event[1]<M:\n",
      "        factors.append(factor(event[0],event[1]))\n",
      "    else:\n",
      "        factors.append(0)"
     ],
     "language": "python",
     "metadata": {},
     "outputs": [],
     "prompt_number": 21
    },
    {
     "cell_type": "code",
     "collapsed": false,
     "input": [
      "f_out = open('DPR_factors.txt','w')\n",
      "f_out.write(str(factors))\n",
      "f_out.close()"
     ],
     "language": "python",
     "metadata": {},
     "outputs": [],
     "prompt_number": 22
    },
    {
     "cell_type": "code",
     "collapsed": false,
     "input": [
      "f_out = open('DPR_RP.txt','w')\n",
      "for row in RP:\n",
      "    f_out.write(str(row))\n",
      "f_out.close()"
     ],
     "language": "python",
     "metadata": {},
     "outputs": [],
     "prompt_number": 23
    },
    {
     "cell_type": "code",
     "collapsed": false,
     "input": [
      "import numpy as np\n",
      "import matplotlib.pyplot as plt\n",
      "from scipy.stats import gaussian_kde\n",
      "\n",
      "# Generate fake data\n",
      "#x = np.random.normal(size=1000)\n",
      "#y = x * 3 + np.random.normal(size=1000)\n",
      "\n",
      "# Calculate the point density\n",
      "xy = np.vstack([[i for i in xrange(10000)], factors[:10000]])\n",
      "#itemindex = numpy.where(np.isfinite(xy)==False)\n",
      "#inf in (xy)\n",
      "z = gaussian_kde(xy)(xy)\n",
      "\n",
      "fig, ax = plt.subplots()\n",
      "ax.scatter([i for i in xrange(10000)], factors[:10000], c=z, s=20, edgecolor='')\n",
      "xlabel('factor')\n",
      "ylabel('event')"
     ],
     "language": "python",
     "metadata": {},
     "outputs": [
      {
       "ename": "NameError",
       "evalue": "name 'xlabel' is not defined",
       "output_type": "pyerr",
       "traceback": [
        "\u001b[0;31m---------------------------------------------------------------------------\u001b[0m\n\u001b[0;31mNameError\u001b[0m                                 Traceback (most recent call last)",
        "\u001b[0;32m<ipython-input-34-217312276b65>\u001b[0m in \u001b[0;36m<module>\u001b[0;34m()\u001b[0m\n\u001b[1;32m     15\u001b[0m \u001b[0mfig\u001b[0m\u001b[0;34m,\u001b[0m \u001b[0max\u001b[0m \u001b[0;34m=\u001b[0m \u001b[0mplt\u001b[0m\u001b[0;34m.\u001b[0m\u001b[0msubplots\u001b[0m\u001b[0;34m(\u001b[0m\u001b[0;34m)\u001b[0m\u001b[0;34m\u001b[0m\u001b[0m\n\u001b[1;32m     16\u001b[0m \u001b[0max\u001b[0m\u001b[0;34m.\u001b[0m\u001b[0mscatter\u001b[0m\u001b[0;34m(\u001b[0m\u001b[0;34m[\u001b[0m\u001b[0mi\u001b[0m \u001b[0;32mfor\u001b[0m \u001b[0mi\u001b[0m \u001b[0;32min\u001b[0m \u001b[0mxrange\u001b[0m\u001b[0;34m(\u001b[0m\u001b[0;36m10000\u001b[0m\u001b[0;34m)\u001b[0m\u001b[0;34m]\u001b[0m\u001b[0;34m,\u001b[0m \u001b[0mfactors\u001b[0m\u001b[0;34m[\u001b[0m\u001b[0;34m:\u001b[0m\u001b[0;36m10000\u001b[0m\u001b[0;34m]\u001b[0m\u001b[0;34m,\u001b[0m \u001b[0mc\u001b[0m\u001b[0;34m=\u001b[0m\u001b[0mz\u001b[0m\u001b[0;34m,\u001b[0m \u001b[0ms\u001b[0m\u001b[0;34m=\u001b[0m\u001b[0;36m20\u001b[0m\u001b[0;34m,\u001b[0m \u001b[0medgecolor\u001b[0m\u001b[0;34m=\u001b[0m\u001b[0;34m''\u001b[0m\u001b[0;34m)\u001b[0m\u001b[0;34m\u001b[0m\u001b[0m\n\u001b[0;32m---> 17\u001b[0;31m \u001b[0mxlabel\u001b[0m\u001b[0;34m(\u001b[0m\u001b[0;34m'factor'\u001b[0m\u001b[0;34m)\u001b[0m\u001b[0;34m\u001b[0m\u001b[0m\n\u001b[0m\u001b[1;32m     18\u001b[0m \u001b[0mylabel\u001b[0m\u001b[0;34m(\u001b[0m\u001b[0;34m'event'\u001b[0m\u001b[0;34m)\u001b[0m\u001b[0;34m\u001b[0m\u001b[0m\n",
        "\u001b[0;31mNameError\u001b[0m: name 'xlabel' is not defined"
       ]
      },
      {
       "metadata": {},
       "output_type": "display_data",
       "png": "[encoded data removed]",
       "text": [
        "<matplotlib.figure.Figure at 0x1204468d0>"
       ]
      }
     ],
     "prompt_number": 34
    },
    {
     "cell_type": "code",
     "collapsed": false,
     "input": [
      "fig = plt.figure()\n",
      "ax = fig.add_subplot(111)\n",
      "ax.hist(factors,200)"
     ],
     "language": "python",
     "metadata": {},
     "outputs": [
      {
       "metadata": {},
       "output_type": "pyout",
       "prompt_number": 121,
       "text": [
        "(array([  2.90590000e+04,   5.54500000e+03,   6.14900000e+03,\n",
        "          6.18100000e+03,   7.43600000e+03,   5.10500000e+03,\n",
        "          6.86200000e+03,   6.97200000e+03,   6.11100000e+03,\n",
        "          5.70100000e+03,   7.74300000e+03,   6.52900000e+03,\n",
        "          2.30270000e+04,   4.92300000e+03,   6.41000000e+03,\n",
        "          4.76900000e+03,   8.81200000e+03,   8.77500000e+03,\n",
        "          5.45800000e+03,   1.04280000e+04,   4.72400000e+03,\n",
        "          5.37600000e+03,   9.36700000e+03,   2.87600000e+03,\n",
        "          4.32200000e+03,   3.85600000e+03,   5.27800000e+03,\n",
        "          4.87100000e+03,   3.68400000e+03,   4.78700000e+03,\n",
        "          3.61300000e+03,   4.54700000e+03,   4.84400000e+03,\n",
        "          4.10700000e+03,   2.53100000e+03,   6.04200000e+03,\n",
        "          5.04700000e+03,   6.02100000e+03,   2.05200000e+03,\n",
        "          6.82100000e+03,   1.17860000e+04,   2.92000000e+03,\n",
        "          1.02500000e+03,   1.35200000e+03,   3.18300000e+03,\n",
        "          6.37600000e+03,   2.60600000e+03,   4.87700000e+03,\n",
        "          1.13900000e+03,   3.25800000e+03,   9.29000000e+02,\n",
        "          2.66900000e+03,   4.06600000e+03,   2.08400000e+03,\n",
        "          2.59200000e+03,   3.08200000e+03,   2.99500000e+03,\n",
        "          2.24400000e+03,   3.36700000e+03,   5.15000000e+02,\n",
        "          1.49500000e+03,   5.82000000e+02,   7.76000000e+02,\n",
        "          1.59900000e+03,   5.53000000e+02,   2.14000000e+03,\n",
        "          1.10900000e+03,   1.86300000e+03,   1.45500000e+03,\n",
        "          1.35100000e+03,   1.41300000e+03,   1.89500000e+03,\n",
        "          4.12400000e+03,   1.95900000e+03,   1.02600000e+03,\n",
        "          3.71200000e+03,   7.91000000e+02,   3.31700000e+03,\n",
        "          3.01000000e+02,   2.49100000e+03,   8.85000000e+02,\n",
        "          6.46000000e+02,   1.02300000e+03,   1.35100000e+03,\n",
        "          2.66300000e+03,   7.95000000e+02,   1.78600000e+03,\n",
        "          7.13000000e+02,   1.05100000e+03,   1.57000000e+02,\n",
        "          2.59000000e+02,   3.84300000e+03,   1.22900000e+03,\n",
        "          1.72200000e+03,   1.34000000e+03,   1.46000000e+02,\n",
        "          5.52000000e+02,   6.71000000e+02,   6.95000000e+02,\n",
        "          8.49000000e+02,   1.90200000e+03,   2.46500000e+03,\n",
        "          6.63400000e+03,   9.50000000e+02,   5.42000000e+02,\n",
        "          9.02000000e+02,   2.09000000e+02,   4.32500000e+03,\n",
        "          6.80000000e+01,   2.46000000e+02,   1.44000000e+02,\n",
        "          3.71000000e+02,   0.00000000e+00,   3.86000000e+02,\n",
        "          4.07000000e+02,   3.79000000e+02,   3.48800000e+03,\n",
        "          1.31000000e+03,   4.15000000e+02,   7.07000000e+02,\n",
        "          4.84000000e+02,   1.56000000e+02,   2.12400000e+03,\n",
        "          1.41100000e+03,   8.13000000e+02,   4.42000000e+02,\n",
        "          1.10000000e+03,   1.35000000e+02,   5.95000000e+02,\n",
        "          0.00000000e+00,   4.68000000e+02,   5.83600000e+03,\n",
        "          5.30000000e+01,   1.40000000e+01,   0.00000000e+00,\n",
        "          3.70000000e+02,   2.73700000e+04,   1.91600000e+03,\n",
        "          3.10000000e+02,   1.63600000e+03,   1.07000000e+02,\n",
        "          4.52000000e+02,   9.40000000e+01,   2.65100000e+03,\n",
        "          1.30000000e+01,   1.62200000e+03,   1.84100000e+03,\n",
        "          1.34300000e+03,   1.62000000e+02,   5.00000000e+01,\n",
        "          1.60000000e+01,   2.46700000e+03,   1.02300000e+03,\n",
        "          6.97000000e+02,   2.90800000e+03,   4.64900000e+03,\n",
        "          0.00000000e+00,   2.74500000e+03,   2.52000000e+02,\n",
        "          1.05000000e+03,   5.90000000e+01,   1.01900000e+03,\n",
        "          3.46800000e+03,   2.72100000e+03,   6.98000000e+02,\n",
        "          1.38000000e+02,   1.29000000e+02,   3.18500000e+03,\n",
        "          8.32000000e+02,   0.00000000e+00,   3.93000000e+02,\n",
        "          0.00000000e+00,   2.30000000e+02,   0.00000000e+00,\n",
        "          8.10000000e+01,   2.40000000e+02,   0.00000000e+00,\n",
        "          0.00000000e+00,   0.00000000e+00,   0.00000000e+00,\n",
        "          0.00000000e+00,   0.00000000e+00,   0.00000000e+00,\n",
        "          0.00000000e+00,   4.68000000e+02,   0.00000000e+00,\n",
        "          1.61000000e+02,   2.44700000e+03,   9.43000000e+02,\n",
        "          4.39700000e+03,   0.00000000e+00,   0.00000000e+00,\n",
        "          0.00000000e+00,   0.00000000e+00,   2.10000000e+01,\n",
        "          0.00000000e+00,   5.60000000e+01,   1.11000000e+02,\n",
        "          0.00000000e+00,   4.11000000e+02]),\n",
        " array([ 0.        ,  0.0048351 ,  0.0096702 ,  0.0145053 ,  0.0193404 ,\n",
        "         0.0241755 ,  0.0290106 ,  0.0338457 ,  0.0386808 ,  0.0435159 ,\n",
        "         0.048351  ,  0.0531861 ,  0.0580212 ,  0.0628563 ,  0.0676914 ,\n",
        "         0.0725265 ,  0.0773616 ,  0.0821967 ,  0.0870318 ,  0.0918669 ,\n",
        "         0.096702  ,  0.1015371 ,  0.1063722 ,  0.1112073 ,  0.1160424 ,\n",
        "         0.1208775 ,  0.1257126 ,  0.1305477 ,  0.1353828 ,  0.1402179 ,\n",
        "         0.145053  ,  0.1498881 ,  0.1547232 ,  0.1595583 ,  0.1643934 ,\n",
        "         0.1692285 ,  0.1740636 ,  0.1788987 ,  0.1837338 ,  0.1885689 ,\n",
        "         0.193404  ,  0.1982391 ,  0.2030742 ,  0.2079093 ,  0.2127444 ,\n",
        "         0.2175795 ,  0.2224146 ,  0.2272497 ,  0.2320848 ,  0.2369199 ,\n",
        "         0.241755  ,  0.2465901 ,  0.2514252 ,  0.2562603 ,  0.2610954 ,\n",
        "         0.2659305 ,  0.27076559,  0.27560069,  0.28043579,  0.28527089,\n",
        "         0.29010599,  0.29494109,  0.29977619,  0.30461129,  0.30944639,\n",
        "         0.31428149,  0.31911659,  0.32395169,  0.32878679,  0.33362189,\n",
        "         0.33845699,  0.34329209,  0.34812719,  0.35296229,  0.35779739,\n",
        "         0.36263249,  0.36746759,  0.37230269,  0.37713779,  0.38197289,\n",
        "         0.38680799,  0.39164309,  0.39647819,  0.40131329,  0.40614839,\n",
        "         0.41098349,  0.41581859,  0.42065369,  0.42548879,  0.43032389,\n",
        "         0.43515899,  0.43999409,  0.44482919,  0.44966429,  0.45449939,\n",
        "         0.45933449,  0.46416959,  0.46900469,  0.47383979,  0.47867489,\n",
        "         0.48350999,  0.48834509,  0.49318019,  0.49801529,  0.50285039,\n",
        "         0.50768549,  0.51252059,  0.51735569,  0.52219079,  0.52702589,\n",
        "         0.53186099,  0.53669609,  0.54153119,  0.54636629,  0.55120139,\n",
        "         0.55603649,  0.56087159,  0.56570669,  0.57054179,  0.57537689,\n",
        "         0.58021199,  0.58504709,  0.58988219,  0.59471729,  0.59955239,\n",
        "         0.60438749,  0.60922259,  0.61405769,  0.61889279,  0.62372789,\n",
        "         0.62856299,  0.63339809,  0.63823319,  0.64306829,  0.64790339,\n",
        "         0.65273849,  0.65757359,  0.66240869,  0.66724379,  0.67207889,\n",
        "         0.67691399,  0.68174909,  0.68658419,  0.69141929,  0.69625439,\n",
        "         0.70108949,  0.70592459,  0.71075969,  0.71559479,  0.72042989,\n",
        "         0.72526499,  0.73010009,  0.73493519,  0.73977029,  0.74460539,\n",
        "         0.74944049,  0.75427559,  0.75911069,  0.76394579,  0.76878089,\n",
        "         0.77361599,  0.77845109,  0.78328619,  0.78812129,  0.79295639,\n",
        "         0.79779149,  0.80262659,  0.80746168,  0.81229678,  0.81713188,\n",
        "         0.82196698,  0.82680208,  0.83163718,  0.83647228,  0.84130738,\n",
        "         0.84614248,  0.85097758,  0.85581268,  0.86064778,  0.86548288,\n",
        "         0.87031798,  0.87515308,  0.87998818,  0.88482328,  0.88965838,\n",
        "         0.89449348,  0.89932858,  0.90416368,  0.90899878,  0.91383388,\n",
        "         0.91866898,  0.92350408,  0.92833918,  0.93317428,  0.93800938,\n",
        "         0.94284448,  0.94767958,  0.95251468,  0.95734978,  0.96218488,\n",
        "         0.96701998]),\n",
        " <a list of 200 Patch objects>)"
       ]
      },
      {
       "metadata": {},
       "output_type": "display_data",
       "png": "[encoded data removed]",
       "text": [
        "<matplotlib.figure.Figure at 0x12bd09bd0>"
       ]
      }
     ],
     "prompt_number": 121
    },
    {
     "cell_type": "code",
     "collapsed": false,
     "input": [
      "count_zero = 0\n",
      "for i in xrange(len(factors)):\n",
      "    e = factors[i]\n",
      "    if e==2:\n",
      "        count_zero += 1\n",
      "        factors[i] = 0"
     ],
     "language": "python",
     "metadata": {},
     "outputs": [],
     "prompt_number": 110
    },
    {
     "cell_type": "code",
     "collapsed": false,
     "input": [
      "count_zero"
     ],
     "language": "python",
     "metadata": {},
     "outputs": [
      {
       "metadata": {},
       "output_type": "pyout",
       "prompt_number": 111,
       "text": [
        "12254"
       ]
      }
     ],
     "prompt_number": 111
    },
    {
     "cell_type": "code",
     "collapsed": false,
     "input": [
      "dataList = factors[:]"
     ],
     "language": "python",
     "metadata": {},
     "outputs": [
      {
       "metadata": {},
       "output_type": "pyout",
       "prompt_number": 201,
       "text": [
        "[1, 2, 0]"
       ]
      }
     ],
     "prompt_number": 201
    },
    {
     "cell_type": "code",
     "collapsed": false,
     "input": [
      "def getJenksBreaks( dataList, numClass ): \n",
      "    dataList.sort()\n",
      "    mat1 = []\n",
      "    for i in range(0,len(dataList)+1):\n",
      "        temp = []\n",
      "        for j in range(0,numClass+1):\n",
      "            temp.append(0)\n",
      "        mat1.append(temp)\n",
      "        \n",
      "    mat2 = []\n",
      "    for i in range(0,len(dataList)+1):\n",
      "       temp = []\n",
      "       for j in range(0,numClass+1):\n",
      "             temp.append(0)\n",
      "       mat2.append(temp)\n",
      "                \n",
      "    for i in range(1,numClass+1):\n",
      "        mat1[1][i] = 1\n",
      "        mat2[1][i] = 0\n",
      "        for j in range(2,len(dataList)+1):\n",
      "            mat2[j][i] = float('inf')\n",
      "            \n",
      "            \n",
      "    v = 0.0\n",
      "    for l in range(2,len(dataList)+1):\n",
      "        s1 = 0.0\n",
      "        s2 = 0.0\n",
      "        w = 0.0\n",
      "        for m in range(1,l+1):\n",
      "            i3 = l - m + 1\n",
      "            \n",
      "            val = float(dataList[i3-1])\n",
      "            \n",
      "            s2 += val * val\n",
      "            s1 += val\n",
      "            \n",
      "            w += 1\n",
      "            v = s2 - (s1 * s1) / w\n",
      "            i4 = i3 - 1\n",
      "            \n",
      "            if i4 != 0:\n",
      "               for j in range(2,numClass+1):\n",
      "                    if mat2[l][j] >= (v + mat2[i4][j - 1]): \n",
      "                        mat1[l][j] = i3\n",
      "                        mat2[l][j] = v + mat2[i4][j - 1]\n",
      "        mat1[l][1] = 1\n",
      "        mat2[l][1] = v\n",
      "    \n",
      "    k = len(dataList)\n",
      "    kclass = []\n",
      "    for i in range(0,numClass+1):\n",
      "        kclass.append(0)\n",
      "        \n",
      "    kclass[numClass] = float(dataList[len(dataList) - 1])\n",
      "    \n",
      "    countNum = numClass\n",
      "    while countNum >= 2:\n",
      "        #print \"rank = \" + str(mat1[k][countNum]) \n",
      "        id = int((mat1[k][countNum]) - 2)\n",
      "        #print \"val = \" + str(dataList[id])\n",
      "        kclass[countNum - 1] = dataList[id] \n",
      "        k = int((mat1[k][countNum] - 1)) \n",
      "        countNum -= 1\n",
      "    return kclass"
     ],
     "language": "python",
     "metadata": {},
     "outputs": [],
     "prompt_number": 118
    },
    {
     "cell_type": "code",
     "collapsed": false,
     "input": [
      "factors_low = []\n",
      "for e in factors:\n",
      "    if e !=0 and e<0.01:\n",
      "        factors_low.append(e)"
     ],
     "language": "python",
     "metadata": {},
     "outputs": [],
     "prompt_number": 143
    },
    {
     "cell_type": "code",
     "collapsed": false,
     "input": [
      "len(factors_low)"
     ],
     "language": "python",
     "metadata": {},
     "outputs": [
      {
       "metadata": {},
       "output_type": "pyout",
       "prompt_number": 144,
       "text": [
        "22621"
       ]
      }
     ],
     "prompt_number": 144
    },
    {
     "cell_type": "code",
     "collapsed": false,
     "input": [
      "fig = plt.figure()\n",
      "ax = fig.add_subplot(111)\n",
      "ax.hist(factors_low,200)"
     ],
     "language": "python",
     "metadata": {},
     "outputs": [
      {
       "metadata": {},
       "output_type": "pyout",
       "prompt_number": 151,
       "text": [
        "(array([  2.90400000e+03,   8.15000000e+02,   5.15000000e+02,\n",
        "          6.28000000e+02,   1.57000000e+02,   1.54100000e+03,\n",
        "          1.80000000e+02,   1.71000000e+02,   1.98000000e+02,\n",
        "          1.90000000e+02,   2.71000000e+02,   8.20000000e+01,\n",
        "          7.70000000e+01,   1.48000000e+02,   1.65000000e+02,\n",
        "          1.13000000e+02,   1.55000000e+02,   8.40000000e+01,\n",
        "          1.44000000e+02,   1.05000000e+02,   7.00000000e+00,\n",
        "          3.97000000e+02,   6.60000000e+01,   5.30000000e+01,\n",
        "          4.50000000e+01,   1.12000000e+02,   4.30000000e+01,\n",
        "          9.50000000e+01,   2.70000000e+01,   2.82000000e+02,\n",
        "          7.60000000e+01,   2.30000000e+01,   3.30000000e+01,\n",
        "          4.40000000e+01,   1.08000000e+02,   2.10000000e+01,\n",
        "          1.50000000e+02,   6.30000000e+01,   8.23000000e+02,\n",
        "          1.62000000e+02,   1.51000000e+02,   4.70000000e+01,\n",
        "          1.36000000e+02,   2.90000000e+01,   3.40000000e+01,\n",
        "          7.15000000e+02,   2.46000000e+02,   2.20000000e+01,\n",
        "          7.00000000e+00,   3.30000000e+01,   2.70000000e+01,\n",
        "          3.60000000e+01,   3.10000000e+01,   9.40000000e+01,\n",
        "          9.10000000e+01,   7.00000000e+01,   5.00000000e+01,\n",
        "          1.97000000e+02,   5.51000000e+02,   2.80000000e+01,\n",
        "          1.05000000e+02,   8.00000000e+00,   4.00000000e+00,\n",
        "          1.71000000e+02,   3.70000000e+01,   5.70000000e+01,\n",
        "          1.07000000e+02,   1.69000000e+02,   1.50000000e+01,\n",
        "          2.69000000e+02,   5.00000000e+01,   1.60000000e+01,\n",
        "          3.12000000e+02,   4.80000000e+01,   2.20000000e+01,\n",
        "          4.40000000e+01,   2.10000000e+01,   5.20000000e+01,\n",
        "          8.00000000e+00,   1.30000000e+01,   1.21000000e+02,\n",
        "          1.20000000e+01,   6.70000000e+01,   4.50000000e+01,\n",
        "          2.40000000e+01,   7.00000000e+01,   8.70000000e+01,\n",
        "          6.10000000e+01,   3.02000000e+02,   6.30000000e+01,\n",
        "          1.15000000e+02,   5.50000000e+01,   1.90000000e+01,\n",
        "          8.40000000e+01,   1.51000000e+02,   1.25000000e+02,\n",
        "          8.00000000e+00,   4.90000000e+01,   1.00000000e+01,\n",
        "          7.30000000e+01,   3.10000000e+01,   1.20000000e+01,\n",
        "          8.70000000e+01,   2.20000000e+01,   0.00000000e+00,\n",
        "          5.10000000e+01,   2.60000000e+01,   8.00000000e+00,\n",
        "          3.00000000e+01,   1.25000000e+02,   3.40000000e+01,\n",
        "          5.20000000e+01,   4.70000000e+01,   1.70000000e+01,\n",
        "          6.00000000e+01,   0.00000000e+00,   8.80000000e+01,\n",
        "          1.90000000e+01,   9.30000000e+01,   3.90000000e+01,\n",
        "          9.80000000e+01,   1.44000000e+02,   6.00000000e+00,\n",
        "          6.40000000e+01,   3.70000000e+01,   3.20000000e+01,\n",
        "          3.91000000e+02,   0.00000000e+00,   4.40000000e+01,\n",
        "          9.00000000e+00,   8.00000000e+00,   5.40000000e+01,\n",
        "          1.87000000e+02,   0.00000000e+00,   1.98000000e+02,\n",
        "          1.15000000e+02,   5.30000000e+01,   6.50000000e+01,\n",
        "          8.70000000e+01,   5.10000000e+01,   4.50000000e+01,\n",
        "          1.30000000e+01,   3.80000000e+01,   1.89000000e+02,\n",
        "          2.90000000e+01,   1.50000000e+01,   1.60000000e+01,\n",
        "          3.50000000e+01,   6.20000000e+01,   3.50000000e+01,\n",
        "          1.12000000e+02,   1.90000000e+01,   0.00000000e+00,\n",
        "          1.20000000e+01,   5.10000000e+01,   4.09000000e+02,\n",
        "          2.20000000e+01,   1.75000000e+02,   1.70000000e+01,\n",
        "          3.60000000e+01,   1.12000000e+02,   6.00000000e+00,\n",
        "          6.70000000e+01,   3.30000000e+01,   9.70000000e+01,\n",
        "          1.01000000e+02,   1.50000000e+01,   8.00000000e+00,\n",
        "          1.20000000e+01,   4.30000000e+01,   3.60000000e+01,\n",
        "          0.00000000e+00,   0.00000000e+00,   1.60000000e+01,\n",
        "          0.00000000e+00,   4.40000000e+01,   0.00000000e+00,\n",
        "          1.80000000e+01,   3.55000000e+02,   2.10000000e+01,\n",
        "          6.70000000e+01,   6.10000000e+01,   1.50000000e+01,\n",
        "          0.00000000e+00,   0.00000000e+00,   9.00000000e+00,\n",
        "          2.00000000e+00,   2.50000000e+01,   2.63000000e+02,\n",
        "          5.60000000e+01,   1.00000000e+01,   2.50000000e+01,\n",
        "          7.60000000e+01,   8.00000000e+01,   3.00000000e+00,\n",
        "          2.40000000e+01,   5.20000000e+01,   6.00000000e+01,\n",
        "          5.20000000e+01,   6.00000000e+00]),\n",
        " array([  4.38967439e-09,   4.99905104e-05,   9.99766312e-05,\n",
        "          1.49962752e-04,   1.99948873e-04,   2.49934993e-04,\n",
        "          2.99921114e-04,   3.49907235e-04,   3.99893356e-04,\n",
        "          4.49879476e-04,   4.99865597e-04,   5.49851718e-04,\n",
        "          5.99837839e-04,   6.49823959e-04,   6.99810080e-04,\n",
        "          7.49796201e-04,   7.99782322e-04,   8.49768442e-04,\n",
        "          8.99754563e-04,   9.49740684e-04,   9.99726805e-04,\n",
        "          1.04971293e-03,   1.09969905e-03,   1.14968517e-03,\n",
        "          1.19967129e-03,   1.24965741e-03,   1.29964353e-03,\n",
        "          1.34962965e-03,   1.39961577e-03,   1.44960189e-03,\n",
        "          1.49958801e-03,   1.54957413e-03,   1.59956025e-03,\n",
        "          1.64954637e-03,   1.69953249e-03,   1.74951862e-03,\n",
        "          1.79950474e-03,   1.84949086e-03,   1.89947698e-03,\n",
        "          1.94946310e-03,   1.99944922e-03,   2.04943534e-03,\n",
        "          2.09942146e-03,   2.14940758e-03,   2.19939370e-03,\n",
        "          2.24937982e-03,   2.29936594e-03,   2.34935206e-03,\n",
        "          2.39933819e-03,   2.44932431e-03,   2.49931043e-03,\n",
        "          2.54929655e-03,   2.59928267e-03,   2.64926879e-03,\n",
        "          2.69925491e-03,   2.74924103e-03,   2.79922715e-03,\n",
        "          2.84921327e-03,   2.89919939e-03,   2.94918551e-03,\n",
        "          2.99917163e-03,   3.04915775e-03,   3.09914388e-03,\n",
        "          3.14913000e-03,   3.19911612e-03,   3.24910224e-03,\n",
        "          3.29908836e-03,   3.34907448e-03,   3.39906060e-03,\n",
        "          3.44904672e-03,   3.49903284e-03,   3.54901896e-03,\n",
        "          3.59900508e-03,   3.64899120e-03,   3.69897732e-03,\n",
        "          3.74896345e-03,   3.79894957e-03,   3.84893569e-03,\n",
        "          3.89892181e-03,   3.94890793e-03,   3.99889405e-03,\n",
        "          4.04888017e-03,   4.09886629e-03,   4.14885241e-03,\n",
        "          4.19883853e-03,   4.24882465e-03,   4.29881077e-03,\n",
        "          4.34879689e-03,   4.39878301e-03,   4.44876914e-03,\n",
        "          4.49875526e-03,   4.54874138e-03,   4.59872750e-03,\n",
        "          4.64871362e-03,   4.69869974e-03,   4.74868586e-03,\n",
        "          4.79867198e-03,   4.84865810e-03,   4.89864422e-03,\n",
        "          4.94863034e-03,   4.99861646e-03,   5.04860258e-03,\n",
        "          5.09858871e-03,   5.14857483e-03,   5.19856095e-03,\n",
        "          5.24854707e-03,   5.29853319e-03,   5.34851931e-03,\n",
        "          5.39850543e-03,   5.44849155e-03,   5.49847767e-03,\n",
        "          5.54846379e-03,   5.59844991e-03,   5.64843603e-03,\n",
        "          5.69842215e-03,   5.74840827e-03,   5.79839440e-03,\n",
        "          5.84838052e-03,   5.89836664e-03,   5.94835276e-03,\n",
        "          5.99833888e-03,   6.04832500e-03,   6.09831112e-03,\n",
        "          6.14829724e-03,   6.19828336e-03,   6.24826948e-03,\n",
        "          6.29825560e-03,   6.34824172e-03,   6.39822784e-03,\n",
        "          6.44821397e-03,   6.49820009e-03,   6.54818621e-03,\n",
        "          6.59817233e-03,   6.64815845e-03,   6.69814457e-03,\n",
        "          6.74813069e-03,   6.79811681e-03,   6.84810293e-03,\n",
        "          6.89808905e-03,   6.94807517e-03,   6.99806129e-03,\n",
        "          7.04804741e-03,   7.09803353e-03,   7.14801966e-03,\n",
        "          7.19800578e-03,   7.24799190e-03,   7.29797802e-03,\n",
        "          7.34796414e-03,   7.39795026e-03,   7.44793638e-03,\n",
        "          7.49792250e-03,   7.54790862e-03,   7.59789474e-03,\n",
        "          7.64788086e-03,   7.69786698e-03,   7.74785310e-03,\n",
        "          7.79783923e-03,   7.84782535e-03,   7.89781147e-03,\n",
        "          7.94779759e-03,   7.99778371e-03,   8.04776983e-03,\n",
        "          8.09775595e-03,   8.14774207e-03,   8.19772819e-03,\n",
        "          8.24771431e-03,   8.29770043e-03,   8.34768655e-03,\n",
        "          8.39767267e-03,   8.44765879e-03,   8.49764492e-03,\n",
        "          8.54763104e-03,   8.59761716e-03,   8.64760328e-03,\n",
        "          8.69758940e-03,   8.74757552e-03,   8.79756164e-03,\n",
        "          8.84754776e-03,   8.89753388e-03,   8.94752000e-03,\n",
        "          8.99750612e-03,   9.04749224e-03,   9.09747836e-03,\n",
        "          9.14746449e-03,   9.19745061e-03,   9.24743673e-03,\n",
        "          9.29742285e-03,   9.34740897e-03,   9.39739509e-03,\n",
        "          9.44738121e-03,   9.49736733e-03,   9.54735345e-03,\n",
        "          9.59733957e-03,   9.64732569e-03,   9.69731181e-03,\n",
        "          9.74729793e-03,   9.79728405e-03,   9.84727018e-03,\n",
        "          9.89725630e-03,   9.94724242e-03,   9.99722854e-03]),\n",
        " <a list of 200 Patch objects>)"
       ]
      },
      {
       "metadata": {},
       "output_type": "display_data",
       "png": "[encoded data removed]",
       "text": [
        "<matplotlib.figure.Figure at 0x12d5e2a90>"
       ]
      }
     ],
     "prompt_number": 151
    },
    {
     "cell_type": "code",
     "collapsed": false,
     "input": [
      "getJenksBreaks(factors_low,2)"
     ],
     "language": "python",
     "metadata": {},
     "outputs": [
      {
       "metadata": {},
       "output_type": "pyout",
       "prompt_number": 138,
       "text": [
        "[0, 0.0039817383325179622, 0.009997228537938076]"
       ]
      }
     ],
     "prompt_number": 138
    },
    {
     "cell_type": "code",
     "collapsed": false,
     "input": [
      "xy = np.vstack([[i for i in xrange(len(factors_low))], factors_low])\n",
      "#itemindex = numpy.where(np.isfinite(xy)==False)\n",
      "#inf in (xy)\n",
      "z = gaussian_kde(xy)(xy)\n",
      "\n",
      "fig, ax = plt.subplots()\n",
      "ax.scatter([i for i in xrange(len(factors_low))], factors_low, c=z, s=5, edgecolor='')\n",
      "xlabel('factor')\n",
      "ylabel('event')"
     ],
     "language": "python",
     "metadata": {},
     "outputs": [
      {
       "ename": "NameError",
       "evalue": "name 'xlabel' is not defined",
       "output_type": "pyerr",
       "traceback": [
        "\u001b[0;31m---------------------------------------------------------------------------\u001b[0m\n\u001b[0;31mNameError\u001b[0m                                 Traceback (most recent call last)",
        "\u001b[0;32m<ipython-input-146-2f740b8e3a5d>\u001b[0m in \u001b[0;36m<module>\u001b[0;34m()\u001b[0m\n\u001b[1;32m      6\u001b[0m \u001b[0mfig\u001b[0m\u001b[0;34m,\u001b[0m \u001b[0max\u001b[0m \u001b[0;34m=\u001b[0m \u001b[0mplt\u001b[0m\u001b[0;34m.\u001b[0m\u001b[0msubplots\u001b[0m\u001b[0;34m(\u001b[0m\u001b[0;34m)\u001b[0m\u001b[0;34m\u001b[0m\u001b[0m\n\u001b[1;32m      7\u001b[0m \u001b[0max\u001b[0m\u001b[0;34m.\u001b[0m\u001b[0mscatter\u001b[0m\u001b[0;34m(\u001b[0m\u001b[0;34m[\u001b[0m\u001b[0mi\u001b[0m \u001b[0;32mfor\u001b[0m \u001b[0mi\u001b[0m \u001b[0;32min\u001b[0m \u001b[0mxrange\u001b[0m\u001b[0;34m(\u001b[0m\u001b[0mlen\u001b[0m\u001b[0;34m(\u001b[0m\u001b[0mfactors_low\u001b[0m\u001b[0;34m)\u001b[0m\u001b[0;34m)\u001b[0m\u001b[0;34m]\u001b[0m\u001b[0;34m,\u001b[0m \u001b[0mfactors_low\u001b[0m\u001b[0;34m,\u001b[0m \u001b[0mc\u001b[0m\u001b[0;34m=\u001b[0m\u001b[0mz\u001b[0m\u001b[0;34m,\u001b[0m \u001b[0ms\u001b[0m\u001b[0;34m=\u001b[0m\u001b[0;36m5\u001b[0m\u001b[0;34m,\u001b[0m \u001b[0medgecolor\u001b[0m\u001b[0;34m=\u001b[0m\u001b[0;34m''\u001b[0m\u001b[0;34m)\u001b[0m\u001b[0;34m\u001b[0m\u001b[0m\n\u001b[0;32m----> 8\u001b[0;31m \u001b[0mxlabel\u001b[0m\u001b[0;34m(\u001b[0m\u001b[0;34m'factor'\u001b[0m\u001b[0;34m)\u001b[0m\u001b[0;34m\u001b[0m\u001b[0m\n\u001b[0m\u001b[1;32m      9\u001b[0m \u001b[0mylabel\u001b[0m\u001b[0;34m(\u001b[0m\u001b[0;34m'event'\u001b[0m\u001b[0;34m)\u001b[0m\u001b[0;34m\u001b[0m\u001b[0m\n",
        "\u001b[0;31mNameError\u001b[0m: name 'xlabel' is not defined"
       ]
      },
      {
       "metadata": {},
       "output_type": "display_data",
       "png": "[encoded data removed]",
       "text": [
        "<matplotlib.figure.Figure at 0x12d756290>"
       ]
      }
     ],
     "prompt_number": 146
    },
    {
     "cell_type": "code",
     "collapsed": false,
     "input": [
      "factors_low_0001 = []\n",
      "for e in factors:\n",
      "    if e !=0 and e<0.0001:\n",
      "        factors_low_0001.append(e)\n",
      "        \n",
      "len(factors_low_0001)"
     ],
     "language": "python",
     "metadata": {},
     "outputs": [
      {
       "metadata": {},
       "output_type": "pyout",
       "prompt_number": 139,
       "text": [
        "3719"
       ]
      }
     ],
     "prompt_number": 139
    },
    {
     "cell_type": "code",
     "collapsed": false,
     "input": [
      "fig = plt.figure()\n",
      "ax = fig.add_subplot(111)\n",
      "ax.hist(factors_low_0001,20)"
     ],
     "language": "python",
     "metadata": {},
     "outputs": [
      {
       "metadata": {},
       "output_type": "pyout",
       "prompt_number": 229,
       "text": [
        "(array([  2.59100000e+03,   7.00000000e+00,   1.29000000e+02,\n",
        "          6.40000000e+01,   3.00000000e+00,   5.40000000e+01,\n",
        "          0.00000000e+00,   1.40000000e+01,   4.20000000e+01,\n",
        "          0.00000000e+00,   2.00000000e+00,   1.00000000e+00,\n",
        "          0.00000000e+00,   0.00000000e+00,   4.24000000e+02,\n",
        "          1.30000000e+01,   1.80000000e+01,   5.00000000e+00,\n",
        "          1.70000000e+01,   3.35000000e+02]),\n",
        " array([  4.38967439e-09,   4.89046269e-06,   9.77653571e-06,\n",
        "          1.46626087e-05,   1.95486817e-05,   2.44347548e-05,\n",
        "          2.93208278e-05,   3.42069008e-05,   3.90929738e-05,\n",
        "          4.39790468e-05,   4.88651198e-05,   5.37511929e-05,\n",
        "          5.86372659e-05,   6.35233389e-05,   6.84094119e-05,\n",
        "          7.32954849e-05,   7.81815579e-05,   8.30676310e-05,\n",
        "          8.79537040e-05,   9.28397770e-05,   9.77258500e-05]),\n",
        " <a list of 20 Patch objects>)"
       ]
      },
      {
       "metadata": {},
       "output_type": "display_data",
       "png": "[encoded data removed]",
       "text": [
        "<matplotlib.figure.Figure at 0x122bf37d0>"
       ]
      }
     ],
     "prompt_number": 229
    },
    {
     "cell_type": "code",
     "collapsed": false,
     "input": [
      "getJenksBreaks(factors_low_0001,2)"
     ],
     "language": "python",
     "metadata": {},
     "outputs": [
      {
       "metadata": {},
       "output_type": "pyout",
       "prompt_number": 120,
       "text": [
        "[0, 3.9556084768997769e-05, 9.772585000380945e-05]"
       ]
      }
     ],
     "prompt_number": 120
    },
    {
     "cell_type": "code",
     "collapsed": false,
     "input": [
      "xy = np.vstack([[i for i in xrange(len(factors_low_0001))], factors_low_0001])\n",
      "#itemindex = numpy.where(np.isfinite(xy)==False)\n",
      "#inf in (xy)\n",
      "z = gaussian_kde(xy)(xy)\n",
      "\n",
      "fig, ax = plt.subplots()\n",
      "ax.scatter([i for i in xrange(len(factors_low_0001))], factors_low_0001, c=z, s=5, edgecolor='')\n",
      "xlabel('factor')\n",
      "ylabel('event')"
     ],
     "language": "python",
     "metadata": {},
     "outputs": [
      {
       "ename": "NameError",
       "evalue": "name 'xlabel' is not defined",
       "output_type": "pyerr",
       "traceback": [
        "\u001b[0;31m---------------------------------------------------------------------------\u001b[0m\n\u001b[0;31mNameError\u001b[0m                                 Traceback (most recent call last)",
        "\u001b[0;32m<ipython-input-142-fa06d2696145>\u001b[0m in \u001b[0;36m<module>\u001b[0;34m()\u001b[0m\n\u001b[1;32m      6\u001b[0m \u001b[0mfig\u001b[0m\u001b[0;34m,\u001b[0m \u001b[0max\u001b[0m \u001b[0;34m=\u001b[0m \u001b[0mplt\u001b[0m\u001b[0;34m.\u001b[0m\u001b[0msubplots\u001b[0m\u001b[0;34m(\u001b[0m\u001b[0;34m)\u001b[0m\u001b[0;34m\u001b[0m\u001b[0m\n\u001b[1;32m      7\u001b[0m \u001b[0max\u001b[0m\u001b[0;34m.\u001b[0m\u001b[0mscatter\u001b[0m\u001b[0;34m(\u001b[0m\u001b[0;34m[\u001b[0m\u001b[0mi\u001b[0m \u001b[0;32mfor\u001b[0m \u001b[0mi\u001b[0m \u001b[0;32min\u001b[0m \u001b[0mxrange\u001b[0m\u001b[0;34m(\u001b[0m\u001b[0mlen\u001b[0m\u001b[0;34m(\u001b[0m\u001b[0mfactors_low_0001\u001b[0m\u001b[0;34m)\u001b[0m\u001b[0;34m)\u001b[0m\u001b[0;34m]\u001b[0m\u001b[0;34m,\u001b[0m \u001b[0mfactors_low_0001\u001b[0m\u001b[0;34m,\u001b[0m \u001b[0mc\u001b[0m\u001b[0;34m=\u001b[0m\u001b[0mz\u001b[0m\u001b[0;34m,\u001b[0m \u001b[0ms\u001b[0m\u001b[0;34m=\u001b[0m\u001b[0;36m5\u001b[0m\u001b[0;34m,\u001b[0m \u001b[0medgecolor\u001b[0m\u001b[0;34m=\u001b[0m\u001b[0;34m''\u001b[0m\u001b[0;34m)\u001b[0m\u001b[0;34m\u001b[0m\u001b[0m\n\u001b[0;32m----> 8\u001b[0;31m \u001b[0mxlabel\u001b[0m\u001b[0;34m(\u001b[0m\u001b[0;34m'factor'\u001b[0m\u001b[0;34m)\u001b[0m\u001b[0;34m\u001b[0m\u001b[0m\n\u001b[0m\u001b[1;32m      9\u001b[0m \u001b[0mylabel\u001b[0m\u001b[0;34m(\u001b[0m\u001b[0;34m'event'\u001b[0m\u001b[0;34m)\u001b[0m\u001b[0;34m\u001b[0m\u001b[0m\n",
        "\u001b[0;31mNameError\u001b[0m: name 'xlabel' is not defined"
       ]
      },
      {
       "metadata": {},
       "output_type": "display_data",
       "png": "[encoded data removed]",
       "text": [
        "<matplotlib.figure.Figure at 0x12c2c9c50>"
       ]
      }
     ],
     "prompt_number": 142
    },
    {
     "cell_type": "code",
     "collapsed": false,
     "input": [
      "factors_low_001 = []\n",
      "for e in factors:\n",
      "    if e !=0 and e<0.001:\n",
      "        factors_low_001.append(e)\n",
      "        \n",
      "len(factors_low_001)"
     ],
     "language": "python",
     "metadata": {},
     "outputs": [
      {
       "metadata": {},
       "output_type": "pyout",
       "prompt_number": 149,
       "text": [
        "8643"
       ]
      }
     ],
     "prompt_number": 149
    },
    {
     "cell_type": "code",
     "collapsed": false,
     "input": [
      "fig = plt.figure()\n",
      "ax = fig.add_subplot(111)\n",
      "ax.hist(factors_low_001,20)"
     ],
     "language": "python",
     "metadata": {},
     "outputs": [
      {
       "metadata": {},
       "output_type": "pyout",
       "prompt_number": 153,
       "text": [
        "(array([ 2904.,   815.,   342.,   801.,   157.,  1537.,   184.,    97.,\n",
        "          272.,   190.,   250.,   103.,    74.,   138.,   176.,   114.,\n",
        "          153.,    85.,   146.,   105.]),\n",
        " array([  4.38967439e-09,   4.94790437e-05,   9.89536977e-05,\n",
        "          1.48428352e-04,   1.97903006e-04,   2.47377660e-04,\n",
        "          2.96852314e-04,   3.46326968e-04,   3.95801622e-04,\n",
        "          4.45276276e-04,   4.94750930e-04,   5.44225584e-04,\n",
        "          5.93700238e-04,   6.43174892e-04,   6.92649546e-04,\n",
        "          7.42124200e-04,   7.91598854e-04,   8.41073508e-04,\n",
        "          8.90548162e-04,   9.40022816e-04,   9.89497470e-04]),\n",
        " <a list of 20 Patch objects>)"
       ]
      },
      {
       "metadata": {},
       "output_type": "display_data",
       "png": "[encoded data removed]",
       "text": [
        "<matplotlib.figure.Figure at 0x122306dd0>"
       ]
      }
     ],
     "prompt_number": 153
    },
    {
     "cell_type": "code",
     "collapsed": false,
     "input": [
      "getJenksBreaks(factors_low_001,2)"
     ],
     "language": "python",
     "metadata": {},
     "outputs": [
      {
       "metadata": {},
       "output_type": "pyout",
       "prompt_number": 152,
       "text": [
        "[0, 0.00038026155604268131, 0.0009894974699616215]"
       ]
      }
     ],
     "prompt_number": 152
    },
    {
     "cell_type": "markdown",
     "metadata": {},
     "source": [
      "Durga"
     ]
    },
    {
     "cell_type": "code",
     "collapsed": false,
     "input": [
      "RP[22,22]"
     ],
     "language": "python",
     "metadata": {},
     "outputs": [
      {
       "metadata": {},
       "output_type": "pyout",
       "prompt_number": 155,
       "text": [
        "0.95333839150227617"
       ]
      }
     ],
     "prompt_number": 155
    },
    {
     "cell_type": "code",
     "collapsed": false,
     "input": [
      "RP[1,1]"
     ],
     "language": "python",
     "metadata": {},
     "outputs": [
      {
       "metadata": {},
       "output_type": "pyout",
       "prompt_number": 156,
       "text": [
        "0.27042636839735951"
       ]
      }
     ],
     "prompt_number": 156
    },
    {
     "cell_type": "markdown",
     "metadata": {},
     "source": [
      "steve"
     ]
    },
    {
     "cell_type": "code",
     "collapsed": false,
     "input": [
      "RP[6,6]"
     ],
     "language": "python",
     "metadata": {},
     "outputs": [
      {
       "metadata": {},
       "output_type": "pyout",
       "prompt_number": 158,
       "text": [
        "0.48719113357986105"
       ]
      }
     ],
     "prompt_number": 158
    },
    {
     "cell_type": "code",
     "collapsed": false,
     "input": [
      "access[6,:]"
     ],
     "language": "python",
     "metadata": {},
     "outputs": [
      {
       "metadata": {},
       "output_type": "pyout",
       "prompt_number": 196,
       "text": [
        "matrix([[     0.,      0.,      0.,      0.,      0.,      0.,      0.,\n",
        "           7829.,      0.,      0.,      0.,      0.,      0.,      0.,\n",
        "              0.,      0.,      0.,      0.,      0.,      0.,      0.,\n",
        "              0.,      0.,      0.,    300.,      0.,      0.,      0.,\n",
        "              0.,      0.,      0.,      0.,      0.,      0.,      0.,\n",
        "              0.,      0.,      0.,      0.,      0.,      0.,      0.,\n",
        "              0.,      0.,      0.,      0.,      0.,      0.,      0.,\n",
        "              0.,      0.,      0.,      0.,      0.,      0.,      0.,\n",
        "              0.,      0.,      0.,      0.,      0.,      0.,      0.,\n",
        "              0.,      0.,      0.,      0.,      0.,      0.,      0.,\n",
        "              0.,      0.,      0.,      0.,      0.,      0.,      0.,\n",
        "              0.,      0.,      0.,      0.,      0.,      0.,      0.,\n",
        "              0.,      0.,      0.,      0.,      0.,      0.,      0.,\n",
        "              0.,      0.,      0.,      0.,      0.,      0.,      0.,\n",
        "              0.,      0.,      0.,      0.,      0.,      0.,      0.,\n",
        "              0.,      0.,      0.,      0.,      0.,      0.,      0.,\n",
        "              0.,      0.,      0.,      0.,      0.,      0.,      0.,\n",
        "              0.,      0.,      0.,      0.,      0.,      0.,      0.,\n",
        "              0.,      0.,      0.,      0.,      0.,      0.,      0.,\n",
        "              0.,      0.,      0.,      0.,      0.,   1390.,    342.,\n",
        "              0.,      0.,      0.,      0.,      0.,      0.,      0.,\n",
        "              0.,      0.,      0.,      0.,      0.,      0.,      0.,\n",
        "              0.,      0.,      0.,      0.,      0.,      0.,      0.,\n",
        "              0.,      0.,      0.,      0.,      0.,      0.,    512.,\n",
        "             77.,      0.,      0.,      0.,      0.,      0.,      0.,\n",
        "              0.,      0.,      0.,      0.,     19.,      0.,      0.,\n",
        "              0.,      0.,      0.,      0.,      0.,      0.,      0.,\n",
        "              0.,      0.,      0.,      0.,      0.,      0.,      0.,\n",
        "              0.,      0.,      0.,      0.,      0.,      0.,    323.,\n",
        "              0.,      0.,      0.,      0.,      0.,      0.,      0.,\n",
        "              0.,      0.,      0.,      0.,      0.,      0.,      0.,\n",
        "              0.,      0.,      0.,      0.,      0.,      0.,      0.,\n",
        "              0.,      0.,      0.,      0.,      0.,      0.,      0.,\n",
        "              0.,  10792.]])"
       ]
      }
     ],
     "prompt_number": 196
    },
    {
     "cell_type": "code",
     "collapsed": false,
     "input": [
      "#Thomas\n",
      "RP[1387,1387]"
     ],
     "language": "python",
     "metadata": {},
     "outputs": [
      {
       "metadata": {},
       "output_type": "pyout",
       "prompt_number": 160,
       "text": [
        "0.30737598947924599"
       ]
      }
     ],
     "prompt_number": 160
    },
    {
     "cell_type": "code",
     "collapsed": false,
     "input": [
      "#abrahamm\n",
      "RP[2215,2215]"
     ],
     "language": "python",
     "metadata": {},
     "outputs": [
      {
       "ename": "IndexError",
       "evalue": "index 2215 is out of bounds for axis 0 with size 2129",
       "output_type": "pyerr",
       "traceback": [
        "\u001b[0;31m---------------------------------------------------------------------------\u001b[0m\n\u001b[0;31mIndexError\u001b[0m                                Traceback (most recent call last)",
        "\u001b[0;32m<ipython-input-161-73ba49e4415f>\u001b[0m in \u001b[0;36m<module>\u001b[0;34m()\u001b[0m\n\u001b[1;32m      1\u001b[0m \u001b[0;31m#abrahamm\u001b[0m\u001b[0;34m\u001b[0m\u001b[0;34m\u001b[0m\u001b[0m\n\u001b[0;32m----> 2\u001b[0;31m \u001b[0mRP\u001b[0m\u001b[0;34m[\u001b[0m\u001b[0;36m2215\u001b[0m\u001b[0;34m,\u001b[0m\u001b[0;36m2215\u001b[0m\u001b[0;34m]\u001b[0m\u001b[0;34m\u001b[0m\u001b[0m\n\u001b[0m",
        "\u001b[0;32m/Users/bartimaeus/anaconda/lib/python2.7/site-packages/numpy/matrixlib/defmatrix.pyc\u001b[0m in \u001b[0;36m__getitem__\u001b[0;34m(self, index)\u001b[0m\n\u001b[1;32m    314\u001b[0m \u001b[0;34m\u001b[0m\u001b[0m\n\u001b[1;32m    315\u001b[0m         \u001b[0;32mtry\u001b[0m\u001b[0;34m:\u001b[0m\u001b[0;34m\u001b[0m\u001b[0m\n\u001b[0;32m--> 316\u001b[0;31m             \u001b[0mout\u001b[0m \u001b[0;34m=\u001b[0m \u001b[0mN\u001b[0m\u001b[0;34m.\u001b[0m\u001b[0mndarray\u001b[0m\u001b[0;34m.\u001b[0m\u001b[0m__getitem__\u001b[0m\u001b[0;34m(\u001b[0m\u001b[0mself\u001b[0m\u001b[0;34m,\u001b[0m \u001b[0mindex\u001b[0m\u001b[0;34m)\u001b[0m\u001b[0;34m\u001b[0m\u001b[0m\n\u001b[0m\u001b[1;32m    317\u001b[0m         \u001b[0;32mfinally\u001b[0m\u001b[0;34m:\u001b[0m\u001b[0;34m\u001b[0m\u001b[0m\n\u001b[1;32m    318\u001b[0m             \u001b[0mself\u001b[0m\u001b[0;34m.\u001b[0m\u001b[0m_getitem\u001b[0m \u001b[0;34m=\u001b[0m \u001b[0mFalse\u001b[0m\u001b[0;34m\u001b[0m\u001b[0m\n",
        "\u001b[0;31mIndexError\u001b[0m: index 2215 is out of bounds for axis 0 with size 2129"
       ]
      }
     ],
     "prompt_number": 161
    },
    {
     "cell_type": "code",
     "collapsed": false,
     "input": [
      "#VanessaC\n",
      "RP[1635,1635]"
     ],
     "language": "python",
     "metadata": {},
     "outputs": [
      {
       "metadata": {},
       "output_type": "pyout",
       "prompt_number": 162,
       "text": [
        "0.0043554553964467273"
       ]
      }
     ],
     "prompt_number": 162
    },
    {
     "cell_type": "code",
     "collapsed": false,
     "input": [
      "np.sum(RP[1635,:])"
     ],
     "language": "python",
     "metadata": {},
     "outputs": [
      {
       "metadata": {},
       "output_type": "pyout",
       "prompt_number": 163,
       "text": [
        "1.0"
       ]
      }
     ],
     "prompt_number": 163
    },
    {
     "cell_type": "code",
     "collapsed": false,
     "input": [
      "#andreaw\n",
      "RP[846,846]"
     ],
     "language": "python",
     "metadata": {},
     "outputs": [
      {
       "metadata": {},
       "output_type": "pyout",
       "prompt_number": 164,
       "text": [
        "0.00957977321364256"
       ]
      }
     ],
     "prompt_number": 164
    },
    {
     "cell_type": "code",
     "collapsed": false,
     "input": [
      "for i in xrange(N):\n",
      "    if RP[i,i]>0.8:\n",
      "        print i"
     ],
     "language": "python",
     "metadata": {},
     "outputs": [
      {
       "output_type": "stream",
       "stream": "stdout",
       "text": [
        "22\n",
        "215\n",
        "287\n",
        "510\n",
        "517\n"
       ]
      }
     ],
     "prompt_number": 165
    },
    {
     "cell_type": "markdown",
     "metadata": {},
     "source": [
      "22 - dpr\\durgas\n",
      "215 - clydeb\n",
      "288 - tomh\n",
      "510 - billhi\n",
      "518 - DPR\\anthonym"
     ]
    },
    {
     "cell_type": "code",
     "collapsed": false,
     "input": [
      "min(factors_low_0001)"
     ],
     "language": "python",
     "metadata": {},
     "outputs": [
      {
       "metadata": {},
       "output_type": "pyout",
       "prompt_number": 166,
       "text": [
        "4.3896743892957141e-09"
       ]
      }
     ],
     "prompt_number": 166
    },
    {
     "cell_type": "code",
     "collapsed": false,
     "input": [
      "factors.index(4.3896743892957141e-09)"
     ],
     "language": "python",
     "metadata": {},
     "outputs": [
      {
       "metadata": {},
       "output_type": "pyout",
       "prompt_number": 168,
       "text": [
        "12254"
       ]
      }
     ],
     "prompt_number": 168
    },
    {
     "cell_type": "code",
     "collapsed": false,
     "input": [
      "new_events[12254]"
     ],
     "language": "python",
     "metadata": {},
     "outputs": [
      {
       "metadata": {},
       "output_type": "pyout",
       "prompt_number": 197,
       "text": [
        "[810, 155]"
       ]
      }
     ],
     "prompt_number": 197
    },
    {
     "cell_type": "code",
     "collapsed": false,
     "input": [
      "for i in xrange(N):\n",
      "    for j in xrange(N):\n",
      "        if RP[i,j]>0.8:\n",
      "            print [i,j], RP[i,j]"
     ],
     "language": "python",
     "metadata": {},
     "outputs": [
      {
       "output_type": "stream",
       "stream": "stdout",
       "text": [
        "[22, 22] 0.953338391502\n",
        "[35, 22] 0.953338391502\n",
        "[37, 22] 0.953338391502\n",
        "[215, 215]"
       ]
      },
      {
       "output_type": "stream",
       "stream": "stdout",
       "text": [
        " 0.805660317825\n",
        "[233, 215] 0.800694908401\n",
        "[287, 287]"
       ]
      },
      {
       "output_type": "stream",
       "stream": "stdout",
       "text": [
        " 0.843974955853\n",
        "[292, 287] 0.839800138017\n",
        "[351, 215]"
       ]
      },
      {
       "output_type": "stream",
       "stream": "stdout",
       "text": [
        " 0.80694428101\n",
        "[510, 510]"
       ]
      },
      {
       "output_type": "stream",
       "stream": "stdout",
       "text": [
        " 0.802276933073\n",
        "[517, 517] 1.0\n",
        "[774, 22]"
       ]
      },
      {
       "output_type": "stream",
       "stream": "stdout",
       "text": [
        " 0.953338391502\n",
        "[1063, 215]"
       ]
      },
      {
       "output_type": "stream",
       "stream": "stdout",
       "text": [
        " 0.803851801576\n",
        "[1143, 22]"
       ]
      },
      {
       "output_type": "stream",
       "stream": "stdout",
       "text": [
        " 0.953338391502\n",
        "[1144, 22] 0.953338391502\n",
        "[1145, 22] 0.953338391502\n",
        "[1154, 22] 0.953338391502\n",
        "[1264, 215]"
       ]
      },
      {
       "output_type": "stream",
       "stream": "stdout",
       "text": [
        " 0.802386579316\n",
        "[1536, 22]"
       ]
      },
      {
       "output_type": "stream",
       "stream": "stdout",
       "text": [
        " 0.953338391502\n",
        "[1538, 22] 0.953338391502\n",
        "[1889, 255]"
       ]
      },
      {
       "output_type": "stream",
       "stream": "stdout",
       "text": [
        " 0.850147492625\n",
        "[1890, 255] 0.850147492625\n",
        "[1891, 255] 0.850147492625\n"
       ]
      }
     ],
     "prompt_number": 171
    },
    {
     "cell_type": "markdown",
     "metadata": {},
     "source": [
      "22 - dpr\\durgas\n",
      "35 - DPR\\PiyushP\n",
      "37 - pradiptab\n",
      "774 - ArifN\n",
      "1143 - DPR\\DeepikaB\n",
      "1144 - DPR\\SrilataR\n",
      "1145 - mohammeda\n",
      "1154 - DPR\\MohammedA\n",
      "1536 - DPR\\Saurabht\n",
      "1538 - piyushp\n",
      "\n",
      "215 - clydeb\n",
      "233 - DPR\\ClydeB\n",
      "351 - DPR\\DeniseLa\n",
      "1063 - DPR\\NolanK\n",
      "1264 - DPR\\DanielleNe\n",
      "\n",
      "287 - tomh\n",
      "292 - DPR\\omh\n",
      "\n",
      "510 - billhi - GA (billh)\n",
      "\n",
      "517 - DPR\\anthonym\n",
      "\n",
      "1889 - host/3MF9ZW1.us.ricoh.ds\n",
      "1890 - US\\AMercier\n",
      "1891 - Alix.Mercier\n",
      "255 - psteib"
     ]
    },
    {
     "cell_type": "code",
     "collapsed": false,
     "input": [
      "np.max(RP[255,:])"
     ],
     "language": "python",
     "metadata": {},
     "outputs": [
      {
       "metadata": {},
       "output_type": "pyout",
       "prompt_number": 213,
       "text": [
        "0.54733724645665216"
       ]
      }
     ],
     "prompt_number": 213
    },
    {
     "cell_type": "code",
     "collapsed": false,
     "input": [
      "RP[255,255]"
     ],
     "language": "python",
     "metadata": {},
     "outputs": [
      {
       "metadata": {},
       "output_type": "pyout",
       "prompt_number": 170,
       "text": [
        "0.54733724645665216"
       ]
      }
     ],
     "prompt_number": 170
    },
    {
     "cell_type": "code",
     "collapsed": false,
     "input": [
      "RP[1538,35]"
     ],
     "language": "python",
     "metadata": {},
     "outputs": [
      {
       "metadata": {},
       "output_type": "pyout",
       "prompt_number": 177,
       "text": [
        "0.0083459787556904395"
       ]
      }
     ],
     "prompt_number": 177
    },
    {
     "cell_type": "code",
     "collapsed": false,
     "input": [
      "access[517]"
     ],
     "language": "python",
     "metadata": {},
     "outputs": [
      {
       "metadata": {},
       "output_type": "pyout",
       "prompt_number": 173,
       "text": [
        "matrix([[  0.,   0.,   0.,   0.,   0.,   0.,   0.,   0.,   0.,   0.,   0.,\n",
        "           0.,   0.,   0.,   0.,   0.,   0.,   0.,   0.,   0.,   0.,   0.,\n",
        "           0.,   0.,   0.,   0.,   0.,   0.,   0.,   0.,   0.,   0.,   0.,\n",
        "           0.,   0.,   0.,   0.,   0.,   0.,   0.,   0.,   0.,   0.,   0.,\n",
        "           0.,   0.,   0.,   0.,   0.,   0.,   0.,   0.,   0.,   0.,   0.,\n",
        "           0.,   0.,   0.,   0.,   0.,   0.,   0.,   0.,   0.,   0.,   0.,\n",
        "           0.,   0.,   0.,   0.,   0.,   0.,   0.,   0.,   0.,   0.,   0.,\n",
        "           0.,   0.,   0.,   0.,   0.,   0.,   0.,   0.,   0.,   0.,   0.,\n",
        "           0.,   0.,   0.,   0.,   0.,   0.,   0.,   0.,   0.,   0.,   0.,\n",
        "           0.,   0.,   0.,   0.,   0.,   0.,   0.,   0.,   0.,   0.,   0.,\n",
        "           0.,   0.,   0.,   0.,   0.,   0.,   0.,   0.,   0.,   0.,   0.,\n",
        "           0.,   0.,   0.,   0.,   0.,   0.,   0.,   0.,   0.,   0.,   0.,\n",
        "           0.,   0.,   0.,   0.,   0.,   0.,   0.,   0.,   0.,   0.,   0.,\n",
        "           0.,   0.,   0.,   0.,   0.,   0.,   0.,   0.,   0.,   0.,   0.,\n",
        "           0.,   0.,   0.,   0.,   0.,   0.,   0.,   0.,   0.,   0.,   0.,\n",
        "           0.,   0.,   0.,   0.,   0.,   0.,   0.,   0.,   0.,   0.,   0.,\n",
        "           0.,  11.,   0.,   0.,   0.,   0.,   0.,   0.,   0.,   0.,   0.,\n",
        "           0.,   0.,   0.,   0.,   0.,   0.,   0.,   0.,   0.,   0.,   0.,\n",
        "           0.,   0.,   0.,   0.,   0.,   0.,   0.,   0.,   0.,   0.,   0.,\n",
        "           0.,   0.,   0.,   0.,   0.,   0.,   0.,   0.,   0.,   0.,   0.,\n",
        "           0.,   0.,   0.,   0.,   0.,   0.,   0.,   0.,   0.,   0.,   0.,\n",
        "           0.,  11.]])"
       ]
      }
     ],
     "prompt_number": 173
    },
    {
     "cell_type": "code",
     "collapsed": false,
     "input": [
      "np.sum(RP[:,517])"
     ],
     "language": "python",
     "metadata": {},
     "outputs": [
      {
       "metadata": {},
       "output_type": "pyout",
       "prompt_number": 174,
       "text": [
        "1.0"
       ]
      }
     ],
     "prompt_number": 174
    },
    {
     "cell_type": "code",
     "collapsed": false,
     "input": [
      "for i in xrange(M):\n",
      "    if access[517,i]==11:\n",
      "        print i"
     ],
     "language": "python",
     "metadata": {},
     "outputs": [
      {
       "output_type": "stream",
       "stream": "stdout",
       "text": [
        "177\n"
       ]
      }
     ],
     "prompt_number": 180
    },
    {
     "cell_type": "code",
     "collapsed": false,
     "input": [
      "access[N,177]"
     ],
     "language": "python",
     "metadata": {},
     "outputs": [
      {
       "metadata": {},
       "output_type": "pyout",
       "prompt_number": 181,
       "text": [
        "11.0"
       ]
      }
     ],
     "prompt_number": 181
    },
    {
     "cell_type": "markdown",
     "metadata": {},
     "source": [
      "M177 - 02-18-1A-34-4B-08:BuildGreatThings "
     ]
    },
    {
     "cell_type": "code",
     "collapsed": false,
     "input": [
      "#durga\n",
      "access[22,:]"
     ],
     "language": "python",
     "metadata": {},
     "outputs": [
      {
       "metadata": {},
       "output_type": "pyout",
       "prompt_number": 182,
       "text": [
        "matrix([[     0.,      0.,      0.,      0.,      0.,      0.,      0.,\n",
        "              0.,      0.,      0.,      0.,      0.,      0.,      0.,\n",
        "              0.,      0.,      0.,      0.,      0.,      0.,  10052.,\n",
        "              0.,      0.,      0.,      0.,      0.,      0.,      0.,\n",
        "              0.,      0.,      0.,      0.,      0.,      0.,      0.,\n",
        "              0.,      0.,      0.,      0.,      0.,      0.,      0.,\n",
        "              0.,      0.,      0.,      0.,      0.,      0.,      0.,\n",
        "              0.,      0.,      0.,      0.,      0.,      0.,      0.,\n",
        "              0.,      0.,      0.,      0.,      0.,      0.,      0.,\n",
        "              0.,      0.,      0.,      0.,      0.,      0.,      0.,\n",
        "              0.,      0.,      0.,      0.,      0.,      0.,      0.,\n",
        "              0.,      0.,      0.,      0.,      0.,      0.,      0.,\n",
        "              0.,      0.,      0.,      0.,      0.,      0.,      0.,\n",
        "              0.,      0.,      0.,      0.,      0.,      0.,      0.,\n",
        "              0.,      0.,      0.,      0.,      0.,      0.,      0.,\n",
        "              0.,      0.,      0.,      0.,      0.,      0.,      0.,\n",
        "              0.,      0.,      0.,      0.,      0.,      0.,      0.,\n",
        "              0.,      0.,      0.,      0.,      0.,      0.,      0.,\n",
        "              0.,      0.,      0.,      0.,      0.,      0.,      0.,\n",
        "              0.,      0.,      0.,      0.,      0.,      0.,      0.,\n",
        "              0.,      0.,      0.,      0.,      0.,      0.,      0.,\n",
        "              0.,      0.,      0.,      0.,      0.,      0.,      0.,\n",
        "              0.,      0.,      0.,      0.,      0.,      0.,      0.,\n",
        "              0.,      0.,      0.,      0.,      0.,      0.,      0.,\n",
        "              0.,      0.,      0.,      0.,      0.,      0.,      0.,\n",
        "              0.,      0.,      0.,      0.,      0.,      0.,      0.,\n",
        "              0.,      0.,      0.,      0.,      0.,      0.,      0.,\n",
        "              0.,      0.,      0.,      0.,      0.,      0.,      0.,\n",
        "              0.,      0.,      0.,      0.,      0.,      0.,      0.,\n",
        "              0.,      0.,      0.,      0.,      0.,      0.,      0.,\n",
        "              0.,      0.,      0.,      0.,      0.,      0.,      0.,\n",
        "              0.,      0.,      0.,      0.,      0.,      0.,      0.,\n",
        "              0.,      0.,      0.,      0.,      0.,      0.,      0.,\n",
        "              0.,  10052.]])"
       ]
      }
     ],
     "prompt_number": 182
    },
    {
     "cell_type": "markdown",
     "metadata": {},
     "source": [
      "M20 - 02-18-1A-35-3A-4C:BuildGreatThings"
     ]
    },
    {
     "cell_type": "code",
     "collapsed": false,
     "input": [
      "#DeepikaB\n",
      "access[1143,:]"
     ],
     "language": "python",
     "metadata": {},
     "outputs": [
      {
       "metadata": {},
       "output_type": "pyout",
       "prompt_number": 189,
       "text": [
        "matrix([[  0.,   0.,   0.,   0.,   0.,   0.,   0.,   0.,   0.,   0.,   0.,\n",
        "           0.,   0.,   0.,   0.,   0.,   0.,   0.,   0.,   0.,  33.,   0.,\n",
        "           0.,   0.,   0.,   0.,   0.,   0.,   0.,   0.,   0.,   0.,   0.,\n",
        "           0.,   0.,   0.,   0.,   0.,   0.,   0.,   0.,   0.,   0.,   0.,\n",
        "           0.,   0.,   0.,   0.,   0.,   0.,   0.,   0.,   0.,   0.,   0.,\n",
        "           0.,   0.,   0.,   0.,   0.,   0.,   0.,   0.,   0.,   0.,   0.,\n",
        "           0.,   0.,   0.,   0.,   0.,   0.,   0.,   0.,   0.,   0.,   0.,\n",
        "           0.,   0.,   0.,   0.,   0.,   0.,   0.,   0.,   0.,   0.,   0.,\n",
        "           0.,   0.,   0.,   0.,   0.,   0.,   0.,   0.,   0.,   0.,   0.,\n",
        "           0.,   0.,   0.,   0.,   0.,   0.,   0.,   0.,   0.,   0.,   0.,\n",
        "           0.,   0.,   0.,   0.,   0.,   0.,   0.,   0.,   0.,   0.,   0.,\n",
        "           0.,   0.,   0.,   0.,   0.,   0.,   0.,   0.,   0.,   0.,   0.,\n",
        "           0.,   0.,   0.,   0.,   0.,   0.,   0.,   0.,   0.,   0.,   0.,\n",
        "           0.,   0.,   0.,   0.,   0.,   0.,   0.,   0.,   0.,   0.,   0.,\n",
        "           0.,   0.,   0.,   0.,   0.,   0.,   0.,   0.,   0.,   0.,   0.,\n",
        "           0.,   0.,   0.,   0.,   0.,   0.,   0.,   0.,   0.,   0.,   0.,\n",
        "           0.,   0.,   0.,   0.,   0.,   0.,   0.,   0.,   0.,   0.,   0.,\n",
        "           0.,   0.,   0.,   0.,   0.,   0.,   0.,   0.,   0.,   0.,   0.,\n",
        "           0.,   0.,   0.,   0.,   0.,   0.,   0.,   0.,   0.,   0.,   0.,\n",
        "           0.,   0.,   0.,   0.,   0.,   0.,   0.,   0.,   0.,   0.,   0.,\n",
        "           0.,   0.,   0.,   0.,   0.,   0.,   0.,   0.,   0.,   0.,   0.,\n",
        "           0.,  33.]])"
       ]
      }
     ],
     "prompt_number": 189
    },
    {
     "cell_type": "code",
     "collapsed": false,
     "input": [
      "#billhi\n",
      "access[510,:]"
     ],
     "language": "python",
     "metadata": {},
     "outputs": [
      {
       "metadata": {},
       "output_type": "pyout",
       "prompt_number": 204,
       "text": [
        "matrix([[  0.00000000e+00,   0.00000000e+00,   0.00000000e+00,\n",
        "           0.00000000e+00,   0.00000000e+00,   0.00000000e+00,\n",
        "           0.00000000e+00,   0.00000000e+00,   0.00000000e+00,\n",
        "           0.00000000e+00,   0.00000000e+00,   0.00000000e+00,\n",
        "           0.00000000e+00,   0.00000000e+00,   0.00000000e+00,\n",
        "           0.00000000e+00,   0.00000000e+00,   0.00000000e+00,\n",
        "           0.00000000e+00,   0.00000000e+00,   0.00000000e+00,\n",
        "           0.00000000e+00,   0.00000000e+00,   0.00000000e+00,\n",
        "           0.00000000e+00,   0.00000000e+00,   0.00000000e+00,\n",
        "           0.00000000e+00,   0.00000000e+00,   0.00000000e+00,\n",
        "           0.00000000e+00,   0.00000000e+00,   0.00000000e+00,\n",
        "           0.00000000e+00,   0.00000000e+00,   0.00000000e+00,\n",
        "           0.00000000e+00,   0.00000000e+00,   0.00000000e+00,\n",
        "           0.00000000e+00,   0.00000000e+00,   0.00000000e+00,\n",
        "           0.00000000e+00,   0.00000000e+00,   0.00000000e+00,\n",
        "           0.00000000e+00,   0.00000000e+00,   0.00000000e+00,\n",
        "           0.00000000e+00,   0.00000000e+00,   0.00000000e+00,\n",
        "           0.00000000e+00,   0.00000000e+00,   0.00000000e+00,\n",
        "           0.00000000e+00,   0.00000000e+00,   0.00000000e+00,\n",
        "           0.00000000e+00,   0.00000000e+00,   0.00000000e+00,\n",
        "           0.00000000e+00,   0.00000000e+00,   0.00000000e+00,\n",
        "           0.00000000e+00,   0.00000000e+00,   0.00000000e+00,\n",
        "           0.00000000e+00,   0.00000000e+00,   0.00000000e+00,\n",
        "           0.00000000e+00,   0.00000000e+00,   0.00000000e+00,\n",
        "           0.00000000e+00,   0.00000000e+00,   0.00000000e+00,\n",
        "           0.00000000e+00,   0.00000000e+00,   0.00000000e+00,\n",
        "           0.00000000e+00,   0.00000000e+00,   0.00000000e+00,\n",
        "           0.00000000e+00,   0.00000000e+00,   0.00000000e+00,\n",
        "           0.00000000e+00,   0.00000000e+00,   0.00000000e+00,\n",
        "           0.00000000e+00,   0.00000000e+00,   0.00000000e+00,\n",
        "           0.00000000e+00,   0.00000000e+00,   0.00000000e+00,\n",
        "           0.00000000e+00,   0.00000000e+00,   0.00000000e+00,\n",
        "           0.00000000e+00,   0.00000000e+00,   0.00000000e+00,\n",
        "           0.00000000e+00,   0.00000000e+00,   0.00000000e+00,\n",
        "           0.00000000e+00,   0.00000000e+00,   0.00000000e+00,\n",
        "           0.00000000e+00,   0.00000000e+00,   0.00000000e+00,\n",
        "           0.00000000e+00,   0.00000000e+00,   0.00000000e+00,\n",
        "           0.00000000e+00,   0.00000000e+00,   0.00000000e+00,\n",
        "           0.00000000e+00,   0.00000000e+00,   0.00000000e+00,\n",
        "           0.00000000e+00,   0.00000000e+00,   0.00000000e+00,\n",
        "           0.00000000e+00,   0.00000000e+00,   0.00000000e+00,\n",
        "           0.00000000e+00,   0.00000000e+00,   0.00000000e+00,\n",
        "           0.00000000e+00,   0.00000000e+00,   0.00000000e+00,\n",
        "           0.00000000e+00,   0.00000000e+00,   0.00000000e+00,\n",
        "           0.00000000e+00,   0.00000000e+00,   0.00000000e+00,\n",
        "           0.00000000e+00,   0.00000000e+00,   0.00000000e+00,\n",
        "           0.00000000e+00,   0.00000000e+00,   0.00000000e+00,\n",
        "           0.00000000e+00,   0.00000000e+00,   0.00000000e+00,\n",
        "           0.00000000e+00,   0.00000000e+00,   0.00000000e+00,\n",
        "           0.00000000e+00,   0.00000000e+00,   0.00000000e+00,\n",
        "           0.00000000e+00,   0.00000000e+00,   0.00000000e+00,\n",
        "           0.00000000e+00,   0.00000000e+00,   0.00000000e+00,\n",
        "           0.00000000e+00,   0.00000000e+00,   0.00000000e+00,\n",
        "           0.00000000e+00,   0.00000000e+00,   0.00000000e+00,\n",
        "           0.00000000e+00,   0.00000000e+00,   0.00000000e+00,\n",
        "           0.00000000e+00,   0.00000000e+00,   0.00000000e+00,\n",
        "           0.00000000e+00,   0.00000000e+00,   0.00000000e+00,\n",
        "           0.00000000e+00,   0.00000000e+00,   0.00000000e+00,\n",
        "           0.00000000e+00,   8.94000000e+02,   0.00000000e+00,\n",
        "           0.00000000e+00,   0.00000000e+00,   0.00000000e+00,\n",
        "           0.00000000e+00,   8.44000000e+02,   0.00000000e+00,\n",
        "           0.00000000e+00,   0.00000000e+00,   0.00000000e+00,\n",
        "           0.00000000e+00,   0.00000000e+00,   0.00000000e+00,\n",
        "           0.00000000e+00,   0.00000000e+00,   0.00000000e+00,\n",
        "           0.00000000e+00,   0.00000000e+00,   0.00000000e+00,\n",
        "           0.00000000e+00,   0.00000000e+00,   0.00000000e+00,\n",
        "           0.00000000e+00,   0.00000000e+00,   0.00000000e+00,\n",
        "           0.00000000e+00,   0.00000000e+00,   0.00000000e+00,\n",
        "           0.00000000e+00,   0.00000000e+00,   0.00000000e+00,\n",
        "           0.00000000e+00,   0.00000000e+00,   0.00000000e+00,\n",
        "           0.00000000e+00,   0.00000000e+00,   0.00000000e+00,\n",
        "           0.00000000e+00,   0.00000000e+00,   0.00000000e+00,\n",
        "           0.00000000e+00,   0.00000000e+00,   0.00000000e+00,\n",
        "           0.00000000e+00,   0.00000000e+00,   0.00000000e+00,\n",
        "           0.00000000e+00,   0.00000000e+00,   0.00000000e+00,\n",
        "           0.00000000e+00,   0.00000000e+00,   1.00000000e+00,\n",
        "           0.00000000e+00,   0.00000000e+00,   0.00000000e+00,\n",
        "           0.00000000e+00,   1.73900000e+03]])"
       ]
      }
     ],
     "prompt_number": 204
    },
    {
     "cell_type": "code",
     "collapsed": false,
     "input": [
      "#clydeb\n",
      "access[215,:]"
     ],
     "language": "python",
     "metadata": {},
     "outputs": [
      {
       "metadata": {},
       "output_type": "pyout",
       "prompt_number": 205,
       "text": [
        "matrix([[    0.,     0.,     0.,     0.,     0.,     0.,     0.,     0.,\n",
        "             0.,     0.,     0.,     0.,     0.,     0.,     0.,     0.,\n",
        "             0.,     0.,     0.,     0.,     0.,     0.,     0.,     0.,\n",
        "             0.,     0.,     0.,     0.,     0.,  5855.,     0.,     0.,\n",
        "             0.,     0.,     0.,     0.,     0.,     0.,     0.,     0.,\n",
        "             0.,     0.,     0.,     0.,     0.,     0.,     0.,     0.,\n",
        "             0.,     0.,     0.,     0.,     0.,     0.,     0.,     0.,\n",
        "             0.,     0.,     0.,     0.,     0.,     0.,     0.,     0.,\n",
        "             0.,     0.,     0.,     0.,     0.,     0.,     0.,     0.,\n",
        "             0.,     0.,     0.,     0.,     0.,     0.,     0.,     0.,\n",
        "             0.,     0.,     0.,     0.,     0.,     0.,     0.,     0.,\n",
        "             0.,     0.,     0.,     0.,     0.,     0.,     0.,     0.,\n",
        "             0.,     0.,     0.,     0.,     0.,     0.,     0.,     0.,\n",
        "             0.,     0.,     0.,     0.,     0.,     0.,     0.,     0.,\n",
        "             0.,     0.,     0.,     0.,     0.,     0.,     0.,     0.,\n",
        "             0.,     0.,     0.,     0.,     0.,     0.,     0.,     0.,\n",
        "             0.,     0.,     0.,     0.,     0.,     0.,     0.,     0.,\n",
        "             0.,     0.,     0.,     0.,     0.,     0.,     0.,     0.,\n",
        "             0.,     0.,     0.,     0.,     0.,     0.,     0.,     0.,\n",
        "             0.,     0.,     0.,     0.,     0.,     0.,     0.,     0.,\n",
        "             0.,     0.,     0.,     0.,     0.,     0.,     0.,     0.,\n",
        "             0.,     0.,     0.,     0.,     0.,     0.,     0.,     0.,\n",
        "             0.,     0.,     0.,     0.,     0.,     0.,     0.,     0.,\n",
        "             0.,     0.,     0.,     0.,     0.,     0.,     0.,     0.,\n",
        "             0.,     0.,     0.,     0.,     0.,     0.,     0.,     0.,\n",
        "             0.,     0.,     0.,     0.,     0.,     0.,     0.,     0.,\n",
        "             0.,     0.,     0.,     0.,     0.,     0.,   380.,     0.,\n",
        "             0.,     0.,     0.,     0.,     0.,     0.,     0.,     0.,\n",
        "             0.,     0.,     0.,     0.,     0.,     0.,     0.,     0.,\n",
        "          6235.]])"
       ]
      }
     ],
     "prompt_number": 205
    },
    {
     "cell_type": "code",
     "collapsed": false,
     "input": [
      "np.max(RP[478,:])"
     ],
     "language": "python",
     "metadata": {},
     "outputs": [
      {
       "metadata": {},
       "output_type": "pyout",
       "prompt_number": 195,
       "text": [
        "0.24437964043677102"
       ]
      }
     ],
     "prompt_number": 195
    },
    {
     "cell_type": "code",
     "collapsed": false,
     "input": [
      "factors_ord = []\n",
      "for event in new_events[:10000]:\n",
      "    if event[0]<N and event[1]<M:\n",
      "        factors_ord.append(factor(event[0],event[1]))\n",
      "    else:\n",
      "        factors_ord.append(0)"
     ],
     "language": "python",
     "metadata": {},
     "outputs": [],
     "prompt_number": 202
    },
    {
     "cell_type": "code",
     "collapsed": false,
     "input": [
      "#DPR\\AndreaW \n",
      "access[869,:]"
     ],
     "language": "python",
     "metadata": {},
     "outputs": [
      {
       "metadata": {},
       "output_type": "pyout",
       "prompt_number": 206,
       "text": [
        "matrix([[   0.,    0.,    0.,    0.,    0.,    0.,    0.,    0.,    0.,\n",
        "            0.,    0.,    0.,    0.,    0.,   91.,    0.,    0.,    0.,\n",
        "            0.,    0.,    0.,    0.,    0.,    0.,    0.,    0.,    0.,\n",
        "            0.,    0.,    0.,    0.,    0.,    0.,    0.,    0.,    0.,\n",
        "            0.,    0.,    0.,    0.,    0.,    0.,    0.,    0.,    0.,\n",
        "            0.,    0.,    0.,    0.,    0.,    0.,    0.,    0.,    0.,\n",
        "            0.,    0.,    0.,    0.,    0.,    0.,    0.,    0.,    0.,\n",
        "            0.,    0.,    0.,    0.,    0.,    0.,    0.,    0.,    0.,\n",
        "            0.,    0.,    0.,    0.,    0.,    0.,    0.,    0.,    0.,\n",
        "            0.,    0.,    0.,    0.,    0.,    0.,    0.,    0.,    0.,\n",
        "            0.,    0.,    0.,    0.,    0.,    0.,    0.,    0.,    0.,\n",
        "            0.,    0.,    0.,    0.,    0.,    0.,    0.,    0.,    0.,\n",
        "            0.,    0.,    0.,    0.,    0.,    0.,    0.,    0.,    0.,\n",
        "            0.,    0.,    0.,    0.,    0.,    0.,    0.,    0.,   52.,\n",
        "            0.,    0.,    0.,    0.,    0.,    0.,    0.,    0.,    0.,\n",
        "            0.,    0.,    0.,    0.,    0.,    0.,    0.,    0.,    0.,\n",
        "            0.,    0.,    0.,    0.,    0.,    0.,    0.,    0.,    0.,\n",
        "            0.,    0.,    0.,    0.,    0.,    0.,    0.,    0.,    0.,\n",
        "            0.,    0.,    0.,    0.,    0.,    0.,    0.,    0.,    0.,\n",
        "            0.,    0.,    0.,    0.,    0.,    0.,    0.,    0.,    0.,\n",
        "            0.,    0.,   11.,    0.,    0.,    0.,    0.,    0.,    0.,\n",
        "            0.,    0.,    0.,    0.,    0.,    0.,    0.,    0.,    0.,\n",
        "            0.,    0.,    0.,    0.,    0.,    0.,    0.,    0.,    0.,\n",
        "            0.,    0.,    0.,    0.,    0.,    0.,    0.,    0.,    0.,\n",
        "            0.,    0.,    0.,    0.,    0.,    0.,    0.,    0.,    0.,\n",
        "            0.,    0.,    0.,    0.,    0.,    0.,    0.,  154.]])"
       ]
      }
     ],
     "prompt_number": 206
    },
    {
     "cell_type": "code",
     "collapsed": false,
     "input": [
      "#DPR\\AndrewAr\n",
      "access[1757,:]"
     ],
     "language": "python",
     "metadata": {},
     "outputs": [
      {
       "metadata": {},
       "output_type": "pyout",
       "prompt_number": 210,
       "text": [
        "matrix([[  0.,   0.,   0.,   0.,   0.,   0.,   0.,   0.,   0.,   0.,   0.,\n",
        "           0.,   0.,   0.,   0.,   0.,   0.,   0.,   0.,   0.,   0.,   0.,\n",
        "           0.,   0.,   0.,   0.,   0.,   0.,   0.,   0.,   0.,   0.,   0.,\n",
        "           0.,   0.,   0.,   0.,   0.,   0.,   0.,   0.,   0.,   0.,   0.,\n",
        "           0.,   0.,   0.,   0.,   0.,   0.,   0.,   0.,   0.,   0.,   0.,\n",
        "           0.,   0.,   0.,   0.,   0.,   0.,   0.,   0.,   0.,   0.,   0.,\n",
        "           0.,   0.,   0.,   0.,   0.,   0.,   0.,   0.,   0.,   0.,   0.,\n",
        "           0.,   0.,   0.,   0.,   0.,   0.,   0.,   0.,   0.,   0.,   0.,\n",
        "           0.,   0.,   0.,   0.,   0.,   0.,   0.,   0.,   0.,   0.,   0.,\n",
        "           0.,   0.,   0.,   0.,   0.,   0.,   0.,   0.,   0.,   0.,   0.,\n",
        "           0.,   0.,   0.,   0.,   0.,   0.,   0.,   0.,   0.,   0.,   0.,\n",
        "           5.,   0.,   0.,   0.,   6.,   0.,   0.,   0.,   0.,   0.,   0.,\n",
        "           0.,   0.,   0.,   0.,   0.,   0.,   0.,   0.,   0.,   0.,   0.,\n",
        "           0.,   0.,   0.,   0.,   0.,   0.,   0.,   0.,   0.,   0.,   0.,\n",
        "           0.,   0.,   0.,   0.,   0.,   0.,   0.,   0.,   0.,   0.,   0.,\n",
        "           0.,   0.,   0.,   0.,   0.,   0.,   0.,   0.,   0.,   0.,   0.,\n",
        "           0.,   0.,   0.,   0.,   0.,   0.,   0.,   0.,   0.,   0.,   0.,\n",
        "           0.,   0.,   0.,   0.,   0.,   0.,   0.,   0.,   0.,   0.,   0.,\n",
        "          31.,   0.,   0.,   0.,   0.,   0.,   0.,   0.,   0.,   0.,   0.,\n",
        "           0.,   0.,   0.,   0.,   0.,   0.,   0.,   0.,   0.,   0.,   0.,\n",
        "           0.,   0.,   0.,   0.,   0.,   0.,   0.,   0.,   0.,   0.,   0.,\n",
        "           0.,  42.]])"
       ]
      }
     ],
     "prompt_number": 210
    },
    {
     "cell_type": "code",
     "collapsed": false,
     "input": [
      "#ussl\n",
      "access[5,:]"
     ],
     "language": "python",
     "metadata": {},
     "outputs": [
      {
       "metadata": {},
       "output_type": "pyout",
       "prompt_number": 211,
       "text": [
        "matrix([[  2.72700000e+03,   1.86000000e+02,   3.41000000e+02,\n",
        "           0.00000000e+00,   0.00000000e+00,   0.00000000e+00,\n",
        "           0.00000000e+00,   0.00000000e+00,   0.00000000e+00,\n",
        "           0.00000000e+00,   0.00000000e+00,   0.00000000e+00,\n",
        "           0.00000000e+00,   0.00000000e+00,   0.00000000e+00,\n",
        "           0.00000000e+00,   0.00000000e+00,   0.00000000e+00,\n",
        "           0.00000000e+00,   0.00000000e+00,   0.00000000e+00,\n",
        "           0.00000000e+00,   0.00000000e+00,   0.00000000e+00,\n",
        "           0.00000000e+00,   0.00000000e+00,   0.00000000e+00,\n",
        "           0.00000000e+00,   0.00000000e+00,   0.00000000e+00,\n",
        "           0.00000000e+00,   0.00000000e+00,   0.00000000e+00,\n",
        "           0.00000000e+00,   0.00000000e+00,   0.00000000e+00,\n",
        "           0.00000000e+00,   0.00000000e+00,   0.00000000e+00,\n",
        "           0.00000000e+00,   0.00000000e+00,   0.00000000e+00,\n",
        "           0.00000000e+00,   0.00000000e+00,   0.00000000e+00,\n",
        "           0.00000000e+00,   0.00000000e+00,   0.00000000e+00,\n",
        "           6.86000000e+02,   0.00000000e+00,   0.00000000e+00,\n",
        "           0.00000000e+00,   0.00000000e+00,   0.00000000e+00,\n",
        "           0.00000000e+00,   0.00000000e+00,   0.00000000e+00,\n",
        "           0.00000000e+00,   0.00000000e+00,   0.00000000e+00,\n",
        "           0.00000000e+00,   0.00000000e+00,   0.00000000e+00,\n",
        "           0.00000000e+00,   0.00000000e+00,   0.00000000e+00,\n",
        "           0.00000000e+00,   0.00000000e+00,   0.00000000e+00,\n",
        "           0.00000000e+00,   0.00000000e+00,   0.00000000e+00,\n",
        "           0.00000000e+00,   0.00000000e+00,   0.00000000e+00,\n",
        "           0.00000000e+00,   0.00000000e+00,   0.00000000e+00,\n",
        "           0.00000000e+00,   0.00000000e+00,   0.00000000e+00,\n",
        "           0.00000000e+00,   0.00000000e+00,   0.00000000e+00,\n",
        "           0.00000000e+00,   0.00000000e+00,   0.00000000e+00,\n",
        "           0.00000000e+00,   0.00000000e+00,   0.00000000e+00,\n",
        "           0.00000000e+00,   0.00000000e+00,   0.00000000e+00,\n",
        "           0.00000000e+00,   0.00000000e+00,   0.00000000e+00,\n",
        "           0.00000000e+00,   0.00000000e+00,   0.00000000e+00,\n",
        "           0.00000000e+00,   0.00000000e+00,   0.00000000e+00,\n",
        "           0.00000000e+00,   0.00000000e+00,   0.00000000e+00,\n",
        "           0.00000000e+00,   0.00000000e+00,   0.00000000e+00,\n",
        "           0.00000000e+00,   0.00000000e+00,   0.00000000e+00,\n",
        "           0.00000000e+00,   0.00000000e+00,   0.00000000e+00,\n",
        "           0.00000000e+00,   0.00000000e+00,   0.00000000e+00,\n",
        "           0.00000000e+00,   0.00000000e+00,   0.00000000e+00,\n",
        "           0.00000000e+00,   0.00000000e+00,   0.00000000e+00,\n",
        "           0.00000000e+00,   0.00000000e+00,   0.00000000e+00,\n",
        "           0.00000000e+00,   0.00000000e+00,   0.00000000e+00,\n",
        "           0.00000000e+00,   0.00000000e+00,   0.00000000e+00,\n",
        "           0.00000000e+00,   0.00000000e+00,   0.00000000e+00,\n",
        "           0.00000000e+00,   0.00000000e+00,   0.00000000e+00,\n",
        "           0.00000000e+00,   0.00000000e+00,   0.00000000e+00,\n",
        "           0.00000000e+00,   0.00000000e+00,   0.00000000e+00,\n",
        "           0.00000000e+00,   0.00000000e+00,   0.00000000e+00,\n",
        "           0.00000000e+00,   0.00000000e+00,   0.00000000e+00,\n",
        "           0.00000000e+00,   0.00000000e+00,   0.00000000e+00,\n",
        "           0.00000000e+00,   0.00000000e+00,   0.00000000e+00,\n",
        "           0.00000000e+00,   0.00000000e+00,   0.00000000e+00,\n",
        "           0.00000000e+00,   0.00000000e+00,   0.00000000e+00,\n",
        "           0.00000000e+00,   0.00000000e+00,   0.00000000e+00,\n",
        "           0.00000000e+00,   0.00000000e+00,   0.00000000e+00,\n",
        "           0.00000000e+00,   0.00000000e+00,   0.00000000e+00,\n",
        "           0.00000000e+00,   0.00000000e+00,   0.00000000e+00,\n",
        "           0.00000000e+00,   0.00000000e+00,   0.00000000e+00,\n",
        "           0.00000000e+00,   0.00000000e+00,   0.00000000e+00,\n",
        "           0.00000000e+00,   0.00000000e+00,   0.00000000e+00,\n",
        "           0.00000000e+00,   0.00000000e+00,   0.00000000e+00,\n",
        "           0.00000000e+00,   0.00000000e+00,   0.00000000e+00,\n",
        "           0.00000000e+00,   0.00000000e+00,   0.00000000e+00,\n",
        "           0.00000000e+00,   0.00000000e+00,   0.00000000e+00,\n",
        "           0.00000000e+00,   0.00000000e+00,   0.00000000e+00,\n",
        "           0.00000000e+00,   0.00000000e+00,   0.00000000e+00,\n",
        "           0.00000000e+00,   0.00000000e+00,   0.00000000e+00,\n",
        "           0.00000000e+00,   0.00000000e+00,   0.00000000e+00,\n",
        "           0.00000000e+00,   0.00000000e+00,   0.00000000e+00,\n",
        "           0.00000000e+00,   0.00000000e+00,   0.00000000e+00,\n",
        "           0.00000000e+00,   0.00000000e+00,   0.00000000e+00,\n",
        "           0.00000000e+00,   0.00000000e+00,   0.00000000e+00,\n",
        "           0.00000000e+00,   0.00000000e+00,   0.00000000e+00,\n",
        "           0.00000000e+00,   0.00000000e+00,   0.00000000e+00,\n",
        "           0.00000000e+00,   0.00000000e+00,   2.00000000e+00,\n",
        "           0.00000000e+00,   0.00000000e+00,   0.00000000e+00,\n",
        "           0.00000000e+00,   3.94200000e+03]])"
       ]
      }
     ],
     "prompt_number": 211
    },
    {
     "cell_type": "code",
     "collapsed": false,
     "input": [
      "#yanmc\n",
      "access[1260,:]"
     ],
     "language": "python",
     "metadata": {},
     "outputs": [
      {
       "metadata": {},
       "output_type": "pyout",
       "prompt_number": 212,
       "text": [
        "matrix([[  0.,   0.,   0.,   0.,   0.,   0.,   0.,   0.,   0.,   0.,   0.,\n",
        "           0.,   0.,   0.,  26.,   0.,   0.,   0.,   0.,   0.,   0.,   0.,\n",
        "           0.,   0.,   0.,   0.,   0.,   0.,   0.,   0.,   0.,   0.,   0.,\n",
        "           0.,   0.,   0.,   0.,   0.,   0.,   0.,   0.,   0.,   0.,   0.,\n",
        "           0.,   0.,   0.,   0.,   0.,   0.,   0.,   0.,   0.,   0.,   0.,\n",
        "           0.,   0.,   0.,   0.,   0.,   0.,   0.,   0.,   0.,   0.,   0.,\n",
        "           0.,   0.,   0.,   0.,   0.,   0.,   0.,   0.,   0.,   0.,   0.,\n",
        "           0.,   0.,   0.,   0.,   0.,   0.,   0.,   0.,   0.,   0.,   0.,\n",
        "           0.,   0.,   0.,   0.,   0.,   0.,   0.,   0.,   6.,   0.,   0.,\n",
        "           0.,   0.,   0.,   0.,   0.,   0.,   0.,   0.,   0.,   0.,   0.,\n",
        "           0.,   0.,   0.,   0.,   0.,   0.,   0.,   0.,   0.,   0.,   0.,\n",
        "           0.,   0.,   0.,   0.,   0.,   0.,   0.,  63.,   0.,   0.,   0.,\n",
        "           0.,   0.,   0.,   0.,   0.,   0.,   0.,   0.,   0.,   0.,   0.,\n",
        "           0.,   0.,   0.,   0.,   0.,   0.,   0.,   0.,   0.,   0.,   0.,\n",
        "           0.,   0.,   0.,   0.,   0.,   0.,   0.,   0.,   0.,   0.,   0.,\n",
        "           0.,   0.,   0.,   0.,   0.,   0.,   0.,   0.,   0.,   0.,   0.,\n",
        "           0.,   0.,   0.,   0.,   0.,   0.,   0.,   0.,   0.,   0.,   0.,\n",
        "           0.,   0.,   0.,   0.,   0.,   0.,   0.,   0.,   0.,   0.,   0.,\n",
        "           0.,   0.,   0.,   0.,   0.,   0.,   0.,   0.,   0.,   0.,   0.,\n",
        "           0.,   0.,   0.,   0.,   0.,   0.,   0.,   0.,   0.,   0.,   0.,\n",
        "           0.,   0.,   0.,   0.,   0.,   0.,   0.,   0.,   0.,   0.,   0.,\n",
        "           0.,  95.]])"
       ]
      }
     ],
     "prompt_number": 212
    },
    {
     "cell_type": "code",
     "collapsed": false,
     "input": [
      "#joanna\n",
      "access[957,:]"
     ],
     "language": "python",
     "metadata": {},
     "outputs": [
      {
       "metadata": {},
       "output_type": "pyout",
       "prompt_number": 214,
       "text": [
        "matrix([[  0.00000000e+00,   0.00000000e+00,   0.00000000e+00,\n",
        "           0.00000000e+00,   0.00000000e+00,   0.00000000e+00,\n",
        "           0.00000000e+00,   0.00000000e+00,   0.00000000e+00,\n",
        "           0.00000000e+00,   0.00000000e+00,   0.00000000e+00,\n",
        "           0.00000000e+00,   0.00000000e+00,   5.50000000e+01,\n",
        "           0.00000000e+00,   0.00000000e+00,   0.00000000e+00,\n",
        "           0.00000000e+00,   0.00000000e+00,   0.00000000e+00,\n",
        "           0.00000000e+00,   0.00000000e+00,   0.00000000e+00,\n",
        "           0.00000000e+00,   0.00000000e+00,   0.00000000e+00,\n",
        "           0.00000000e+00,   0.00000000e+00,   0.00000000e+00,\n",
        "           0.00000000e+00,   2.30000000e+01,   0.00000000e+00,\n",
        "           0.00000000e+00,   0.00000000e+00,   0.00000000e+00,\n",
        "           0.00000000e+00,   0.00000000e+00,   0.00000000e+00,\n",
        "           0.00000000e+00,   0.00000000e+00,   0.00000000e+00,\n",
        "           0.00000000e+00,   0.00000000e+00,   0.00000000e+00,\n",
        "           0.00000000e+00,   0.00000000e+00,   0.00000000e+00,\n",
        "           0.00000000e+00,   0.00000000e+00,   0.00000000e+00,\n",
        "           0.00000000e+00,   0.00000000e+00,   0.00000000e+00,\n",
        "           0.00000000e+00,   0.00000000e+00,   0.00000000e+00,\n",
        "           0.00000000e+00,   0.00000000e+00,   0.00000000e+00,\n",
        "           4.00000000e+00,   0.00000000e+00,   0.00000000e+00,\n",
        "           0.00000000e+00,   0.00000000e+00,   0.00000000e+00,\n",
        "           2.38000000e+02,   0.00000000e+00,   4.00000000e+00,\n",
        "           0.00000000e+00,   2.00000000e+00,   8.00000000e+00,\n",
        "           0.00000000e+00,   0.00000000e+00,   0.00000000e+00,\n",
        "           0.00000000e+00,   0.00000000e+00,   0.00000000e+00,\n",
        "           0.00000000e+00,   0.00000000e+00,   0.00000000e+00,\n",
        "           0.00000000e+00,   0.00000000e+00,   0.00000000e+00,\n",
        "           0.00000000e+00,   0.00000000e+00,   0.00000000e+00,\n",
        "           0.00000000e+00,   0.00000000e+00,   0.00000000e+00,\n",
        "           1.68000000e+02,   0.00000000e+00,   9.94000000e+02,\n",
        "           0.00000000e+00,   0.00000000e+00,   2.07000000e+02,\n",
        "           1.20000000e+01,   0.00000000e+00,   0.00000000e+00,\n",
        "           0.00000000e+00,   0.00000000e+00,   0.00000000e+00,\n",
        "           0.00000000e+00,   0.00000000e+00,   0.00000000e+00,\n",
        "           0.00000000e+00,   0.00000000e+00,   0.00000000e+00,\n",
        "           0.00000000e+00,   0.00000000e+00,   0.00000000e+00,\n",
        "           0.00000000e+00,   0.00000000e+00,   0.00000000e+00,\n",
        "           0.00000000e+00,   0.00000000e+00,   0.00000000e+00,\n",
        "           0.00000000e+00,   4.60000000e+01,   0.00000000e+00,\n",
        "           0.00000000e+00,   6.00000000e+02,   1.90000000e+01,\n",
        "           0.00000000e+00,   4.00000000e+00,   2.94000000e+02,\n",
        "           0.00000000e+00,   0.00000000e+00,   0.00000000e+00,\n",
        "           2.60000000e+01,   0.00000000e+00,   2.60000000e+01,\n",
        "           0.00000000e+00,   0.00000000e+00,   0.00000000e+00,\n",
        "           0.00000000e+00,   0.00000000e+00,   0.00000000e+00,\n",
        "           0.00000000e+00,   0.00000000e+00,   0.00000000e+00,\n",
        "           0.00000000e+00,   0.00000000e+00,   0.00000000e+00,\n",
        "           0.00000000e+00,   0.00000000e+00,   0.00000000e+00,\n",
        "           0.00000000e+00,   0.00000000e+00,   0.00000000e+00,\n",
        "           0.00000000e+00,   0.00000000e+00,   0.00000000e+00,\n",
        "           0.00000000e+00,   0.00000000e+00,   0.00000000e+00,\n",
        "           0.00000000e+00,   0.00000000e+00,   0.00000000e+00,\n",
        "           0.00000000e+00,   0.00000000e+00,   0.00000000e+00,\n",
        "           0.00000000e+00,   0.00000000e+00,   0.00000000e+00,\n",
        "           0.00000000e+00,   0.00000000e+00,   0.00000000e+00,\n",
        "           0.00000000e+00,   0.00000000e+00,   0.00000000e+00,\n",
        "           0.00000000e+00,   4.00000000e+00,   0.00000000e+00,\n",
        "           0.00000000e+00,   0.00000000e+00,   0.00000000e+00,\n",
        "           0.00000000e+00,   3.20000000e+01,   0.00000000e+00,\n",
        "           0.00000000e+00,   0.00000000e+00,   6.80000000e+01,\n",
        "           0.00000000e+00,   0.00000000e+00,   0.00000000e+00,\n",
        "           0.00000000e+00,   0.00000000e+00,   0.00000000e+00,\n",
        "           0.00000000e+00,   0.00000000e+00,   0.00000000e+00,\n",
        "           0.00000000e+00,   0.00000000e+00,   0.00000000e+00,\n",
        "           0.00000000e+00,   0.00000000e+00,   4.00000000e+00,\n",
        "           1.17000000e+02,   0.00000000e+00,   0.00000000e+00,\n",
        "           0.00000000e+00,   0.00000000e+00,   6.00000000e+00,\n",
        "           0.00000000e+00,   0.00000000e+00,   0.00000000e+00,\n",
        "           0.00000000e+00,   0.00000000e+00,   0.00000000e+00,\n",
        "           0.00000000e+00,   1.30000000e+01,   0.00000000e+00,\n",
        "           0.00000000e+00,   0.00000000e+00,   0.00000000e+00,\n",
        "           0.00000000e+00,   0.00000000e+00,   0.00000000e+00,\n",
        "           0.00000000e+00,   0.00000000e+00,   0.00000000e+00,\n",
        "           0.00000000e+00,   0.00000000e+00,   0.00000000e+00,\n",
        "           0.00000000e+00,   0.00000000e+00,   0.00000000e+00,\n",
        "           0.00000000e+00,   0.00000000e+00,   0.00000000e+00,\n",
        "           0.00000000e+00,   2.97400000e+03]])"
       ]
      }
     ],
     "prompt_number": 214
    },
    {
     "cell_type": "code",
     "collapsed": false,
     "input": [
      "min(factors_ord)"
     ],
     "language": "python",
     "metadata": {},
     "outputs": [
      {
       "metadata": {},
       "output_type": "pyout",
       "prompt_number": 215,
       "text": [
        "0"
       ]
      }
     ],
     "prompt_number": 215
    },
    {
     "cell_type": "code",
     "collapsed": false,
     "input": [
      "for i in xrange(len(factors_ord)):\n",
      "    if factors_ord[i]==0:\n",
      "        factors_ord[i] = 2"
     ],
     "language": "python",
     "metadata": {},
     "outputs": [],
     "prompt_number": 216
    },
    {
     "cell_type": "code",
     "collapsed": false,
     "input": [
      "min(factors_ord)"
     ],
     "language": "python",
     "metadata": {},
     "outputs": [
      {
       "metadata": {},
       "output_type": "pyout",
       "prompt_number": 217,
       "text": [
        "7.1075991929077484e-05"
       ]
      }
     ],
     "prompt_number": 217
    },
    {
     "cell_type": "code",
     "collapsed": false,
     "input": [
      "factors_ord.index(7.1075991929077484e-05)"
     ],
     "language": "python",
     "metadata": {},
     "outputs": [
      {
       "metadata": {},
       "output_type": "pyout",
       "prompt_number": 218,
       "text": [
        "1591"
       ]
      }
     ],
     "prompt_number": 218
    },
    {
     "cell_type": "code",
     "collapsed": false,
     "input": [
      "new_events[1591]"
     ],
     "language": "python",
     "metadata": {},
     "outputs": [
      {
       "metadata": {},
       "output_type": "pyout",
       "prompt_number": 219,
       "text": [
        "[1334, 227]"
       ]
      }
     ],
     "prompt_number": 219
    },
    {
     "cell_type": "code",
     "collapsed": false,
     "input": [
      "access[1334,:]"
     ],
     "language": "python",
     "metadata": {},
     "outputs": [
      {
       "metadata": {},
       "output_type": "pyout",
       "prompt_number": 220,
       "text": [
        "matrix([[   0.,    0.,    0.,    0.,  267.,    0.,    0.,    0.,    0.,\n",
        "            0.,    0.,    0.,    0.,    0.,    0.,    0.,    0.,    0.,\n",
        "            0.,    0.,    0.,    0.,    0.,    0.,    0.,    0.,    0.,\n",
        "            0.,    0.,    0.,    0.,    0.,    0.,    0.,    0.,    0.,\n",
        "            0.,    0.,    0.,    0.,    0.,    0.,    0.,    0.,    0.,\n",
        "            0.,    0.,    0.,    0.,    0.,    0.,    0.,    0.,    0.,\n",
        "            0.,    0.,   32.,    0.,    0.,    0.,    0.,    0.,    0.,\n",
        "            0.,    0.,    0.,    0.,    0.,    0.,    0.,    0.,    0.,\n",
        "            0.,    0.,    0.,    0.,    0.,    0.,    0.,    0.,    0.,\n",
        "            0.,    0.,    0.,    0.,    0.,    0.,    0.,    0.,    0.,\n",
        "            0.,    0.,    0.,    0.,    0.,    0.,    0.,    0.,    0.,\n",
        "            0.,    0.,    0.,    0.,    0.,    0.,    0.,    0.,    0.,\n",
        "            0.,    0.,    0.,    0.,    0.,    0.,    0.,    0.,    0.,\n",
        "            0.,    0.,    0.,    0.,    0.,    0.,    0.,    0.,    0.,\n",
        "            0.,    0.,    0.,    0.,    0.,    0.,    0.,    0.,    0.,\n",
        "            0.,    0.,    0.,    0.,    0.,    0.,    0.,    0.,    0.,\n",
        "            0.,    0.,    0.,    0.,    0.,    0.,    0.,    0.,    0.,\n",
        "            0.,    0.,    0.,    0.,    0.,    0.,    0.,    0.,    0.,\n",
        "            0.,    0.,    0.,    0.,    0.,    0.,    0.,    0.,    0.,\n",
        "            0.,    0.,    0.,    0.,    0.,    0.,    0.,    0.,    0.,\n",
        "            0.,    0.,    0.,    0.,    0.,    0.,    0.,    0.,    0.,\n",
        "            0.,    0.,    0.,    0.,    0.,    0.,    0.,    0.,    0.,\n",
        "            0.,    0.,    0.,    0.,    0.,    0.,    0.,    0.,    0.,\n",
        "            0.,    0.,    0.,    0.,    0.,    0.,    0.,    0.,    0.,\n",
        "            0.,    0.,    0.,    0.,    0.,    0.,    0.,    0.,    0.,\n",
        "            0.,    0.,    0.,    0.,    0.,    0.,    0.,  299.]])"
       ]
      }
     ],
     "prompt_number": 220
    },
    {
     "cell_type": "code",
     "collapsed": false,
     "input": [
      "access[1334,227]"
     ],
     "language": "python",
     "metadata": {},
     "outputs": [
      {
       "metadata": {},
       "output_type": "pyout",
       "prompt_number": 221,
       "text": [
        "0.0"
       ]
      }
     ],
     "prompt_number": 221
    },
    {
     "cell_type": "code",
     "collapsed": false,
     "input": [
      "np.max(RP[1334,:])"
     ],
     "language": "python",
     "metadata": {},
     "outputs": [
      {
       "metadata": {},
       "output_type": "pyout",
       "prompt_number": 222,
       "text": [
        "0.14664039975095616"
       ]
      }
     ],
     "prompt_number": 222
    },
    {
     "cell_type": "code",
     "collapsed": false,
     "input": [
      "for i in xrange(N):\n",
      "    if RP[1334,i]>0.1:\n",
      "        print i"
     ],
     "language": "python",
     "metadata": {},
     "outputs": [
      {
       "output_type": "stream",
       "stream": "stdout",
       "text": [
        "76\n",
        "115\n",
        "204\n"
       ]
      }
     ],
     "prompt_number": 223
    },
    {
     "cell_type": "code",
     "collapsed": false,
     "input": [
      "print access[76,227], access[115,227], access[204,227]"
     ],
     "language": "python",
     "metadata": {},
     "outputs": [
      {
       "output_type": "stream",
       "stream": "stdout",
       "text": [
        "0.0 0.0 0.0\n"
       ]
      }
     ],
     "prompt_number": 225
    },
    {
     "cell_type": "code",
     "collapsed": false,
     "input": [
      "access[1334,56]"
     ],
     "language": "python",
     "metadata": {},
     "outputs": [
      {
       "metadata": {},
       "output_type": "pyout",
       "prompt_number": 226,
       "text": [
        "32.0"
       ]
      }
     ],
     "prompt_number": 226
    },
    {
     "cell_type": "code",
     "collapsed": false,
     "input": [
      "labels = []\n",
      "thresh = 3.9556084768997769e-05 #from factors_low_0001\n",
      "ano_count = 0\n",
      "\n",
      "for e in factors:\n",
      "    if e!=0 and e<=thresh:\n",
      "        labels.append(1)\n",
      "        ano_count += 1\n",
      "        \n",
      "    else: \n",
      "        labels.append(0)\n",
      "        \n",
      "ano_count"
     ],
     "language": "python",
     "metadata": {},
     "outputs": [
      {
       "metadata": {},
       "output_type": "pyout",
       "prompt_number": 234,
       "text": [
        "2904"
       ]
      }
     ],
     "prompt_number": 234
    },
    {
     "cell_type": "code",
     "collapsed": false,
     "input": [
      "len(factors)"
     ],
     "language": "python",
     "metadata": {},
     "outputs": [
      {
       "metadata": {},
       "output_type": "pyout",
       "prompt_number": 228,
       "text": [
        "503587"
       ]
      }
     ],
     "prompt_number": 228
    },
    {
     "cell_type": "code",
     "collapsed": false,
     "input": [
      "len(labels)"
     ],
     "language": "python",
     "metadata": {},
     "outputs": [
      {
       "metadata": {},
       "output_type": "pyout",
       "prompt_number": 233,
       "text": [
        "3719"
       ]
      }
     ],
     "prompt_number": 233
    },
    {
     "cell_type": "code",
     "collapsed": false,
     "input": [],
     "language": "python",
     "metadata": {},
     "outputs": []
    }
   ],
   "metadata": {}
  }
 ]
}