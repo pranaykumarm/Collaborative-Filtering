{
 "metadata": {
  "name": "",
  "signature": "sha256:732e0f0fb8c06bd85569f1e0ffb270dea18ef8716ab0c5139e1dac87411d0854"
 },
 "nbformat": 3,
 "nbformat_minor": 0,
 "worksheets": [
  {
   "cells": [
    {
     "cell_type": "code",
     "collapsed": false,
     "input": [
      "import numpy as np\n",
      "import matplotlib.pyplot as plt\n",
      "%matplotlib inline"
     ],
     "language": "python",
     "metadata": {},
     "outputs": [],
     "prompt_number": 2
    },
    {
     "cell_type": "heading",
     "level": 2,
     "metadata": {},
     "source": [
      "Input"
     ]
    },
    {
     "cell_type": "code",
     "collapsed": false,
     "input": [
      "f = open('DPR.output.txt')\n",
      "\n",
      "all_events = []\n",
      "\n",
      "for line in f:\n",
      "    #print line\n",
      "    contents = line.split()\n",
      "    #print contents\n",
      "    all_events.append([int(contents[0])-1,int(contents[1])-1])\n",
      "\n",
      "f.close()"
     ],
     "language": "python",
     "metadata": {},
     "outputs": [],
     "prompt_number": 3
    },
    {
     "cell_type": "code",
     "collapsed": false,
     "input": [
      "len(all_events)"
     ],
     "language": "python",
     "metadata": {},
     "outputs": [
      {
       "metadata": {},
       "output_type": "pyout",
       "prompt_number": 4,
       "text": [
        "2003587"
       ]
      }
     ],
     "prompt_number": 4
    },
    {
     "cell_type": "markdown",
     "metadata": {},
     "source": [
      "First 1,500,000 events for training the model and the rest 503,587 events for validating it"
     ]
    },
    {
     "cell_type": "code",
     "collapsed": false,
     "input": [
      "new_events = all_events[1500000:]\n",
      "events = all_events[:1500000]"
     ],
     "language": "python",
     "metadata": {},
     "outputs": [],
     "prompt_number": 5
    },
    {
     "cell_type": "code",
     "collapsed": false,
     "input": [
      "len(events), len(new_events)"
     ],
     "language": "python",
     "metadata": {},
     "outputs": [
      {
       "metadata": {},
       "output_type": "pyout",
       "prompt_number": 6,
       "text": [
        "(1500000, 503587)"
       ]
      }
     ],
     "prompt_number": 6
    },
    {
     "cell_type": "code",
     "collapsed": false,
     "input": [
      "users = []\n",
      "machines = []\n",
      "for event in events:\n",
      "    users.append(event[0])\n",
      "    machines.append(event[1])"
     ],
     "language": "python",
     "metadata": {},
     "outputs": [],
     "prompt_number": 7
    },
    {
     "cell_type": "heading",
     "level": 2,
     "metadata": {},
     "source": [
      "Build the '# accesses' matrix"
     ]
    },
    {
     "cell_type": "code",
     "collapsed": false,
     "input": [
      "N = max(users)+1\n",
      "M = max(machines)+1\n",
      "access = np.matrix([[0.0 for j in xrange(M+1)] for i in xrange(N+1)])\n",
      "\n",
      "print N, M"
     ],
     "language": "python",
     "metadata": {},
     "outputs": [
      {
       "output_type": "stream",
       "stream": "stdout",
       "text": [
        "2129 232\n"
       ]
      }
     ],
     "prompt_number": 8
    },
    {
     "cell_type": "code",
     "collapsed": false,
     "input": [
      "for event in events:\n",
      "    access[event[0],event[1]] += 1"
     ],
     "language": "python",
     "metadata": {},
     "outputs": [],
     "prompt_number": 9
    },
    {
     "cell_type": "code",
     "collapsed": false,
     "input": [
      "access"
     ],
     "language": "python",
     "metadata": {},
     "outputs": [
      {
       "metadata": {},
       "output_type": "pyout",
       "prompt_number": 10,
       "text": [
        "matrix([[ 36218.,    594.,   6233., ...,      0.,      0.,      0.],\n",
        "        [     0.,      0.,      0., ...,      0.,      0.,      0.],\n",
        "        [     0.,      0.,      0., ...,      0.,      0.,      0.],\n",
        "        ..., \n",
        "        [     0.,      0.,      0., ...,      0.,      0.,      0.],\n",
        "        [     0.,      0.,      0., ...,      0.,      0.,      0.],\n",
        "        [     0.,      0.,      0., ...,      0.,      0.,      0.]])"
       ]
      }
     ],
     "prompt_number": 10
    },
    {
     "cell_type": "code",
     "collapsed": false,
     "input": [
      "for i in xrange(N+1):\n",
      "    temp = np.sum(access[i,:-1])\n",
      "    access[i,M] = temp\n",
      "\n",
      "for j in xrange(M+1):\n",
      "    access[N,j] = np.sum(access[:-1,j])"
     ],
     "language": "python",
     "metadata": {},
     "outputs": [],
     "prompt_number": 11
    },
    {
     "cell_type": "code",
     "collapsed": false,
     "input": [
      "access"
     ],
     "language": "python",
     "metadata": {},
     "outputs": [
      {
       "metadata": {},
       "output_type": "pyout",
       "prompt_number": 12,
       "text": [
        "matrix([[  3.62180000e+04,   5.94000000e+02,   6.23300000e+03, ...,\n",
        "           0.00000000e+00,   0.00000000e+00,   4.30510000e+04],\n",
        "        [  0.00000000e+00,   0.00000000e+00,   0.00000000e+00, ...,\n",
        "           0.00000000e+00,   0.00000000e+00,   2.92000000e+03],\n",
        "        [  0.00000000e+00,   0.00000000e+00,   0.00000000e+00, ...,\n",
        "           0.00000000e+00,   0.00000000e+00,   9.56000000e+02],\n",
        "        ..., \n",
        "        [  0.00000000e+00,   0.00000000e+00,   0.00000000e+00, ...,\n",
        "           0.00000000e+00,   0.00000000e+00,   1.20000000e+01],\n",
        "        [  0.00000000e+00,   0.00000000e+00,   0.00000000e+00, ...,\n",
        "           0.00000000e+00,   0.00000000e+00,   1.00000000e+00],\n",
        "        [  5.95340000e+04,   2.22330000e+04,   2.64900000e+04, ...,\n",
        "           3.60100000e+03,   3.61000000e+02,   1.50000000e+06]])"
       ]
      }
     ],
     "prompt_number": 12
    },
    {
     "cell_type": "code",
     "collapsed": false,
     "input": [
      "for u in xrange(N):\n",
      "    if access[u,M] == 0:\n",
      "        access[u,M] = -1\n",
      "        \n",
      "for m in xrange(M):\n",
      "    if access[N,m] == 0:\n",
      "        access[N,m] = -1"
     ],
     "language": "python",
     "metadata": {},
     "outputs": [],
     "prompt_number": 13
    },
    {
     "cell_type": "heading",
     "level": 2,
     "metadata": {},
     "source": [
      "Compute the RP for all user pairs"
     ]
    },
    {
     "cell_type": "code",
     "collapsed": false,
     "input": [
      "RP = np.matrix([[0.0 for j in xrange(N)] for i in xrange(N)])"
     ],
     "language": "python",
     "metadata": {},
     "outputs": [],
     "prompt_number": 16
    },
    {
     "cell_type": "code",
     "collapsed": false,
     "input": [
      "for u in xrange(N):\n",
      "    for v in xrange(N):\n",
      "        for m in xrange(M):\n",
      "            RP[u,v] += (access[u,m]/access[u,M])*(access[v,m]/access[N,m])"
     ],
     "language": "python",
     "metadata": {},
     "outputs": [],
     "prompt_number": 17
    },
    {
     "cell_type": "code",
     "collapsed": false,
     "input": [
      "f = open('DPR_RP.txt')\n",
      "\n",
      "RP_l = []\n",
      "\n",
      "for line in f:\n",
      "    s1 = line.split('[[')\n",
      "    for st1 in s1:\n",
      "        s2 = st1.split(']]')\n",
      "        for st2 in s2:\n",
      "            vals = st2.split()\n",
      "            for val in vals:\n",
      "                RP_l.append(float(val))\n",
      "        \n",
      "f.close()"
     ],
     "language": "python",
     "metadata": {},
     "outputs": [
      {
       "ename": "ValueError",
       "evalue": "could not convert string to float: ...,",
       "output_type": "pyerr",
       "traceback": [
        "\u001b[0;31m---------------------------------------------------------------------------\u001b[0m\n\u001b[0;31mValueError\u001b[0m                                Traceback (most recent call last)",
        "\u001b[0;32m<ipython-input-14-078c90df1967>\u001b[0m in \u001b[0;36m<module>\u001b[0;34m()\u001b[0m\n\u001b[1;32m     10\u001b[0m             \u001b[0mvals\u001b[0m \u001b[0;34m=\u001b[0m \u001b[0mst2\u001b[0m\u001b[0;34m.\u001b[0m\u001b[0msplit\u001b[0m\u001b[0;34m(\u001b[0m\u001b[0;34m)\u001b[0m\u001b[0;34m\u001b[0m\u001b[0m\n\u001b[1;32m     11\u001b[0m             \u001b[0;32mfor\u001b[0m \u001b[0mval\u001b[0m \u001b[0;32min\u001b[0m \u001b[0mvals\u001b[0m\u001b[0;34m:\u001b[0m\u001b[0;34m\u001b[0m\u001b[0m\n\u001b[0;32m---> 12\u001b[0;31m                 \u001b[0mRP_l\u001b[0m\u001b[0;34m.\u001b[0m\u001b[0mappend\u001b[0m\u001b[0;34m(\u001b[0m\u001b[0mfloat\u001b[0m\u001b[0;34m(\u001b[0m\u001b[0mval\u001b[0m\u001b[0;34m)\u001b[0m\u001b[0;34m)\u001b[0m\u001b[0;34m\u001b[0m\u001b[0m\n\u001b[0m\u001b[1;32m     13\u001b[0m \u001b[0;34m\u001b[0m\u001b[0m\n\u001b[1;32m     14\u001b[0m \u001b[0mf\u001b[0m\u001b[0;34m.\u001b[0m\u001b[0mclose\u001b[0m\u001b[0;34m(\u001b[0m\u001b[0;34m)\u001b[0m\u001b[0;34m\u001b[0m\u001b[0m\n",
        "\u001b[0;31mValueError\u001b[0m: could not convert string to float: ...,"
       ]
      }
     ],
     "prompt_number": 14
    },
    {
     "cell_type": "code",
     "collapsed": false,
     "input": [
      "RP = np.matrix(RP_l)\n",
      "RP = RP.reshape(N,N)"
     ],
     "language": "python",
     "metadata": {},
     "outputs": []
    },
    {
     "cell_type": "code",
     "collapsed": false,
     "input": [
      "RP"
     ],
     "language": "python",
     "metadata": {},
     "outputs": [
      {
       "metadata": {},
       "output_type": "pyout",
       "prompt_number": 16,
       "text": [
        "matrix([[ 0.54623575,  0.        ,  0.        , ...,  0.        ,\n",
        "          0.        ,  0.        ],\n",
        "        [ 0.        ,  0.27042637,  0.        , ...,  0.        ,\n",
        "          0.        ,  0.        ],\n",
        "        [ 0.        ,  0.        ,  0.08462523, ...,  0.        ,\n",
        "          0.        ,  0.        ],\n",
        "        ..., \n",
        "        [ 0.        ,  0.        ,  0.        , ...,  0.00152905,\n",
        "          0.        ,  0.00152905],\n",
        "        [ 0.        ,  0.        ,  0.        , ...,  0.        ,\n",
        "          0.00985222,  0.        ],\n",
        "        [ 0.        ,  0.        ,  0.        , ...,  0.00152905,\n",
        "          0.        ,  0.00152905]])"
       ]
      }
     ],
     "prompt_number": 16
    },
    {
     "cell_type": "code",
     "collapsed": false,
     "input": [
      "f_out = open('DPR_RP.txt','w')\n",
      "for row in RP:\n",
      "    f_out.write(str(row))\n",
      "f_out.close()"
     ],
     "language": "python",
     "metadata": {},
     "outputs": [],
     "prompt_number": 18
    },
    {
     "cell_type": "code",
     "collapsed": false,
     "input": [
      "np.sum(RP[1,:])"
     ],
     "language": "python",
     "metadata": {},
     "outputs": [
      {
       "metadata": {},
       "output_type": "pyout",
       "prompt_number": 19,
       "text": [
        "1.0"
       ]
      }
     ],
     "prompt_number": 19
    },
    {
     "cell_type": "code",
     "collapsed": false,
     "input": [
      "var = 0\n",
      "for row in RP:\n",
      "    var += (np.sum(row)-1)**2\n",
      "    \n",
      "var"
     ],
     "language": "python",
     "metadata": {},
     "outputs": [
      {
       "metadata": {},
       "output_type": "pyout",
       "prompt_number": 20,
       "text": [
        "1.2854685665802693e-26"
       ]
      }
     ],
     "prompt_number": 20
    },
    {
     "cell_type": "markdown",
     "metadata": {},
     "source": [
      "Every user distributes 1 RP among all the users (including himself/herself)"
     ]
    },
    {
     "cell_type": "heading",
     "level": 2,
     "metadata": {},
     "source": [
      "Compute the factors (scores)"
     ]
    },
    {
     "cell_type": "code",
     "collapsed": false,
     "input": [
      "def factor(u,m):\n",
      "    factor = 0\n",
      "    for v in xrange(N):\n",
      "        factor += RP[u,v]*access[v,m]/access[v,M]\n",
      "    return factor"
     ],
     "language": "python",
     "metadata": {},
     "outputs": [],
     "prompt_number": 21
    },
    {
     "cell_type": "code",
     "collapsed": false,
     "input": [
      "factor(0,2)"
     ],
     "language": "python",
     "metadata": {},
     "outputs": [
      {
       "metadata": {},
       "output_type": "pyout",
       "prompt_number": 22,
       "text": [
        "0.19179762068127809"
       ]
      }
     ],
     "prompt_number": 22
    },
    {
     "cell_type": "heading",
     "level": 2,
     "metadata": {},
     "source": [
      "Validation"
     ]
    },
    {
     "cell_type": "code",
     "collapsed": false,
     "input": [
      "factors = []\n",
      "count_new = 0\n",
      "for event in new_events:\n",
      "    if event[0]<N and event[1]<M:\n",
      "        factors.append(factor(event[0],event[1]))\n",
      "    else:\n",
      "        factors.append(2)\n",
      "        count_new += 1\n",
      "count_new"
     ],
     "language": "python",
     "metadata": {},
     "outputs": [
      {
       "metadata": {},
       "output_type": "pyout",
       "prompt_number": 29,
       "text": [
        "11606"
       ]
      }
     ],
     "prompt_number": 29
    },
    {
     "cell_type": "markdown",
     "metadata": {},
     "source": [
      "*11,606 instances of new user/machine*"
     ]
    },
    {
     "cell_type": "code",
     "collapsed": false,
     "input": [
      "len(factors)"
     ],
     "language": "python",
     "metadata": {},
     "outputs": [
      {
       "metadata": {},
       "output_type": "pyout",
       "prompt_number": 254,
       "text": [
        "503587"
       ]
      }
     ],
     "prompt_number": 254
    },
    {
     "cell_type": "code",
     "collapsed": false,
     "input": [
      "f_out = open('DPR_factors.txt','w')\n",
      "for val in factors:\n",
      "    f_out.write(str(val)+'\\n')\n",
      "f_out.close()"
     ],
     "language": "python",
     "metadata": {},
     "outputs": [],
     "prompt_number": 30
    },
    {
     "cell_type": "code",
     "collapsed": false,
     "input": [
      "f = open('DPR_factors.txt')\n",
      "factors = []\n",
      "for line in f:\n",
      "    factors.append(float(line))\n",
      "\n",
      "f.close()\n",
      "print len(factors)"
     ],
     "language": "python",
     "metadata": {},
     "outputs": [
      {
       "output_type": "stream",
       "stream": "stdout",
       "text": [
        "503587\n"
       ]
      }
     ],
     "prompt_number": 263
    },
    {
     "cell_type": "code",
     "collapsed": false,
     "input": [
      "import numpy as np\n",
      "import matplotlib.pyplot as plt\n",
      "from scipy.stats import gaussian_kde\n",
      "\n",
      "# Calculate the point density\n",
      "xy = np.vstack([[i for i in xrange(10000)], factors[:10000]])\n",
      "z = gaussian_kde(xy)(xy)\n",
      "\n",
      "fig, ax = plt.subplots()\n",
      "ax.scatter([i for i in xrange(10000)], factors[:10000], c=z, s=20, edgecolor='')\n",
      "plt.xlabel('event')\n",
      "plt.ylabel('factor')"
     ],
     "language": "python",
     "metadata": {},
     "outputs": [
      {
       "metadata": {},
       "output_type": "pyout",
       "prompt_number": 75,
       "text": [
        "<matplotlib.text.Text at 0x12860cd90>"
       ]
      },
      {
       "metadata": {},
       "output_type": "display_data",
       "png": "[encoded data removed]",
       "text": [
        "<matplotlib.figure.Figure at 0x1266f3c90>"
       ]
      }
     ],
     "prompt_number": 75
    },
    {
     "cell_type": "markdown",
     "metadata": {},
     "source": [
      "Density map: Dark Blue - sparse data, Dark Red - dense data"
     ]
    },
    {
     "cell_type": "code",
     "collapsed": false,
     "input": [
      "fig = plt.figure()\n",
      "ax = fig.add_subplot(111)\n",
      "ax.hist(factors,40)"
     ],
     "language": "python",
     "metadata": {},
     "outputs": [
      {
       "metadata": {},
       "output_type": "pyout",
       "prompt_number": 69,
       "text": [
        "(array([ 76610.,  86334.,  50199.,  55105.,  28568.,  23494.,  15273.,\n",
        "         18404.,  14906.,  16731.,   7974.,  10975.,   9456.,  34919.,\n",
        "         12129.,  16661.,   5228.,    629.,   7808.,    578.,      0.,\n",
        "             0.,      0.,      0.,      0.,      0.,      0.,      0.,\n",
        "             0.,      0.,      0.,      0.,      0.,      0.,      0.,\n",
        "             0.,      0.,      0.,      0.,  11606.]),\n",
        " array([ 0.  ,  0.05,  0.1 ,  0.15,  0.2 ,  0.25,  0.3 ,  0.35,  0.4 ,\n",
        "         0.45,  0.5 ,  0.55,  0.6 ,  0.65,  0.7 ,  0.75,  0.8 ,  0.85,\n",
        "         0.9 ,  0.95,  1.  ,  1.05,  1.1 ,  1.15,  1.2 ,  1.25,  1.3 ,\n",
        "         1.35,  1.4 ,  1.45,  1.5 ,  1.55,  1.6 ,  1.65,  1.7 ,  1.75,\n",
        "         1.8 ,  1.85,  1.9 ,  1.95,  2.  ]),\n",
        " <a list of 40 Patch objects>)"
       ]
      },
      {
       "metadata": {},
       "output_type": "display_data",
       "png": "[encoded data removed]",
       "text": [
        "<matplotlib.figure.Figure at 0x126675cd0>"
       ]
      }
     ],
     "prompt_number": 69
    },
    {
     "cell_type": "heading",
     "level": 3,
     "metadata": {},
     "source": [
      "Finding the threshold"
     ]
    },
    {
     "cell_type": "code",
     "collapsed": false,
     "input": [
      "#Jenks Natural Breaks\n",
      "def getJenksBreaks( factors, numClass ): \n",
      "    dataList = factors[:]\n",
      "    dataList.sort()\n",
      "    mat1 = []\n",
      "    for i in range(0,len(dataList)+1):\n",
      "        temp = []\n",
      "        for j in range(0,numClass+1):\n",
      "            temp.append(0)\n",
      "        mat1.append(temp)\n",
      "        \n",
      "    mat2 = []\n",
      "    for i in range(0,len(dataList)+1):\n",
      "       temp = []\n",
      "       for j in range(0,numClass+1):\n",
      "             temp.append(0)\n",
      "       mat2.append(temp)\n",
      "                \n",
      "    for i in range(1,numClass+1):\n",
      "        mat1[1][i] = 1\n",
      "        mat2[1][i] = 0\n",
      "        for j in range(2,len(dataList)+1):\n",
      "            mat2[j][i] = float('inf')\n",
      "            \n",
      "            \n",
      "    v = 0.0\n",
      "    for l in range(2,len(dataList)+1):\n",
      "        s1 = 0.0\n",
      "        s2 = 0.0\n",
      "        w = 0.0\n",
      "        for m in range(1,l+1):\n",
      "            i3 = l - m + 1\n",
      "            \n",
      "            val = float(dataList[i3-1])\n",
      "            \n",
      "            s2 += val * val\n",
      "            s1 += val\n",
      "            \n",
      "            w += 1\n",
      "            v = s2 - (s1 * s1) / w\n",
      "            i4 = i3 - 1\n",
      "            \n",
      "            if i4 != 0:\n",
      "               for j in range(2,numClass+1):\n",
      "                    if mat2[l][j] >= (v + mat2[i4][j - 1]): \n",
      "                        mat1[l][j] = i3\n",
      "                        mat2[l][j] = v + mat2[i4][j - 1]\n",
      "        mat1[l][1] = 1\n",
      "        mat2[l][1] = v\n",
      "    \n",
      "    k = len(dataList)\n",
      "    kclass = []\n",
      "    for i in range(0,numClass+1):\n",
      "        kclass.append(0)\n",
      "        \n",
      "    kclass[numClass] = float(dataList[len(dataList) - 1])\n",
      "    \n",
      "    countNum = numClass\n",
      "    while countNum >= 2:\n",
      "        #print \"rank = \" + str(mat1[k][countNum]) \n",
      "        id = int((mat1[k][countNum]) - 2)\n",
      "        #print \"val = \" + str(dataList[id])\n",
      "        kclass[countNum - 1] = dataList[id] \n",
      "        k = int((mat1[k][countNum] - 1)) \n",
      "        countNum -= 1\n",
      "    return kclass"
     ],
     "language": "python",
     "metadata": {},
     "outputs": [],
     "prompt_number": 42
    },
    {
     "cell_type": "heading",
     "level": 4,
     "metadata": {},
     "source": [
      "events with score <0.01"
     ]
    },
    {
     "cell_type": "code",
     "collapsed": false,
     "input": [
      "factors_low_01 = []\n",
      "for e in factors:\n",
      "    if e !=0 and e<0.01:\n",
      "        factors_low_01.append(e)\n",
      "\n",
      "len(factors_low_01)"
     ],
     "language": "python",
     "metadata": {},
     "outputs": [
      {
       "metadata": {},
       "output_type": "pyout",
       "prompt_number": 74,
       "text": [
        "22621"
       ]
      }
     ],
     "prompt_number": 74
    },
    {
     "cell_type": "code",
     "collapsed": false,
     "input": [
      "xy = np.vstack([[i for i in xrange(len(factors_low_01))], factors_low_01])\n",
      "#itemindex = numpy.where(np.isfinite(xy)==False)\n",
      "#inf in (xy)\n",
      "z = gaussian_kde(xy)(xy)\n",
      "\n",
      "fig, ax = plt.subplots()\n",
      "ax.scatter([i for i in xrange(len(factors_low_01))], factors_low_01, c=z, s=5, edgecolor='')\n",
      "plt.xlabel('factor')\n",
      "plt.ylabel('event')"
     ],
     "language": "python",
     "metadata": {},
     "outputs": [
      {
       "metadata": {},
       "output_type": "pyout",
       "prompt_number": 280,
       "text": [
        "<matplotlib.text.Text at 0x130a54bd0>"
       ]
      },
      {
       "metadata": {},
       "output_type": "display_data",
       "png": "[encoded data removed]",
       "text": [
        "<matplotlib.figure.Figure at 0x129160150>"
       ]
      }
     ],
     "prompt_number": 280
    },
    {
     "cell_type": "code",
     "collapsed": false,
     "input": [
      "fig = plt.figure()\n",
      "ax = fig.add_subplot(111)\n",
      "ax.hist(factors_low_01,20)"
     ],
     "language": "python",
     "metadata": {},
     "outputs": [
      {
       "metadata": {},
       "output_type": "pyout",
       "prompt_number": 250,
       "text": [
        "(array([ 7299.,  1344.,  1127.,  1503.,  1420.,  1175.,   942.,   586.,\n",
        "          852.,   689.,   392.,   449.,   825.,   818.,   477.,   853.,\n",
        "          494.,   490.,   498.,   388.]),\n",
        " array([  4.38967439e-09,   4.99865597e-04,   9.99726805e-04,\n",
        "          1.49958801e-03,   1.99944922e-03,   2.49931043e-03,\n",
        "          2.99917163e-03,   3.49903284e-03,   3.99889405e-03,\n",
        "          4.49875526e-03,   4.99861646e-03,   5.49847767e-03,\n",
        "          5.99833888e-03,   6.49820009e-03,   6.99806129e-03,\n",
        "          7.49792250e-03,   7.99778371e-03,   8.49764492e-03,\n",
        "          8.99750612e-03,   9.49736733e-03,   9.99722854e-03]),\n",
        " <a list of 20 Patch objects>)"
       ]
      },
      {
       "metadata": {},
       "output_type": "display_data",
       "png": "[encoded data removed]",
       "text": [
        "<matplotlib.figure.Figure at 0x124a36a50>"
       ]
      }
     ],
     "prompt_number": 250
    },
    {
     "cell_type": "code",
     "collapsed": false,
     "input": [
      "getJenksBreaks(factors_low_01,2)"
     ],
     "language": "python",
     "metadata": {},
     "outputs": [
      {
       "metadata": {},
       "output_type": "pyout",
       "prompt_number": 138,
       "text": [
        "[0, 0.0039817383325179622, 0.009997228537938076]"
       ]
      }
     ],
     "prompt_number": 138
    },
    {
     "cell_type": "heading",
     "level": 4,
     "metadata": {},
     "source": [
      "events with score <0.001"
     ]
    },
    {
     "cell_type": "code",
     "collapsed": false,
     "input": [
      "factors_low_001 = []\n",
      "for e in factors:\n",
      "    if e !=0 and e<0.001:\n",
      "        factors_low_001.append(e)\n",
      "        \n",
      "len(factors_low_001)"
     ],
     "language": "python",
     "metadata": {},
     "outputs": [
      {
       "metadata": {},
       "output_type": "pyout",
       "prompt_number": 72,
       "text": [
        "8643"
       ]
      }
     ],
     "prompt_number": 72
    },
    {
     "cell_type": "code",
     "collapsed": false,
     "input": [
      "xy = np.vstack([[i for i in xrange(len(factors_low_001))], factors_low_001])\n",
      "#itemindex = numpy.where(np.isfinite(xy)==False)\n",
      "#inf in (xy)\n",
      "z = gaussian_kde(xy)(xy)\n",
      "\n",
      "fig, ax = plt.subplots()\n",
      "ax.scatter([i for i in xrange(len(factors_low_001))], factors_low_001, c=z, s=5, edgecolor='')\n",
      "plt.xlabel('factor')\n",
      "plt.ylabel('event')"
     ],
     "language": "python",
     "metadata": {},
     "outputs": [
      {
       "metadata": {},
       "output_type": "pyout",
       "prompt_number": 290,
       "text": [
        "<matplotlib.text.Text at 0x130de34d0>"
       ]
      },
      {
       "metadata": {},
       "output_type": "display_data",
       "png": "[encoded data removed]",
       "text": [
        "<matplotlib.figure.Figure at 0x130dc94d0>"
       ]
      }
     ],
     "prompt_number": 290
    },
    {
     "cell_type": "code",
     "collapsed": false,
     "input": [
      "fig = plt.figure()\n",
      "ax = fig.add_subplot(111)\n",
      "ax.hist(factors_low_001,20)"
     ],
     "language": "python",
     "metadata": {},
     "outputs": [
      {
       "metadata": {},
       "output_type": "pyout",
       "prompt_number": 153,
       "text": [
        "(array([ 2904.,   815.,   342.,   801.,   157.,  1537.,   184.,    97.,\n",
        "          272.,   190.,   250.,   103.,    74.,   138.,   176.,   114.,\n",
        "          153.,    85.,   146.,   105.]),\n",
        " array([  4.38967439e-09,   4.94790437e-05,   9.89536977e-05,\n",
        "          1.48428352e-04,   1.97903006e-04,   2.47377660e-04,\n",
        "          2.96852314e-04,   3.46326968e-04,   3.95801622e-04,\n",
        "          4.45276276e-04,   4.94750930e-04,   5.44225584e-04,\n",
        "          5.93700238e-04,   6.43174892e-04,   6.92649546e-04,\n",
        "          7.42124200e-04,   7.91598854e-04,   8.41073508e-04,\n",
        "          8.90548162e-04,   9.40022816e-04,   9.89497470e-04]),\n",
        " <a list of 20 Patch objects>)"
       ]
      },
      {
       "metadata": {},
       "output_type": "display_data",
       "png": "[encoded data removed]",
       "text": [
        "<matplotlib.figure.Figure at 0x122306dd0>"
       ]
      }
     ],
     "prompt_number": 153
    },
    {
     "cell_type": "code",
     "collapsed": false,
     "input": [
      "getJenksBreaks(factors_low_001,2)"
     ],
     "language": "python",
     "metadata": {},
     "outputs": [
      {
       "metadata": {},
       "output_type": "pyout",
       "prompt_number": 152,
       "text": [
        "[0, 0.00038026155604268131, 0.0009894974699616215]"
       ]
      }
     ],
     "prompt_number": 152
    },
    {
     "cell_type": "heading",
     "level": 4,
     "metadata": {},
     "source": [
      "events with score <0.0001"
     ]
    },
    {
     "cell_type": "code",
     "collapsed": false,
     "input": [
      "factors_low_0001 = []\n",
      "for e in factors:\n",
      "    if e!=0 and e<0.0001:\n",
      "        factors_low_0001.append(e)\n",
      "        \n",
      "len(factors_low_0001)"
     ],
     "language": "python",
     "metadata": {},
     "outputs": [
      {
       "metadata": {},
       "output_type": "pyout",
       "prompt_number": 73,
       "text": [
        "3719"
       ]
      }
     ],
     "prompt_number": 73
    },
    {
     "cell_type": "code",
     "collapsed": false,
     "input": [
      "xy = np.vstack([[i for i in xrange(len(factors_low_0001))], factors_low_0001])\n",
      "#itemindex = numpy.where(np.isfinite(xy)==False)\n",
      "#inf in (xy)\n",
      "z = gaussian_kde(xy)(xy)\n",
      "\n",
      "fig, ax = plt.subplots()\n",
      "ax.scatter([i for i in xrange(len(factors_low_0001))], factors_low_0001, c=z, s=5, edgecolor='')\n",
      "plt.xlabel('factor')\n",
      "plt.ylabel('event')"
     ],
     "language": "python",
     "metadata": {},
     "outputs": [
      {
       "metadata": {},
       "output_type": "pyout",
       "prompt_number": 277,
       "text": [
        "<matplotlib.text.Text at 0x129180610>"
       ]
      },
      {
       "metadata": {},
       "output_type": "display_data",
       "png": "[encoded data removed]",
       "text": [
        "<matplotlib.figure.Figure at 0x12f9cf090>"
       ]
      }
     ],
     "prompt_number": 277
    },
    {
     "cell_type": "code",
     "collapsed": false,
     "input": [
      "fig = plt.figure()\n",
      "ax = fig.add_subplot(111)\n",
      "ax.hist(factors_low_0001,20)"
     ],
     "language": "python",
     "metadata": {},
     "outputs": [
      {
       "metadata": {},
       "output_type": "pyout",
       "prompt_number": 261,
       "text": [
        "(array([  2.59100000e+03,   7.00000000e+00,   1.29000000e+02,\n",
        "          6.40000000e+01,   3.00000000e+00,   5.40000000e+01,\n",
        "          0.00000000e+00,   1.40000000e+01,   4.20000000e+01,\n",
        "          0.00000000e+00,   2.00000000e+00,   1.00000000e+00,\n",
        "          0.00000000e+00,   0.00000000e+00,   4.24000000e+02,\n",
        "          1.30000000e+01,   1.80000000e+01,   5.00000000e+00,\n",
        "          1.70000000e+01,   3.35000000e+02]),\n",
        " array([  4.38967439e-09,   4.89046269e-06,   9.77653571e-06,\n",
        "          1.46626087e-05,   1.95486817e-05,   2.44347548e-05,\n",
        "          2.93208278e-05,   3.42069008e-05,   3.90929738e-05,\n",
        "          4.39790468e-05,   4.88651198e-05,   5.37511929e-05,\n",
        "          5.86372659e-05,   6.35233389e-05,   6.84094119e-05,\n",
        "          7.32954849e-05,   7.81815579e-05,   8.30676310e-05,\n",
        "          8.79537040e-05,   9.28397770e-05,   9.77258500e-05]),\n",
        " <a list of 20 Patch objects>)"
       ]
      },
      {
       "metadata": {},
       "output_type": "display_data",
       "png": "[encoded data removed]",
       "text": [
        "<matplotlib.figure.Figure at 0x13093afd0>"
       ]
      }
     ],
     "prompt_number": 261
    },
    {
     "cell_type": "markdown",
     "metadata": {},
     "source": [
      "*Looks like we hit up on a **natural** demarcation. Let's see if Jenks algorithm can find this*"
     ]
    },
    {
     "cell_type": "code",
     "collapsed": false,
     "input": [
      "getJenksBreaks(factors_low_0001,2)"
     ],
     "language": "python",
     "metadata": {},
     "outputs": [
      {
       "metadata": {},
       "output_type": "pyout",
       "prompt_number": 120,
       "text": [
        "[0, 3.9556084768997769e-05, 9.772585000380945e-05]"
       ]
      }
     ],
     "prompt_number": 120
    },
    {
     "cell_type": "heading",
     "level": 4,
     "metadata": {},
     "source": [
      "Performance of the model on synthetic dataset with 1000 anomalies"
     ]
    },
    {
     "cell_type": "code",
     "collapsed": false,
     "input": [
      "from IPython.display import Image\n",
      "Image(filename='syn_ovrlp1_hist.png')"
     ],
     "language": "python",
     "metadata": {},
     "outputs": [
      {
       "metadata": {},
       "output_type": "pyout",
       "png": "[encoded data removed]",
       "prompt_number": 305,
       "text": [
        "<IPython.core.display.Image at 0x122ab86d0>"
       ]
      }
     ],
     "prompt_number": 305
    },
    {
     "cell_type": "markdown",
     "metadata": {},
     "source": [
      "And Jenks Natural Breaks algortihm correctly identifies the threshold - [0, 0.0013193913045937361, 0.01582930232586698]"
     ]
    },
    {
     "cell_type": "heading",
     "level": 3,
     "metadata": {},
     "source": [
      "Marking the anomalies"
     ]
    },
    {
     "cell_type": "code",
     "collapsed": false,
     "input": [
      "labels = []\n",
      "thresh = 3.9556084768997769e-05 #from factors_low_0001\n",
      "ano_count = 0\n",
      "\n",
      "for e in factors:\n",
      "    if e<=thresh:\n",
      "        labels.append(1)\n",
      "        ano_count += 1\n",
      "        \n",
      "    else: \n",
      "        labels.append(0)\n",
      "        \n",
      "ano_count"
     ],
     "language": "python",
     "metadata": {},
     "outputs": [
      {
       "metadata": {},
       "output_type": "pyout",
       "prompt_number": 246,
       "text": [
        "2904"
       ]
      }
     ],
     "prompt_number": 246
    },
    {
     "cell_type": "heading",
     "level": 3,
     "metadata": {},
     "source": [
      "Sanity check"
     ]
    },
    {
     "cell_type": "code",
     "collapsed": false,
     "input": [
      "factors_ord = []\n",
      "for event in new_events[:10000]:\n",
      "    if event[0]<N and event[1]<M:\n",
      "        factors_ord.append(factor(event[0],event[1]))\n",
      "    else:\n",
      "        factors_ord.append(2)"
     ],
     "language": "python",
     "metadata": {},
     "outputs": [],
     "prompt_number": 242
    },
    {
     "cell_type": "markdown",
     "metadata": {},
     "source": [
      "Looking at the event with the least score/factor..."
     ]
    },
    {
     "cell_type": "code",
     "collapsed": false,
     "input": [
      "min(factors_ord)"
     ],
     "language": "python",
     "metadata": {},
     "outputs": [
      {
       "metadata": {},
       "output_type": "pyout",
       "prompt_number": 243,
       "text": [
        "7.1075991929077484e-05"
       ]
      }
     ],
     "prompt_number": 243
    },
    {
     "cell_type": "code",
     "collapsed": false,
     "input": [
      "new_events[factors_ord.index(min(factors_ord))]"
     ],
     "language": "python",
     "metadata": {},
     "outputs": [
      {
       "metadata": {},
       "output_type": "pyout",
       "prompt_number": 244,
       "text": [
        "[1334, 227]"
       ]
      }
     ],
     "prompt_number": 244
    },
    {
     "cell_type": "code",
     "collapsed": false,
     "input": [
      "access[1334,:]"
     ],
     "language": "python",
     "metadata": {},
     "outputs": [
      {
       "metadata": {},
       "output_type": "pyout",
       "prompt_number": 220,
       "text": [
        "matrix([[   0.,    0.,    0.,    0.,  267.,    0.,    0.,    0.,    0.,\n",
        "            0.,    0.,    0.,    0.,    0.,    0.,    0.,    0.,    0.,\n",
        "            0.,    0.,    0.,    0.,    0.,    0.,    0.,    0.,    0.,\n",
        "            0.,    0.,    0.,    0.,    0.,    0.,    0.,    0.,    0.,\n",
        "            0.,    0.,    0.,    0.,    0.,    0.,    0.,    0.,    0.,\n",
        "            0.,    0.,    0.,    0.,    0.,    0.,    0.,    0.,    0.,\n",
        "            0.,    0.,   32.,    0.,    0.,    0.,    0.,    0.,    0.,\n",
        "            0.,    0.,    0.,    0.,    0.,    0.,    0.,    0.,    0.,\n",
        "            0.,    0.,    0.,    0.,    0.,    0.,    0.,    0.,    0.,\n",
        "            0.,    0.,    0.,    0.,    0.,    0.,    0.,    0.,    0.,\n",
        "            0.,    0.,    0.,    0.,    0.,    0.,    0.,    0.,    0.,\n",
        "            0.,    0.,    0.,    0.,    0.,    0.,    0.,    0.,    0.,\n",
        "            0.,    0.,    0.,    0.,    0.,    0.,    0.,    0.,    0.,\n",
        "            0.,    0.,    0.,    0.,    0.,    0.,    0.,    0.,    0.,\n",
        "            0.,    0.,    0.,    0.,    0.,    0.,    0.,    0.,    0.,\n",
        "            0.,    0.,    0.,    0.,    0.,    0.,    0.,    0.,    0.,\n",
        "            0.,    0.,    0.,    0.,    0.,    0.,    0.,    0.,    0.,\n",
        "            0.,    0.,    0.,    0.,    0.,    0.,    0.,    0.,    0.,\n",
        "            0.,    0.,    0.,    0.,    0.,    0.,    0.,    0.,    0.,\n",
        "            0.,    0.,    0.,    0.,    0.,    0.,    0.,    0.,    0.,\n",
        "            0.,    0.,    0.,    0.,    0.,    0.,    0.,    0.,    0.,\n",
        "            0.,    0.,    0.,    0.,    0.,    0.,    0.,    0.,    0.,\n",
        "            0.,    0.,    0.,    0.,    0.,    0.,    0.,    0.,    0.,\n",
        "            0.,    0.,    0.,    0.,    0.,    0.,    0.,    0.,    0.,\n",
        "            0.,    0.,    0.,    0.,    0.,    0.,    0.,    0.,    0.,\n",
        "            0.,    0.,    0.,    0.,    0.,    0.,    0.,  299.]])"
       ]
      }
     ],
     "prompt_number": 220
    },
    {
     "cell_type": "code",
     "collapsed": false,
     "input": [
      "access[1334,227]"
     ],
     "language": "python",
     "metadata": {},
     "outputs": [
      {
       "metadata": {},
       "output_type": "pyout",
       "prompt_number": 221,
       "text": [
        "0.0"
       ]
      }
     ],
     "prompt_number": 221
    },
    {
     "cell_type": "markdown",
     "metadata": {},
     "source": [
      "*1334 hasn't accessed machine 227 in any of the training events*"
     ]
    },
    {
     "cell_type": "code",
     "collapsed": false,
     "input": [
      "np.max(RP[1334,:])"
     ],
     "language": "python",
     "metadata": {},
     "outputs": [
      {
       "metadata": {},
       "output_type": "pyout",
       "prompt_number": 222,
       "text": [
        "0.14664039975095616"
       ]
      }
     ],
     "prompt_number": 222
    },
    {
     "cell_type": "markdown",
     "metadata": {},
     "source": [
      "Looking at the users similar to 1334 (RP > 0.1)"
     ]
    },
    {
     "cell_type": "code",
     "collapsed": false,
     "input": [
      "for j in xrange(N):\n",
      "    if RP[1334,j]>0.1:\n",
      "        print j, RP[1334,j]"
     ],
     "language": "python",
     "metadata": {},
     "outputs": [
      {
       "output_type": "stream",
       "stream": "stdout",
       "text": [
        "76 0.11809348793\n",
        "115 0.116843393802\n",
        "204 0.146640399751\n"
       ]
      }
     ],
     "prompt_number": 291
    },
    {
     "cell_type": "code",
     "collapsed": false,
     "input": [
      "print access[76,227], access[115,227], access[204,227]"
     ],
     "language": "python",
     "metadata": {},
     "outputs": [
      {
       "output_type": "stream",
       "stream": "stdout",
       "text": [
        "0.0 0.0 0.0\n"
       ]
      }
     ],
     "prompt_number": 225
    },
    {
     "cell_type": "markdown",
     "metadata": {},
     "source": [
      "*There are no accesses to the machine from any of the top 3 similar users, as expected*"
     ]
    },
    {
     "cell_type": "heading",
     "level": 3,
     "metadata": {},
     "source": [
      "Automating the threshold identification"
     ]
    },
    {
     "cell_type": "markdown",
     "metadata": {},
     "source": [
      "To find the threshold we'll look at only the lowest 5% of the validating events (in terms of score)"
     ]
    },
    {
     "cell_type": "code",
     "collapsed": false,
     "input": [
      "factors_arr = np.array(factors)\n",
      "cut = np.percentile(factors_arr,5)\n",
      "cut"
     ],
     "language": "python",
     "metadata": {},
     "outputs": [
      {
       "metadata": {},
       "output_type": "pyout",
       "prompt_number": 39,
       "text": [
        "0.011600955064973259"
       ]
      }
     ],
     "prompt_number": 39
    },
    {
     "cell_type": "code",
     "collapsed": false,
     "input": [
      "factors_low_cut = []\n",
      "for e in factors:\n",
      "    if e<=cut:\n",
      "        factors_low_cut.append(e)\n",
      "        \n",
      "len(factors_low_cut)"
     ],
     "language": "python",
     "metadata": {},
     "outputs": [
      {
       "metadata": {},
       "output_type": "pyout",
       "prompt_number": 58,
       "text": [
        "25519"
       ]
      }
     ],
     "prompt_number": 58
    },
    {
     "cell_type": "code",
     "collapsed": false,
     "input": [
      "fig = plt.figure()\n",
      "ax = fig.add_subplot(111)\n",
      "ax.hist(factors_low_cut,20)"
     ],
     "language": "python",
     "metadata": {},
     "outputs": [
      {
       "metadata": {},
       "output_type": "pyout",
       "prompt_number": 59,
       "text": [
        "(array([ 8298.,  1463.,   932.,  2480.,   764.,  1433.,   795.,   918.,\n",
        "          654.,   450.,  1011.,   820.,   640.,   859.,   428.,   590.,\n",
        "          616.,   384.,  1030.,   954.]),\n",
        " array([ 0.        ,  0.00058005,  0.0011601 ,  0.00174014,  0.00232019,\n",
        "         0.00290024,  0.00348029,  0.00406033,  0.00464038,  0.00522043,\n",
        "         0.00580048,  0.00638053,  0.00696057,  0.00754062,  0.00812067,\n",
        "         0.00870072,  0.00928076,  0.00986081,  0.01044086,  0.01102091,\n",
        "         0.01160096]),\n",
        " <a list of 20 Patch objects>)"
       ]
      },
      {
       "metadata": {},
       "output_type": "display_data",
       "png": "[encoded data removed]",
       "text": [
        "<matplotlib.figure.Figure at 0x11fd7b950>"
       ]
      }
     ],
     "prompt_number": 59
    },
    {
     "cell_type": "code",
     "collapsed": false,
     "input": [
      "thr = getJenksBreaks(factors_low_cut,2)\n",
      "thr"
     ],
     "language": "python",
     "metadata": {},
     "outputs": [
      {
       "metadata": {},
       "output_type": "pyout",
       "prompt_number": 60,
       "text": [
        "[0, 0.0048977925788857672, 0.011600955064973259]"
       ]
      }
     ],
     "prompt_number": 60
    },
    {
     "cell_type": "code",
     "collapsed": false,
     "input": [
      "factors_low_jb = []\n",
      "for e in factors_low_cut:\n",
      "    if e<=thr[1]:\n",
      "        factors_low_jb.append(e)\n",
      "        \n",
      "len(factors_low_jb)"
     ],
     "language": "python",
     "metadata": {},
     "outputs": [
      {
       "metadata": {},
       "output_type": "pyout",
       "prompt_number": 61,
       "text": [
        "17502"
       ]
      }
     ],
     "prompt_number": 61
    },
    {
     "cell_type": "markdown",
     "metadata": {},
     "source": [
      "*17502 anomalies are raised by this model*"
     ]
    },
    {
     "cell_type": "heading",
     "level": 2,
     "metadata": {},
     "source": [
      "Other analyses (of interesting users)"
     ]
    },
    {
     "cell_type": "code",
     "collapsed": false,
     "input": [
      "#Durga\n",
      "RP[22,22]"
     ],
     "language": "python",
     "metadata": {},
     "outputs": [
      {
       "metadata": {},
       "output_type": "pyout",
       "prompt_number": 155,
       "text": [
        "0.95333839150227617"
       ]
      }
     ],
     "prompt_number": 155
    },
    {
     "cell_type": "code",
     "collapsed": false,
     "input": [
      "RP[1,1]\u00a0"
     ],
     "language": "python",
     "metadata": {},
     "outputs": [
      {
       "metadata": {},
       "output_type": "pyout",
       "prompt_number": 156,
       "text": [
        "0.27042636839735951"
       ]
      }
     ],
     "prompt_number": 156
    },
    {
     "cell_type": "code",
     "collapsed": false,
     "input": [
      "np.sum(RP[22,:])"
     ],
     "language": "python",
     "metadata": {},
     "outputs": [
      {
       "metadata": {},
       "output_type": "pyout",
       "prompt_number": 249,
       "text": [
        "1.0"
       ]
      }
     ],
     "prompt_number": 249
    },
    {
     "cell_type": "markdown",
     "metadata": {},
     "source": [
      "Let's look at the users who are very similar to themselves..."
     ]
    },
    {
     "cell_type": "code",
     "collapsed": false,
     "input": [
      "for i in xrange(N):\n",
      "    if RP[i,i]>0.8:\n",
      "        print i"
     ],
     "language": "python",
     "metadata": {},
     "outputs": [
      {
       "output_type": "stream",
       "stream": "stdout",
       "text": [
        "22\n",
        "215\n",
        "287\n",
        "510\n",
        "517\n"
       ]
      }
     ],
     "prompt_number": 165
    },
    {
     "cell_type": "markdown",
     "metadata": {},
     "source": [
      "22 - dpr\\durgas<br>\n",
      "215 - clydeb<br>\n",
      "288 - tomh<br>\n",
      "510 - billhi<br>\n",
      "518 - DPR\\anthonym<br>"
     ]
    },
    {
     "cell_type": "heading",
     "level": 3,
     "metadata": {},
     "source": [
      "Clustering the users"
     ]
    },
    {
     "cell_type": "markdown",
     "metadata": {},
     "source": [
      "Let's look at all the pairs of users who are very similar to each other..."
     ]
    },
    {
     "cell_type": "code",
     "collapsed": false,
     "input": [
      "for i in xrange(N):\n",
      "    for j in xrange(N):\n",
      "        if RP[i,j]>0.8:\n",
      "            print [i,j], RP[i,j]"
     ],
     "language": "python",
     "metadata": {},
     "outputs": [
      {
       "output_type": "stream",
       "stream": "stdout",
       "text": [
        "[22, 22] 0.953338391502\n",
        "[35, 22] 0.953338391502\n",
        "[37, 22] 0.953338391502\n",
        "[215, 215]"
       ]
      },
      {
       "output_type": "stream",
       "stream": "stdout",
       "text": [
        " 0.805660317825\n",
        "[233, 215] 0.800694908401\n",
        "[287, 287]"
       ]
      },
      {
       "output_type": "stream",
       "stream": "stdout",
       "text": [
        " 0.843974955853\n",
        "[292, 287] 0.839800138017\n",
        "[351, 215]"
       ]
      },
      {
       "output_type": "stream",
       "stream": "stdout",
       "text": [
        " 0.80694428101\n",
        "[510, 510]"
       ]
      },
      {
       "output_type": "stream",
       "stream": "stdout",
       "text": [
        " 0.802276933073\n",
        "[517, 517] 1.0\n",
        "[774, 22]"
       ]
      },
      {
       "output_type": "stream",
       "stream": "stdout",
       "text": [
        " 0.953338391502\n",
        "[1063, 215]"
       ]
      },
      {
       "output_type": "stream",
       "stream": "stdout",
       "text": [
        " 0.803851801576\n",
        "[1143, 22]"
       ]
      },
      {
       "output_type": "stream",
       "stream": "stdout",
       "text": [
        " 0.953338391502\n",
        "[1144, 22] 0.953338391502\n",
        "[1145, 22] 0.953338391502\n",
        "[1154, 22] 0.953338391502\n",
        "[1264, 215]"
       ]
      },
      {
       "output_type": "stream",
       "stream": "stdout",
       "text": [
        " 0.802386579316\n",
        "[1536, 22]"
       ]
      },
      {
       "output_type": "stream",
       "stream": "stdout",
       "text": [
        " 0.953338391502\n",
        "[1538, 22] 0.953338391502\n",
        "[1889, 255]"
       ]
      },
      {
       "output_type": "stream",
       "stream": "stdout",
       "text": [
        " 0.850147492625\n",
        "[1890, 255] 0.850147492625\n",
        "[1891, 255] 0.850147492625\n"
       ]
      }
     ],
     "prompt_number": 171
    },
    {
     "cell_type": "markdown",
     "metadata": {},
     "source": [
      "22 - dpr\\durgas<br>\n",
      "35 - DPR\\PiyushP<br>\n",
      "37 - pradiptab<br>\n",
      "774 - ArifN<br>\n",
      "1143 - DPR\\DeepikaB<br>\n",
      "1144 - DPR\\SrilataR<br>\n",
      "1145 - mohammeda<br>\n",
      "1154 - DPR\\MohammedA<br>\n",
      "1536 - DPR\\Saurabht<br>\n",
      "1538 - piyushp<br>\n",
      "\n",
      "215 - clydeb<br>\n",
      "233 - DPR\\ClydeB<br>\n",
      "351 - DPR\\DeniseLa<br>\n",
      "1063 - DPR\\NolanK<br>\n",
      "1264 - DPR\\DanielleNe<br>\n",
      "\n",
      "287 - tomh<br>\n",
      "292 - DPR\\omh<br>\n",
      "\n",
      "510 - billhi<br>\n",
      "\n",
      "517 - DPR\\anthonym<br>\n",
      "\n",
      "1889 - host/3MF9ZW1.us.ricoh.ds<br>\n",
      "1890 - US\\AMercier<br>\n",
      "1891 - Alix.Mercier<br>\n",
      "255 - psteib<br>\n",
      "*This particular group doesn't have that particular user who has very high RP for himself (255 - psteib)*"
     ]
    },
    {
     "cell_type": "markdown",
     "metadata": {},
     "source": [
      "*We can use this model to find **groups** of users and also **duplicate** users*"
     ]
    },
    {
     "cell_type": "code",
     "collapsed": false,
     "input": [
      "#DPR\\anthonym [517, 517] RP=1.0\n",
      "np.sum(RP[:,517])"
     ],
     "language": "python",
     "metadata": {},
     "outputs": [
      {
       "metadata": {},
       "output_type": "pyout",
       "prompt_number": 174,
       "text": [
        "1.0"
       ]
      }
     ],
     "prompt_number": 174
    },
    {
     "cell_type": "code",
     "collapsed": false,
     "input": [
      "access[517]"
     ],
     "language": "python",
     "metadata": {},
     "outputs": [
      {
       "metadata": {},
       "output_type": "pyout",
       "prompt_number": 173,
       "text": [
        "matrix([[  0.,   0.,   0.,   0.,   0.,   0.,   0.,   0.,   0.,   0.,   0.,\n",
        "           0.,   0.,   0.,   0.,   0.,   0.,   0.,   0.,   0.,   0.,   0.,\n",
        "           0.,   0.,   0.,   0.,   0.,   0.,   0.,   0.,   0.,   0.,   0.,\n",
        "           0.,   0.,   0.,   0.,   0.,   0.,   0.,   0.,   0.,   0.,   0.,\n",
        "           0.,   0.,   0.,   0.,   0.,   0.,   0.,   0.,   0.,   0.,   0.,\n",
        "           0.,   0.,   0.,   0.,   0.,   0.,   0.,   0.,   0.,   0.,   0.,\n",
        "           0.,   0.,   0.,   0.,   0.,   0.,   0.,   0.,   0.,   0.,   0.,\n",
        "           0.,   0.,   0.,   0.,   0.,   0.,   0.,   0.,   0.,   0.,   0.,\n",
        "           0.,   0.,   0.,   0.,   0.,   0.,   0.,   0.,   0.,   0.,   0.,\n",
        "           0.,   0.,   0.,   0.,   0.,   0.,   0.,   0.,   0.,   0.,   0.,\n",
        "           0.,   0.,   0.,   0.,   0.,   0.,   0.,   0.,   0.,   0.,   0.,\n",
        "           0.,   0.,   0.,   0.,   0.,   0.,   0.,   0.,   0.,   0.,   0.,\n",
        "           0.,   0.,   0.,   0.,   0.,   0.,   0.,   0.,   0.,   0.,   0.,\n",
        "           0.,   0.,   0.,   0.,   0.,   0.,   0.,   0.,   0.,   0.,   0.,\n",
        "           0.,   0.,   0.,   0.,   0.,   0.,   0.,   0.,   0.,   0.,   0.,\n",
        "           0.,   0.,   0.,   0.,   0.,   0.,   0.,   0.,   0.,   0.,   0.,\n",
        "           0.,  11.,   0.,   0.,   0.,   0.,   0.,   0.,   0.,   0.,   0.,\n",
        "           0.,   0.,   0.,   0.,   0.,   0.,   0.,   0.,   0.,   0.,   0.,\n",
        "           0.,   0.,   0.,   0.,   0.,   0.,   0.,   0.,   0.,   0.,   0.,\n",
        "           0.,   0.,   0.,   0.,   0.,   0.,   0.,   0.,   0.,   0.,   0.,\n",
        "           0.,   0.,   0.,   0.,   0.,   0.,   0.,   0.,   0.,   0.,   0.,\n",
        "           0.,  11.]])"
       ]
      }
     ],
     "prompt_number": 173
    },
    {
     "cell_type": "code",
     "collapsed": false,
     "input": [
      "for i in xrange(M):\n",
      "    if access[517,i]==11:\n",
      "        print i"
     ],
     "language": "python",
     "metadata": {},
     "outputs": [
      {
       "output_type": "stream",
       "stream": "stdout",
       "text": [
        "177\n"
       ]
      }
     ],
     "prompt_number": 180
    },
    {
     "cell_type": "code",
     "collapsed": false,
     "input": [
      "#Total number of accesses of machine 177\n",
      "access[N,177]"
     ],
     "language": "python",
     "metadata": {},
     "outputs": [
      {
       "metadata": {},
       "output_type": "pyout",
       "prompt_number": 181,
       "text": [
        "11.0"
       ]
      }
     ],
     "prompt_number": 181
    },
    {
     "cell_type": "markdown",
     "metadata": {},
     "source": [
      "M177 - 02-18-1A-34-4B-08:BuildGreatThings \n",
      "\n",
      "*DPR\\Anthonym accesses only this machine and the machine is accessed only by him. Thus, he doesn't have any similar users.*"
     ]
    },
    {
     "cell_type": "heading",
     "level": 3,
     "metadata": {},
     "source": [
      "Looking at the first group"
     ]
    },
    {
     "cell_type": "code",
     "collapsed": false,
     "input": [
      "#durga\n",
      "access[22,:]"
     ],
     "language": "python",
     "metadata": {},
     "outputs": [
      {
       "metadata": {},
       "output_type": "pyout",
       "prompt_number": 182,
       "text": [
        "matrix([[     0.,      0.,      0.,      0.,      0.,      0.,      0.,\n",
        "              0.,      0.,      0.,      0.,      0.,      0.,      0.,\n",
        "              0.,      0.,      0.,      0.,      0.,      0.,  10052.,\n",
        "              0.,      0.,      0.,      0.,      0.,      0.,      0.,\n",
        "              0.,      0.,      0.,      0.,      0.,      0.,      0.,\n",
        "              0.,      0.,      0.,      0.,      0.,      0.,      0.,\n",
        "              0.,      0.,      0.,      0.,      0.,      0.,      0.,\n",
        "              0.,      0.,      0.,      0.,      0.,      0.,      0.,\n",
        "              0.,      0.,      0.,      0.,      0.,      0.,      0.,\n",
        "              0.,      0.,      0.,      0.,      0.,      0.,      0.,\n",
        "              0.,      0.,      0.,      0.,      0.,      0.,      0.,\n",
        "              0.,      0.,      0.,      0.,      0.,      0.,      0.,\n",
        "              0.,      0.,      0.,      0.,      0.,      0.,      0.,\n",
        "              0.,      0.,      0.,      0.,      0.,      0.,      0.,\n",
        "              0.,      0.,      0.,      0.,      0.,      0.,      0.,\n",
        "              0.,      0.,      0.,      0.,      0.,      0.,      0.,\n",
        "              0.,      0.,      0.,      0.,      0.,      0.,      0.,\n",
        "              0.,      0.,      0.,      0.,      0.,      0.,      0.,\n",
        "              0.,      0.,      0.,      0.,      0.,      0.,      0.,\n",
        "              0.,      0.,      0.,      0.,      0.,      0.,      0.,\n",
        "              0.,      0.,      0.,      0.,      0.,      0.,      0.,\n",
        "              0.,      0.,      0.,      0.,      0.,      0.,      0.,\n",
        "              0.,      0.,      0.,      0.,      0.,      0.,      0.,\n",
        "              0.,      0.,      0.,      0.,      0.,      0.,      0.,\n",
        "              0.,      0.,      0.,      0.,      0.,      0.,      0.,\n",
        "              0.,      0.,      0.,      0.,      0.,      0.,      0.,\n",
        "              0.,      0.,      0.,      0.,      0.,      0.,      0.,\n",
        "              0.,      0.,      0.,      0.,      0.,      0.,      0.,\n",
        "              0.,      0.,      0.,      0.,      0.,      0.,      0.,\n",
        "              0.,      0.,      0.,      0.,      0.,      0.,      0.,\n",
        "              0.,      0.,      0.,      0.,      0.,      0.,      0.,\n",
        "              0.,      0.,      0.,      0.,      0.,      0.,      0.,\n",
        "              0.,      0.,      0.,      0.,      0.,      0.,      0.,\n",
        "              0.,  10052.]])"
       ]
      }
     ],
     "prompt_number": 182
    },
    {
     "cell_type": "markdown",
     "metadata": {},
     "source": [
      "M20 - 02-18-1A-35-3A-4C:BuildGreatThings"
     ]
    },
    {
     "cell_type": "code",
     "collapsed": false,
     "input": [
      "#DeepikaB\n",
      "access[1143,:]"
     ],
     "language": "python",
     "metadata": {},
     "outputs": [
      {
       "metadata": {},
       "output_type": "pyout",
       "prompt_number": 189,
       "text": [
        "matrix([[  0.,   0.,   0.,   0.,   0.,   0.,   0.,   0.,   0.,   0.,   0.,\n",
        "           0.,   0.,   0.,   0.,   0.,   0.,   0.,   0.,   0.,  33.,   0.,\n",
        "           0.,   0.,   0.,   0.,   0.,   0.,   0.,   0.,   0.,   0.,   0.,\n",
        "           0.,   0.,   0.,   0.,   0.,   0.,   0.,   0.,   0.,   0.,   0.,\n",
        "           0.,   0.,   0.,   0.,   0.,   0.,   0.,   0.,   0.,   0.,   0.,\n",
        "           0.,   0.,   0.,   0.,   0.,   0.,   0.,   0.,   0.,   0.,   0.,\n",
        "           0.,   0.,   0.,   0.,   0.,   0.,   0.,   0.,   0.,   0.,   0.,\n",
        "           0.,   0.,   0.,   0.,   0.,   0.,   0.,   0.,   0.,   0.,   0.,\n",
        "           0.,   0.,   0.,   0.,   0.,   0.,   0.,   0.,   0.,   0.,   0.,\n",
        "           0.,   0.,   0.,   0.,   0.,   0.,   0.,   0.,   0.,   0.,   0.,\n",
        "           0.,   0.,   0.,   0.,   0.,   0.,   0.,   0.,   0.,   0.,   0.,\n",
        "           0.,   0.,   0.,   0.,   0.,   0.,   0.,   0.,   0.,   0.,   0.,\n",
        "           0.,   0.,   0.,   0.,   0.,   0.,   0.,   0.,   0.,   0.,   0.,\n",
        "           0.,   0.,   0.,   0.,   0.,   0.,   0.,   0.,   0.,   0.,   0.,\n",
        "           0.,   0.,   0.,   0.,   0.,   0.,   0.,   0.,   0.,   0.,   0.,\n",
        "           0.,   0.,   0.,   0.,   0.,   0.,   0.,   0.,   0.,   0.,   0.,\n",
        "           0.,   0.,   0.,   0.,   0.,   0.,   0.,   0.,   0.,   0.,   0.,\n",
        "           0.,   0.,   0.,   0.,   0.,   0.,   0.,   0.,   0.,   0.,   0.,\n",
        "           0.,   0.,   0.,   0.,   0.,   0.,   0.,   0.,   0.,   0.,   0.,\n",
        "           0.,   0.,   0.,   0.,   0.,   0.,   0.,   0.,   0.,   0.,   0.,\n",
        "           0.,   0.,   0.,   0.,   0.,   0.,   0.,   0.,   0.,   0.,   0.,\n",
        "           0.,  33.]])"
       ]
      }
     ],
     "prompt_number": 189
    },
    {
     "cell_type": "markdown",
     "metadata": {},
     "source": [
      "*All the users in this group access only a single machine - #20*"
     ]
    },
    {
     "cell_type": "code",
     "collapsed": false,
     "input": [
      "# 35 - DPR\\PiyushP & 1538 - piyushp\n",
      "RP[1538,35]"
     ],
     "language": "python",
     "metadata": {},
     "outputs": [
      {
       "metadata": {},
       "output_type": "pyout",
       "prompt_number": 248,
       "text": [
        "0.0083459787556904395"
       ]
      }
     ],
     "prompt_number": 248
    },
    {
     "cell_type": "markdown",
     "metadata": {},
     "source": [
      "*We expect these users to be very similar, as they are actually the same user. But this isn't the case! It's because more weightage is given to a user who has more history (more number of accesses, which means more reliable) - in this case user 22-Durga*<br>\n",
      "[35, 22] 0.953338391502<br>\n",
      "[1538, 22] 0.953338391502"
     ]
    },
    {
     "cell_type": "heading",
     "level": 2,
     "metadata": {},
     "source": [
      "Multiple Steps"
     ]
    },
    {
     "cell_type": "markdown",
     "metadata": {},
     "source": [
      "Let's also consider two hops to distribute the RP "
     ]
    },
    {
     "cell_type": "code",
     "collapsed": false,
     "input": [
      "RP2 = RP*RP"
     ],
     "language": "python",
     "metadata": {},
     "outputs": [],
     "prompt_number": 24
    },
    {
     "cell_type": "code",
     "collapsed": false,
     "input": [
      "RP_n = RP + RP2"
     ],
     "language": "python",
     "metadata": {},
     "outputs": [],
     "prompt_number": 25
    },
    {
     "cell_type": "code",
     "collapsed": false,
     "input": [
      "def factor_n(u,m):\n",
      "    factor_n = 0\n",
      "    for v in xrange(N):\n",
      "        factor_n += RP_n[u,v]*access[v,m]/access[v,M]\n",
      "    return factor_n"
     ],
     "language": "python",
     "metadata": {},
     "outputs": [],
     "prompt_number": 26
    },
    {
     "cell_type": "code",
     "collapsed": false,
     "input": [
      "np.sum(RP_n[11,:])"
     ],
     "language": "python",
     "metadata": {},
     "outputs": [
      {
       "metadata": {},
       "output_type": "pyout",
       "prompt_number": 27,
       "text": [
        "1.9999999999999878"
       ]
      }
     ],
     "prompt_number": 27
    },
    {
     "cell_type": "code",
     "collapsed": false,
     "input": [
      "var = 0\n",
      "for row in RP_n:\n",
      "    var += (np.sum(row)-2)**2\n",
      "    \n",
      "var"
     ],
     "language": "python",
     "metadata": {},
     "outputs": [
      {
       "metadata": {},
       "output_type": "pyout",
       "prompt_number": 28,
       "text": [
        "3.0383564479885528e-25"
       ]
      }
     ],
     "prompt_number": 28
    },
    {
     "cell_type": "code",
     "collapsed": false,
     "input": [
      "factors_n = []\n",
      "count_new_n = 0\n",
      "for event in new_events:\n",
      "    if event[0]<N and event[1]<M:\n",
      "        factors_n.append(factor_n(event[0],event[1]))\n",
      "    else:\n",
      "        factors_n.append(4)\n",
      "        count_new_n += 1\n",
      "count_new_n"
     ],
     "language": "python",
     "metadata": {},
     "outputs": [
      {
       "metadata": {},
       "output_type": "pyout",
       "prompt_number": 31,
       "text": [
        "11606"
       ]
      }
     ],
     "prompt_number": 31
    },
    {
     "cell_type": "code",
     "collapsed": false,
     "input": [
      "len(factors_n)"
     ],
     "language": "python",
     "metadata": {},
     "outputs": [
      {
       "metadata": {},
       "output_type": "pyout",
       "prompt_number": 45,
       "text": [
        "503587"
       ]
      }
     ],
     "prompt_number": 45
    },
    {
     "cell_type": "code",
     "collapsed": false,
     "input": [
      "f_out = open('DPR_factors_n.txt','w')\n",
      "for val in factors_n:\n",
      "    f_out.write(str(val)+'\\n')\n",
      "f_out.close()"
     ],
     "language": "python",
     "metadata": {},
     "outputs": [],
     "prompt_number": 67
    },
    {
     "cell_type": "markdown",
     "metadata": {},
     "source": [
      "time - 7:47 to 9:06"
     ]
    },
    {
     "cell_type": "code",
     "collapsed": false,
     "input": [
      "fig = plt.figure()\n",
      "ax = fig.add_subplot(111)\n",
      "ax.hist(factors_n,40)"
     ],
     "language": "python",
     "metadata": {},
     "outputs": [
      {
       "metadata": {},
       "output_type": "pyout",
       "prompt_number": 68,
       "text": [
        "(array([ 82009.,  94381.,  51664.,  50366.,  35651.,  19177.,  14604.,\n",
        "         19304.,  14226.,  12821.,   6697.,  43146.,   4557.,   8075.,\n",
        "         17004.,   8957.,    327.,   5114.,   3434.,    467.,      0.,\n",
        "             0.,      0.,      0.,      0.,      0.,      0.,      0.,\n",
        "             0.,      0.,      0.,      0.,      0.,      0.,      0.,\n",
        "             0.,      0.,      0.,      0.,  11606.]),\n",
        " array([ 0. ,  0.1,  0.2,  0.3,  0.4,  0.5,  0.6,  0.7,  0.8,  0.9,  1. ,\n",
        "         1.1,  1.2,  1.3,  1.4,  1.5,  1.6,  1.7,  1.8,  1.9,  2. ,  2.1,\n",
        "         2.2,  2.3,  2.4,  2.5,  2.6,  2.7,  2.8,  2.9,  3. ,  3.1,  3.2,\n",
        "         3.3,  3.4,  3.5,  3.6,  3.7,  3.8,  3.9,  4. ]),\n",
        " <a list of 40 Patch objects>)"
       ]
      },
      {
       "metadata": {},
       "output_type": "display_data",
       "png": "[encoded data removed]",
       "text": [
        "<matplotlib.figure.Figure at 0x11fd56490>"
       ]
      }
     ],
     "prompt_number": 68
    },
    {
     "cell_type": "markdown",
     "metadata": {},
     "source": [
      "Comapring with the earlier histogram..."
     ]
    },
    {
     "cell_type": "code",
     "collapsed": false,
     "input": [
      "fig = plt.figure()\n",
      "ax = fig.add_subplot(111)\n",
      "ax.hist(factors,40)"
     ],
     "language": "python",
     "metadata": {},
     "outputs": [
      {
       "metadata": {},
       "output_type": "pyout",
       "prompt_number": 35,
       "text": [
        "(array([ 76610.,  86334.,  50199.,  55105.,  28568.,  23494.,  15273.,\n",
        "         18404.,  14906.,  16731.,   7974.,  10975.,   9456.,  34919.,\n",
        "         12129.,  16661.,   5228.,    629.,   7808.,    578.,      0.,\n",
        "             0.,      0.,      0.,      0.,      0.,      0.,      0.,\n",
        "             0.,      0.,      0.,      0.,      0.,      0.,      0.,\n",
        "             0.,      0.,      0.,      0.,  11606.]),\n",
        " array([ 0.  ,  0.05,  0.1 ,  0.15,  0.2 ,  0.25,  0.3 ,  0.35,  0.4 ,\n",
        "         0.45,  0.5 ,  0.55,  0.6 ,  0.65,  0.7 ,  0.75,  0.8 ,  0.85,\n",
        "         0.9 ,  0.95,  1.  ,  1.05,  1.1 ,  1.15,  1.2 ,  1.25,  1.3 ,\n",
        "         1.35,  1.4 ,  1.45,  1.5 ,  1.55,  1.6 ,  1.65,  1.7 ,  1.75,\n",
        "         1.8 ,  1.85,  1.9 ,  1.95,  2.  ]),\n",
        " <a list of 40 Patch objects>)"
       ]
      },
      {
       "metadata": {},
       "output_type": "display_data",
       "png": "[encoded data removed]",
       "text": [
        "<matplotlib.figure.Figure at 0x11800fd50>"
       ]
      }
     ],
     "prompt_number": 35
    },
    {
     "cell_type": "code",
     "collapsed": false,
     "input": [
      "factors_n_arr = np.array(factors_n)\n",
      "cut_n = np.percentile(factors_n_arr,5)\n",
      "cut_n"
     ],
     "language": "python",
     "metadata": {},
     "outputs": [
      {
       "metadata": {},
       "output_type": "pyout",
       "prompt_number": 36,
       "text": [
        "0.026155409165556059"
       ]
      }
     ],
     "prompt_number": 36
    },
    {
     "cell_type": "code",
     "collapsed": false,
     "input": [
      "factors_low_cut_n = []\n",
      "for e in factors_n:\n",
      "    if e<=cut_n:\n",
      "        factors_low_cut_n.append(e)\n",
      "        \n",
      "len(factors_low_cut_n)"
     ],
     "language": "python",
     "metadata": {},
     "outputs": [
      {
       "metadata": {},
       "output_type": "pyout",
       "prompt_number": 56,
       "text": [
        "25201"
       ]
      }
     ],
     "prompt_number": 56
    },
    {
     "cell_type": "code",
     "collapsed": false,
     "input": [
      "fig = plt.figure()\n",
      "ax = fig.add_subplot(111)\n",
      "ax.hist(factors_low_cut_n,20)"
     ],
     "language": "python",
     "metadata": {},
     "outputs": [
      {
       "metadata": {},
       "output_type": "pyout",
       "prompt_number": 57,
       "text": [
        "(array([ 7289.,  1683.,  1164.,  1688.,  1904.,   762.,  1599.,  1225.,\n",
        "          828.,   752.,  1105.,   774.,   697.,   525.,   735.,   408.,\n",
        "          525.,   549.,   466.,   523.]),\n",
        " array([ 0.        ,  0.00130777,  0.00261554,  0.00392331,  0.00523108,\n",
        "         0.00653885,  0.00784662,  0.00915439,  0.01046216,  0.01176993,\n",
        "         0.0130777 ,  0.01438548,  0.01569325,  0.01700102,  0.01830879,\n",
        "         0.01961656,  0.02092433,  0.0222321 ,  0.02353987,  0.02484764,\n",
        "         0.02615541]),\n",
        " <a list of 20 Patch objects>)"
       ]
      },
      {
       "metadata": {},
       "output_type": "display_data",
       "png": "[encoded data removed]",
       "text": [
        "<matplotlib.figure.Figure at 0x1182ac710>"
       ]
      }
     ],
     "prompt_number": 57
    },
    {
     "cell_type": "code",
     "collapsed": false,
     "input": [
      "thr_n = getJenksBreaks(factors_low_cut_n,2)\n",
      "thr_n"
     ],
     "language": "python",
     "metadata": {},
     "outputs": [
      {
       "metadata": {},
       "output_type": "pyout",
       "prompt_number": 63,
       "text": [
        "[0, 0.010295928270495034, 0.02615540916555606]"
       ]
      }
     ],
     "prompt_number": 63
    },
    {
     "cell_type": "code",
     "collapsed": false,
     "input": [
      "factors_low_jb_n = []\n",
      "for e in factors_low_cut_n:\n",
      "    if e<=thr_n[1]:\n",
      "        factors_low_jb_n.append(e)\n",
      "        \n",
      "len(factors_low_jb_n)"
     ],
     "language": "python",
     "metadata": {},
     "outputs": [
      {
       "metadata": {},
       "output_type": "pyout",
       "prompt_number": 64,
       "text": [
        "17314"
       ]
      }
     ],
     "prompt_number": 64
    },
    {
     "cell_type": "markdown",
     "metadata": {},
     "source": [
      "*17314 (compared to 17502) anomalies are reaised by this model*"
     ]
    }
   ],
   "metadata": {}
  }
 ]
}