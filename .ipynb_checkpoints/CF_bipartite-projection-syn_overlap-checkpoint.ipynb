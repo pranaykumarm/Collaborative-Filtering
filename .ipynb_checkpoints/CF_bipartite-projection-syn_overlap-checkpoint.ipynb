{
 "metadata": {
  "name": "",
  "signature": "sha256:72a4eac947c2d0422ae273a283c2eafeae271fe62f84bd5b0b0f2a30d8250915"
 },
 "nbformat": 3,
 "nbformat_minor": 0,
 "worksheets": [
  {
   "cells": [
    {
     "cell_type": "code",
     "collapsed": false,
     "input": [
      "import numpy as np\n",
      "import matplotlib.pyplot as plt\n",
      "%matplotlib inline"
     ],
     "language": "python",
     "metadata": {},
     "outputs": [],
     "prompt_number": 1
    },
    {
     "cell_type": "heading",
     "level": 2,
     "metadata": {},
     "source": [
      "Input"
     ]
    },
    {
     "cell_type": "code",
     "collapsed": false,
     "input": [
      "#events = [[0,0],[0,0],[0,1],[0,1],[1,0],[1,0],[1,1],[1,1],[0,2]]\n",
      "#users = [0,1]\n",
      "#machines = [0,1,2,3]"
     ],
     "language": "python",
     "metadata": {},
     "outputs": [],
     "prompt_number": 2
    },
    {
     "cell_type": "code",
     "collapsed": false,
     "input": [
      "f = open('synthetic.overlap.output.txt')\n",
      "\n",
      "all_events = []\n",
      "\n",
      "for line in f:\n",
      "    #print line\n",
      "    contents = line.split()\n",
      "    #print contents\n",
      "    all_events.append([int(contents[0])-1,int(contents[1])-1])\n",
      "\n",
      "f.close()"
     ],
     "language": "python",
     "metadata": {},
     "outputs": [],
     "prompt_number": 3
    },
    {
     "cell_type": "code",
     "collapsed": false,
     "input": [
      "new_events = all_events[100000:]\n",
      "events = all_events[:100000]"
     ],
     "language": "python",
     "metadata": {},
     "outputs": [],
     "prompt_number": 4
    },
    {
     "cell_type": "code",
     "collapsed": false,
     "input": [
      "len(events)"
     ],
     "language": "python",
     "metadata": {},
     "outputs": [
      {
       "metadata": {},
       "output_type": "pyout",
       "prompt_number": 5,
       "text": [
        "100000"
       ]
      }
     ],
     "prompt_number": 5
    },
    {
     "cell_type": "code",
     "collapsed": false,
     "input": [
      "len(new_events)"
     ],
     "language": "python",
     "metadata": {},
     "outputs": [
      {
       "metadata": {},
       "output_type": "pyout",
       "prompt_number": 6,
       "text": [
        "10671"
       ]
      }
     ],
     "prompt_number": 6
    },
    {
     "cell_type": "code",
     "collapsed": false,
     "input": [
      "users = []\n",
      "machines = []\n",
      "for event in events:\n",
      "    users.append(event[0])\n",
      "    machines.append(event[1])"
     ],
     "language": "python",
     "metadata": {},
     "outputs": [],
     "prompt_number": 7
    },
    {
     "cell_type": "heading",
     "level": 2,
     "metadata": {},
     "source": [
      "Build the '# accesses' matrix"
     ]
    },
    {
     "cell_type": "code",
     "collapsed": false,
     "input": [
      "N = max(users)+1\n",
      "M = max(machines)+1\n",
      "access = np.matrix([[0.0 for j in xrange(M+1)] for i in xrange(N+1)])\n",
      "\n",
      "print N, M"
     ],
     "language": "python",
     "metadata": {},
     "outputs": [
      {
       "output_type": "stream",
       "stream": "stdout",
       "text": [
        "574 246\n"
       ]
      }
     ],
     "prompt_number": 8
    },
    {
     "cell_type": "code",
     "collapsed": false,
     "input": [
      "for event in events:\n",
      "    access[event[0],event[1]] += 1"
     ],
     "language": "python",
     "metadata": {},
     "outputs": [],
     "prompt_number": 9
    },
    {
     "cell_type": "code",
     "collapsed": false,
     "input": [
      "access"
     ],
     "language": "python",
     "metadata": {},
     "outputs": [
      {
       "metadata": {},
       "output_type": "pyout",
       "prompt_number": 10,
       "text": [
        "matrix([[  1.,   0.,   0., ...,   0.,   3.,   0.],\n",
        "        [  0.,   1.,   0., ...,   1.,   0.,   0.],\n",
        "        [ 16.,  14.,  18., ...,   0.,   0.,   0.],\n",
        "        ..., \n",
        "        [  0.,   3.,   0., ...,   0.,   0.,   0.],\n",
        "        [  0.,   0.,   0., ...,   0.,   1.,   0.],\n",
        "        [  0.,   0.,   0., ...,   0.,   0.,   0.]])"
       ]
      }
     ],
     "prompt_number": 10
    },
    {
     "cell_type": "code",
     "collapsed": false,
     "input": [
      "for i in xrange(N+1):\n",
      "    temp = np.sum(access[i,:-1])\n",
      "    access[i,M] = temp\n",
      "\n",
      "for j in xrange(M+1):\n",
      "    access[N,j] = np.sum(access[:-1,j])"
     ],
     "language": "python",
     "metadata": {},
     "outputs": [],
     "prompt_number": 11
    },
    {
     "cell_type": "code",
     "collapsed": false,
     "input": [
      "access"
     ],
     "language": "python",
     "metadata": {},
     "outputs": [
      {
       "metadata": {},
       "output_type": "pyout",
       "prompt_number": 12,
       "text": [
        "matrix([[  1.00000000e+00,   0.00000000e+00,   0.00000000e+00, ...,\n",
        "           0.00000000e+00,   3.00000000e+00,   6.60000000e+01],\n",
        "        [  0.00000000e+00,   1.00000000e+00,   0.00000000e+00, ...,\n",
        "           1.00000000e+00,   0.00000000e+00,   4.90000000e+01],\n",
        "        [  1.60000000e+01,   1.40000000e+01,   1.80000000e+01, ...,\n",
        "           0.00000000e+00,   0.00000000e+00,   9.08000000e+02],\n",
        "        ..., \n",
        "        [  0.00000000e+00,   3.00000000e+00,   0.00000000e+00, ...,\n",
        "           0.00000000e+00,   0.00000000e+00,   6.30000000e+01],\n",
        "        [  0.00000000e+00,   0.00000000e+00,   0.00000000e+00, ...,\n",
        "           0.00000000e+00,   1.00000000e+00,   4.90000000e+01],\n",
        "        [  1.38000000e+03,   1.36800000e+03,   3.62000000e+02, ...,\n",
        "           2.32000000e+02,   2.70000000e+02,   1.00000000e+05]])"
       ]
      }
     ],
     "prompt_number": 12
    },
    {
     "cell_type": "code",
     "collapsed": false,
     "input": [
      "for u in xrange(N):\n",
      "    if access[u,M] == 0:\n",
      "        access[u,M] = -1\n",
      "        \n",
      "for m in xrange(M):\n",
      "    if access[N,m] == 0:\n",
      "        access[N,m] = -1"
     ],
     "language": "python",
     "metadata": {},
     "outputs": [],
     "prompt_number": 13
    },
    {
     "cell_type": "heading",
     "level": 2,
     "metadata": {},
     "source": [
      "Compute the RP for all user pairs"
     ]
    },
    {
     "cell_type": "code",
     "collapsed": false,
     "input": [
      "RP = np.matrix([[0.0 for j in xrange(N)] for i in xrange(N)])"
     ],
     "language": "python",
     "metadata": {},
     "outputs": [],
     "prompt_number": 14
    },
    {
     "cell_type": "code",
     "collapsed": false,
     "input": [
      "for u in xrange(N):\n",
      "    for v in xrange(N):\n",
      "        for m in xrange(M):\n",
      "            RP[u,v] += (access[u,m]/access[u,M])*(access[v,m]/access[N,m])"
     ],
     "language": "python",
     "metadata": {},
     "outputs": [],
     "prompt_number": 15
    },
    {
     "cell_type": "code",
     "collapsed": false,
     "input": [
      "RP"
     ],
     "language": "python",
     "metadata": {},
     "outputs": [
      {
       "metadata": {},
       "output_type": "pyout",
       "prompt_number": 16,
       "text": [
        "matrix([[ 0.00680111,  0.00125832,  0.00181837, ...,  0.00211369,\n",
        "          0.00214308,  0.00135679],\n",
        "        [ 0.00169489,  0.00468921,  0.00256393, ...,  0.00124103,\n",
        "          0.00136924,  0.00101083],\n",
        "        [ 0.00013217,  0.00013836,  0.03043821, ...,  0.00012958,\n",
        "          0.00021402,  0.0001225 ],\n",
        "        ..., \n",
        "        [ 0.0025834 ,  0.00112612,  0.00217887, ...,  0.00511994,\n",
        "          0.00146038,  0.00103707],\n",
        "        [ 0.00224513,  0.00106496,  0.00308457, ...,  0.00125176,\n",
        "          0.00488405,  0.00142105],\n",
        "        [ 0.00182751,  0.00101083,  0.00226997, ...,  0.0011429 ,\n",
        "          0.00182706,  0.00483642]])"
       ]
      }
     ],
     "prompt_number": 16
    },
    {
     "cell_type": "heading",
     "level": 2,
     "metadata": {},
     "source": [
      "Compute the factors"
     ]
    },
    {
     "cell_type": "code",
     "collapsed": false,
     "input": [
      "def factor(u,m):\n",
      "    factor = 0\n",
      "    for v in xrange(N):\n",
      "        factor += RP[u,v]*access[v,m]/access[v,M]\n",
      "    return factor"
     ],
     "language": "python",
     "metadata": {},
     "outputs": [],
     "prompt_number": 17
    },
    {
     "cell_type": "code",
     "collapsed": false,
     "input": [
      "factor(0,2)"
     ],
     "language": "python",
     "metadata": {},
     "outputs": [
      {
       "metadata": {},
       "output_type": "pyout",
       "prompt_number": 18,
       "text": [
        "0.00068811437320900285"
       ]
      }
     ],
     "prompt_number": 18
    },
    {
     "cell_type": "heading",
     "level": 2,
     "metadata": {},
     "source": [
      "Validation"
     ]
    },
    {
     "cell_type": "code",
     "collapsed": false,
     "input": [
      "#new_events = events[-100:]\n",
      "#print new_events"
     ],
     "language": "python",
     "metadata": {},
     "outputs": [],
     "prompt_number": 19
    },
    {
     "cell_type": "code",
     "collapsed": false,
     "input": [
      "#new_events = [[0,0],[0,1],[0,2],[1,0],[1,1],[1,2]]"
     ],
     "language": "python",
     "metadata": {},
     "outputs": [],
     "prompt_number": 20
    },
    {
     "cell_type": "code",
     "collapsed": false,
     "input": [
      "factors = []\n",
      "for event in new_events:\n",
      "    if event[0]<N and event[1]<M:\n",
      "        factors.append(factor(event[0],event[1]))\n",
      "    else:\n",
      "        factors.append(0)"
     ],
     "language": "python",
     "metadata": {},
     "outputs": [],
     "prompt_number": 49
    },
    {
     "cell_type": "code",
     "collapsed": false,
     "input": [
      "[counts, bounds] = np.histogram(factors, bins=10)"
     ],
     "language": "python",
     "metadata": {},
     "outputs": [],
     "prompt_number": 40
    },
    {
     "cell_type": "code",
     "collapsed": false,
     "input": [
      "centers = []\n",
      "for i in xrange(len(bounds)-1):\n",
      "    centers.append((bounds[i]+bounds[i+1])/2)"
     ],
     "language": "python",
     "metadata": {},
     "outputs": [],
     "prompt_number": 41
    },
    {
     "cell_type": "code",
     "collapsed": false,
     "input": [
      "#counts[1] = 1"
     ],
     "language": "python",
     "metadata": {},
     "outputs": [],
     "prompt_number": 42
    },
    {
     "cell_type": "code",
     "collapsed": false,
     "input": [
      "print centers, counts"
     ],
     "language": "python",
     "metadata": {},
     "outputs": [
      {
       "output_type": "stream",
       "stream": "stdout",
       "text": [
        "[-0.046710242452798589, -0.040130727358395749, -0.033551212263992908, -0.026971697169590074, -0.02039218207518724, -0.013812666980784403, -0.0072331518863815655, -0.00065363679197872823, 0.0059258783024241056, 0.012505393396826945] [ 164    0    0    0    0    0    0  507 1538 8462]\n"
       ]
      }
     ],
     "prompt_number": 43
    },
    {
     "cell_type": "code",
     "collapsed": false,
     "input": [
      "#plt.bar(centers,counts)"
     ],
     "language": "python",
     "metadata": {},
     "outputs": [],
     "prompt_number": 26
    },
    {
     "cell_type": "code",
     "collapsed": false,
     "input": [
      "#plt.show()"
     ],
     "language": "python",
     "metadata": {},
     "outputs": [],
     "prompt_number": 27
    },
    {
     "cell_type": "code",
     "collapsed": false,
     "input": [
      "#events[0:2]"
     ],
     "language": "python",
     "metadata": {},
     "outputs": [],
     "prompt_number": 28
    },
    {
     "cell_type": "code",
     "collapsed": false,
     "input": [
      "#print factors"
     ],
     "language": "python",
     "metadata": {},
     "outputs": [],
     "prompt_number": 29
    },
    {
     "cell_type": "code",
     "collapsed": false,
     "input": [
      "f_out = open('syn_overlap_factors.txt','w')\n",
      "f_out.write(str(factors))\n",
      "f_out.close()"
     ],
     "language": "python",
     "metadata": {},
     "outputs": [],
     "prompt_number": 50
    },
    {
     "cell_type": "code",
     "collapsed": false,
     "input": [
      "f_out = open('syn_overlap_RP.txt','w')\n",
      "for row in RP:\n",
      "    f_out.write(str(row))\n",
      "f_out.close()"
     ],
     "language": "python",
     "metadata": {},
     "outputs": [],
     "prompt_number": 31
    },
    {
     "cell_type": "code",
     "collapsed": false,
     "input": [
      "plt.plot(centers,counts)\n",
      "plt.title('histogram with 10 bins');"
     ],
     "language": "python",
     "metadata": {},
     "outputs": [
      {
       "metadata": {},
       "output_type": "display_data",
       "png": "[encoded data removed]",
       "text": [
        "<matplotlib.figure.Figure at 0x1068d3c90>"
       ]
      }
     ],
     "prompt_number": 32
    },
    {
     "cell_type": "code",
     "collapsed": false,
     "input": [
      "plt.plot(factors)\n",
      "plt.title('timeline');"
     ],
     "language": "python",
     "metadata": {},
     "outputs": [
      {
       "metadata": {},
       "output_type": "display_data",
       "png": "[encoded data removed]",
       "text": [
        "<matplotlib.figure.Figure at 0x1068d3d50>"
       ]
      }
     ],
     "prompt_number": 33
    },
    {
     "cell_type": "code",
     "collapsed": false,
     "input": [
      "plt.scatter([i for i in xrange(len(new_events))], factors)"
     ],
     "language": "python",
     "metadata": {},
     "outputs": [
      {
       "metadata": {},
       "output_type": "pyout",
       "prompt_number": 35,
       "text": [
        "<matplotlib.collections.PathCollection at 0x107c65390>"
       ]
      },
      {
       "metadata": {},
       "output_type": "display_data",
       "png": "[encoded data removed]",
       "text": [
        "<matplotlib.figure.Figure at 0x107cae090>"
       ]
      }
     ],
     "prompt_number": 35
    },
    {
     "cell_type": "code",
     "collapsed": false,
     "input": [
      "import numpy as np\n",
      "import matplotlib.pyplot as plt\n",
      "from scipy.stats import gaussian_kde\n",
      "\n",
      "# Generate fake data\n",
      "#x = np.random.normal(size=1000)\n",
      "#y = x * 3 + np.random.normal(size=1000)\n",
      "\n",
      "# Calculate the point density\n",
      "xy = np.vstack([[i for i in xrange(len(new_events))], factors])\n",
      "#itemindex = numpy.where(np.isfinite(xy)==False)\n",
      "#inf in (xy)\n",
      "z = gaussian_kde(xy)(xy)\n",
      "\n",
      "fig, ax = plt.subplots()\n",
      "ax.scatter([i for i in xrange(len(new_events))], factors, c=z, s=50, edgecolor='')\n",
      "xlabel('factor')\n",
      "ylabel('event')"
     ],
     "language": "python",
     "metadata": {},
     "outputs": [
      {
       "ename": "NameError",
       "evalue": "name 'xlabel' is not defined",
       "output_type": "pyerr",
       "traceback": [
        "\u001b[0;31m---------------------------------------------------------------------------\u001b[0m\n\u001b[0;31mNameError\u001b[0m                                 Traceback (most recent call last)",
        "\u001b[0;32m<ipython-input-46-c271573375cd>\u001b[0m in \u001b[0;36m<module>\u001b[0;34m()\u001b[0m\n\u001b[1;32m     15\u001b[0m \u001b[0mfig\u001b[0m\u001b[0;34m,\u001b[0m \u001b[0max\u001b[0m \u001b[0;34m=\u001b[0m \u001b[0mplt\u001b[0m\u001b[0;34m.\u001b[0m\u001b[0msubplots\u001b[0m\u001b[0;34m(\u001b[0m\u001b[0;34m)\u001b[0m\u001b[0;34m\u001b[0m\u001b[0m\n\u001b[1;32m     16\u001b[0m \u001b[0max\u001b[0m\u001b[0;34m.\u001b[0m\u001b[0mscatter\u001b[0m\u001b[0;34m(\u001b[0m\u001b[0;34m[\u001b[0m\u001b[0mi\u001b[0m \u001b[0;32mfor\u001b[0m \u001b[0mi\u001b[0m \u001b[0;32min\u001b[0m \u001b[0mxrange\u001b[0m\u001b[0;34m(\u001b[0m\u001b[0mlen\u001b[0m\u001b[0;34m(\u001b[0m\u001b[0mnew_events\u001b[0m\u001b[0;34m)\u001b[0m\u001b[0;34m)\u001b[0m\u001b[0;34m]\u001b[0m\u001b[0;34m,\u001b[0m \u001b[0mfactors\u001b[0m\u001b[0;34m,\u001b[0m \u001b[0mc\u001b[0m\u001b[0;34m=\u001b[0m\u001b[0mz\u001b[0m\u001b[0;34m,\u001b[0m \u001b[0ms\u001b[0m\u001b[0;34m=\u001b[0m\u001b[0;36m50\u001b[0m\u001b[0;34m,\u001b[0m \u001b[0medgecolor\u001b[0m\u001b[0;34m=\u001b[0m\u001b[0;34m''\u001b[0m\u001b[0;34m)\u001b[0m\u001b[0;34m\u001b[0m\u001b[0m\n\u001b[0;32m---> 17\u001b[0;31m \u001b[0mxlabel\u001b[0m\u001b[0;34m(\u001b[0m\u001b[0;34m'factor'\u001b[0m\u001b[0;34m)\u001b[0m\u001b[0;34m\u001b[0m\u001b[0m\n\u001b[0m\u001b[1;32m     18\u001b[0m \u001b[0mylabel\u001b[0m\u001b[0;34m(\u001b[0m\u001b[0;34m'event'\u001b[0m\u001b[0;34m)\u001b[0m\u001b[0;34m\u001b[0m\u001b[0m\n",
        "\u001b[0;31mNameError\u001b[0m: name 'xlabel' is not defined"
       ]
      },
      {
       "metadata": {},
       "output_type": "display_data",
       "png": "[encoded data removed]",
       "text": [
        "<matplotlib.figure.Figure at 0x10cd8ee50>"
       ]
      }
     ],
     "prompt_number": 46
    },
    {
     "cell_type": "code",
     "collapsed": false,
     "input": [
      "fig = plt.figure()\n",
      "ax = fig.add_subplot(111)\n",
      "ax.hist(factors,20)"
     ],
     "language": "python",
     "metadata": {},
     "outputs": [
      {
       "metadata": {},
       "output_type": "pyout",
       "prompt_number": 51,
       "text": [
        "(array([  1.64000000e+02,   5.07000000e+02,   0.00000000e+00,\n",
        "          0.00000000e+00,   0.00000000e+00,   0.00000000e+00,\n",
        "          0.00000000e+00,   1.00000000e+00,   2.20000000e+01,\n",
        "          2.50000000e+02,   7.26000000e+02,   7.18000000e+02,\n",
        "          5.56000000e+02,   1.91800000e+03,   2.67000000e+03,\n",
        "          8.97000000e+02,   3.59000000e+02,   7.59000000e+02,\n",
        "          9.53000000e+02,   1.71000000e+02]),\n",
        " array([ 0.        ,  0.00078976,  0.00157952,  0.00236927,  0.00315903,\n",
        "         0.00394879,  0.00473855,  0.0055283 ,  0.00631806,  0.00710782,\n",
        "         0.00789758,  0.00868733,  0.00947709,  0.01026685,  0.01105661,\n",
        "         0.01184636,  0.01263612,  0.01342588,  0.01421564,  0.01500539,\n",
        "         0.01579515]),\n",
        " <a list of 20 Patch objects>)"
       ]
      },
      {
       "metadata": {},
       "output_type": "display_data",
       "png": "[encoded data removed]",
       "text": [
        "<matplotlib.figure.Figure at 0x107c65910>"
       ]
      }
     ],
     "prompt_number": 51
    },
    {
     "cell_type": "code",
     "collapsed": false,
     "input": [],
     "language": "python",
     "metadata": {},
     "outputs": []
    }
   ],
   "metadata": {}
  }
 ]
}